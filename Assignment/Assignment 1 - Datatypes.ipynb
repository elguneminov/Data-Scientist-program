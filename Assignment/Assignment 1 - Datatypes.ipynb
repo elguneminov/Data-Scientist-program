{
 "cells": [
  {
   "cell_type": "markdown",
   "metadata": {},
   "source": [
    "1.In the pre-smartphone era,each number key is assigned a subset of the alphabet {a,b,…,z}. \n",
    "    - 2 is assigned {a,b,c}, \n",
    "    - 3 is assigned {d,e,f} \n",
    "    - 4 is assigned {g,h,i} \n",
    "    - 5 is assigned {j,k,l}\n",
    "    - 6 is assigned {m,n,o} \n",
    "    - 7 is assigned {p,q,r,s}\n",
    "    - 8 is assigned {t,u,v} \n",
    "    - 9 is assigned {w,x,y,z}\n",
    "    \n",
    "Write a function numbers_to_chars() to find the characters generated using key 9999335533. \n",
    "Output should be \"zeke\"\n",
    "\n",
    "Function Name : numbers_to_chars()\n",
    "Input : Integer number sequence\n",
    "Output : Str"
   ]
  },
  {
   "cell_type": "markdown",
   "metadata": {},
   "source": [
    "2.Given a dict of tickets(\"to\":\"from\")\n",
    "\n",
    "{\"Chennai\":\"Banglore\",\"Bombay\":\"Delhi\",\"Goa\":\"Chennai\",\"Delhi\":\"Goa\"} find out the sequence of travel.\n",
    "\n",
    "Expected Output : Bombay->Delhi, Delhi->Goa, Goa->Chennai, Chennai->Banglore\n",
    "\n",
    "Function Name : travel_sequence\n",
    "Input : dict \n",
    "Output : dict"
   ]
  },
  {
   "cell_type": "markdown",
   "metadata": {},
   "source": [
    "3.Given a dictionary that associates the names of states with a list of the names of cities that appear in it,write a program that creates a new dictionary that associates the name of a city with the list of states that it appears in.\n",
    "\n",
    "As an example, if the first dictionary is\n",
    "\n",
    "Input :\n",
    "states = {'New Hampshire': ['Concord', 'Hanover'],\n",
    "\n",
    "'Massachusetts': ['Boston', 'Concord', 'Springfield'],\n",
    "\n",
    "'Illinois': ['Chicago', 'Springfield', 'Peoria']\n",
    "}\n",
    "\n",
    "Output:\n",
    "\n",
    "cities = {'Hanover': ['New Hampshire'],\n",
    "\n",
    "'Chicago': ['Illinois'],'Boston': ['Massachusetts'], \n",
    "\n",
    "'Peoria': ['Illinois'],'Concord': ['New Hampshire','Massachusetts'],\n",
    "\n",
    "'Springfield': ['Massachusetts', 'Illinois']\n",
    "}\n",
    "\n",
    "Function Name : city_with_states\n",
    "Input : dict \n",
    "Output : dict"
   ]
  },
  {
   "cell_type": "markdown",
   "metadata": {},
   "source": [
    "4.How do you check if a given String contains valid parentheses?\n",
    "Given a string containing just the characters '(', ')', '{', '}', '[' and ']', write a program in python to check if the input string is valid. The brackets must close in the correct order, \"()\" and \"()[]{}\" are all valid but \"(]\" and \"([)]\" are not.\n",
    "\n",
    "Function Name : check_parentheses\n",
    "Input : str\n",
    "Output : True/False"
   ]
  },
  {
   "cell_type": "markdown",
   "metadata": {},
   "source": [
    "5.Write a program to convert Integer to Roman String. For example, if a given integer is 5 then your program should print \"V\".\n",
    "\n",
    "Function Name : int_roman\n",
    "Input : int\n",
    "Output : str"
   ]
  },
  {
   "cell_type": "markdown",
   "metadata": {},
   "source": [
    "6.Write a program utility that counts the number of lines of actual python code in a. For the purpose of this exercise, a line is counted if it contains something other than whitespace or text in a comment.\n",
    "\n",
    "remember that comment start sequences that appear inside python strings should be ignored.\n",
    "\n",
    "Function Name : count_code_lines\n",
    "Input : str\n",
    "Output : int"
   ]
  },
  {
   "cell_type": "code",
   "execution_count": null,
   "metadata": {},
   "outputs": [],
   "source": [
    "input_code = \"\"\"\n",
    "#Linear search implementation\n",
    "#Takes list and a key as input and returns True or False as answer\n",
    "def linear_saerch(l,key):\n",
    "    for value in l:\n",
    "        if key == value:\n",
    "            return True #Return True is key exist\n",
    "    else:\n",
    "        return False #Return False if key does not exist\n",
    "\n",
    "l = [100,200,300,400,500,600]\n",
    "key = 500\n",
    "result = linear_search(l,key)\n",
    "print(result)\n",
    "\"\"\""
   ]
  },
  {
   "cell_type": "markdown",
   "metadata": {},
   "source": [
    "7.Write a program to check the strength of a supplied password\n",
    "\n",
    "The length of the password must be at least 8 characters in length\n",
    "The password must contain at least 1 capital letter\n",
    "The password must contain at least 1 digit\n",
    "The password must contain at least 1 special character and allowed special characters are (!,@,#,$,&)\n",
    "                                                                                           \n",
    "We need to provide feedback to the user about the strength of their password\n",
    "\n",
    "Provide the user with a list of reasons why their password is 'weak'                                                                                       \n",
    "Function Name : check_password_strength\n",
    "Input : str\n",
    "Output : tuple (str,list) eg (\"Weak\",[\"The password must contain at least 1 capital letter\"])                                                                                          "
   ]
  },
  {
   "cell_type": "markdown",
   "metadata": {},
   "source": [
    "8. Check if given sentence is syntactically correct or not\n",
    "\n",
    "A simple sentence if syntactically correct if it fulfills given rules. The following are given rules.\n",
    " - Sentence must start with a Uppercase character (e.g. Noun/ I/ We/ He etc.)\n",
    " - There must be spaces between words.\n",
    " - Then the sentence must end with a full stop(.).\n",
    " - Two continuous spaces are not allowed.\n",
    " - Two continuous uppercase characters are not allowed.\n",
    " - However the sentence can end after an uppercase character.\n",
    " \n",
    "Function Name : check_sentence\n",
    "Input : str\n",
    "Output : tuple (True/False,list) eg (False,[\"There must be spaces between words.\"]) "
   ]
  },
  {
   "cell_type": "markdown",
   "metadata": {},
   "source": [
    "9.Given an array arr[] of integers and an integer K, the task is to find the greatest contiguous sub-array of size K. \n",
    "\n",
    "Sub-array X is said to be greater than sub-array Y if the first non-matching element in both the sub-arrays has a greater value in X than in Y.\n",
    "\n",
    "For example : \n",
    "Input: arr[] = {1, 4, 3, 2, 5}, K = 4\n",
    "Output: 4 3 2 5\n",
    "Two subarrays are {1, 4, 3, 2} and {4, 3, 2, 5}. First non-matching element from array1 and array 2 : 1 and 4 as 4 is greater \n",
    "Hence, the greater one is {4, 3, 2, 5}\n",
    "\n",
    "Function Name : greatest_sub_array()\n",
    "Input : list\n",
    "Output : list"
   ]
  },
  {
   "cell_type": "markdown",
   "metadata": {},
   "source": [
    "10.Given a list of N integers. The task is to eliminate the minimum number of elements such that in the resulting list the sum of any two adjacent values is even.\n",
    "\n",
    "Numbers = [1, 3, 5, 4, 2]\n",
    "Output = [1, 3, 5] \n",
    "Total elements removed 2\n",
    "Elements to be removed [4,2]\n",
    "\n",
    "Function Name : adj_sum_even()\n",
    "Input : list\n",
    "Output : tuple(int,list)"
   ]
  }
 ],
 "metadata": {
  "kernelspec": {
   "display_name": "Python 3",
   "language": "python",
   "name": "python3"
  },
  "language_info": {
   "codemirror_mode": {
    "name": "ipython",
    "version": 3
   },
   "file_extension": ".py",
   "mimetype": "text/x-python",
   "name": "python",
   "nbconvert_exporter": "python",
   "pygments_lexer": "ipython3",
   "version": "3.6.5"
  }
 },
 "nbformat": 4,
 "nbformat_minor": 2
}
