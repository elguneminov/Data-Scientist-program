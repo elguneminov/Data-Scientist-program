{
 "cells": [
  {
   "cell_type": "markdown",
   "metadata": {},
   "source": [
    "# Discrete Statistical Distributions\n",
    "\n",
    "* Bernoulli Distribution\n",
    "* Binomial Distribution\n",
    "* Poisson Distribution\n",
    "* Uniform Distribution\n",
    "\n",
    "\n",
    "You can explore negative binomial, geometric, hypergeometric distribution etc. from scipy.stats module"
   ]
  },
  {
   "cell_type": "code",
   "execution_count": 4,
   "metadata": {},
   "outputs": [],
   "source": [
    "import scipy.stats"
   ]
  },
  {
   "cell_type": "markdown",
   "metadata": {},
   "source": [
    "## Bernoulli Distribution\n",
    "\n",
    "### Generating bernoulli random variables\n"
   ]
  },
  {
   "cell_type": "code",
   "execution_count": 5,
   "metadata": {
    "scrolled": true
   },
   "outputs": [
    {
     "name": "stdout",
     "output_type": "stream",
     "text": [
      "[1]\n"
     ]
    }
   ],
   "source": [
    "p= 0.5\n",
    "data_ber = scipy.stats.bernoulli.rvs(p, size=1)  \n",
    "print(data_ber)"
   ]
  },
  {
   "cell_type": "markdown",
   "metadata": {},
   "source": [
    "- Run the code multiple times and observe the output.\n",
    "- Is it same or different everytime? Why?\n",
    "\n",
    "Now, try changing the size to a bigger number, say 10 or may be even bigger, say 100.\n",
    "size represents number of time the experiment is repeated.\n"
   ]
  },
  {
   "cell_type": "code",
   "execution_count": 8,
   "metadata": {},
   "outputs": [
    {
     "name": "stdout",
     "output_type": "stream",
     "text": [
      "[0 1 0 0 1 0 0 1 0 0 0 0 0 0 0 1 0 0 1 0 0 0 0 1 0 0 0 0 1 0 0 0 0 0 0 0 1\n",
      " 0 0 1 0 0 0 1 0 0 1 0 0 0 0 0 1 0 0 1 0 0 0 0 1 0 0 0 0 0 1 0 0 0 0 1 1 0\n",
      " 0 1 0 0 1 0 1 0 0 0 0 0 0 0 0 0 0 0 0 0 1 0 0 0 0 0] \n",
      "\n",
      "Number of success/heads:  21 \n",
      "\n",
      "Mean is:  0.21 \n",
      "\n",
      "Var is:  0.16590000000000005\n"
     ]
    }
   ],
   "source": [
    "p= 0.3\n",
    "data_ber = scipy.stats.bernoulli.rvs(p, size=100)  \n",
    "print(data_ber, '\\n')\n",
    "print('Number of success/heads: ', sum(data_ber), '\\n')\n",
    "print('Mean is: ', data_ber.mean(), '\\n')\n",
    "print('Var is: ', data_ber.var())"
   ]
  },
  {
   "cell_type": "code",
   "execution_count": 70,
   "metadata": {
    "scrolled": true
   },
   "outputs": [
    {
     "data": {
      "image/png": "[encoded data removed]",
      "text/plain": [
       "<Figure size 432x288 with 1 Axes>"
      ]
     },
     "metadata": {
      "needs_background": "light"
     },
     "output_type": "display_data"
    }
   ],
   "source": [
    "import seaborn as sns\n",
    "import matplotlib.pyplot as plt\n",
    "sns.distplot(data_ber)\n",
    "plt.show()"
   ]
  },
  {
   "cell_type": "markdown",
   "metadata": {},
   "source": [
    "## Binomial Distribution\n",
    "\n",
    "### Generating binomial random variates\n"
   ]
  },
  {
   "cell_type": "code",
   "execution_count": 52,
   "metadata": {},
   "outputs": [
    {
     "name": "stdout",
     "output_type": "stream",
     "text": [
      "Theoritical Mean is:  1.5\n",
      "Theoritical Var is:  1.0499999999999998\n",
      "3\n"
     ]
    }
   ],
   "source": [
    "# parameters\n",
    "n = 5\n",
    "p = 0.3 #[Not equally likely events]\n",
    "\n",
    "print('Theoritical Mean is: ', n*p)\n",
    "print('Theoritical Var is: ', n*p*(1-p))\n",
    "\n",
    "# Data generation\n",
    "data_binom = scipy.stats.binom.rvs(n, p)\n",
    "print(data_binom)"
   ]
  },
  {
   "cell_type": "code",
   "execution_count": 57,
   "metadata": {},
   "outputs": [
    {
     "name": "stdout",
     "output_type": "stream",
     "text": [
      "[4 3 1 2 1 1 0 2 1 1 1 3 1 2 1 1 2 1 1 1 0 0 2 2 2 2 0 2 0 3 3 3 1 2 0 3 2\n",
      " 1 1 1 2 4 1 0 0 1 3 0 1 1 2 2 2 1 1 0 1 1 1 2 2 2 1 3 2 0 2 3 2 3 3 3 0 1\n",
      " 1 4 2 3 2 1 0 1 2 2 4 0 1 3 1 2 3 1 2 1 2 1 2 1 2 2] \n",
      "\n",
      "Mean is:  1.59 \n",
      "\n",
      "Var is:  1.0619\n"
     ]
    }
   ],
   "source": [
    "# Data generation for multiple draws\n",
    "data_binom = scipy.stats.binom.rvs(n, p, size=100)\n",
    "\n",
    "print(data_binom, '\\n')\n",
    "print('Mean is: ', data_binom.mean(), '\\n')\n",
    "print('Var is: ', data_binom.var())"
   ]
  },
  {
   "cell_type": "markdown",
   "metadata": {},
   "source": [
    "### To make results reproducible\n",
    "\n",
    "- Set random_state parameter of rvs\n",
    "- Or use numpy random seed"
   ]
  },
  {
   "cell_type": "code",
   "execution_count": 58,
   "metadata": {},
   "outputs": [
    {
     "name": "stdout",
     "output_type": "stream",
     "text": [
      "[0 2 1 2 0 3 3 0 3 0 1 2 3 3 0 1 2 1 2 0 2 0 0 0 1 2 1 2 1 2 2 1 1 4 2 3 2\n",
      " 2 1 1 1 4 1 3 1 1 1 1 1 0 0 2 2 0 1 1 0 1 1 0 2 2 0 1 2 1 1 1 3 2 2 1 1 3\n",
      " 1 3 0 2 0 2 2 3 3 1 2 3 2 1 1 1 3 1 3 3 2 0 3 3 0 2] \n",
      "\n",
      "Mean is:  1.5 \n",
      "\n",
      "Var is:  1.11\n"
     ]
    }
   ],
   "source": [
    "data_binom = scipy.stats.binom.rvs(n, p, size=100, random_state=12)\n",
    "\n",
    "print(data_binom, '\\n')\n",
    "print('Mean is: ', data_binom.mean(), '\\n')\n",
    "print('Var is: ', data_binom.var())"
   ]
  },
  {
   "cell_type": "code",
   "execution_count": 60,
   "metadata": {},
   "outputs": [
    {
     "name": "stdout",
     "output_type": "stream",
     "text": [
      "[0 2 1 2 0 3 3 0 3 0 1 2 3 3 0 1 2 1 2 0 2 0 0 0 1 2 1 2 1 2 2 1 1 4 2 3 2\n",
      " 2 1 1 1 4 1 3 1 1 1 1 1 0 0 2 2 0 1 1 0 1 1 0 2 2 0 1 2 1 1 1 3 2 2 1 1 3\n",
      " 1 3 0 2 0 2 2 3 3 1 2 3 2 1 1 1 3 1 3 3 2 0 3 3 0 2] \n",
      "\n",
      "Mean is:  1.5 \n",
      "\n",
      "Var is:  1.11\n",
      "Mean & Var of the data are:  (array(1.5), array(1.05))\n"
     ]
    }
   ],
   "source": [
    "import numpy as np\n",
    "np.random.seed(12)\n",
    "\n",
    "data_binom = scipy.stats.binom.rvs(n, p, size=100)\n",
    "\n",
    "print(data_binom, '\\n')\n",
    "print('Mean is: ', data_binom.mean(), '\\n')\n",
    "print('Var is: ', data_binom.var())\n",
    "\n",
    "# Alternate way to get mean & variance\n",
    "print('Mean & Var of the data are: ', scipy.stats.binom.stats(n=5,p=0.3))"
   ]
  },
  {
   "cell_type": "markdown",
   "metadata": {},
   "source": [
    "#### Probability Mass Function to compute probability"
   ]
  },
  {
   "cell_type": "code",
   "execution_count": 61,
   "metadata": {},
   "outputs": [
    {
     "data": {
      "text/plain": [
       "0.25"
      ]
     },
     "execution_count": 61,
     "metadata": {},
     "output_type": "execute_result"
    }
   ],
   "source": [
    "# Probability of getting 5 head in 10 throw of a fair coin\n",
    "n=10\n",
    "p = 0.5 # For fair coin\n",
    "k = 5\n",
    "scipy.stats.binom.pmf(k,n,p).round(2)"
   ]
  },
  {
   "cell_type": "code",
   "execution_count": 63,
   "metadata": {},
   "outputs": [
    {
     "name": "stdout",
     "output_type": "stream",
     "text": [
      "Probability of getting 7 head in 10 throw of a fair coin is:  0.12\n",
      "<scipy.stats._distn_infrastructure.rv_frozen object at 0x000001E6750C5D30>\n"
     ]
    }
   ],
   "source": [
    "# Probability of getting 7 head in 10 throw of a fair coin\n",
    "n=10\n",
    "p = 0.5 # For fair coin\n",
    "k = 7\n",
    "print('Probability of getting 7 head in 10 throw of a fair coin is: ', scipy.stats.binom.pmf(k,n,p).round(2))\n",
    "\n"
   ]
  },
  {
   "cell_type": "markdown",
   "metadata": {},
   "source": [
    "***Excercises:***\n",
    " - Change the value of k from 0 to 10 & oberve probabilities.\n",
    " - Did you notice something? \n",
    " - Add those all probabilities?\n",
    " - What if the coin is biased? Do some experimentations & interpret your findings.\n",
    " "
   ]
  },
  {
   "cell_type": "markdown",
   "metadata": {},
   "source": [
    "### Cumulative Disstribution Function to compute cumulative probabilities"
   ]
  },
  {
   "cell_type": "code",
   "execution_count": 46,
   "metadata": {
    "scrolled": true
   },
   "outputs": [
    {
     "name": "stdout",
     "output_type": "stream",
     "text": [
      "Probability of 5 heads or less after 10 throws with a fair coin is:  0.62\n"
     ]
    }
   ],
   "source": [
    "# Probability of 5 heads or less after 10 throws with a fair coin\n",
    "n=10\n",
    "p=0.5\n",
    "k=5\n",
    "print('Probability of 5 heads or less after 10 throws with a fair coin is: ', scipy.stats.binom.cdf(k, n,p).round(2))"
   ]
  },
  {
   "cell_type": "markdown",
   "metadata": {},
   "source": [
    "***Excericse:*** \n",
    "\n",
    "Is it the same which you would expect using pmf?"
   ]
  },
  {
   "cell_type": "code",
   "execution_count": 49,
   "metadata": {},
   "outputs": [
    {
     "name": "stdout",
     "output_type": "stream",
     "text": [
      "Probability of more than 59 heads in 100 throws with a fair coin is:  0.988\n"
     ]
    }
   ],
   "source": [
    "# Probability of more than 59 heads after 100 throws with p=0.7\n",
    "\n",
    "n=100\n",
    "p=0.7\n",
    "k=59\n",
    "print('Probability of more than 59 heads in 100 throws with a fair coin is: ', 1-scipy.stats.binom.cdf(k, n,p).round(3))"
   ]
  },
  {
   "cell_type": "code",
   "execution_count": 50,
   "metadata": {},
   "outputs": [
    {
     "name": "stdout",
     "output_type": "stream",
     "text": [
      "Probability of more than 59 heads in 100 throws with a fair coin is:  0.988\n"
     ]
    }
   ],
   "source": [
    "# Alternate way\n",
    "# Probability of more than 59 heads after 100 throws with p=0.7\n",
    "\n",
    "n=100\n",
    "p=0.7\n",
    "k=59\n",
    "print('Probability of more than 59 heads in 100 throws with a fair coin is: ', scipy.stats.binom.sf(k, n,p).round(3))"
   ]
  },
  {
   "cell_type": "code",
   "execution_count": 110,
   "metadata": {},
   "outputs": [
    {
     "data": {
      "text/plain": [
       "array(0.)"
      ]
     },
     "execution_count": 110,
     "metadata": {},
     "output_type": "execute_result"
    }
   ],
   "source": [
    "# Moments\n",
    "mean, var, skewness, kurtosis = scipy.stats.binom.stats(n, p, moments='mvsk')\n"
   ]
  },
  {
   "cell_type": "markdown",
   "metadata": {},
   "source": [
    "### Visualizing binomial distribution\n",
    "\n",
    "Play with these (& other applets) to understand binomial distribution\n",
    "\n",
    "https://shiny.rit.albany.edu/stat/binomial/\n",
    "\n",
    "https://homepage.divms.uiowa.edu/~mbognar/applets/bin.html"
   ]
  },
  {
   "cell_type": "code",
   "execution_count": 13,
   "metadata": {},
   "outputs": [
    {
     "data": {
      "image/png": "[encoded data removed]",
      "text/plain": [
       "<Figure size 432x288 with 1 Axes>"
      ]
     },
     "metadata": {
      "needs_background": "light"
     },
     "output_type": "display_data"
    }
   ],
   "source": [
    "import seaborn as sns\n",
    "import matplotlib.pyplot as plt\n",
    "sns.distplot(scipy.stats.binom.rvs(n=100, p=0.5, size=100, random_state=10), kde=True)\n",
    "plt.title('Binomial Distribution')\n",
    "plt.xlabel('Random Binomial Variate')\n",
    "plt.ylabel('Frequencies')\n",
    "plt.show()"
   ]
  },
  {
   "cell_type": "markdown",
   "metadata": {},
   "source": [
    "***Excercises:***\n",
    "- change values of parameters n & p & plot again\n",
    "- Did you observe something important, which describe shape of the distrinution?\n"
   ]
  },
  {
   "cell_type": "markdown",
   "metadata": {},
   "source": [
    "# Assignment\n"
   ]
  },
  {
   "cell_type": "markdown",
   "metadata": {},
   "source": [
    "1. Out of 800 families with 4 children each, how many families would be expected to have? \n",
    "a.  2 boys and 2 girls\n",
    "b.  At least one boy\n",
    "c.  At most 2 girls\n",
    "\n",
    "Assume equal chances for boys and girls.\n",
    "\n",
    "**Answer [300; 750; 550]**\n",
    "\n",
    "2.\tThe incidence of occupational disease in an industry is such that the workers have a 20 % chance of suffering from it. What is the probability that out of 6 workers 4 or more will suffer from disease?\n",
    "\n",
    "**Answer [53/3125]**\n",
    "\n",
    "3.\t10 % bolts produced by a machine are defective. Find the probability of the following when they are checked at random by examining samples of 5:\n",
    "a.\tNone is defective\n",
    "b.\tOne is defective\n",
    "c.\tAt most one is defective\n",
    "\n",
    "**Answer [0.5905; 0.3281; 0.9186]**\n",
    "\n"
   ]
  },
  {
   "cell_type": "code",
   "execution_count": null,
   "metadata": {},
   "outputs": [],
   "source": []
  }
 ],
 "metadata": {
  "kernelspec": {
   "display_name": "Python 3",
   "language": "python",
   "name": "python3"
  },
  "language_info": {
   "codemirror_mode": {
    "name": "ipython",
    "version": 3
   },
   "file_extension": ".py",
   "mimetype": "text/x-python",
   "name": "python",
   "nbconvert_exporter": "python",
   "pygments_lexer": "ipython3",
   "version": "3.7.6"
  }
 },
 "nbformat": 4,
 "nbformat_minor": 2
}
