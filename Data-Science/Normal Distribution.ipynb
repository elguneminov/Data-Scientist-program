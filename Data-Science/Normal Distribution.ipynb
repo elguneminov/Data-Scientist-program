{
 "cells": [
  {
   "cell_type": "markdown",
   "metadata": {},
   "source": [
    "# Normal Distribution\n",
    "\n",
    "## generate normal random variable"
   ]
  },
  {
   "cell_type": "code",
   "execution_count": 1,
   "metadata": {},
   "outputs": [],
   "source": [
    "from scipy.stats import norm"
   ]
  },
  {
   "cell_type": "code",
   "execution_count": 3,
   "metadata": {},
   "outputs": [
    {
     "data": {
      "text/plain": [
       "array([20.16836167, 19.47437773, 19.1938585 , ..., 20.02056936,\n",
       "       20.07790588, 19.9968684 ])"
      ]
     },
     "execution_count": 3,
     "metadata": {},
     "output_type": "execute_result"
    }
   ],
   "source": [
    "mean = 20\n",
    "sd = 0.7\n",
    "\n",
    "data_normal = norm.rvs(loc=mean, scale=sd, size=1000000)\n",
    "data_normal"
   ]
  },
  {
   "cell_type": "code",
   "execution_count": 5,
   "metadata": {},
   "outputs": [
    {
     "name": "stdout",
     "output_type": "stream",
     "text": [
      "Mean is:  16.291415359469404\n",
      "Var is:  0.4897982842699823\n",
      "std is:  0.69985590250421\n"
     ]
    }
   ],
   "source": [
    "print('Mean is: ', data_normal.mean())\n",
    "print('Var is: ', data_normal.var())\n",
    "print('std is: ', data_normal.std())"
   ]
  },
  {
   "cell_type": "code",
   "execution_count": 6,
   "metadata": {},
   "outputs": [
    {
     "data": {
      "text/plain": [
       "count    1000000.000000\n",
       "mean          20.000376\n",
       "std            0.699856\n",
       "min           16.291415\n",
       "25%           19.527867\n",
       "50%           20.000397\n",
       "75%           20.471618\n",
       "max           23.483405\n",
       "dtype: float64"
      ]
     },
     "execution_count": 6,
     "metadata": {},
     "output_type": "execute_result"
    }
   ],
   "source": [
    "import pandas as pd\n",
    "pd.Series(data_normal).describe()"
   ]
  },
  {
   "cell_type": "markdown",
   "metadata": {},
   "source": [
    "# Standard Normal Distribution\n",
    "\n",
    "1. Converting normal variable to standard normal variable"
   ]
  },
  {
   "cell_type": "code",
   "execution_count": 7,
   "metadata": {},
   "outputs": [
    {
     "data": {
      "text/plain": [
       "array([ 0.24002852, -0.75158124, -1.15240551, ...,  0.02885318,\n",
       "        0.11077936, -0.00501232])"
      ]
     },
     "execution_count": 7,
     "metadata": {},
     "output_type": "execute_result"
    }
   ],
   "source": [
    "mu = data_normal.mean()\n",
    "sigma = data_normal.std()\n",
    "\n",
    "data_snv = (data_normal - mu)/sigma\n",
    "data_snv"
   ]
  },
  {
   "cell_type": "code",
   "execution_count": 9,
   "metadata": {},
   "outputs": [
    {
     "name": "stdout",
     "output_type": "stream",
     "text": [
      "mean is  0.0\n",
      "Var is  1.0\n",
      "Std is  1.0\n"
     ]
    }
   ],
   "source": [
    "# Let's check mean and std/var\n",
    "\n",
    "print('mean is ', data_snv.mean().round(2))\n",
    "print('Var is ', data_snv.var().round(2))\n",
    "print('Std is ', data_snv.std().round(1))"
   ]
  },
  {
   "cell_type": "markdown",
   "metadata": {},
   "source": [
    "2. Creating Standard Normal Variate"
   ]
  },
  {
   "cell_type": "code",
   "execution_count": 11,
   "metadata": {},
   "outputs": [
    {
     "data": {
      "text/plain": [
       "array([ 1.10631799,  2.33916062, -0.35763828, ..., -0.82222441,\n",
       "        0.94567911, -1.26486941])"
      ]
     },
     "execution_count": 11,
     "metadata": {},
     "output_type": "execute_result"
    }
   ],
   "source": [
    "loc=0\n",
    "scale=1\n",
    "\n",
    "snv = norm.rvs(loc, scale, size=100000)\n",
    "snv"
   ]
  },
  {
   "cell_type": "code",
   "execution_count": 13,
   "metadata": {},
   "outputs": [
    {
     "name": "stdout",
     "output_type": "stream",
     "text": [
      "-0.003728606580267235\n"
     ]
    },
    {
     "data": {
      "text/plain": [
       "0.9998967130897998"
      ]
     },
     "execution_count": 13,
     "metadata": {},
     "output_type": "execute_result"
    }
   ],
   "source": [
    "print(snv.mean())\n",
    "snv.var()"
   ]
  },
  {
   "cell_type": "markdown",
   "metadata": {},
   "source": [
    "# Plotting the distribution"
   ]
  },
  {
   "cell_type": "code",
   "execution_count": 14,
   "metadata": {},
   "outputs": [],
   "source": [
    "import seaborn as sns\n",
    "import matplotlib.pyplot as plt\n"
   ]
  },
  {
   "cell_type": "code",
   "execution_count": 22,
   "metadata": {},
   "outputs": [
    {
     "data": {
      "text/plain": [
       "[Text(0, 0.5, 'Frequency'),\n",
       " Text(0.5, 0, 'Normal variable'),\n",
       " Text(0.5, 1.0, 'Normal Distribution Curve')]"
      ]
     },
     "execution_count": 22,
     "metadata": {},
     "output_type": "execute_result"
    },
    {
     "data": {
      "image/png": "[encoded data removed]",
      "text/plain": [
       "<Figure size 432x288 with 1 Axes>"
      ]
     },
     "metadata": {
      "needs_background": "light"
     },
     "output_type": "display_data"
    }
   ],
   "source": [
    "mean = 20\n",
    "sd = 0.7\n",
    "\n",
    "data_normal = norm.rvs(loc=mean, scale=sd, size=1000000)\n",
    "\n",
    "ax= sns.distplot(data_normal, bins=100, color='pink')\n",
    "ax.set(xlabel='Normal variable', ylabel='Frequency', title = 'Normal Distribution Curve')"
   ]
  },
  {
   "cell_type": "code",
   "execution_count": null,
   "metadata": {},
   "outputs": [],
   "source": []
  },
  {
   "cell_type": "code",
   "execution_count": 26,
   "metadata": {},
   "outputs": [
    {
     "data": {
      "text/plain": [
       "<matplotlib.lines.Line2D at 0x1712d399518>"
      ]
     },
     "execution_count": 26,
     "metadata": {},
     "output_type": "execute_result"
    },
    {
     "data": {
      "image/png": "[encoded data removed]",
      "text/plain": [
       "<Figure size 432x288 with 1 Axes>"
      ]
     },
     "metadata": {
      "needs_background": "light"
     },
     "output_type": "display_data"
    }
   ],
   "source": [
    "mean = 20\n",
    "sd = 0.7\n",
    "\n",
    "data_normal = norm.rvs(loc=mean, scale=sd, size=1000000)\n",
    "\n",
    "ax= sns.distplot(data_normal, bins=100, color='pink')\n",
    "ax.set(xlabel='Normal variable', ylabel='Frequency', title = 'Normal Distribution Curve')\n",
    "\n",
    "#plt.axvline( data_normal.mean()-data_normal.std(), color='g')\n",
    "\n",
    "mu = data_normal.mean()\n",
    "sigma = data_normal.std()\n",
    "\n",
    "plt.axvline(mu - sigma, color='g')\n",
    "plt.axvline(mu + sigma, color='g')\n",
    "\n",
    "plt.axvline(mu - 2*sigma, color='y')\n",
    "plt.axvline(mu + 2*sigma, color='y')\n",
    "\n",
    "plt.axvline(mu - 3*sigma, color='r')\n",
    "plt.axvline(mu + 3*sigma, color='r')"
   ]
  },
  {
   "cell_type": "markdown",
   "metadata": {},
   "source": [
    "# 68-95-99.7 Rule\n",
    "\n",
    "P[-1 <= Z <= 1] = 0.68\n",
    "\n",
    "P[-2 <= Z <= 2] = 0.95\n",
    "\n",
    "P[-3 <= Z <= 3] = 0.997"
   ]
  },
  {
   "cell_type": "code",
   "execution_count": 31,
   "metadata": {},
   "outputs": [
    {
     "name": "stdout",
     "output_type": "stream",
     "text": [
      "prob_greater_than_one 0.8413447460685429\n",
      "The required probability is  0.68\n"
     ]
    }
   ],
   "source": [
    "# To prove P[-1 <= Z <= 1] = 0.68\n",
    "\n",
    "# Required probability is 2*P[0 <= Z <= 1]\n",
    "# we can use cdf() function and cdf(1) gives us P[Z <= 1], \n",
    "\n",
    "d=norm(loc=0, scale=1)\n",
    "\n",
    "prob_greater_than_one = d.cdf(1)\n",
    "\n",
    "print('prob_greater_than_one', d.cdf(1))\n",
    "\n",
    "# Approach_1:\n",
    "\n",
    "print('The required probability is ', (d.cdf(1)-d.cdf(-1)).round(2))\n",
    "\n"
   ]
  },
  {
   "cell_type": "code",
   "execution_count": 32,
   "metadata": {},
   "outputs": [
    {
     "name": "stdout",
     "output_type": "stream",
     "text": [
      "The required probability is  0.68\n"
     ]
    }
   ],
   "source": [
    "# Approach_2:\n",
    "\n",
    "print('The required probability is ', 2*(d.cdf(1)-0.5).round(2))\n",
    "\n"
   ]
  },
  {
   "cell_type": "markdown",
   "metadata": {},
   "source": [
    "Excercise:\n",
    "1. Prove next two rules.\n",
    "2. Play with the applet & verify your results here using code\n",
    "https://homepage.divms.uiowa.edu/~mbognar/applets/normal.html"
   ]
  },
  {
   "cell_type": "code",
   "execution_count": 33,
   "metadata": {},
   "outputs": [
    {
     "data": {
      "text/plain": [
       "0.15865525393145707"
      ]
     },
     "execution_count": 33,
     "metadata": {},
     "output_type": "execute_result"
    }
   ],
   "source": [
    "1-d.cdf(1)"
   ]
  },
  {
   "cell_type": "markdown",
   "metadata": {},
   "source": [
    "## PPF "
   ]
  },
  {
   "cell_type": "code",
   "execution_count": 42,
   "metadata": {},
   "outputs": [
    {
     "name": "stdout",
     "output_type": "stream",
     "text": [
      "Median or 50th percentile is:  0.0 \n",
      "\n",
      "75th percentile is:  0.6744897501960817 \n",
      "\n",
      "25th percentile is:  -0.6744897501960817 \n",
      "\n",
      "0th percentile is:  inf \n",
      "\n",
      "100th percentile is:  -inf \n",
      "\n"
     ]
    }
   ],
   "source": [
    "#To find the median of a distribution, we can use the percent point function ppf, which is the inverse of the cdf:\n",
    "\n",
    "print('Median or 50th percentile is: ', norm.ppf(0.5), '\\n')  \n",
    "\n",
    "print('75th percentile is: ', norm.ppf(0.75), '\\n')   \n",
    "print('25th percentile is: ', norm.ppf(0.25), '\\n') \n",
    "\n",
    "print('0th percentile is: ', norm.ppf(1), '\\n')   \n",
    "print('100th percentile is: ', norm.ppf(0), '\\n') "
   ]
  },
  {
   "cell_type": "markdown",
   "metadata": {},
   "source": [
    "# Excercise:\n",
    "\n",
    "Heights of students normally distributed with mean 165 and sd  8 cm. \n",
    "Find the probability that a randomly selected student will have height <= 159 cm"
   ]
  },
  {
   "cell_type": "code",
   "execution_count": null,
   "metadata": {},
   "outputs": [],
   "source": []
  }
 ],
 "metadata": {
  "kernelspec": {
   "display_name": "Python 3",
   "language": "python",
   "name": "python3"
  },
  "language_info": {
   "codemirror_mode": {
    "name": "ipython",
    "version": 3
   },
   "file_extension": ".py",
   "mimetype": "text/x-python",
   "name": "python",
   "nbconvert_exporter": "python",
   "pygments_lexer": "ipython3",
   "version": "3.7.3"
  }
 },
 "nbformat": 4,
 "nbformat_minor": 2
}
