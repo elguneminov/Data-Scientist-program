{
 "cells": [
  {
   "cell_type": "markdown",
   "metadata": {},
   "source": [
    "### Objectives\n",
    "* Understanding Gradient Descent\n",
    "* Calculating Graddient Descent\n",
    "* Implement Gradient Descent\n",
    "\n",
    "<hr>"
   ]
  },
  {
   "cell_type": "markdown",
   "metadata": {},
   "source": [
    "* What is Gradient Descent?\n",
    "* A. It's an algorithm to find out the (m,b) such that the cost is least."
   ]
  },
  {
   "cell_type": "markdown",
   "metadata": {},
   "source": [
    "<img src=\"https://github.com/edyoda/Data-Scientist-program/blob/master/Assignment/images/gd.png?raw=true\">"
   ]
  },
  {
   "cell_type": "markdown",
   "metadata": {},
   "source": [
    "* What is velocity?\n",
    "- d(distance)/ dt\n",
    "\n",
    "* What is acceleration?\n",
    "- d(velocity)/ dt"
   ]
  },
  {
   "cell_type": "markdown",
   "metadata": {},
   "source": [
    "* We have to find out how Loss changes with respect to weights(m & c)"
   ]
  },
  {
   "cell_type": "markdown",
   "metadata": {},
   "source": [
    "### Now, we will find out how will Loss change w.r.t. m "
   ]
  },
  {
   "cell_type": "markdown",
   "metadata": {},
   "source": [
    "$d/dm (1/N /Sigma (y - (m*x + b)^2$"
   ]
  },
  {
   "cell_type": "markdown",
   "metadata": {},
   "source": [
    "$d/dm (y - (m*x +b))^2$"
   ]
  },
  {
   "cell_type": "markdown",
   "metadata": {},
   "source": [
    "$d/dm(y^2 -2*y*(m*x + b) + (m*x + b)^2)$\n",
    "$d/dm(y^2 -2*y*m*x -2*y*b + m^2*x^2 + 2*m*x*b + b^2)$\n",
    "$d/dm(-2*y*m*x + m^2*x^2 + 2*m*x*b)$\n",
    "$-2*y*x + 2*m*x^2 + 2*x*b$\n",
    "$-2*x(y -( m*x + b))$"
   ]
  },
  {
   "cell_type": "markdown",
   "metadata": {},
   "source": [
    "* Identify the change in the weights such that the loss is reduced\n",
    "* Using above methods, we calculate the new weights"
   ]
  },
  {
   "cell_type": "code",
   "execution_count": 1,
   "metadata": {},
   "outputs": [],
   "source": [
    "from sklearn.datasets import make_regression"
   ]
  },
  {
   "cell_type": "code",
   "execution_count": 2,
   "metadata": {},
   "outputs": [],
   "source": [
    "X,y = make_regression(n_features=1, n_samples=100, noise=3)"
   ]
  },
  {
   "cell_type": "code",
   "execution_count": 3,
   "metadata": {},
   "outputs": [
    {
     "data": {
      "text/plain": [
       "array([[ 1.27818437],\n",
       "       [ 0.20275406],\n",
       "       [-2.46742425],\n",
       "       [-0.19525101],\n",
       "       [-0.96435687],\n",
       "       [-0.29773419],\n",
       "       [ 1.90129057],\n",
       "       [ 0.7493305 ],\n",
       "       [ 1.93791531],\n",
       "       [ 0.74147371],\n",
       "       [-1.03049832],\n",
       "       [-1.02893835],\n",
       "       [-0.88334976],\n",
       "       [-0.35886584],\n",
       "       [ 0.85750504],\n",
       "       [-0.66578017],\n",
       "       [-0.67393301],\n",
       "       [-0.30517878],\n",
       "       [-0.91467954],\n",
       "       [-0.85448383],\n",
       "       [-1.46536985],\n",
       "       [-0.8495231 ],\n",
       "       [ 3.24164276],\n",
       "       [ 0.95842703],\n",
       "       [-1.31310558],\n",
       "       [-0.76093838],\n",
       "       [-0.04337911],\n",
       "       [ 0.18417004],\n",
       "       [-0.95630224],\n",
       "       [-1.36457364],\n",
       "       [ 1.2247135 ],\n",
       "       [-0.93035763],\n",
       "       [ 0.68402948],\n",
       "       [ 0.77734812],\n",
       "       [ 1.51320305],\n",
       "       [-1.6782565 ],\n",
       "       [-0.36293976],\n",
       "       [-2.2145341 ],\n",
       "       [ 1.1864367 ],\n",
       "       [ 1.38395062],\n",
       "       [ 0.98108679],\n",
       "       [ 0.5872015 ],\n",
       "       [ 0.29246631],\n",
       "       [ 0.66916593],\n",
       "       [-0.01879841],\n",
       "       [-1.91548589],\n",
       "       [ 0.05673048],\n",
       "       [-0.4302353 ],\n",
       "       [-1.12616277],\n",
       "       [ 1.30907975],\n",
       "       [-0.70966512],\n",
       "       [-1.23835737],\n",
       "       [-0.98117252],\n",
       "       [ 0.02397894],\n",
       "       [ 0.02213477],\n",
       "       [ 0.22665753],\n",
       "       [ 0.71187035],\n",
       "       [ 1.53005907],\n",
       "       [-1.26378101],\n",
       "       [-1.47383156],\n",
       "       [-0.60465299],\n",
       "       [ 1.2319048 ],\n",
       "       [-1.68261003],\n",
       "       [-0.28293081],\n",
       "       [-1.66882383],\n",
       "       [ 2.00108756],\n",
       "       [ 0.79904079],\n",
       "       [-0.40178938],\n",
       "       [-0.28050196],\n",
       "       [-0.56636144],\n",
       "       [ 0.97030694],\n",
       "       [-2.03438054],\n",
       "       [-0.38526191],\n",
       "       [-1.68517097],\n",
       "       [ 0.98424606],\n",
       "       [ 0.28196393],\n",
       "       [ 0.90154345],\n",
       "       [ 0.16196029],\n",
       "       [ 2.4320091 ],\n",
       "       [-0.00869663],\n",
       "       [-2.20982425],\n",
       "       [ 1.98736276],\n",
       "       [-0.26507894],\n",
       "       [ 0.25423862],\n",
       "       [-0.20478206],\n",
       "       [-0.53429217],\n",
       "       [ 0.9996127 ],\n",
       "       [-0.08468432],\n",
       "       [-0.42626261],\n",
       "       [ 0.35066723],\n",
       "       [-0.21920627],\n",
       "       [ 0.91885874],\n",
       "       [ 0.26198654],\n",
       "       [-0.27160181],\n",
       "       [-0.68470931],\n",
       "       [ 0.80826623],\n",
       "       [-0.27765534],\n",
       "       [ 0.7330456 ],\n",
       "       [-1.47698151],\n",
       "       [ 0.47031544]])"
      ]
     },
     "execution_count": 3,
     "metadata": {},
     "output_type": "execute_result"
    }
   ],
   "source": [
    "X"
   ]
  },
  {
   "cell_type": "code",
   "execution_count": 4,
   "metadata": {},
   "outputs": [
    {
     "data": {
      "text/plain": [
       "array([ 1.27601764e+02,  1.77557501e+01, -2.39475712e+02, -1.35555497e+01,\n",
       "       -9.30029325e+01, -3.05095800e+01,  1.83236924e+02,  7.25090919e+01,\n",
       "        1.84790648e+02,  7.42026257e+01, -9.58780598e+01, -1.02481119e+02,\n",
       "       -8.88758242e+01, -3.36337387e+01,  8.30025888e+01, -6.59001704e+01,\n",
       "       -6.73513415e+01, -2.64690084e+01, -9.17200829e+01, -8.39309868e+01,\n",
       "       -1.45578301e+02, -8.53079357e+01,  3.14129476e+02,  9.54170317e+01,\n",
       "       -1.29951646e+02, -7.37046417e+01, -2.62191298e+00,  1.39425161e+01,\n",
       "       -9.34462748e+01, -1.26578580e+02,  1.16725132e+02, -9.02648430e+01,\n",
       "        6.81224334e+01,  7.10031838e+01,  1.42778814e+02, -1.63104569e+02,\n",
       "       -3.58987364e+01, -2.10275296e+02,  1.12195266e+02,  1.35254657e+02,\n",
       "        9.65155297e+01,  6.04308185e+01,  2.39474258e+01,  7.12954635e+01,\n",
       "        4.52121191e-01, -1.87852929e+02,  9.03991546e-01, -4.45408702e+01,\n",
       "       -1.12916483e+02,  1.27065153e+02, -6.85971501e+01, -1.16824324e+02,\n",
       "       -9.61923817e+01, -3.45100254e-02,  2.56302483e+00,  2.19500168e+01,\n",
       "        6.73149882e+01,  1.49750689e+02, -1.23276135e+02, -1.39987642e+02,\n",
       "       -5.81178796e+01,  1.22793341e+02, -1.59719008e+02, -2.59658817e+01,\n",
       "       -1.61721775e+02,  1.92923395e+02,  7.82757975e+01, -3.62531927e+01,\n",
       "       -2.83932228e+01, -5.42623992e+01,  9.49319375e+01, -1.95572529e+02,\n",
       "       -3.71128526e+01, -1.62571936e+02,  9.37600002e+01,  2.93769844e+01,\n",
       "        8.74611685e+01,  1.81325523e+01,  2.37241736e+02,  3.50276257e+00,\n",
       "       -2.14674626e+02,  1.88156805e+02, -2.66795940e+01,  2.43081271e+01,\n",
       "       -1.63873143e+01, -5.02200646e+01,  9.53656222e+01, -7.95569068e+00,\n",
       "       -4.11365006e+01,  2.80989099e+01, -1.87818025e+01,  9.21226020e+01,\n",
       "        2.77460649e+01, -2.63588413e+01, -6.44015544e+01,  8.00971762e+01,\n",
       "       -2.65089537e+01,  7.18664199e+01, -1.40799871e+02,  4.42703681e+01])"
      ]
     },
     "execution_count": 4,
     "metadata": {},
     "output_type": "execute_result"
    }
   ],
   "source": [
    "y"
   ]
  },
  {
   "cell_type": "code",
   "execution_count": null,
   "metadata": {},
   "outputs": [],
   "source": [
    "import matplotlib.pyplot as plt\n",
    "%matplotlib inline"
   ]
  },
  {
   "cell_type": "code",
   "execution_count": null,
   "metadata": {},
   "outputs": [],
   "source": [
    "plt.scatter(X,y,s=10)\n",
    "plt.xlabel('X')\n",
    "plt.ylabel('y')"
   ]
  },
  {
   "cell_type": "code",
   "execution_count": null,
   "metadata": {},
   "outputs": [],
   "source": [
    "X.shape"
   ]
  },
  {
   "cell_type": "code",
   "execution_count": null,
   "metadata": {},
   "outputs": [],
   "source": [
    "import numpy as np"
   ]
  },
  {
   "cell_type": "code",
   "execution_count": null,
   "metadata": {},
   "outputs": [],
   "source": [
    "\n",
    "def calc_grad_descent(m,b,X,y,learning_rate=0.01):\n",
    "    N = len(X)\n",
    "    y_pred = m*X+b\n",
    "    SE = np.square(y.reshape(-1,1) - y_pred)\n",
    "    SSE = np.sum(SE)\n",
    "    MSE = 1/N*SSE\n",
    "    print (MSE)\n",
    "    \n",
    "    delat_m = ??\n",
    "    delta_b = ??\n",
    "    \n",
    "    new_m = m - delta_m\n",
    "    new_b = b - delta_b\n",
    "    \n",
    "    m = new_m\n",
    "    b = new_b\n",
    "    \n",
    "    y_pred = m*X+b\n",
    "    SE = np.square(y.reshape(-1,1) - y_pred)\n",
    "    SSE = np.sum(SE)\n",
    "    MSE = 1/N*SSE\n",
    "    print (MSE)\n",
    "    \n",
    "    \n",
    "    "
   ]
  },
  {
   "cell_type": "code",
   "execution_count": null,
   "metadata": {},
   "outputs": [],
   "source": [
    "calc_grad_descent(10,2,X,y)"
   ]
  },
  {
   "cell_type": "markdown",
   "metadata": {},
   "source": [
    "<img src=\"<img src=\"https://github.com/edyoda/Data-Scientist-program/blob/master/Assignment/images/gd.png?raw=true\">\">"
   ]
  },
  {
   "cell_type": "code",
   "execution_count": 12,
   "metadata": {},
   "outputs": [],
   "source": [
    "X = list(X[:,0])"
   ]
  },
  {
   "cell_type": "code",
   "execution_count": 13,
   "metadata": {},
   "outputs": [],
   "source": [
    "y = list(y)"
   ]
  },
  {
   "cell_type": "markdown",
   "metadata": {},
   "source": [
    "### Algorithm\n",
    "* Initialize m,b with random values\n",
    "* Learning rate is the jump size"
   ]
  },
  {
   "cell_type": "code",
   "execution_count": 14,
   "metadata": {},
   "outputs": [],
   "source": [
    "def update_params(m,b,X,y,learning_rate=0.01):\n",
    "    delta_m = 0\n",
    "    delta_b = 0\n",
    "    N = len(X)\n",
    "    for i in range(N):\n",
    "        delta_m += -2*X[i]*(y[i]- (m*X[i]+b))\n",
    "        delta_b += -2*(y[i]- (m*X[i]+b))\n",
    "        \n",
    "    m -= (1/N)* learning_rate * (delta_m)\n",
    "    b -= (1/N)* learning_rate * (delta_b)\n",
    "    return (m,b)\n",
    "    "
   ]
  },
  {
   "cell_type": "code",
   "execution_count": 15,
   "metadata": {},
   "outputs": [
    {
     "data": {
      "text/plain": [
       "(12.135867787558139, 4.794815387427778)"
      ]
     },
     "execution_count": 15,
     "metadata": {},
     "output_type": "execute_result"
    }
   ],
   "source": [
    "update_params(10,5,X,y)"
   ]
  },
  {
   "cell_type": "code",
   "execution_count": 7,
   "metadata": {},
   "outputs": [
    {
     "data": {
      "text/plain": [
       "(array([12.57472343]), array([4.71697449]))"
      ]
     },
     "execution_count": 7,
     "metadata": {},
     "output_type": "execute_result"
    }
   ],
   "source": [
    "update_params(10.45,4.92,X,y)"
   ]
  },
  {
   "cell_type": "code",
   "execution_count": null,
   "metadata": {},
   "outputs": [],
   "source": [
    "X[:2]"
   ]
  },
  {
   "cell_type": "code",
   "execution_count": 16,
   "metadata": {},
   "outputs": [],
   "source": [
    "import numpy as np\n",
    "def calc_grad_desc(m,b,X,y):\n",
    "    N = len(X)\n",
    "    for i in range(20):\n",
    "        SE = np.square(np.array(y) - (m*np.array(X) + b))\n",
    "        SSE = np.sum(SE)\n",
    "        MSE = (1/N)*SSE\n",
    "        print (np.round(MSE,2),np.round(m,2),np.round(b,2))\n",
    "        m,b = update_params(m,b,X,y)\n",
    "        "
   ]
  },
  {
   "cell_type": "code",
   "execution_count": 17,
   "metadata": {},
   "outputs": [
    {
     "name": "stdout",
     "output_type": "stream",
     "text": [
      "9323.07 10 5\n",
      "8868.36 12.14 4.79\n",
      "8435.87 14.22 4.6\n",
      "8024.51 16.25 4.4\n",
      "7633.26 18.23 4.22\n",
      "7261.11 20.17 4.04\n",
      "6907.15 22.05 3.87\n",
      "6570.49 23.89 3.7\n",
      "6250.26 25.68 3.54\n",
      "5945.69 27.43 3.38\n",
      "5655.98 29.14 3.23\n",
      "5380.43 30.8 3.08\n",
      "5118.33 32.42 2.94\n",
      "4869.04 34.01 2.81\n",
      "4631.92 35.55 2.67\n",
      "4406.37 37.06 2.55\n",
      "4191.85 38.53 2.43\n",
      "3987.79 39.96 2.31\n",
      "3793.7 41.36 2.19\n",
      "3609.08 42.72 2.08\n"
     ]
    }
   ],
   "source": [
    "calc_grad_desc(10,5,X,y)"
   ]
  },
  {
   "cell_type": "code",
   "execution_count": null,
   "metadata": {},
   "outputs": [],
   "source": []
  }
 ],
 "metadata": {
  "kernelspec": {
   "display_name": "Python 3",
   "language": "python",
   "name": "python3"
  },
  "language_info": {
   "codemirror_mode": {
    "name": "ipython",
    "version": 3
   },
   "file_extension": ".py",
   "mimetype": "text/x-python",
   "name": "python",
   "nbconvert_exporter": "python",
   "pygments_lexer": "ipython3",
   "version": "3.7.3"
  }
 },
 "nbformat": 4,
 "nbformat_minor": 2
}
