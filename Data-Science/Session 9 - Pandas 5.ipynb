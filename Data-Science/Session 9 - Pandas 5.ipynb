{
 "cells": [
  {
   "cell_type": "markdown",
   "metadata": {},
   "source": [
    "### Topics for today\n",
    "* Merge & join dataframes\n",
    "* Data Wrangling of adults.data\n",
    "* Data Wrangling of Healthcare payments data\n",
    "\n",
    "<hr>"
   ]
  },
  {
   "cell_type": "code",
   "execution_count": 1,
   "metadata": {},
   "outputs": [],
   "source": [
    "import pandas as pd"
   ]
  },
  {
   "cell_type": "code",
   "execution_count": 4,
   "metadata": {},
   "outputs": [],
   "source": [
    "df1 = pd.DataFrame({'Name':['a','b','c'],'Age':[11,22,33]})"
   ]
  },
  {
   "cell_type": "code",
   "execution_count": 8,
   "metadata": {},
   "outputs": [],
   "source": [
    "df2 = pd.DataFrame({'Name':['a','c','b'],'Marks':[111,222,333]})"
   ]
  },
  {
   "cell_type": "code",
   "execution_count": 9,
   "metadata": {},
   "outputs": [
    {
     "data": {
      "text/html": [
       "<div>\n",
       "<style scoped>\n",
       "    .dataframe tbody tr th:only-of-type {\n",
       "        vertical-align: middle;\n",
       "    }\n",
       "\n",
       "    .dataframe tbody tr th {\n",
       "        vertical-align: top;\n",
       "    }\n",
       "\n",
       "    .dataframe thead th {\n",
       "        text-align: right;\n",
       "    }\n",
       "</style>\n",
       "<table border=\"1\" class=\"dataframe\">\n",
       "  <thead>\n",
       "    <tr style=\"text-align: right;\">\n",
       "      <th></th>\n",
       "      <th>Name</th>\n",
       "      <th>Age</th>\n",
       "    </tr>\n",
       "  </thead>\n",
       "  <tbody>\n",
       "    <tr>\n",
       "      <th>0</th>\n",
       "      <td>a</td>\n",
       "      <td>11</td>\n",
       "    </tr>\n",
       "    <tr>\n",
       "      <th>1</th>\n",
       "      <td>b</td>\n",
       "      <td>22</td>\n",
       "    </tr>\n",
       "    <tr>\n",
       "      <th>2</th>\n",
       "      <td>c</td>\n",
       "      <td>33</td>\n",
       "    </tr>\n",
       "  </tbody>\n",
       "</table>\n",
       "</div>"
      ],
      "text/plain": [
       "  Name  Age\n",
       "0    a   11\n",
       "1    b   22\n",
       "2    c   33"
      ]
     },
     "execution_count": 9,
     "metadata": {},
     "output_type": "execute_result"
    }
   ],
   "source": [
    "df1"
   ]
  },
  {
   "cell_type": "code",
   "execution_count": 10,
   "metadata": {},
   "outputs": [
    {
     "data": {
      "text/html": [
       "<div>\n",
       "<style scoped>\n",
       "    .dataframe tbody tr th:only-of-type {\n",
       "        vertical-align: middle;\n",
       "    }\n",
       "\n",
       "    .dataframe tbody tr th {\n",
       "        vertical-align: top;\n",
       "    }\n",
       "\n",
       "    .dataframe thead th {\n",
       "        text-align: right;\n",
       "    }\n",
       "</style>\n",
       "<table border=\"1\" class=\"dataframe\">\n",
       "  <thead>\n",
       "    <tr style=\"text-align: right;\">\n",
       "      <th></th>\n",
       "      <th>Name</th>\n",
       "      <th>Marks</th>\n",
       "    </tr>\n",
       "  </thead>\n",
       "  <tbody>\n",
       "    <tr>\n",
       "      <th>0</th>\n",
       "      <td>a</td>\n",
       "      <td>111</td>\n",
       "    </tr>\n",
       "    <tr>\n",
       "      <th>1</th>\n",
       "      <td>c</td>\n",
       "      <td>222</td>\n",
       "    </tr>\n",
       "    <tr>\n",
       "      <th>2</th>\n",
       "      <td>b</td>\n",
       "      <td>333</td>\n",
       "    </tr>\n",
       "  </tbody>\n",
       "</table>\n",
       "</div>"
      ],
      "text/plain": [
       "  Name  Marks\n",
       "0    a    111\n",
       "1    c    222\n",
       "2    b    333"
      ]
     },
     "execution_count": 10,
     "metadata": {},
     "output_type": "execute_result"
    }
   ],
   "source": [
    "df2"
   ]
  },
  {
   "cell_type": "code",
   "execution_count": 11,
   "metadata": {},
   "outputs": [
    {
     "data": {
      "text/html": [
       "<div>\n",
       "<style scoped>\n",
       "    .dataframe tbody tr th:only-of-type {\n",
       "        vertical-align: middle;\n",
       "    }\n",
       "\n",
       "    .dataframe tbody tr th {\n",
       "        vertical-align: top;\n",
       "    }\n",
       "\n",
       "    .dataframe thead th {\n",
       "        text-align: right;\n",
       "    }\n",
       "</style>\n",
       "<table border=\"1\" class=\"dataframe\">\n",
       "  <thead>\n",
       "    <tr style=\"text-align: right;\">\n",
       "      <th></th>\n",
       "      <th>Name</th>\n",
       "      <th>Age</th>\n",
       "      <th>Marks</th>\n",
       "    </tr>\n",
       "  </thead>\n",
       "  <tbody>\n",
       "    <tr>\n",
       "      <th>0</th>\n",
       "      <td>a</td>\n",
       "      <td>11</td>\n",
       "      <td>111</td>\n",
       "    </tr>\n",
       "    <tr>\n",
       "      <th>1</th>\n",
       "      <td>b</td>\n",
       "      <td>22</td>\n",
       "      <td>333</td>\n",
       "    </tr>\n",
       "    <tr>\n",
       "      <th>2</th>\n",
       "      <td>c</td>\n",
       "      <td>33</td>\n",
       "      <td>222</td>\n",
       "    </tr>\n",
       "  </tbody>\n",
       "</table>\n",
       "</div>"
      ],
      "text/plain": [
       "  Name  Age  Marks\n",
       "0    a   11    111\n",
       "1    b   22    333\n",
       "2    c   33    222"
      ]
     },
     "execution_count": 11,
     "metadata": {},
     "output_type": "execute_result"
    }
   ],
   "source": [
    "pd.merge(df1,df2)"
   ]
  },
  {
   "cell_type": "code",
   "execution_count": 12,
   "metadata": {},
   "outputs": [
    {
     "data": {
      "text/html": [
       "<div>\n",
       "<style scoped>\n",
       "    .dataframe tbody tr th:only-of-type {\n",
       "        vertical-align: middle;\n",
       "    }\n",
       "\n",
       "    .dataframe tbody tr th {\n",
       "        vertical-align: top;\n",
       "    }\n",
       "\n",
       "    .dataframe thead th {\n",
       "        text-align: right;\n",
       "    }\n",
       "</style>\n",
       "<table border=\"1\" class=\"dataframe\">\n",
       "  <thead>\n",
       "    <tr style=\"text-align: right;\">\n",
       "      <th></th>\n",
       "      <th>Name</th>\n",
       "      <th>Age</th>\n",
       "      <th>Marks</th>\n",
       "    </tr>\n",
       "  </thead>\n",
       "  <tbody>\n",
       "    <tr>\n",
       "      <th>0</th>\n",
       "      <td>a</td>\n",
       "      <td>11</td>\n",
       "      <td>111</td>\n",
       "    </tr>\n",
       "    <tr>\n",
       "      <th>1</th>\n",
       "      <td>b</td>\n",
       "      <td>22</td>\n",
       "      <td>333</td>\n",
       "    </tr>\n",
       "    <tr>\n",
       "      <th>2</th>\n",
       "      <td>c</td>\n",
       "      <td>33</td>\n",
       "      <td>222</td>\n",
       "    </tr>\n",
       "  </tbody>\n",
       "</table>\n",
       "</div>"
      ],
      "text/plain": [
       "  Name  Age  Marks\n",
       "0    a   11    111\n",
       "1    b   22    333\n",
       "2    c   33    222"
      ]
     },
     "execution_count": 12,
     "metadata": {},
     "output_type": "execute_result"
    }
   ],
   "source": [
    "pd.merge(df1,df2, on='Name')"
   ]
  },
  {
   "cell_type": "code",
   "execution_count": 13,
   "metadata": {},
   "outputs": [],
   "source": [
    "df1 = pd.DataFrame({'Name':['a','b','c'],'Age':[11,22,33]})"
   ]
  },
  {
   "cell_type": "code",
   "execution_count": 14,
   "metadata": {},
   "outputs": [],
   "source": [
    "df2 = pd.DataFrame({'NameId':['a','c','b'],'Marks':[111,222,333]})"
   ]
  },
  {
   "cell_type": "markdown",
   "metadata": {},
   "source": [
    "* Sometimes dataframe have different column name"
   ]
  },
  {
   "cell_type": "code",
   "execution_count": 16,
   "metadata": {},
   "outputs": [
    {
     "data": {
      "text/html": [
       "<div>\n",
       "<style scoped>\n",
       "    .dataframe tbody tr th:only-of-type {\n",
       "        vertical-align: middle;\n",
       "    }\n",
       "\n",
       "    .dataframe tbody tr th {\n",
       "        vertical-align: top;\n",
       "    }\n",
       "\n",
       "    .dataframe thead th {\n",
       "        text-align: right;\n",
       "    }\n",
       "</style>\n",
       "<table border=\"1\" class=\"dataframe\">\n",
       "  <thead>\n",
       "    <tr style=\"text-align: right;\">\n",
       "      <th></th>\n",
       "      <th>Name</th>\n",
       "      <th>Age</th>\n",
       "      <th>NameId</th>\n",
       "      <th>Marks</th>\n",
       "    </tr>\n",
       "  </thead>\n",
       "  <tbody>\n",
       "    <tr>\n",
       "      <th>0</th>\n",
       "      <td>a</td>\n",
       "      <td>11</td>\n",
       "      <td>a</td>\n",
       "      <td>111</td>\n",
       "    </tr>\n",
       "    <tr>\n",
       "      <th>1</th>\n",
       "      <td>b</td>\n",
       "      <td>22</td>\n",
       "      <td>b</td>\n",
       "      <td>333</td>\n",
       "    </tr>\n",
       "    <tr>\n",
       "      <th>2</th>\n",
       "      <td>c</td>\n",
       "      <td>33</td>\n",
       "      <td>c</td>\n",
       "      <td>222</td>\n",
       "    </tr>\n",
       "  </tbody>\n",
       "</table>\n",
       "</div>"
      ],
      "text/plain": [
       "  Name  Age NameId  Marks\n",
       "0    a   11      a    111\n",
       "1    b   22      b    333\n",
       "2    c   33      c    222"
      ]
     },
     "execution_count": 16,
     "metadata": {},
     "output_type": "execute_result"
    }
   ],
   "source": [
    "pd.merge(df1,df2, left_on='Name', right_on='NameId')"
   ]
  },
  {
   "cell_type": "code",
   "execution_count": 17,
   "metadata": {},
   "outputs": [],
   "source": [
    "df1 = pd.DataFrame({'Name':['a','b','c','a'],'Age':[11,22,33,44]})"
   ]
  },
  {
   "cell_type": "code",
   "execution_count": 18,
   "metadata": {},
   "outputs": [
    {
     "data": {
      "text/html": [
       "<div>\n",
       "<style scoped>\n",
       "    .dataframe tbody tr th:only-of-type {\n",
       "        vertical-align: middle;\n",
       "    }\n",
       "\n",
       "    .dataframe tbody tr th {\n",
       "        vertical-align: top;\n",
       "    }\n",
       "\n",
       "    .dataframe thead th {\n",
       "        text-align: right;\n",
       "    }\n",
       "</style>\n",
       "<table border=\"1\" class=\"dataframe\">\n",
       "  <thead>\n",
       "    <tr style=\"text-align: right;\">\n",
       "      <th></th>\n",
       "      <th>Name</th>\n",
       "      <th>Age</th>\n",
       "    </tr>\n",
       "  </thead>\n",
       "  <tbody>\n",
       "    <tr>\n",
       "      <th>0</th>\n",
       "      <td>a</td>\n",
       "      <td>11</td>\n",
       "    </tr>\n",
       "    <tr>\n",
       "      <th>1</th>\n",
       "      <td>b</td>\n",
       "      <td>22</td>\n",
       "    </tr>\n",
       "    <tr>\n",
       "      <th>2</th>\n",
       "      <td>c</td>\n",
       "      <td>33</td>\n",
       "    </tr>\n",
       "    <tr>\n",
       "      <th>3</th>\n",
       "      <td>a</td>\n",
       "      <td>44</td>\n",
       "    </tr>\n",
       "  </tbody>\n",
       "</table>\n",
       "</div>"
      ],
      "text/plain": [
       "  Name  Age\n",
       "0    a   11\n",
       "1    b   22\n",
       "2    c   33\n",
       "3    a   44"
      ]
     },
     "execution_count": 18,
     "metadata": {},
     "output_type": "execute_result"
    }
   ],
   "source": [
    "df1"
   ]
  },
  {
   "cell_type": "code",
   "execution_count": 19,
   "metadata": {},
   "outputs": [
    {
     "data": {
      "text/html": [
       "<div>\n",
       "<style scoped>\n",
       "    .dataframe tbody tr th:only-of-type {\n",
       "        vertical-align: middle;\n",
       "    }\n",
       "\n",
       "    .dataframe tbody tr th {\n",
       "        vertical-align: top;\n",
       "    }\n",
       "\n",
       "    .dataframe thead th {\n",
       "        text-align: right;\n",
       "    }\n",
       "</style>\n",
       "<table border=\"1\" class=\"dataframe\">\n",
       "  <thead>\n",
       "    <tr style=\"text-align: right;\">\n",
       "      <th></th>\n",
       "      <th>Name</th>\n",
       "      <th>Age</th>\n",
       "      <th>NameId</th>\n",
       "      <th>Marks</th>\n",
       "    </tr>\n",
       "  </thead>\n",
       "  <tbody>\n",
       "    <tr>\n",
       "      <th>0</th>\n",
       "      <td>a</td>\n",
       "      <td>11</td>\n",
       "      <td>a</td>\n",
       "      <td>111</td>\n",
       "    </tr>\n",
       "    <tr>\n",
       "      <th>1</th>\n",
       "      <td>a</td>\n",
       "      <td>44</td>\n",
       "      <td>a</td>\n",
       "      <td>111</td>\n",
       "    </tr>\n",
       "    <tr>\n",
       "      <th>2</th>\n",
       "      <td>b</td>\n",
       "      <td>22</td>\n",
       "      <td>b</td>\n",
       "      <td>333</td>\n",
       "    </tr>\n",
       "    <tr>\n",
       "      <th>3</th>\n",
       "      <td>c</td>\n",
       "      <td>33</td>\n",
       "      <td>c</td>\n",
       "      <td>222</td>\n",
       "    </tr>\n",
       "  </tbody>\n",
       "</table>\n",
       "</div>"
      ],
      "text/plain": [
       "  Name  Age NameId  Marks\n",
       "0    a   11      a    111\n",
       "1    a   44      a    111\n",
       "2    b   22      b    333\n",
       "3    c   33      c    222"
      ]
     },
     "execution_count": 19,
     "metadata": {},
     "output_type": "execute_result"
    }
   ],
   "source": [
    "pd.merge(df1,df2, left_on='Name', right_on='NameId')"
   ]
  },
  {
   "cell_type": "code",
   "execution_count": 20,
   "metadata": {},
   "outputs": [
    {
     "data": {
      "text/html": [
       "<div>\n",
       "<style scoped>\n",
       "    .dataframe tbody tr th:only-of-type {\n",
       "        vertical-align: middle;\n",
       "    }\n",
       "\n",
       "    .dataframe tbody tr th {\n",
       "        vertical-align: top;\n",
       "    }\n",
       "\n",
       "    .dataframe thead th {\n",
       "        text-align: right;\n",
       "    }\n",
       "</style>\n",
       "<table border=\"1\" class=\"dataframe\">\n",
       "  <thead>\n",
       "    <tr style=\"text-align: right;\">\n",
       "      <th></th>\n",
       "      <th>NameId</th>\n",
       "      <th>Marks</th>\n",
       "    </tr>\n",
       "  </thead>\n",
       "  <tbody>\n",
       "    <tr>\n",
       "      <th>0</th>\n",
       "      <td>a</td>\n",
       "      <td>111</td>\n",
       "    </tr>\n",
       "    <tr>\n",
       "      <th>1</th>\n",
       "      <td>c</td>\n",
       "      <td>222</td>\n",
       "    </tr>\n",
       "    <tr>\n",
       "      <th>2</th>\n",
       "      <td>b</td>\n",
       "      <td>333</td>\n",
       "    </tr>\n",
       "  </tbody>\n",
       "</table>\n",
       "</div>"
      ],
      "text/plain": [
       "  NameId  Marks\n",
       "0      a    111\n",
       "1      c    222\n",
       "2      b    333"
      ]
     },
     "execution_count": 20,
     "metadata": {},
     "output_type": "execute_result"
    }
   ],
   "source": [
    "df2"
   ]
  },
  {
   "cell_type": "markdown",
   "metadata": {},
   "source": [
    "* Many to Many Relationship"
   ]
  },
  {
   "cell_type": "code",
   "execution_count": 21,
   "metadata": {},
   "outputs": [
    {
     "data": {
      "text/html": [
       "<div>\n",
       "<style scoped>\n",
       "    .dataframe tbody tr th:only-of-type {\n",
       "        vertical-align: middle;\n",
       "    }\n",
       "\n",
       "    .dataframe tbody tr th {\n",
       "        vertical-align: top;\n",
       "    }\n",
       "\n",
       "    .dataframe thead th {\n",
       "        text-align: right;\n",
       "    }\n",
       "</style>\n",
       "<table border=\"1\" class=\"dataframe\">\n",
       "  <thead>\n",
       "    <tr style=\"text-align: right;\">\n",
       "      <th></th>\n",
       "      <th>Name</th>\n",
       "      <th>Age</th>\n",
       "    </tr>\n",
       "  </thead>\n",
       "  <tbody>\n",
       "    <tr>\n",
       "      <th>0</th>\n",
       "      <td>a</td>\n",
       "      <td>11</td>\n",
       "    </tr>\n",
       "    <tr>\n",
       "      <th>1</th>\n",
       "      <td>b</td>\n",
       "      <td>22</td>\n",
       "    </tr>\n",
       "    <tr>\n",
       "      <th>2</th>\n",
       "      <td>c</td>\n",
       "      <td>33</td>\n",
       "    </tr>\n",
       "    <tr>\n",
       "      <th>3</th>\n",
       "      <td>a</td>\n",
       "      <td>44</td>\n",
       "    </tr>\n",
       "  </tbody>\n",
       "</table>\n",
       "</div>"
      ],
      "text/plain": [
       "  Name  Age\n",
       "0    a   11\n",
       "1    b   22\n",
       "2    c   33\n",
       "3    a   44"
      ]
     },
     "execution_count": 21,
     "metadata": {},
     "output_type": "execute_result"
    }
   ],
   "source": [
    "df1"
   ]
  },
  {
   "cell_type": "code",
   "execution_count": 22,
   "metadata": {},
   "outputs": [],
   "source": [
    "df2 = pd.DataFrame({'NameId':['a','c','b','c'],'Marks':[111,222,333,444]})"
   ]
  },
  {
   "cell_type": "code",
   "execution_count": 23,
   "metadata": {},
   "outputs": [
    {
     "data": {
      "text/html": [
       "<div>\n",
       "<style scoped>\n",
       "    .dataframe tbody tr th:only-of-type {\n",
       "        vertical-align: middle;\n",
       "    }\n",
       "\n",
       "    .dataframe tbody tr th {\n",
       "        vertical-align: top;\n",
       "    }\n",
       "\n",
       "    .dataframe thead th {\n",
       "        text-align: right;\n",
       "    }\n",
       "</style>\n",
       "<table border=\"1\" class=\"dataframe\">\n",
       "  <thead>\n",
       "    <tr style=\"text-align: right;\">\n",
       "      <th></th>\n",
       "      <th>NameId</th>\n",
       "      <th>Marks</th>\n",
       "    </tr>\n",
       "  </thead>\n",
       "  <tbody>\n",
       "    <tr>\n",
       "      <th>0</th>\n",
       "      <td>a</td>\n",
       "      <td>111</td>\n",
       "    </tr>\n",
       "    <tr>\n",
       "      <th>1</th>\n",
       "      <td>c</td>\n",
       "      <td>222</td>\n",
       "    </tr>\n",
       "    <tr>\n",
       "      <th>2</th>\n",
       "      <td>b</td>\n",
       "      <td>333</td>\n",
       "    </tr>\n",
       "    <tr>\n",
       "      <th>3</th>\n",
       "      <td>c</td>\n",
       "      <td>444</td>\n",
       "    </tr>\n",
       "  </tbody>\n",
       "</table>\n",
       "</div>"
      ],
      "text/plain": [
       "  NameId  Marks\n",
       "0      a    111\n",
       "1      c    222\n",
       "2      b    333\n",
       "3      c    444"
      ]
     },
     "execution_count": 23,
     "metadata": {},
     "output_type": "execute_result"
    }
   ],
   "source": [
    "df2"
   ]
  },
  {
   "cell_type": "code",
   "execution_count": 24,
   "metadata": {},
   "outputs": [
    {
     "data": {
      "text/html": [
       "<div>\n",
       "<style scoped>\n",
       "    .dataframe tbody tr th:only-of-type {\n",
       "        vertical-align: middle;\n",
       "    }\n",
       "\n",
       "    .dataframe tbody tr th {\n",
       "        vertical-align: top;\n",
       "    }\n",
       "\n",
       "    .dataframe thead th {\n",
       "        text-align: right;\n",
       "    }\n",
       "</style>\n",
       "<table border=\"1\" class=\"dataframe\">\n",
       "  <thead>\n",
       "    <tr style=\"text-align: right;\">\n",
       "      <th></th>\n",
       "      <th>Name</th>\n",
       "      <th>Age</th>\n",
       "      <th>NameId</th>\n",
       "      <th>Marks</th>\n",
       "    </tr>\n",
       "  </thead>\n",
       "  <tbody>\n",
       "    <tr>\n",
       "      <th>0</th>\n",
       "      <td>a</td>\n",
       "      <td>11</td>\n",
       "      <td>a</td>\n",
       "      <td>111</td>\n",
       "    </tr>\n",
       "    <tr>\n",
       "      <th>1</th>\n",
       "      <td>a</td>\n",
       "      <td>44</td>\n",
       "      <td>a</td>\n",
       "      <td>111</td>\n",
       "    </tr>\n",
       "    <tr>\n",
       "      <th>2</th>\n",
       "      <td>b</td>\n",
       "      <td>22</td>\n",
       "      <td>b</td>\n",
       "      <td>333</td>\n",
       "    </tr>\n",
       "    <tr>\n",
       "      <th>3</th>\n",
       "      <td>c</td>\n",
       "      <td>33</td>\n",
       "      <td>c</td>\n",
       "      <td>222</td>\n",
       "    </tr>\n",
       "    <tr>\n",
       "      <th>4</th>\n",
       "      <td>c</td>\n",
       "      <td>33</td>\n",
       "      <td>c</td>\n",
       "      <td>444</td>\n",
       "    </tr>\n",
       "  </tbody>\n",
       "</table>\n",
       "</div>"
      ],
      "text/plain": [
       "  Name  Age NameId  Marks\n",
       "0    a   11      a    111\n",
       "1    a   44      a    111\n",
       "2    b   22      b    333\n",
       "3    c   33      c    222\n",
       "4    c   33      c    444"
      ]
     },
     "execution_count": 24,
     "metadata": {},
     "output_type": "execute_result"
    }
   ],
   "source": [
    "pd.merge(df1,df2,left_on='Name', right_on='NameId')"
   ]
  },
  {
   "cell_type": "markdown",
   "metadata": {},
   "source": [
    "### Data Wrangling of Adult's data"
   ]
  },
  {
   "cell_type": "code",
   "execution_count": 29,
   "metadata": {},
   "outputs": [],
   "source": [
    "cols = ['age','workclass','fnlwgt','education','education-num','marital-status','occupation','relationship'\n",
    "        ,'race','sex','capital-gain','capital-loss','hours-per-week','native-country','Salary']\n",
    "\n",
    "adult_data = pd.read_csv('https://raw.githubusercontent.com/zekelabs/data-science-complete-tutorial/master/Data/adult.data.txt', names=cols)"
   ]
  },
  {
   "cell_type": "code",
   "execution_count": 30,
   "metadata": {},
   "outputs": [
    {
     "data": {
      "text/html": [
       "<div>\n",
       "<style scoped>\n",
       "    .dataframe tbody tr th:only-of-type {\n",
       "        vertical-align: middle;\n",
       "    }\n",
       "\n",
       "    .dataframe tbody tr th {\n",
       "        vertical-align: top;\n",
       "    }\n",
       "\n",
       "    .dataframe thead th {\n",
       "        text-align: right;\n",
       "    }\n",
       "</style>\n",
       "<table border=\"1\" class=\"dataframe\">\n",
       "  <thead>\n",
       "    <tr style=\"text-align: right;\">\n",
       "      <th></th>\n",
       "      <th>age</th>\n",
       "      <th>workclass</th>\n",
       "      <th>fnlwgt</th>\n",
       "      <th>education</th>\n",
       "      <th>education-num</th>\n",
       "      <th>marital-status</th>\n",
       "      <th>occupation</th>\n",
       "      <th>relationship</th>\n",
       "      <th>race</th>\n",
       "      <th>sex</th>\n",
       "      <th>capital-gain</th>\n",
       "      <th>capital-loss</th>\n",
       "      <th>hours-per-week</th>\n",
       "      <th>native-country</th>\n",
       "      <th>Salary</th>\n",
       "    </tr>\n",
       "  </thead>\n",
       "  <tbody>\n",
       "    <tr>\n",
       "      <th>0</th>\n",
       "      <td>39</td>\n",
       "      <td>State-gov</td>\n",
       "      <td>77516</td>\n",
       "      <td>Bachelors</td>\n",
       "      <td>13</td>\n",
       "      <td>Never-married</td>\n",
       "      <td>Adm-clerical</td>\n",
       "      <td>Not-in-family</td>\n",
       "      <td>White</td>\n",
       "      <td>Male</td>\n",
       "      <td>2174</td>\n",
       "      <td>0</td>\n",
       "      <td>40</td>\n",
       "      <td>United-States</td>\n",
       "      <td>&lt;=50K</td>\n",
       "    </tr>\n",
       "    <tr>\n",
       "      <th>1</th>\n",
       "      <td>50</td>\n",
       "      <td>Self-emp-not-inc</td>\n",
       "      <td>83311</td>\n",
       "      <td>Bachelors</td>\n",
       "      <td>13</td>\n",
       "      <td>Married-civ-spouse</td>\n",
       "      <td>Exec-managerial</td>\n",
       "      <td>Husband</td>\n",
       "      <td>White</td>\n",
       "      <td>Male</td>\n",
       "      <td>0</td>\n",
       "      <td>0</td>\n",
       "      <td>13</td>\n",
       "      <td>United-States</td>\n",
       "      <td>&lt;=50K</td>\n",
       "    </tr>\n",
       "    <tr>\n",
       "      <th>2</th>\n",
       "      <td>38</td>\n",
       "      <td>Private</td>\n",
       "      <td>215646</td>\n",
       "      <td>HS-grad</td>\n",
       "      <td>9</td>\n",
       "      <td>Divorced</td>\n",
       "      <td>Handlers-cleaners</td>\n",
       "      <td>Not-in-family</td>\n",
       "      <td>White</td>\n",
       "      <td>Male</td>\n",
       "      <td>0</td>\n",
       "      <td>0</td>\n",
       "      <td>40</td>\n",
       "      <td>United-States</td>\n",
       "      <td>&lt;=50K</td>\n",
       "    </tr>\n",
       "    <tr>\n",
       "      <th>3</th>\n",
       "      <td>53</td>\n",
       "      <td>Private</td>\n",
       "      <td>234721</td>\n",
       "      <td>11th</td>\n",
       "      <td>7</td>\n",
       "      <td>Married-civ-spouse</td>\n",
       "      <td>Handlers-cleaners</td>\n",
       "      <td>Husband</td>\n",
       "      <td>Black</td>\n",
       "      <td>Male</td>\n",
       "      <td>0</td>\n",
       "      <td>0</td>\n",
       "      <td>40</td>\n",
       "      <td>United-States</td>\n",
       "      <td>&lt;=50K</td>\n",
       "    </tr>\n",
       "    <tr>\n",
       "      <th>4</th>\n",
       "      <td>28</td>\n",
       "      <td>Private</td>\n",
       "      <td>338409</td>\n",
       "      <td>Bachelors</td>\n",
       "      <td>13</td>\n",
       "      <td>Married-civ-spouse</td>\n",
       "      <td>Prof-specialty</td>\n",
       "      <td>Wife</td>\n",
       "      <td>Black</td>\n",
       "      <td>Female</td>\n",
       "      <td>0</td>\n",
       "      <td>0</td>\n",
       "      <td>40</td>\n",
       "      <td>Cuba</td>\n",
       "      <td>&lt;=50K</td>\n",
       "    </tr>\n",
       "  </tbody>\n",
       "</table>\n",
       "</div>"
      ],
      "text/plain": [
       "   age          workclass  fnlwgt   education  education-num  \\\n",
       "0   39          State-gov   77516   Bachelors             13   \n",
       "1   50   Self-emp-not-inc   83311   Bachelors             13   \n",
       "2   38            Private  215646     HS-grad              9   \n",
       "3   53            Private  234721        11th              7   \n",
       "4   28            Private  338409   Bachelors             13   \n",
       "\n",
       "        marital-status          occupation    relationship    race      sex  \\\n",
       "0        Never-married        Adm-clerical   Not-in-family   White     Male   \n",
       "1   Married-civ-spouse     Exec-managerial         Husband   White     Male   \n",
       "2             Divorced   Handlers-cleaners   Not-in-family   White     Male   \n",
       "3   Married-civ-spouse   Handlers-cleaners         Husband   Black     Male   \n",
       "4   Married-civ-spouse      Prof-specialty            Wife   Black   Female   \n",
       "\n",
       "   capital-gain  capital-loss  hours-per-week  native-country  Salary  \n",
       "0          2174             0              40   United-States   <=50K  \n",
       "1             0             0              13   United-States   <=50K  \n",
       "2             0             0              40   United-States   <=50K  \n",
       "3             0             0              40   United-States   <=50K  \n",
       "4             0             0              40            Cuba   <=50K  "
      ]
     },
     "execution_count": 30,
     "metadata": {},
     "output_type": "execute_result"
    }
   ],
   "source": [
    "adult_data.head()"
   ]
  },
  {
   "cell_type": "code",
   "execution_count": 31,
   "metadata": {},
   "outputs": [
    {
     "name": "stdout",
     "output_type": "stream",
     "text": [
      "<class 'pandas.core.frame.DataFrame'>\n",
      "RangeIndex: 32561 entries, 0 to 32560\n",
      "Data columns (total 15 columns):\n",
      "age               32561 non-null int64\n",
      "workclass         32561 non-null object\n",
      "fnlwgt            32561 non-null int64\n",
      "education         32561 non-null object\n",
      "education-num     32561 non-null int64\n",
      "marital-status    32561 non-null object\n",
      "occupation        32561 non-null object\n",
      "relationship      32561 non-null object\n",
      "race              32561 non-null object\n",
      "sex               32561 non-null object\n",
      "capital-gain      32561 non-null int64\n",
      "capital-loss      32561 non-null int64\n",
      "hours-per-week    32561 non-null int64\n",
      "native-country    32561 non-null object\n",
      "Salary            32561 non-null object\n",
      "dtypes: int64(6), object(9)\n",
      "memory usage: 3.7+ MB\n"
     ]
    }
   ],
   "source": [
    "adult_data.info()"
   ]
  },
  {
   "cell_type": "markdown",
   "metadata": {},
   "source": [
    "### Identify string columns"
   ]
  },
  {
   "cell_type": "code",
   "execution_count": 33,
   "metadata": {},
   "outputs": [],
   "source": [
    "cat_adult_data = adult_data.select_dtypes(include=['object'])"
   ]
  },
  {
   "cell_type": "code",
   "execution_count": 34,
   "metadata": {},
   "outputs": [
    {
     "data": {
      "text/html": [
       "<div>\n",
       "<style scoped>\n",
       "    .dataframe tbody tr th:only-of-type {\n",
       "        vertical-align: middle;\n",
       "    }\n",
       "\n",
       "    .dataframe tbody tr th {\n",
       "        vertical-align: top;\n",
       "    }\n",
       "\n",
       "    .dataframe thead th {\n",
       "        text-align: right;\n",
       "    }\n",
       "</style>\n",
       "<table border=\"1\" class=\"dataframe\">\n",
       "  <thead>\n",
       "    <tr style=\"text-align: right;\">\n",
       "      <th></th>\n",
       "      <th>workclass</th>\n",
       "      <th>education</th>\n",
       "      <th>marital-status</th>\n",
       "      <th>occupation</th>\n",
       "      <th>relationship</th>\n",
       "      <th>race</th>\n",
       "      <th>sex</th>\n",
       "      <th>native-country</th>\n",
       "      <th>Salary</th>\n",
       "    </tr>\n",
       "  </thead>\n",
       "  <tbody>\n",
       "    <tr>\n",
       "      <th>0</th>\n",
       "      <td>State-gov</td>\n",
       "      <td>Bachelors</td>\n",
       "      <td>Never-married</td>\n",
       "      <td>Adm-clerical</td>\n",
       "      <td>Not-in-family</td>\n",
       "      <td>White</td>\n",
       "      <td>Male</td>\n",
       "      <td>United-States</td>\n",
       "      <td>&lt;=50K</td>\n",
       "    </tr>\n",
       "    <tr>\n",
       "      <th>1</th>\n",
       "      <td>Self-emp-not-inc</td>\n",
       "      <td>Bachelors</td>\n",
       "      <td>Married-civ-spouse</td>\n",
       "      <td>Exec-managerial</td>\n",
       "      <td>Husband</td>\n",
       "      <td>White</td>\n",
       "      <td>Male</td>\n",
       "      <td>United-States</td>\n",
       "      <td>&lt;=50K</td>\n",
       "    </tr>\n",
       "    <tr>\n",
       "      <th>2</th>\n",
       "      <td>Private</td>\n",
       "      <td>HS-grad</td>\n",
       "      <td>Divorced</td>\n",
       "      <td>Handlers-cleaners</td>\n",
       "      <td>Not-in-family</td>\n",
       "      <td>White</td>\n",
       "      <td>Male</td>\n",
       "      <td>United-States</td>\n",
       "      <td>&lt;=50K</td>\n",
       "    </tr>\n",
       "    <tr>\n",
       "      <th>3</th>\n",
       "      <td>Private</td>\n",
       "      <td>11th</td>\n",
       "      <td>Married-civ-spouse</td>\n",
       "      <td>Handlers-cleaners</td>\n",
       "      <td>Husband</td>\n",
       "      <td>Black</td>\n",
       "      <td>Male</td>\n",
       "      <td>United-States</td>\n",
       "      <td>&lt;=50K</td>\n",
       "    </tr>\n",
       "    <tr>\n",
       "      <th>4</th>\n",
       "      <td>Private</td>\n",
       "      <td>Bachelors</td>\n",
       "      <td>Married-civ-spouse</td>\n",
       "      <td>Prof-specialty</td>\n",
       "      <td>Wife</td>\n",
       "      <td>Black</td>\n",
       "      <td>Female</td>\n",
       "      <td>Cuba</td>\n",
       "      <td>&lt;=50K</td>\n",
       "    </tr>\n",
       "  </tbody>\n",
       "</table>\n",
       "</div>"
      ],
      "text/plain": [
       "           workclass   education       marital-status          occupation  \\\n",
       "0          State-gov   Bachelors        Never-married        Adm-clerical   \n",
       "1   Self-emp-not-inc   Bachelors   Married-civ-spouse     Exec-managerial   \n",
       "2            Private     HS-grad             Divorced   Handlers-cleaners   \n",
       "3            Private        11th   Married-civ-spouse   Handlers-cleaners   \n",
       "4            Private   Bachelors   Married-civ-spouse      Prof-specialty   \n",
       "\n",
       "     relationship    race      sex  native-country  Salary  \n",
       "0   Not-in-family   White     Male   United-States   <=50K  \n",
       "1         Husband   White     Male   United-States   <=50K  \n",
       "2   Not-in-family   White     Male   United-States   <=50K  \n",
       "3         Husband   Black     Male   United-States   <=50K  \n",
       "4            Wife   Black   Female            Cuba   <=50K  "
      ]
     },
     "execution_count": 34,
     "metadata": {},
     "output_type": "execute_result"
    }
   ],
   "source": [
    "cat_adult_data.head()"
   ]
  },
  {
   "cell_type": "code",
   "execution_count": 35,
   "metadata": {},
   "outputs": [
    {
     "data": {
      "text/plain": [
       "array([' United-States', ' Cuba', ' Jamaica', ' India', ' ?', ' Mexico',\n",
       "       ' South', ' Puerto-Rico', ' Honduras', ' England', ' Canada',\n",
       "       ' Germany', ' Iran', ' Philippines', ' Italy', ' Poland',\n",
       "       ' Columbia', ' Cambodia', ' Thailand', ' Ecuador', ' Laos',\n",
       "       ' Taiwan', ' Haiti', ' Portugal', ' Dominican-Republic',\n",
       "       ' El-Salvador', ' France', ' Guatemala', ' China', ' Japan',\n",
       "       ' Yugoslavia', ' Peru', ' Outlying-US(Guam-USVI-etc)', ' Scotland',\n",
       "       ' Trinadad&Tobago', ' Greece', ' Nicaragua', ' Vietnam', ' Hong',\n",
       "       ' Ireland', ' Hungary', ' Holand-Netherlands'], dtype=object)"
      ]
     },
     "execution_count": 35,
     "metadata": {},
     "output_type": "execute_result"
    }
   ],
   "source": [
    "cat_adult_data['native-country'].unique()"
   ]
  },
  {
   "cell_type": "code",
   "execution_count": 36,
   "metadata": {},
   "outputs": [
    {
     "data": {
      "text/plain": [
       " United-States                 29170\n",
       " Mexico                          643\n",
       " ?                               583\n",
       " Philippines                     198\n",
       " Germany                         137\n",
       " Canada                          121\n",
       " Puerto-Rico                     114\n",
       " El-Salvador                     106\n",
       " India                           100\n",
       " Cuba                             95\n",
       " England                          90\n",
       " Jamaica                          81\n",
       " South                            80\n",
       " China                            75\n",
       " Italy                            73\n",
       " Dominican-Republic               70\n",
       " Vietnam                          67\n",
       " Guatemala                        64\n",
       " Japan                            62\n",
       " Poland                           60\n",
       " Columbia                         59\n",
       " Taiwan                           51\n",
       " Haiti                            44\n",
       " Iran                             43\n",
       " Portugal                         37\n",
       " Nicaragua                        34\n",
       " Peru                             31\n",
       " Greece                           29\n",
       " France                           29\n",
       " Ecuador                          28\n",
       " Ireland                          24\n",
       " Hong                             20\n",
       " Cambodia                         19\n",
       " Trinadad&Tobago                  19\n",
       " Laos                             18\n",
       " Thailand                         18\n",
       " Yugoslavia                       16\n",
       " Outlying-US(Guam-USVI-etc)       14\n",
       " Honduras                         13\n",
       " Hungary                          13\n",
       " Scotland                         12\n",
       " Holand-Netherlands                1\n",
       "Name: native-country, dtype: int64"
      ]
     },
     "execution_count": 36,
     "metadata": {},
     "output_type": "execute_result"
    }
   ],
   "source": [
    "cat_adult_data['native-country'].value_counts()"
   ]
  },
  {
   "cell_type": "markdown",
   "metadata": {},
   "source": [
    "* Remove white spaces before & after the country"
   ]
  },
  {
   "cell_type": "code",
   "execution_count": 39,
   "metadata": {},
   "outputs": [
    {
     "name": "stderr",
     "output_type": "stream",
     "text": [
      "/home/awantik/anaconda3/lib/python3.7/site-packages/ipykernel_launcher.py:1: SettingWithCopyWarning: \n",
      "A value is trying to be set on a copy of a slice from a DataFrame.\n",
      "Try using .loc[row_indexer,col_indexer] = value instead\n",
      "\n",
      "See the caveats in the documentation: http://pandas.pydata.org/pandas-docs/stable/user_guide/indexing.html#returning-a-view-versus-a-copy\n",
      "  \"\"\"Entry point for launching an IPython kernel.\n"
     ]
    }
   ],
   "source": [
    "cat_adult_data['native-country'] = cat_adult_data['native-country'].str.strip()"
   ]
  },
  {
   "cell_type": "code",
   "execution_count": 40,
   "metadata": {},
   "outputs": [
    {
     "data": {
      "text/plain": [
       "array(['United-States', 'Cuba', 'Jamaica', 'India', '?', 'Mexico',\n",
       "       'South', 'Puerto-Rico', 'Honduras', 'England', 'Canada', 'Germany',\n",
       "       'Iran', 'Philippines', 'Italy', 'Poland', 'Columbia', 'Cambodia',\n",
       "       'Thailand', 'Ecuador', 'Laos', 'Taiwan', 'Haiti', 'Portugal',\n",
       "       'Dominican-Republic', 'El-Salvador', 'France', 'Guatemala',\n",
       "       'China', 'Japan', 'Yugoslavia', 'Peru',\n",
       "       'Outlying-US(Guam-USVI-etc)', 'Scotland', 'Trinadad&Tobago',\n",
       "       'Greece', 'Nicaragua', 'Vietnam', 'Hong', 'Ireland', 'Hungary',\n",
       "       'Holand-Netherlands'], dtype=object)"
      ]
     },
     "execution_count": 40,
     "metadata": {},
     "output_type": "execute_result"
    }
   ],
   "source": [
    "cat_adult_data['native-country'].unique()"
   ]
  },
  {
   "cell_type": "code",
   "execution_count": 41,
   "metadata": {},
   "outputs": [],
   "source": [
    "cat_adult_data.fillna({'?':'NA'}, inplace=True)"
   ]
  },
  {
   "cell_type": "code",
   "execution_count": 42,
   "metadata": {},
   "outputs": [
    {
     "data": {
      "text/plain": [
       "array([' State-gov', ' Self-emp-not-inc', ' Private', ' Federal-gov',\n",
       "       ' Local-gov', ' ?', ' Self-emp-inc', ' Without-pay',\n",
       "       ' Never-worked'], dtype=object)"
      ]
     },
     "execution_count": 42,
     "metadata": {},
     "output_type": "execute_result"
    }
   ],
   "source": [
    "cat_adult_data.workclass.unique()"
   ]
  },
  {
   "cell_type": "code",
   "execution_count": 43,
   "metadata": {},
   "outputs": [
    {
     "data": {
      "text/plain": [
       "array([' Bachelors', ' HS-grad', ' 11th', ' Masters', ' 9th',\n",
       "       ' Some-college', ' Assoc-acdm', ' Assoc-voc', ' 7th-8th',\n",
       "       ' Doctorate', ' Prof-school', ' 5th-6th', ' 10th', ' 1st-4th',\n",
       "       ' Preschool', ' 12th'], dtype=object)"
      ]
     },
     "execution_count": 43,
     "metadata": {},
     "output_type": "execute_result"
    }
   ],
   "source": [
    "cat_adult_data.education.unique()"
   ]
  },
  {
   "cell_type": "code",
   "execution_count": 45,
   "metadata": {},
   "outputs": [
    {
     "name": "stderr",
     "output_type": "stream",
     "text": [
      "/home/awantik/anaconda3/lib/python3.7/site-packages/ipykernel_launcher.py:2: SettingWithCopyWarning: \n",
      "A value is trying to be set on a copy of a slice from a DataFrame.\n",
      "Try using .loc[row_indexer,col_indexer] = value instead\n",
      "\n",
      "See the caveats in the documentation: http://pandas.pydata.org/pandas-docs/stable/user_guide/indexing.html#returning-a-view-versus-a-copy\n",
      "  \n"
     ]
    }
   ],
   "source": [
    "for col in cat_adult_data.columns:\n",
    "    cat_adult_data[col] = cat_adult_data[col].str.strip()"
   ]
  },
  {
   "cell_type": "code",
   "execution_count": 46,
   "metadata": {},
   "outputs": [],
   "source": [
    "num_adult_data = adult_data.select_dtypes(exclude=['object'])"
   ]
  },
  {
   "cell_type": "code",
   "execution_count": 47,
   "metadata": {},
   "outputs": [
    {
     "data": {
      "text/html": [
       "<div>\n",
       "<style scoped>\n",
       "    .dataframe tbody tr th:only-of-type {\n",
       "        vertical-align: middle;\n",
       "    }\n",
       "\n",
       "    .dataframe tbody tr th {\n",
       "        vertical-align: top;\n",
       "    }\n",
       "\n",
       "    .dataframe thead th {\n",
       "        text-align: right;\n",
       "    }\n",
       "</style>\n",
       "<table border=\"1\" class=\"dataframe\">\n",
       "  <thead>\n",
       "    <tr style=\"text-align: right;\">\n",
       "      <th></th>\n",
       "      <th>age</th>\n",
       "      <th>fnlwgt</th>\n",
       "      <th>education-num</th>\n",
       "      <th>capital-gain</th>\n",
       "      <th>capital-loss</th>\n",
       "      <th>hours-per-week</th>\n",
       "    </tr>\n",
       "  </thead>\n",
       "  <tbody>\n",
       "    <tr>\n",
       "      <th>0</th>\n",
       "      <td>39</td>\n",
       "      <td>77516</td>\n",
       "      <td>13</td>\n",
       "      <td>2174</td>\n",
       "      <td>0</td>\n",
       "      <td>40</td>\n",
       "    </tr>\n",
       "    <tr>\n",
       "      <th>1</th>\n",
       "      <td>50</td>\n",
       "      <td>83311</td>\n",
       "      <td>13</td>\n",
       "      <td>0</td>\n",
       "      <td>0</td>\n",
       "      <td>13</td>\n",
       "    </tr>\n",
       "    <tr>\n",
       "      <th>2</th>\n",
       "      <td>38</td>\n",
       "      <td>215646</td>\n",
       "      <td>9</td>\n",
       "      <td>0</td>\n",
       "      <td>0</td>\n",
       "      <td>40</td>\n",
       "    </tr>\n",
       "    <tr>\n",
       "      <th>3</th>\n",
       "      <td>53</td>\n",
       "      <td>234721</td>\n",
       "      <td>7</td>\n",
       "      <td>0</td>\n",
       "      <td>0</td>\n",
       "      <td>40</td>\n",
       "    </tr>\n",
       "    <tr>\n",
       "      <th>4</th>\n",
       "      <td>28</td>\n",
       "      <td>338409</td>\n",
       "      <td>13</td>\n",
       "      <td>0</td>\n",
       "      <td>0</td>\n",
       "      <td>40</td>\n",
       "    </tr>\n",
       "  </tbody>\n",
       "</table>\n",
       "</div>"
      ],
      "text/plain": [
       "   age  fnlwgt  education-num  capital-gain  capital-loss  hours-per-week\n",
       "0   39   77516             13          2174             0              40\n",
       "1   50   83311             13             0             0              13\n",
       "2   38  215646              9             0             0              40\n",
       "3   53  234721              7             0             0              40\n",
       "4   28  338409             13             0             0              40"
      ]
     },
     "execution_count": 47,
     "metadata": {},
     "output_type": "execute_result"
    }
   ],
   "source": [
    "num_adult_data.head()"
   ]
  },
  {
   "cell_type": "code",
   "execution_count": 48,
   "metadata": {},
   "outputs": [
    {
     "data": {
      "text/html": [
       "<div>\n",
       "<style scoped>\n",
       "    .dataframe tbody tr th:only-of-type {\n",
       "        vertical-align: middle;\n",
       "    }\n",
       "\n",
       "    .dataframe tbody tr th {\n",
       "        vertical-align: top;\n",
       "    }\n",
       "\n",
       "    .dataframe thead th {\n",
       "        text-align: right;\n",
       "    }\n",
       "</style>\n",
       "<table border=\"1\" class=\"dataframe\">\n",
       "  <thead>\n",
       "    <tr style=\"text-align: right;\">\n",
       "      <th></th>\n",
       "      <th>age</th>\n",
       "      <th>fnlwgt</th>\n",
       "      <th>education-num</th>\n",
       "      <th>capital-gain</th>\n",
       "      <th>capital-loss</th>\n",
       "      <th>hours-per-week</th>\n",
       "    </tr>\n",
       "  </thead>\n",
       "  <tbody>\n",
       "    <tr>\n",
       "      <th>count</th>\n",
       "      <td>32561.000000</td>\n",
       "      <td>3.256100e+04</td>\n",
       "      <td>32561.000000</td>\n",
       "      <td>32561.000000</td>\n",
       "      <td>32561.000000</td>\n",
       "      <td>32561.000000</td>\n",
       "    </tr>\n",
       "    <tr>\n",
       "      <th>mean</th>\n",
       "      <td>38.581647</td>\n",
       "      <td>1.897784e+05</td>\n",
       "      <td>10.080679</td>\n",
       "      <td>1077.648844</td>\n",
       "      <td>87.303830</td>\n",
       "      <td>40.437456</td>\n",
       "    </tr>\n",
       "    <tr>\n",
       "      <th>std</th>\n",
       "      <td>13.640433</td>\n",
       "      <td>1.055500e+05</td>\n",
       "      <td>2.572720</td>\n",
       "      <td>7385.292085</td>\n",
       "      <td>402.960219</td>\n",
       "      <td>12.347429</td>\n",
       "    </tr>\n",
       "    <tr>\n",
       "      <th>min</th>\n",
       "      <td>17.000000</td>\n",
       "      <td>1.228500e+04</td>\n",
       "      <td>1.000000</td>\n",
       "      <td>0.000000</td>\n",
       "      <td>0.000000</td>\n",
       "      <td>1.000000</td>\n",
       "    </tr>\n",
       "    <tr>\n",
       "      <th>25%</th>\n",
       "      <td>28.000000</td>\n",
       "      <td>1.178270e+05</td>\n",
       "      <td>9.000000</td>\n",
       "      <td>0.000000</td>\n",
       "      <td>0.000000</td>\n",
       "      <td>40.000000</td>\n",
       "    </tr>\n",
       "    <tr>\n",
       "      <th>50%</th>\n",
       "      <td>37.000000</td>\n",
       "      <td>1.783560e+05</td>\n",
       "      <td>10.000000</td>\n",
       "      <td>0.000000</td>\n",
       "      <td>0.000000</td>\n",
       "      <td>40.000000</td>\n",
       "    </tr>\n",
       "    <tr>\n",
       "      <th>75%</th>\n",
       "      <td>48.000000</td>\n",
       "      <td>2.370510e+05</td>\n",
       "      <td>12.000000</td>\n",
       "      <td>0.000000</td>\n",
       "      <td>0.000000</td>\n",
       "      <td>45.000000</td>\n",
       "    </tr>\n",
       "    <tr>\n",
       "      <th>max</th>\n",
       "      <td>90.000000</td>\n",
       "      <td>1.484705e+06</td>\n",
       "      <td>16.000000</td>\n",
       "      <td>99999.000000</td>\n",
       "      <td>4356.000000</td>\n",
       "      <td>99.000000</td>\n",
       "    </tr>\n",
       "  </tbody>\n",
       "</table>\n",
       "</div>"
      ],
      "text/plain": [
       "                age        fnlwgt  education-num  capital-gain  capital-loss  \\\n",
       "count  32561.000000  3.256100e+04   32561.000000  32561.000000  32561.000000   \n",
       "mean      38.581647  1.897784e+05      10.080679   1077.648844     87.303830   \n",
       "std       13.640433  1.055500e+05       2.572720   7385.292085    402.960219   \n",
       "min       17.000000  1.228500e+04       1.000000      0.000000      0.000000   \n",
       "25%       28.000000  1.178270e+05       9.000000      0.000000      0.000000   \n",
       "50%       37.000000  1.783560e+05      10.000000      0.000000      0.000000   \n",
       "75%       48.000000  2.370510e+05      12.000000      0.000000      0.000000   \n",
       "max       90.000000  1.484705e+06      16.000000  99999.000000   4356.000000   \n",
       "\n",
       "       hours-per-week  \n",
       "count    32561.000000  \n",
       "mean        40.437456  \n",
       "std         12.347429  \n",
       "min          1.000000  \n",
       "25%         40.000000  \n",
       "50%         40.000000  \n",
       "75%         45.000000  \n",
       "max         99.000000  "
      ]
     },
     "execution_count": 48,
     "metadata": {},
     "output_type": "execute_result"
    }
   ],
   "source": [
    "num_adult_data.describe()"
   ]
  },
  {
   "cell_type": "markdown",
   "metadata": {},
   "source": [
    "* Combining two same sized dataframe horizontally"
   ]
  },
  {
   "cell_type": "code",
   "execution_count": 52,
   "metadata": {},
   "outputs": [],
   "source": [
    "transformed_df = pd.concat([num_adult_data,cat_adult_data],axis=1)"
   ]
  },
  {
   "cell_type": "code",
   "execution_count": 53,
   "metadata": {},
   "outputs": [
    {
     "data": {
      "text/plain": [
       "<=50K    24720\n",
       ">50K      7841\n",
       "Name: Salary, dtype: int64"
      ]
     },
     "execution_count": 53,
     "metadata": {},
     "output_type": "execute_result"
    }
   ],
   "source": [
    "transformed_df.Salary.value_counts()"
   ]
  },
  {
   "cell_type": "markdown",
   "metadata": {},
   "source": [
    "### Find average working hours for differnt salary bracket people"
   ]
  },
  {
   "cell_type": "code",
   "execution_count": 55,
   "metadata": {},
   "outputs": [
    {
     "data": {
      "text/plain": [
       "Salary\n",
       "<=50K    38.840210\n",
       ">50K     45.473026\n",
       "Name: hours-per-week, dtype: float64"
      ]
     },
     "execution_count": 55,
     "metadata": {},
     "output_type": "execute_result"
    }
   ],
   "source": [
    "transformed_df.groupby('Salary')['hours-per-week'].mean()"
   ]
  },
  {
   "cell_type": "markdown",
   "metadata": {},
   "source": [
    "### Is there any work-domain specific relation with maritial-status about hours spent in a week"
   ]
  },
  {
   "cell_type": "code",
   "execution_count": 57,
   "metadata": {},
   "outputs": [
    {
     "data": {
      "text/html": [
       "<div>\n",
       "<style scoped>\n",
       "    .dataframe tbody tr th:only-of-type {\n",
       "        vertical-align: middle;\n",
       "    }\n",
       "\n",
       "    .dataframe tbody tr th {\n",
       "        vertical-align: top;\n",
       "    }\n",
       "\n",
       "    .dataframe thead th {\n",
       "        text-align: right;\n",
       "    }\n",
       "</style>\n",
       "<table border=\"1\" class=\"dataframe\">\n",
       "  <thead>\n",
       "    <tr style=\"text-align: right;\">\n",
       "      <th></th>\n",
       "      <th>age</th>\n",
       "      <th>fnlwgt</th>\n",
       "      <th>education-num</th>\n",
       "      <th>capital-gain</th>\n",
       "      <th>capital-loss</th>\n",
       "      <th>hours-per-week</th>\n",
       "      <th>workclass</th>\n",
       "      <th>education</th>\n",
       "      <th>marital-status</th>\n",
       "      <th>occupation</th>\n",
       "      <th>relationship</th>\n",
       "      <th>race</th>\n",
       "      <th>sex</th>\n",
       "      <th>native-country</th>\n",
       "      <th>Salary</th>\n",
       "    </tr>\n",
       "  </thead>\n",
       "  <tbody>\n",
       "    <tr>\n",
       "      <th>0</th>\n",
       "      <td>39</td>\n",
       "      <td>77516</td>\n",
       "      <td>13</td>\n",
       "      <td>2174</td>\n",
       "      <td>0</td>\n",
       "      <td>40</td>\n",
       "      <td>State-gov</td>\n",
       "      <td>Bachelors</td>\n",
       "      <td>Never-married</td>\n",
       "      <td>Adm-clerical</td>\n",
       "      <td>Not-in-family</td>\n",
       "      <td>White</td>\n",
       "      <td>Male</td>\n",
       "      <td>United-States</td>\n",
       "      <td>&lt;=50K</td>\n",
       "    </tr>\n",
       "    <tr>\n",
       "      <th>1</th>\n",
       "      <td>50</td>\n",
       "      <td>83311</td>\n",
       "      <td>13</td>\n",
       "      <td>0</td>\n",
       "      <td>0</td>\n",
       "      <td>13</td>\n",
       "      <td>Self-emp-not-inc</td>\n",
       "      <td>Bachelors</td>\n",
       "      <td>Married-civ-spouse</td>\n",
       "      <td>Exec-managerial</td>\n",
       "      <td>Husband</td>\n",
       "      <td>White</td>\n",
       "      <td>Male</td>\n",
       "      <td>United-States</td>\n",
       "      <td>&lt;=50K</td>\n",
       "    </tr>\n",
       "    <tr>\n",
       "      <th>2</th>\n",
       "      <td>38</td>\n",
       "      <td>215646</td>\n",
       "      <td>9</td>\n",
       "      <td>0</td>\n",
       "      <td>0</td>\n",
       "      <td>40</td>\n",
       "      <td>Private</td>\n",
       "      <td>HS-grad</td>\n",
       "      <td>Divorced</td>\n",
       "      <td>Handlers-cleaners</td>\n",
       "      <td>Not-in-family</td>\n",
       "      <td>White</td>\n",
       "      <td>Male</td>\n",
       "      <td>United-States</td>\n",
       "      <td>&lt;=50K</td>\n",
       "    </tr>\n",
       "    <tr>\n",
       "      <th>3</th>\n",
       "      <td>53</td>\n",
       "      <td>234721</td>\n",
       "      <td>7</td>\n",
       "      <td>0</td>\n",
       "      <td>0</td>\n",
       "      <td>40</td>\n",
       "      <td>Private</td>\n",
       "      <td>11th</td>\n",
       "      <td>Married-civ-spouse</td>\n",
       "      <td>Handlers-cleaners</td>\n",
       "      <td>Husband</td>\n",
       "      <td>Black</td>\n",
       "      <td>Male</td>\n",
       "      <td>United-States</td>\n",
       "      <td>&lt;=50K</td>\n",
       "    </tr>\n",
       "    <tr>\n",
       "      <th>4</th>\n",
       "      <td>28</td>\n",
       "      <td>338409</td>\n",
       "      <td>13</td>\n",
       "      <td>0</td>\n",
       "      <td>0</td>\n",
       "      <td>40</td>\n",
       "      <td>Private</td>\n",
       "      <td>Bachelors</td>\n",
       "      <td>Married-civ-spouse</td>\n",
       "      <td>Prof-specialty</td>\n",
       "      <td>Wife</td>\n",
       "      <td>Black</td>\n",
       "      <td>Female</td>\n",
       "      <td>Cuba</td>\n",
       "      <td>&lt;=50K</td>\n",
       "    </tr>\n",
       "  </tbody>\n",
       "</table>\n",
       "</div>"
      ],
      "text/plain": [
       "   age  fnlwgt  education-num  capital-gain  capital-loss  hours-per-week  \\\n",
       "0   39   77516             13          2174             0              40   \n",
       "1   50   83311             13             0             0              13   \n",
       "2   38  215646              9             0             0              40   \n",
       "3   53  234721              7             0             0              40   \n",
       "4   28  338409             13             0             0              40   \n",
       "\n",
       "          workclass  education      marital-status         occupation  \\\n",
       "0         State-gov  Bachelors       Never-married       Adm-clerical   \n",
       "1  Self-emp-not-inc  Bachelors  Married-civ-spouse    Exec-managerial   \n",
       "2           Private    HS-grad            Divorced  Handlers-cleaners   \n",
       "3           Private       11th  Married-civ-spouse  Handlers-cleaners   \n",
       "4           Private  Bachelors  Married-civ-spouse     Prof-specialty   \n",
       "\n",
       "    relationship   race     sex native-country Salary  \n",
       "0  Not-in-family  White    Male  United-States  <=50K  \n",
       "1        Husband  White    Male  United-States  <=50K  \n",
       "2  Not-in-family  White    Male  United-States  <=50K  \n",
       "3        Husband  Black    Male  United-States  <=50K  \n",
       "4           Wife  Black  Female           Cuba  <=50K  "
      ]
     },
     "execution_count": 57,
     "metadata": {},
     "output_type": "execute_result"
    }
   ],
   "source": [
    "transformed_df.head()"
   ]
  },
  {
   "cell_type": "code",
   "execution_count": 58,
   "metadata": {},
   "outputs": [],
   "source": [
    "import numpy as np"
   ]
  },
  {
   "cell_type": "code",
   "execution_count": 59,
   "metadata": {},
   "outputs": [
    {
     "data": {
      "text/html": [
       "<div>\n",
       "<style scoped>\n",
       "    .dataframe tbody tr th:only-of-type {\n",
       "        vertical-align: middle;\n",
       "    }\n",
       "\n",
       "    .dataframe tbody tr th {\n",
       "        vertical-align: top;\n",
       "    }\n",
       "\n",
       "    .dataframe thead th {\n",
       "        text-align: right;\n",
       "    }\n",
       "</style>\n",
       "<table border=\"1\" class=\"dataframe\">\n",
       "  <thead>\n",
       "    <tr style=\"text-align: right;\">\n",
       "      <th>occupation</th>\n",
       "      <th>?</th>\n",
       "      <th>Adm-clerical</th>\n",
       "      <th>Armed-Forces</th>\n",
       "      <th>Craft-repair</th>\n",
       "      <th>Exec-managerial</th>\n",
       "      <th>Farming-fishing</th>\n",
       "      <th>Handlers-cleaners</th>\n",
       "      <th>Machine-op-inspct</th>\n",
       "      <th>Other-service</th>\n",
       "      <th>Priv-house-serv</th>\n",
       "      <th>Prof-specialty</th>\n",
       "      <th>Protective-serv</th>\n",
       "      <th>Sales</th>\n",
       "      <th>Tech-support</th>\n",
       "      <th>Transport-moving</th>\n",
       "    </tr>\n",
       "    <tr>\n",
       "      <th>marital-status</th>\n",
       "      <th></th>\n",
       "      <th></th>\n",
       "      <th></th>\n",
       "      <th></th>\n",
       "      <th></th>\n",
       "      <th></th>\n",
       "      <th></th>\n",
       "      <th></th>\n",
       "      <th></th>\n",
       "      <th></th>\n",
       "      <th></th>\n",
       "      <th></th>\n",
       "      <th></th>\n",
       "      <th></th>\n",
       "      <th></th>\n",
       "    </tr>\n",
       "  </thead>\n",
       "  <tbody>\n",
       "    <tr>\n",
       "      <th>Divorced</th>\n",
       "      <td>35.345946</td>\n",
       "      <td>39.310134</td>\n",
       "      <td>NaN</td>\n",
       "      <td>42.622845</td>\n",
       "      <td>44.991722</td>\n",
       "      <td>44.062500</td>\n",
       "      <td>40.398438</td>\n",
       "      <td>40.895307</td>\n",
       "      <td>37.560878</td>\n",
       "      <td>29.392857</td>\n",
       "      <td>42.302412</td>\n",
       "      <td>44.329114</td>\n",
       "      <td>42.048387</td>\n",
       "      <td>40.492857</td>\n",
       "      <td>46.364641</td>\n",
       "    </tr>\n",
       "    <tr>\n",
       "      <th>Married-AF-spouse</th>\n",
       "      <td>8.500000</td>\n",
       "      <td>40.600000</td>\n",
       "      <td>NaN</td>\n",
       "      <td>57.333333</td>\n",
       "      <td>40.000000</td>\n",
       "      <td>44.000000</td>\n",
       "      <td>NaN</td>\n",
       "      <td>NaN</td>\n",
       "      <td>28.750000</td>\n",
       "      <td>NaN</td>\n",
       "      <td>46.666667</td>\n",
       "      <td>40.000000</td>\n",
       "      <td>47.500000</td>\n",
       "      <td>NaN</td>\n",
       "      <td>80.000000</td>\n",
       "    </tr>\n",
       "    <tr>\n",
       "      <th>Married-civ-spouse</th>\n",
       "      <td>31.786499</td>\n",
       "      <td>39.322515</td>\n",
       "      <td>42.666667</td>\n",
       "      <td>42.997660</td>\n",
       "      <td>46.134615</td>\n",
       "      <td>50.106087</td>\n",
       "      <td>40.766595</td>\n",
       "      <td>41.973764</td>\n",
       "      <td>38.775934</td>\n",
       "      <td>38.062500</td>\n",
       "      <td>44.203198</td>\n",
       "      <td>43.926893</td>\n",
       "      <td>45.392664</td>\n",
       "      <td>41.019802</td>\n",
       "      <td>45.410463</td>\n",
       "    </tr>\n",
       "    <tr>\n",
       "      <th>Married-spouse-absent</th>\n",
       "      <td>34.620690</td>\n",
       "      <td>36.457627</td>\n",
       "      <td>NaN</td>\n",
       "      <td>41.807692</td>\n",
       "      <td>47.096774</td>\n",
       "      <td>40.166667</td>\n",
       "      <td>41.434783</td>\n",
       "      <td>41.269231</td>\n",
       "      <td>36.677966</td>\n",
       "      <td>39.000000</td>\n",
       "      <td>39.574468</td>\n",
       "      <td>40.000000</td>\n",
       "      <td>38.911765</td>\n",
       "      <td>36.166667</td>\n",
       "      <td>46.473684</td>\n",
       "    </tr>\n",
       "    <tr>\n",
       "      <th>Never-married</th>\n",
       "      <td>32.517510</td>\n",
       "      <td>35.869893</td>\n",
       "      <td>39.666667</td>\n",
       "      <td>40.427752</td>\n",
       "      <td>42.434293</td>\n",
       "      <td>42.806228</td>\n",
       "      <td>35.399425</td>\n",
       "      <td>39.092820</td>\n",
       "      <td>32.106642</td>\n",
       "      <td>34.283582</td>\n",
       "      <td>39.996759</td>\n",
       "      <td>40.044872</td>\n",
       "      <td>35.178923</td>\n",
       "      <td>37.646526</td>\n",
       "      <td>42.100000</td>\n",
       "    </tr>\n",
       "    <tr>\n",
       "      <th>Separated</th>\n",
       "      <td>33.378788</td>\n",
       "      <td>39.346939</td>\n",
       "      <td>NaN</td>\n",
       "      <td>41.970874</td>\n",
       "      <td>42.787234</td>\n",
       "      <td>43.944444</td>\n",
       "      <td>40.526316</td>\n",
       "      <td>39.011905</td>\n",
       "      <td>37.347368</td>\n",
       "      <td>28.666667</td>\n",
       "      <td>40.626263</td>\n",
       "      <td>43.312500</td>\n",
       "      <td>38.419355</td>\n",
       "      <td>37.821429</td>\n",
       "      <td>42.081081</td>\n",
       "    </tr>\n",
       "    <tr>\n",
       "      <th>Widowed</th>\n",
       "      <td>24.320261</td>\n",
       "      <td>33.257669</td>\n",
       "      <td>NaN</td>\n",
       "      <td>35.609756</td>\n",
       "      <td>38.333333</td>\n",
       "      <td>39.434783</td>\n",
       "      <td>36.000000</td>\n",
       "      <td>37.679245</td>\n",
       "      <td>30.661017</td>\n",
       "      <td>30.500000</td>\n",
       "      <td>36.152174</td>\n",
       "      <td>35.222222</td>\n",
       "      <td>35.447619</td>\n",
       "      <td>32.368421</td>\n",
       "      <td>38.080000</td>\n",
       "    </tr>\n",
       "  </tbody>\n",
       "</table>\n",
       "</div>"
      ],
      "text/plain": [
       "occupation                     ?  Adm-clerical  Armed-Forces  Craft-repair  \\\n",
       "marital-status                                                               \n",
       "Divorced               35.345946     39.310134           NaN     42.622845   \n",
       "Married-AF-spouse       8.500000     40.600000           NaN     57.333333   \n",
       "Married-civ-spouse     31.786499     39.322515     42.666667     42.997660   \n",
       "Married-spouse-absent  34.620690     36.457627           NaN     41.807692   \n",
       "Never-married          32.517510     35.869893     39.666667     40.427752   \n",
       "Separated              33.378788     39.346939           NaN     41.970874   \n",
       "Widowed                24.320261     33.257669           NaN     35.609756   \n",
       "\n",
       "occupation             Exec-managerial  Farming-fishing  Handlers-cleaners  \\\n",
       "marital-status                                                               \n",
       "Divorced                     44.991722        44.062500          40.398438   \n",
       "Married-AF-spouse            40.000000        44.000000                NaN   \n",
       "Married-civ-spouse           46.134615        50.106087          40.766595   \n",
       "Married-spouse-absent        47.096774        40.166667          41.434783   \n",
       "Never-married                42.434293        42.806228          35.399425   \n",
       "Separated                    42.787234        43.944444          40.526316   \n",
       "Widowed                      38.333333        39.434783          36.000000   \n",
       "\n",
       "occupation             Machine-op-inspct  Other-service  Priv-house-serv  \\\n",
       "marital-status                                                             \n",
       "Divorced                       40.895307      37.560878        29.392857   \n",
       "Married-AF-spouse                    NaN      28.750000              NaN   \n",
       "Married-civ-spouse             41.973764      38.775934        38.062500   \n",
       "Married-spouse-absent          41.269231      36.677966        39.000000   \n",
       "Never-married                  39.092820      32.106642        34.283582   \n",
       "Separated                      39.011905      37.347368        28.666667   \n",
       "Widowed                        37.679245      30.661017        30.500000   \n",
       "\n",
       "occupation             Prof-specialty  Protective-serv      Sales  \\\n",
       "marital-status                                                      \n",
       "Divorced                    42.302412        44.329114  42.048387   \n",
       "Married-AF-spouse           46.666667        40.000000  47.500000   \n",
       "Married-civ-spouse          44.203198        43.926893  45.392664   \n",
       "Married-spouse-absent       39.574468        40.000000  38.911765   \n",
       "Never-married               39.996759        40.044872  35.178923   \n",
       "Separated                   40.626263        43.312500  38.419355   \n",
       "Widowed                     36.152174        35.222222  35.447619   \n",
       "\n",
       "occupation             Tech-support  Transport-moving  \n",
       "marital-status                                         \n",
       "Divorced                  40.492857         46.364641  \n",
       "Married-AF-spouse               NaN         80.000000  \n",
       "Married-civ-spouse        41.019802         45.410463  \n",
       "Married-spouse-absent     36.166667         46.473684  \n",
       "Never-married             37.646526         42.100000  \n",
       "Separated                 37.821429         42.081081  \n",
       "Widowed                   32.368421         38.080000  "
      ]
     },
     "execution_count": 59,
     "metadata": {},
     "output_type": "execute_result"
    }
   ],
   "source": [
    "transformed_df.pivot_table(index='marital-status',columns=['occupation'],values='hours-per-week', aggfunc=np.mean)"
   ]
  },
  {
   "cell_type": "code",
   "execution_count": 62,
   "metadata": {},
   "outputs": [
    {
     "data": {
      "text/html": [
       "<div>\n",
       "<style scoped>\n",
       "    .dataframe tbody tr th:only-of-type {\n",
       "        vertical-align: middle;\n",
       "    }\n",
       "\n",
       "    .dataframe tbody tr th {\n",
       "        vertical-align: top;\n",
       "    }\n",
       "\n",
       "    .dataframe thead th {\n",
       "        text-align: right;\n",
       "    }\n",
       "</style>\n",
       "<table border=\"1\" class=\"dataframe\">\n",
       "  <thead>\n",
       "    <tr style=\"text-align: right;\">\n",
       "      <th></th>\n",
       "      <th>age</th>\n",
       "      <th>fnlwgt</th>\n",
       "      <th>education-num</th>\n",
       "      <th>capital-gain</th>\n",
       "      <th>capital-loss</th>\n",
       "      <th>hours-per-week</th>\n",
       "      <th>workclass</th>\n",
       "      <th>education</th>\n",
       "      <th>marital-status</th>\n",
       "      <th>occupation</th>\n",
       "      <th>relationship</th>\n",
       "      <th>race</th>\n",
       "      <th>sex</th>\n",
       "      <th>native-country</th>\n",
       "      <th>Salary</th>\n",
       "    </tr>\n",
       "  </thead>\n",
       "  <tbody>\n",
       "  </tbody>\n",
       "</table>\n",
       "</div>"
      ],
      "text/plain": [
       "Empty DataFrame\n",
       "Columns: [age, fnlwgt, education-num, capital-gain, capital-loss, hours-per-week, workclass, education, marital-status, occupation, relationship, race, sex, native-country, Salary]\n",
       "Index: []"
      ]
     },
     "execution_count": 62,
     "metadata": {},
     "output_type": "execute_result"
    }
   ],
   "source": [
    "transformed_df[(transformed_df.occupation == 'Armed-Forces') & (transformed_df['marital-status'] == 'Divorced')]"
   ]
  },
  {
   "cell_type": "code",
   "execution_count": null,
   "metadata": {},
   "outputs": [],
   "source": []
  },
  {
   "cell_type": "markdown",
   "metadata": {},
   "source": [
    "### Loading Payments Data"
   ]
  },
  {
   "cell_type": "code",
   "execution_count": 63,
   "metadata": {},
   "outputs": [
    {
     "name": "stderr",
     "output_type": "stream",
     "text": [
      "/home/awantik/anaconda3/lib/python3.7/site-packages/IPython/core/interactiveshell.py:3049: DtypeWarning: Columns (4,24,35,36,37,40,42,43,53,54,55,56,57,58,59,60,61,62,63,64,65,66,68,69,70,71) have mixed types. Specify dtype option on import or set low_memory=False.\n",
      "  interactivity=interactivity, compiler=compiler, result=result)\n"
     ]
    }
   ],
   "source": [
    "payments_data = pd.read_csv('https://raw.githubusercontent.com/edyoda/data-science-complete-tutorial/master/Data/payments-data.csv')"
   ]
  },
  {
   "cell_type": "code",
   "execution_count": 65,
   "metadata": {},
   "outputs": [
    {
     "data": {
      "text/plain": [
       "75"
      ]
     },
     "execution_count": 65,
     "metadata": {},
     "output_type": "execute_result"
    }
   ],
   "source": [
    "len(payments_data.columns)"
   ]
  },
  {
   "cell_type": "code",
   "execution_count": 66,
   "metadata": {},
   "outputs": [
    {
     "name": "stdout",
     "output_type": "stream",
     "text": [
      "<class 'pandas.core.frame.DataFrame'>\n",
      "RangeIndex: 29999 entries, 0 to 29998\n",
      "Data columns (total 75 columns):\n",
      "Change_Type                                                          29999 non-null object\n",
      "Covered_Recipient_Type                                               29999 non-null object\n",
      "Teaching_Hospital_CCN                                                79 non-null float64\n",
      "Teaching_Hospital_ID                                                 79 non-null float64\n",
      "Teaching_Hospital_Name                                               79 non-null object\n",
      "Physician_Profile_ID                                                 29920 non-null float64\n",
      "Physician_First_Name                                                 29920 non-null object\n",
      "Physician_Middle_Name                                                22778 non-null object\n",
      "Physician_Last_Name                                                  29918 non-null object\n",
      "Physician_Name_Suffix                                                1027 non-null object\n",
      "Recipient_Primary_Business_Street_Address_Line1                      29999 non-null object\n",
      "Recipient_Primary_Business_Street_Address_Line2                      14265 non-null object\n",
      "Recipient_City                                                       29999 non-null object\n",
      "Recipient_State                                                      29999 non-null object\n",
      "Recipient_Zip_Code                                                   29999 non-null object\n",
      "Recipient_Country                                                    29999 non-null object\n",
      "Recipient_Province                                                   0 non-null float64\n",
      "Recipient_Postal_Code                                                0 non-null float64\n",
      "Physician_Primary_Type                                               29920 non-null object\n",
      "Physician_Specialty                                                  29902 non-null object\n",
      "Physician_License_State_code1                                        29920 non-null object\n",
      "Physician_License_State_code2                                        2648 non-null object\n",
      "Physician_License_State_code3                                        437 non-null object\n",
      "Physician_License_State_code4                                        74 non-null object\n",
      "Physician_License_State_code5                                        13 non-null object\n",
      "Submitting_Applicable_Manufacturer_or_Applicable_GPO_Name            29999 non-null object\n",
      "Applicable_Manufacturer_or_Applicable_GPO_Making_Payment_ID          29999 non-null int64\n",
      "Applicable_Manufacturer_or_Applicable_GPO_Making_Payment_Name        29999 non-null object\n",
      "Applicable_Manufacturer_or_Applicable_GPO_Making_Payment_State       29995 non-null object\n",
      "Applicable_Manufacturer_or_Applicable_GPO_Making_Payment_Country     29999 non-null object\n",
      "Total_Amount_of_Payment_USDollars                                    29999 non-null float64\n",
      "Date_of_Payment                                                      29999 non-null object\n",
      "Number_of_Payments_Included_in_Total_Amount                          29999 non-null int64\n",
      "Form_of_Payment_or_Transfer_of_Value                                 29999 non-null object\n",
      "Nature_of_Payment_or_Transfer_of_Value                               29999 non-null object\n",
      "City_of_Travel                                                       446 non-null object\n",
      "State_of_Travel                                                      423 non-null object\n",
      "Country_of_Travel                                                    446 non-null object\n",
      "Physician_Ownership_Indicator                                        29920 non-null object\n",
      "Third_Party_Payment_Recipient_Indicator                              29999 non-null object\n",
      "Name_of_Third_Party_Entity_Receiving_Payment_or_Transfer_of_Value    34 non-null object\n",
      "Charity_Indicator                                                    27076 non-null object\n",
      "Third_Party_Equals_Covered_Recipient_Indicator                       844 non-null object\n",
      "Contextual_Information                                               173 non-null object\n",
      "Delay_in_Publication_Indicator                                       29999 non-null object\n",
      "Record_ID                                                            29999 non-null int64\n",
      "Dispute_Status_for_Publication                                       29999 non-null object\n",
      "Related_Product_Indicator                                            29999 non-null object\n",
      "Covered_or_Noncovered_Indicator_1                                    29087 non-null object\n",
      "Indicate_Drug_or_Biological_or_Device_or_Medical_Supply_1            29087 non-null object\n",
      "Product_Category_or_Therapeutic_Area_1                               28989 non-null object\n",
      "Name_of_Drug_or_Biological_or_Device_or_Medical_Supply_1             28787 non-null object\n",
      "Associated_Drug_or_Biological_NDC_1                                  23162 non-null object\n",
      "Covered_or_Noncovered_Indicator_2                                    1955 non-null object\n",
      "Indicate_Drug_or_Biological_or_Device_or_Medical_Supply_2            1955 non-null object\n",
      "Product_Category_or_Therapeutic_Area_2                               1955 non-null object\n",
      "Name_of_Drug_or_Biological_or_Device_or_Medical_Supply_2             1774 non-null object\n",
      "Associated_Drug_or_Biological_NDC_2                                  29 non-null object\n",
      "Covered_or_Noncovered_Indicator_3                                    1042 non-null object\n",
      "Indicate_Drug_or_Biological_or_Device_or_Medical_Supply_3            1042 non-null object\n",
      "Product_Category_or_Therapeutic_Area_3                               1042 non-null object\n",
      "Name_of_Drug_or_Biological_or_Device_or_Medical_Supply_3             1042 non-null object\n",
      "Associated_Drug_or_Biological_NDC_3                                  29 non-null object\n",
      "Covered_or_Noncovered_Indicator_4                                    1013 non-null object\n",
      "Indicate_Drug_or_Biological_or_Device_or_Medical_Supply_4            1013 non-null object\n",
      "Product_Category_or_Therapeutic_Area_4                               1013 non-null object\n",
      "Name_of_Drug_or_Biological_or_Device_or_Medical_Supply_4             1013 non-null object\n",
      "Associated_Drug_or_Biological_NDC_4                                  0 non-null float64\n",
      "Covered_or_Noncovered_Indicator_5                                    1013 non-null object\n",
      "Indicate_Drug_or_Biological_or_Device_or_Medical_Supply_5            1013 non-null object\n",
      "Product_Category_or_Therapeutic_Area_5                               1013 non-null object\n",
      "Name_of_Drug_or_Biological_or_Device_or_Medical_Supply_5             1013 non-null object\n",
      "Associated_Drug_or_Biological_NDC_5                                  0 non-null float64\n",
      "Program_Year                                                         29999 non-null int64\n",
      "Payment_Publication_Date                                             29999 non-null object\n",
      "dtypes: float64(8), int64(4), object(63)\n",
      "memory usage: 17.2+ MB\n"
     ]
    }
   ],
   "source": [
    "payments_data.info()"
   ]
  },
  {
   "cell_type": "markdown",
   "metadata": {},
   "source": [
    "### Cleaning the data\n",
    "* Droppping all the columns where more than 5000 rows are NA"
   ]
  },
  {
   "cell_type": "code",
   "execution_count": 72,
   "metadata": {},
   "outputs": [
    {
     "data": {
      "text/plain": [
       "29999"
      ]
     },
     "execution_count": 72,
     "metadata": {},
     "output_type": "execute_result"
    }
   ],
   "source": [
    "payments_data['Associated_Drug_or_Biological_NDC_5'].isnull().sum()"
   ]
  },
  {
   "cell_type": "code",
   "execution_count": 74,
   "metadata": {},
   "outputs": [],
   "source": [
    "cols_to_be_removed = []\n",
    "for col in payments_data.columns:\n",
    "    if payments_data[col].isnull().sum() > 5000:\n",
    "        cols_to_be_removed.append(col)"
   ]
  },
  {
   "cell_type": "code",
   "execution_count": 76,
   "metadata": {},
   "outputs": [],
   "source": [
    "payments_data.drop(columns=cols_to_be_removed,axis=1, inplace=True)"
   ]
  },
  {
   "cell_type": "code",
   "execution_count": 77,
   "metadata": {},
   "outputs": [
    {
     "name": "stdout",
     "output_type": "stream",
     "text": [
      "<class 'pandas.core.frame.DataFrame'>\n",
      "RangeIndex: 29999 entries, 0 to 29998\n",
      "Data columns (total 36 columns):\n",
      "Change_Type                                                         29999 non-null object\n",
      "Covered_Recipient_Type                                              29999 non-null object\n",
      "Physician_Profile_ID                                                29920 non-null float64\n",
      "Physician_First_Name                                                29920 non-null object\n",
      "Physician_Last_Name                                                 29918 non-null object\n",
      "Recipient_Primary_Business_Street_Address_Line1                     29999 non-null object\n",
      "Recipient_City                                                      29999 non-null object\n",
      "Recipient_State                                                     29999 non-null object\n",
      "Recipient_Zip_Code                                                  29999 non-null object\n",
      "Recipient_Country                                                   29999 non-null object\n",
      "Physician_Primary_Type                                              29920 non-null object\n",
      "Physician_Specialty                                                 29902 non-null object\n",
      "Physician_License_State_code1                                       29920 non-null object\n",
      "Submitting_Applicable_Manufacturer_or_Applicable_GPO_Name           29999 non-null object\n",
      "Applicable_Manufacturer_or_Applicable_GPO_Making_Payment_ID         29999 non-null int64\n",
      "Applicable_Manufacturer_or_Applicable_GPO_Making_Payment_Name       29999 non-null object\n",
      "Applicable_Manufacturer_or_Applicable_GPO_Making_Payment_State      29995 non-null object\n",
      "Applicable_Manufacturer_or_Applicable_GPO_Making_Payment_Country    29999 non-null object\n",
      "Total_Amount_of_Payment_USDollars                                   29999 non-null float64\n",
      "Date_of_Payment                                                     29999 non-null object\n",
      "Number_of_Payments_Included_in_Total_Amount                         29999 non-null int64\n",
      "Form_of_Payment_or_Transfer_of_Value                                29999 non-null object\n",
      "Nature_of_Payment_or_Transfer_of_Value                              29999 non-null object\n",
      "Physician_Ownership_Indicator                                       29920 non-null object\n",
      "Third_Party_Payment_Recipient_Indicator                             29999 non-null object\n",
      "Charity_Indicator                                                   27076 non-null object\n",
      "Delay_in_Publication_Indicator                                      29999 non-null object\n",
      "Record_ID                                                           29999 non-null int64\n",
      "Dispute_Status_for_Publication                                      29999 non-null object\n",
      "Related_Product_Indicator                                           29999 non-null object\n",
      "Covered_or_Noncovered_Indicator_1                                   29087 non-null object\n",
      "Indicate_Drug_or_Biological_or_Device_or_Medical_Supply_1           29087 non-null object\n",
      "Product_Category_or_Therapeutic_Area_1                              28989 non-null object\n",
      "Name_of_Drug_or_Biological_or_Device_or_Medical_Supply_1            28787 non-null object\n",
      "Program_Year                                                        29999 non-null int64\n",
      "Payment_Publication_Date                                            29999 non-null object\n",
      "dtypes: float64(2), int64(4), object(30)\n",
      "memory usage: 8.2+ MB\n"
     ]
    }
   ],
   "source": [
    "payments_data.info()"
   ]
  },
  {
   "cell_type": "markdown",
   "metadata": {},
   "source": [
    "* Convert string to datetime object so that we can do further operation"
   ]
  },
  {
   "cell_type": "code",
   "execution_count": 80,
   "metadata": {},
   "outputs": [],
   "source": [
    "payments_data.Date_of_Payment = pd.to_datetime(payments_data.Date_of_Payment)"
   ]
  },
  {
   "cell_type": "code",
   "execution_count": 81,
   "metadata": {},
   "outputs": [
    {
     "name": "stdout",
     "output_type": "stream",
     "text": [
      "<class 'pandas.core.frame.DataFrame'>\n",
      "RangeIndex: 29999 entries, 0 to 29998\n",
      "Data columns (total 36 columns):\n",
      "Change_Type                                                         29999 non-null object\n",
      "Covered_Recipient_Type                                              29999 non-null object\n",
      "Physician_Profile_ID                                                29920 non-null float64\n",
      "Physician_First_Name                                                29920 non-null object\n",
      "Physician_Last_Name                                                 29918 non-null object\n",
      "Recipient_Primary_Business_Street_Address_Line1                     29999 non-null object\n",
      "Recipient_City                                                      29999 non-null object\n",
      "Recipient_State                                                     29999 non-null object\n",
      "Recipient_Zip_Code                                                  29999 non-null object\n",
      "Recipient_Country                                                   29999 non-null object\n",
      "Physician_Primary_Type                                              29920 non-null object\n",
      "Physician_Specialty                                                 29902 non-null object\n",
      "Physician_License_State_code1                                       29920 non-null object\n",
      "Submitting_Applicable_Manufacturer_or_Applicable_GPO_Name           29999 non-null object\n",
      "Applicable_Manufacturer_or_Applicable_GPO_Making_Payment_ID         29999 non-null int64\n",
      "Applicable_Manufacturer_or_Applicable_GPO_Making_Payment_Name       29999 non-null object\n",
      "Applicable_Manufacturer_or_Applicable_GPO_Making_Payment_State      29995 non-null object\n",
      "Applicable_Manufacturer_or_Applicable_GPO_Making_Payment_Country    29999 non-null object\n",
      "Total_Amount_of_Payment_USDollars                                   29999 non-null float64\n",
      "Date_of_Payment                                                     29999 non-null datetime64[ns]\n",
      "Number_of_Payments_Included_in_Total_Amount                         29999 non-null int64\n",
      "Form_of_Payment_or_Transfer_of_Value                                29999 non-null object\n",
      "Nature_of_Payment_or_Transfer_of_Value                              29999 non-null object\n",
      "Physician_Ownership_Indicator                                       29920 non-null object\n",
      "Third_Party_Payment_Recipient_Indicator                             29999 non-null object\n",
      "Charity_Indicator                                                   27076 non-null object\n",
      "Delay_in_Publication_Indicator                                      29999 non-null object\n",
      "Record_ID                                                           29999 non-null int64\n",
      "Dispute_Status_for_Publication                                      29999 non-null object\n",
      "Related_Product_Indicator                                           29999 non-null object\n",
      "Covered_or_Noncovered_Indicator_1                                   29087 non-null object\n",
      "Indicate_Drug_or_Biological_or_Device_or_Medical_Supply_1           29087 non-null object\n",
      "Product_Category_or_Therapeutic_Area_1                              28989 non-null object\n",
      "Name_of_Drug_or_Biological_or_Device_or_Medical_Supply_1            28787 non-null object\n",
      "Program_Year                                                        29999 non-null int64\n",
      "Payment_Publication_Date                                            29999 non-null object\n",
      "dtypes: datetime64[ns](1), float64(2), int64(4), object(29)\n",
      "memory usage: 8.2+ MB\n"
     ]
    }
   ],
   "source": [
    "payments_data.info()"
   ]
  },
  {
   "cell_type": "code",
   "execution_count": 83,
   "metadata": {},
   "outputs": [
    {
     "data": {
      "text/plain": [
       "0       2016-02-12\n",
       "1       2016-02-13\n",
       "2       2016-02-13\n",
       "3       2016-01-26\n",
       "4       2016-01-26\n",
       "           ...    \n",
       "29994   2016-07-13\n",
       "29995   2016-07-13\n",
       "29996   2016-08-04\n",
       "29997   2016-08-04\n",
       "29998   2016-08-04\n",
       "Name: Date_of_Payment, Length: 29999, dtype: datetime64[ns]"
      ]
     },
     "execution_count": 83,
     "metadata": {},
     "output_type": "execute_result"
    }
   ],
   "source": [
    "payments_data.Date_of_Payment"
   ]
  },
  {
   "cell_type": "code",
   "execution_count": 87,
   "metadata": {},
   "outputs": [
    {
     "data": {
      "text/plain": [
       "1365    2016-07-13\n",
       "1586    2016-07-13\n",
       "1590    2016-07-13\n",
       "1606    2016-07-13\n",
       "1610    2016-07-13\n",
       "           ...    \n",
       "29397   2016-07-13\n",
       "29992   2016-07-13\n",
       "29993   2016-07-13\n",
       "29994   2016-07-13\n",
       "29995   2016-07-13\n",
       "Name: Date_of_Payment, Length: 64, dtype: datetime64[ns]"
      ]
     },
     "execution_count": 87,
     "metadata": {},
     "output_type": "execute_result"
    }
   ],
   "source": [
    "payments_data[payments_data.Date_of_Payment == '2016-07-13'].Date_of_Payment"
   ]
  },
  {
   "cell_type": "code",
   "execution_count": 89,
   "metadata": {},
   "outputs": [
    {
     "data": {
      "text/plain": [
       "437     2016-07-14\n",
       "743     2016-07-14\n",
       "812     2016-07-14\n",
       "876     2016-07-14\n",
       "979     2016-07-15\n",
       "           ...    \n",
       "29438   2016-07-15\n",
       "29992   2016-07-13\n",
       "29993   2016-07-13\n",
       "29994   2016-07-13\n",
       "29995   2016-07-13\n",
       "Name: Date_of_Payment, Length: 345, dtype: datetime64[ns]"
      ]
     },
     "execution_count": 89,
     "metadata": {},
     "output_type": "execute_result"
    }
   ],
   "source": [
    "payments_data[(payments_data.Date_of_Payment >= '2016-07-13') & (payments_data.Date_of_Payment <= '2016-07-15')].Date_of_Payment"
   ]
  },
  {
   "cell_type": "markdown",
   "metadata": {},
   "source": [
    "* If you have to do lot of operations on date, better make date column as index"
   ]
  },
  {
   "cell_type": "code",
   "execution_count": 90,
   "metadata": {},
   "outputs": [
    {
     "data": {
      "text/html": [
       "<div>\n",
       "<style scoped>\n",
       "    .dataframe tbody tr th:only-of-type {\n",
       "        vertical-align: middle;\n",
       "    }\n",
       "\n",
       "    .dataframe tbody tr th {\n",
       "        vertical-align: top;\n",
       "    }\n",
       "\n",
       "    .dataframe thead th {\n",
       "        text-align: right;\n",
       "    }\n",
       "</style>\n",
       "<table border=\"1\" class=\"dataframe\">\n",
       "  <thead>\n",
       "    <tr style=\"text-align: right;\">\n",
       "      <th></th>\n",
       "      <th>Change_Type</th>\n",
       "      <th>Covered_Recipient_Type</th>\n",
       "      <th>Physician_Profile_ID</th>\n",
       "      <th>Physician_First_Name</th>\n",
       "      <th>Physician_Last_Name</th>\n",
       "      <th>Recipient_Primary_Business_Street_Address_Line1</th>\n",
       "      <th>Recipient_City</th>\n",
       "      <th>Recipient_State</th>\n",
       "      <th>Recipient_Zip_Code</th>\n",
       "      <th>Recipient_Country</th>\n",
       "      <th>...</th>\n",
       "      <th>Delay_in_Publication_Indicator</th>\n",
       "      <th>Record_ID</th>\n",
       "      <th>Dispute_Status_for_Publication</th>\n",
       "      <th>Related_Product_Indicator</th>\n",
       "      <th>Covered_or_Noncovered_Indicator_1</th>\n",
       "      <th>Indicate_Drug_or_Biological_or_Device_or_Medical_Supply_1</th>\n",
       "      <th>Product_Category_or_Therapeutic_Area_1</th>\n",
       "      <th>Name_of_Drug_or_Biological_or_Device_or_Medical_Supply_1</th>\n",
       "      <th>Program_Year</th>\n",
       "      <th>Payment_Publication_Date</th>\n",
       "    </tr>\n",
       "  </thead>\n",
       "  <tbody>\n",
       "    <tr>\n",
       "      <th>0</th>\n",
       "      <td>NEW</td>\n",
       "      <td>Covered Recipient Physician</td>\n",
       "      <td>132655.0</td>\n",
       "      <td>GREGG</td>\n",
       "      <td>ALZATE</td>\n",
       "      <td>8745 AERO DRIVE</td>\n",
       "      <td>SAN DIEGO</td>\n",
       "      <td>CA</td>\n",
       "      <td>92123</td>\n",
       "      <td>United States</td>\n",
       "      <td>...</td>\n",
       "      <td>No</td>\n",
       "      <td>346039438</td>\n",
       "      <td>No</td>\n",
       "      <td>Yes</td>\n",
       "      <td>Covered</td>\n",
       "      <td>Device</td>\n",
       "      <td>Radiology</td>\n",
       "      <td>StabiliT</td>\n",
       "      <td>2016</td>\n",
       "      <td>06/30/2017</td>\n",
       "    </tr>\n",
       "    <tr>\n",
       "      <th>1</th>\n",
       "      <td>NEW</td>\n",
       "      <td>Covered Recipient Physician</td>\n",
       "      <td>132655.0</td>\n",
       "      <td>GREGG</td>\n",
       "      <td>ALZATE</td>\n",
       "      <td>8745 AERO DRIVE</td>\n",
       "      <td>SAN DIEGO</td>\n",
       "      <td>CA</td>\n",
       "      <td>92123</td>\n",
       "      <td>United States</td>\n",
       "      <td>...</td>\n",
       "      <td>No</td>\n",
       "      <td>346039440</td>\n",
       "      <td>No</td>\n",
       "      <td>Yes</td>\n",
       "      <td>Covered</td>\n",
       "      <td>Device</td>\n",
       "      <td>Radiology</td>\n",
       "      <td>StabiliT</td>\n",
       "      <td>2016</td>\n",
       "      <td>06/30/2017</td>\n",
       "    </tr>\n",
       "    <tr>\n",
       "      <th>2</th>\n",
       "      <td>NEW</td>\n",
       "      <td>Covered Recipient Physician</td>\n",
       "      <td>1006832.0</td>\n",
       "      <td>SADEER</td>\n",
       "      <td>ALZUBAIDI</td>\n",
       "      <td>10401 W THUNDERBIRD BLVD</td>\n",
       "      <td>SUN CITY</td>\n",
       "      <td>AZ</td>\n",
       "      <td>85351</td>\n",
       "      <td>United States</td>\n",
       "      <td>...</td>\n",
       "      <td>No</td>\n",
       "      <td>346039442</td>\n",
       "      <td>No</td>\n",
       "      <td>Yes</td>\n",
       "      <td>Covered</td>\n",
       "      <td>Device</td>\n",
       "      <td>Radiology</td>\n",
       "      <td>StabiliT</td>\n",
       "      <td>2016</td>\n",
       "      <td>06/30/2017</td>\n",
       "    </tr>\n",
       "    <tr>\n",
       "      <th>3</th>\n",
       "      <td>NEW</td>\n",
       "      <td>Covered Recipient Physician</td>\n",
       "      <td>1006832.0</td>\n",
       "      <td>SADEER</td>\n",
       "      <td>ALZUBAIDI</td>\n",
       "      <td>10401 W THUNDERBIRD BLVD</td>\n",
       "      <td>SUN CITY</td>\n",
       "      <td>AZ</td>\n",
       "      <td>85351</td>\n",
       "      <td>United States</td>\n",
       "      <td>...</td>\n",
       "      <td>No</td>\n",
       "      <td>346039444</td>\n",
       "      <td>No</td>\n",
       "      <td>Yes</td>\n",
       "      <td>Covered</td>\n",
       "      <td>Device</td>\n",
       "      <td>Radiology</td>\n",
       "      <td>StabiliT</td>\n",
       "      <td>2016</td>\n",
       "      <td>06/30/2017</td>\n",
       "    </tr>\n",
       "    <tr>\n",
       "      <th>4</th>\n",
       "      <td>NEW</td>\n",
       "      <td>Covered Recipient Physician</td>\n",
       "      <td>1006832.0</td>\n",
       "      <td>SADEER</td>\n",
       "      <td>ALZUBAIDI</td>\n",
       "      <td>10401 W THUNDERBIRD BLVD</td>\n",
       "      <td>SUN CITY</td>\n",
       "      <td>AZ</td>\n",
       "      <td>85351</td>\n",
       "      <td>United States</td>\n",
       "      <td>...</td>\n",
       "      <td>No</td>\n",
       "      <td>346039446</td>\n",
       "      <td>No</td>\n",
       "      <td>Yes</td>\n",
       "      <td>Covered</td>\n",
       "      <td>Device</td>\n",
       "      <td>Radiology</td>\n",
       "      <td>StabiliT</td>\n",
       "      <td>2016</td>\n",
       "      <td>06/30/2017</td>\n",
       "    </tr>\n",
       "  </tbody>\n",
       "</table>\n",
       "<p>5 rows × 36 columns</p>\n",
       "</div>"
      ],
      "text/plain": [
       "  Change_Type       Covered_Recipient_Type  Physician_Profile_ID  \\\n",
       "0         NEW  Covered Recipient Physician              132655.0   \n",
       "1         NEW  Covered Recipient Physician              132655.0   \n",
       "2         NEW  Covered Recipient Physician             1006832.0   \n",
       "3         NEW  Covered Recipient Physician             1006832.0   \n",
       "4         NEW  Covered Recipient Physician             1006832.0   \n",
       "\n",
       "  Physician_First_Name Physician_Last_Name  \\\n",
       "0                GREGG              ALZATE   \n",
       "1                GREGG              ALZATE   \n",
       "2               SADEER           ALZUBAIDI   \n",
       "3               SADEER           ALZUBAIDI   \n",
       "4               SADEER           ALZUBAIDI   \n",
       "\n",
       "  Recipient_Primary_Business_Street_Address_Line1 Recipient_City  \\\n",
       "0                                 8745 AERO DRIVE      SAN DIEGO   \n",
       "1                                 8745 AERO DRIVE      SAN DIEGO   \n",
       "2                        10401 W THUNDERBIRD BLVD       SUN CITY   \n",
       "3                        10401 W THUNDERBIRD BLVD       SUN CITY   \n",
       "4                        10401 W THUNDERBIRD BLVD       SUN CITY   \n",
       "\n",
       "  Recipient_State Recipient_Zip_Code Recipient_Country  ...  \\\n",
       "0              CA              92123     United States  ...   \n",
       "1              CA              92123     United States  ...   \n",
       "2              AZ              85351     United States  ...   \n",
       "3              AZ              85351     United States  ...   \n",
       "4              AZ              85351     United States  ...   \n",
       "\n",
       "  Delay_in_Publication_Indicator  Record_ID Dispute_Status_for_Publication  \\\n",
       "0                             No  346039438                             No   \n",
       "1                             No  346039440                             No   \n",
       "2                             No  346039442                             No   \n",
       "3                             No  346039444                             No   \n",
       "4                             No  346039446                             No   \n",
       "\n",
       "  Related_Product_Indicator  Covered_or_Noncovered_Indicator_1  \\\n",
       "0                       Yes                            Covered   \n",
       "1                       Yes                            Covered   \n",
       "2                       Yes                            Covered   \n",
       "3                       Yes                            Covered   \n",
       "4                       Yes                            Covered   \n",
       "\n",
       "  Indicate_Drug_or_Biological_or_Device_or_Medical_Supply_1  \\\n",
       "0                                             Device          \n",
       "1                                             Device          \n",
       "2                                             Device          \n",
       "3                                             Device          \n",
       "4                                             Device          \n",
       "\n",
       "  Product_Category_or_Therapeutic_Area_1  \\\n",
       "0                              Radiology   \n",
       "1                              Radiology   \n",
       "2                              Radiology   \n",
       "3                              Radiology   \n",
       "4                              Radiology   \n",
       "\n",
       "  Name_of_Drug_or_Biological_or_Device_or_Medical_Supply_1  Program_Year  \\\n",
       "0                                           StabiliT                2016   \n",
       "1                                           StabiliT                2016   \n",
       "2                                           StabiliT                2016   \n",
       "3                                           StabiliT                2016   \n",
       "4                                           StabiliT                2016   \n",
       "\n",
       "  Payment_Publication_Date  \n",
       "0               06/30/2017  \n",
       "1               06/30/2017  \n",
       "2               06/30/2017  \n",
       "3               06/30/2017  \n",
       "4               06/30/2017  \n",
       "\n",
       "[5 rows x 36 columns]"
      ]
     },
     "execution_count": 90,
     "metadata": {},
     "output_type": "execute_result"
    }
   ],
   "source": [
    "payments_data.head()"
   ]
  },
  {
   "cell_type": "markdown",
   "metadata": {},
   "source": [
    "### Create fullname column from firstname & lastname"
   ]
  },
  {
   "cell_type": "code",
   "execution_count": 92,
   "metadata": {},
   "outputs": [],
   "source": [
    "payments_data['Physician_Full_Name'] = payments_data.Physician_First_Name + ' ' + payments_data.Physician_Last_Name"
   ]
  },
  {
   "cell_type": "code",
   "execution_count": 93,
   "metadata": {},
   "outputs": [
    {
     "name": "stdout",
     "output_type": "stream",
     "text": [
      "<class 'pandas.core.frame.DataFrame'>\n",
      "RangeIndex: 29999 entries, 0 to 29998\n",
      "Data columns (total 37 columns):\n",
      "Change_Type                                                         29999 non-null object\n",
      "Covered_Recipient_Type                                              29999 non-null object\n",
      "Physician_Profile_ID                                                29920 non-null float64\n",
      "Physician_First_Name                                                29920 non-null object\n",
      "Physician_Last_Name                                                 29918 non-null object\n",
      "Recipient_Primary_Business_Street_Address_Line1                     29999 non-null object\n",
      "Recipient_City                                                      29999 non-null object\n",
      "Recipient_State                                                     29999 non-null object\n",
      "Recipient_Zip_Code                                                  29999 non-null object\n",
      "Recipient_Country                                                   29999 non-null object\n",
      "Physician_Primary_Type                                              29920 non-null object\n",
      "Physician_Specialty                                                 29902 non-null object\n",
      "Physician_License_State_code1                                       29920 non-null object\n",
      "Submitting_Applicable_Manufacturer_or_Applicable_GPO_Name           29999 non-null object\n",
      "Applicable_Manufacturer_or_Applicable_GPO_Making_Payment_ID         29999 non-null int64\n",
      "Applicable_Manufacturer_or_Applicable_GPO_Making_Payment_Name       29999 non-null object\n",
      "Applicable_Manufacturer_or_Applicable_GPO_Making_Payment_State      29995 non-null object\n",
      "Applicable_Manufacturer_or_Applicable_GPO_Making_Payment_Country    29999 non-null object\n",
      "Total_Amount_of_Payment_USDollars                                   29999 non-null float64\n",
      "Date_of_Payment                                                     29999 non-null datetime64[ns]\n",
      "Number_of_Payments_Included_in_Total_Amount                         29999 non-null int64\n",
      "Form_of_Payment_or_Transfer_of_Value                                29999 non-null object\n",
      "Nature_of_Payment_or_Transfer_of_Value                              29999 non-null object\n",
      "Physician_Ownership_Indicator                                       29920 non-null object\n",
      "Third_Party_Payment_Recipient_Indicator                             29999 non-null object\n",
      "Charity_Indicator                                                   27076 non-null object\n",
      "Delay_in_Publication_Indicator                                      29999 non-null object\n",
      "Record_ID                                                           29999 non-null int64\n",
      "Dispute_Status_for_Publication                                      29999 non-null object\n",
      "Related_Product_Indicator                                           29999 non-null object\n",
      "Covered_or_Noncovered_Indicator_1                                   29087 non-null object\n",
      "Indicate_Drug_or_Biological_or_Device_or_Medical_Supply_1           29087 non-null object\n",
      "Product_Category_or_Therapeutic_Area_1                              28989 non-null object\n",
      "Name_of_Drug_or_Biological_or_Device_or_Medical_Supply_1            28787 non-null object\n",
      "Program_Year                                                        29999 non-null int64\n",
      "Payment_Publication_Date                                            29999 non-null object\n",
      "Physician_Full_Name                                                 29918 non-null object\n",
      "dtypes: datetime64[ns](1), float64(2), int64(4), object(30)\n",
      "memory usage: 8.5+ MB\n"
     ]
    }
   ],
   "source": [
    "payments_data.info()"
   ]
  },
  {
   "cell_type": "code",
   "execution_count": 94,
   "metadata": {},
   "outputs": [
    {
     "data": {
      "text/plain": [
       "Medical Doctor                  26369\n",
       "Doctor of Osteopathy             2540\n",
       "Doctor of Podiatric Medicine      648\n",
       "Doctor of Optometry               207\n",
       "Doctor of Dentistry               156\n",
       "Name: Physician_Primary_Type, dtype: int64"
      ]
     },
     "execution_count": 94,
     "metadata": {},
     "output_type": "execute_result"
    }
   ],
   "source": [
    "payments_data.Physician_Primary_Type.value_counts()"
   ]
  },
  {
   "cell_type": "code",
   "execution_count": 95,
   "metadata": {},
   "outputs": [
    {
     "data": {
      "text/plain": [
       "Allopathic & Osteopathic Physicians|Obstetrics & Gynecology               6160\n",
       "Allopathic & Osteopathic Physicians|Internal Medicine|Gastroenterology    3961\n",
       "Allopathic & Osteopathic Physicians|Family Medicine                       3500\n",
       "Allopathic & Osteopathic Physicians|Internal Medicine                     2497\n",
       "Allopathic & Osteopathic Physicians|Urology                               2216\n",
       "                                                                          ... \n",
       "Allopathic & Osteopathic Physicians|Anesthesiology|Addiction Medicine        1\n",
       "Other Service Providers|Medical Genetics, Ph.D. Medical Genetics             1\n",
       "Dental Providers|Dentist|Pediatric Dentistry                                 1\n",
       "Allopathic & Osteopathic Physicians|Internal Medicine|Sports Medicine        1\n",
       "Allopathic & Osteopathic Physicians|Pediatrics|Pediatric Pulmonology         1\n",
       "Name: Physician_Specialty, Length: 157, dtype: int64"
      ]
     },
     "execution_count": 95,
     "metadata": {},
     "output_type": "execute_result"
    }
   ],
   "source": [
    "payments_data.Physician_Specialty.value_counts()"
   ]
  },
  {
   "cell_type": "code",
   "execution_count": 96,
   "metadata": {},
   "outputs": [
    {
     "data": {
      "text/plain": [
       "0         90.87\n",
       "1         23.45\n",
       "2         32.00\n",
       "3        630.20\n",
       "4         25.00\n",
       "          ...  \n",
       "29994     10.44\n",
       "29995     14.46\n",
       "29996     18.49\n",
       "29997     18.49\n",
       "29998     26.42\n",
       "Name: Total_Amount_of_Payment_USDollars, Length: 29999, dtype: float64"
      ]
     },
     "execution_count": 96,
     "metadata": {},
     "output_type": "execute_result"
    }
   ],
   "source": [
    "payments_data.Total_Amount_of_Payment_USDollars"
   ]
  },
  {
   "cell_type": "code",
   "execution_count": 97,
   "metadata": {},
   "outputs": [
    {
     "data": {
      "text/plain": [
       "Physician_Primary_Type\n",
       "Doctor of Dentistry              62.542949\n",
       "Doctor of Optometry              37.833140\n",
       "Doctor of Osteopathy             49.030201\n",
       "Doctor of Podiatric Medicine    365.706929\n",
       "Medical Doctor                  213.870095\n",
       "Name: Total_Amount_of_Payment_USDollars, dtype: float64"
      ]
     },
     "execution_count": 97,
     "metadata": {},
     "output_type": "execute_result"
    }
   ],
   "source": [
    "payments_data.groupby('Physician_Primary_Type').Total_Amount_of_Payment_USDollars.mean()"
   ]
  },
  {
   "cell_type": "markdown",
   "metadata": {},
   "source": [
    "### Assignments for the session\n",
    "#### On payments data\n",
    "1. Find which city should you be planning the next hospital branch\n",
    "2. Find total charity payments\n",
    "\n",
    "#### On adult data\n",
    "1. Education & hours-per-week\n",
    "2. Any interesting relationship between workclass & education-num"
   ]
  },
  {
   "cell_type": "code",
   "execution_count": 99,
   "metadata": {},
   "outputs": [
    {
     "data": {
      "text/plain": [
       "1     29992\n",
       "3         3\n",
       "2         2\n",
       "12        1\n",
       "5         1\n",
       "Name: Number_of_Payments_Included_in_Total_Amount, dtype: int64"
      ]
     },
     "execution_count": 99,
     "metadata": {},
     "output_type": "execute_result"
    }
   ],
   "source": [
    "payments_data.Number_of_Payments_Included_in_Total_Amount.value_counts()"
   ]
  },
  {
   "cell_type": "code",
   "execution_count": 101,
   "metadata": {},
   "outputs": [
    {
     "data": {
      "text/plain": [
       "No     27067\n",
       "Yes        9\n",
       "Name: Charity_Indicator, dtype: int64"
      ]
     },
     "execution_count": 101,
     "metadata": {},
     "output_type": "execute_result"
    }
   ],
   "source": [
    "payments_data.Charity_Indicator.value_counts()"
   ]
  },
  {
   "cell_type": "code",
   "execution_count": null,
   "metadata": {},
   "outputs": [],
   "source": []
  }
 ],
 "metadata": {
  "kernelspec": {
   "display_name": "Python 3",
   "language": "python",
   "name": "python3"
  },
  "language_info": {
   "codemirror_mode": {
    "name": "ipython",
    "version": 3
   },
   "file_extension": ".py",
   "mimetype": "text/x-python",
   "name": "python",
   "nbconvert_exporter": "python",
   "pygments_lexer": "ipython3",
   "version": "3.7.3"
  }
 },
 "nbformat": 4,
 "nbformat_minor": 2
}
