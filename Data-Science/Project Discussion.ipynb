{
 "cells": [
  {
   "cell_type": "markdown",
   "metadata": {},
   "source": [
    "### Team 1\n",
    "* Pro-Kabaddi\n",
    "* Resources - https://github.com/ranganadhkodali/Pro-Kabadi-season-1-7-Stats\n",
    "* Members - Jagganath & Akash"
   ]
  },
  {
   "cell_type": "markdown",
   "metadata": {},
   "source": [
    "### Team 2\n",
    "* Python package Suggestor\n",
    "* Resources - https://ogirardot.wordpress.com/2013/01/31/sharing-pypimaven-dependency-data/\n",
    "* Members - Pavan"
   ]
  },
  {
   "cell_type": "markdown",
   "metadata": {},
   "source": [
    "### Team 3\n",
    "* StackExchange Data Analysis\n",
    "* Resources - https://archive.org/download/stackexchange/\n",
    "* Members - Aya, Ashish"
   ]
  },
  {
   "cell_type": "markdown",
   "metadata": {},
   "source": [
    "### Team 4\n",
    "* Google Trend Data Analaysis\n",
    "* Resources - https://trends.google.com/trends/?q=google&ctab=0&geo=all&date=all&sort=0\n",
    "* Members - Tarun, Rishabh"
   ]
  },
  {
   "cell_type": "markdown",
   "metadata": {},
   "source": [
    "### Team 5\n",
    "* Museum Data Analysis & Clustering\n",
    "* Resources - https://ingeniumcanada.org/tips-for-using-the-artifact-open-data-set\n",
    "* Members - Sreekar"
   ]
  },
  {
   "cell_type": "markdown",
   "metadata": {},
   "source": [
    "### Team 6\n",
    "* Read tweets from twitter API & cluster similar people based on tweets\n",
    "* Resource\n",
    "* Members - Manish, Rupakant"
   ]
  },
  {
   "cell_type": "markdown",
   "metadata": {},
   "source": [
    "### More\n",
    "* Crimes in India Data Analysis. Data - https://data.world/rajanand/crime-in-india\n",
    "* More open datasets - https://github.com/datasets/core-datasets/blob/master/core-list.csv"
   ]
  },
  {
   "cell_type": "code",
   "execution_count": null,
   "metadata": {},
   "outputs": [],
   "source": []
  }
 ],
 "metadata": {
  "kernelspec": {
   "display_name": "Python 3",
   "language": "python",
   "name": "python3"
  },
  "language_info": {
   "codemirror_mode": {
    "name": "ipython",
    "version": 3
   },
   "file_extension": ".py",
   "mimetype": "text/x-python",
   "name": "python",
   "nbconvert_exporter": "python",
   "pygments_lexer": "ipython3",
   "version": "3.7.3"
  }
 },
 "nbformat": 4,
 "nbformat_minor": 2
}
