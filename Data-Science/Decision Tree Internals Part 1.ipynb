{
 "cells": [
  {
   "cell_type": "markdown",
   "metadata": {},
   "source": [
    "### Objectives\n",
    "1. Recap of Decision Tree\n",
    "2. Assumptions of Decision Tree\n",
    "3. Understanding Attribute selection algorithmn\n",
    "    - Information Gain\n",
    "    - Gini Impurity\n",
    "    \n",
    "* References\n",
    "    - https://victorzhou.com/"
   ]
  },
  {
   "cell_type": "markdown",
   "metadata": {},
   "source": [
    "### Recap of Decision Tree\n",
    "* The general motive of using Decision Tree is to create a training model which can use to predict class or value of target variables by learning decision rules inferred from prior data(training data).\n",
    "*  The decision tree algorithm tries to solve the problem, by using tree representation. \n",
    "* Each internal node (pink) of the tree corresponds to an attribute, and each leaf(blue) node corresponds to a class label.\n",
    "\n",
    "<img src=\"https://github.com/edyoda/Data-Scientist-program/blob/master/Data-Science/Decision%20Tree.png?raw=true\">"
   ]
  },
  {
   "cell_type": "markdown",
   "metadata": {},
   "source": [
    "### Assumptions of Decision Tree\n",
    "* Feature values are preferred to be categorical. If the values are continuous then they are discretized prior to building the model.\n",
    "* Records are distributed recursively on the basis of attribute values.\n",
    "* Order to placing attributes as root or internal node of the tree is done by using some statistical approach. (TBD today)"
   ]
  },
  {
   "cell_type": "markdown",
   "metadata": {},
   "source": [
    "### Improtance of metrices\n",
    "* What is the most important thing to improve that thing ?\n",
    "* If you cannot measure something, you cannot improve it.\n",
    "* If you want to improve something, find a way to measure it."
   ]
  },
  {
   "cell_type": "markdown",
   "metadata": {},
   "source": [
    "<hr> <b>\n",
    "NOTE : The primary challenge in the decision tree implementation is to identify which attributes do we need to consider as the root node and each level. Handling this is to know as the attributes selection. We have different attributes selection measures to identify the attribute which can be considered as the root note at each level.\n",
    "</b><hr>"
   ]
  },
  {
   "cell_type": "markdown",
   "metadata": {},
   "source": [
    "### How Decision Trees Work\n",
    "* The decision of making strategic splits heavily affects a tree’s accuracy. The decision criteria are different for classification and regression trees.\n",
    "* We can say that the purity of the node increases with respect to the target variable. The decision tree splits the nodes on all available variables and then selects the split which results in most homogeneous sub-nodes.\n",
    "* Two types of algorithms are available in scikit-learn\n",
    "    - Information Gain\n",
    "    - Gini Impurity"
   ]
  },
  {
   "cell_type": "markdown",
   "metadata": {},
   "source": [
    "## Information Gain \n",
    "<img src=\"https://github.com/edyoda/Data-Scientist-program/blob/master/Assignment/images/DT6.png?raw=true\">\n",
    "\n",
    "\n",
    "<img src=\"https://github.com/edyoda/Data-Scientist-program/blob/master/Assignment/images/DT7.png?raw=true\">\n",
    "\n",
    "\n",
    "<img src=\"https://github.com/edyoda/Data-Scientist-program/blob/master/Assignment/images/DT8.png?raw=true\">\n",
    "\n",
    "<img src=\"https://github.com/edyoda/Data-Scientist-program/blob/master/Assignment/images/DT9.png?raw=true\" height=\"70%\">\n",
    "\n",
    "<b>Understanding Entropy is important for getting hang of Information Gain</b>\n",
    "* Entropy is a measure of the randomness in the information being processed. \n",
    "* The higher the entropy, the harder it is to draw any conclusions from that information. \n",
    "* Flipping a coin is an example of an action that provides information that is random.\n",
    "* Entropy can be roughly thought of as how much variance the data has.\n",
    "\n",
    "<img src=\"https://miro.medium.com/max/274/0*0EjpvqWE7YcGDOIQ.png\">\n",
    "\n",
    "* From the above graph, it is quite evident that the entropy H(X) is zero when the probability is either 0 or 1. \n",
    "\n",
    "<img src=\"https://github.com/edyoda/Data-Scientist-program/blob/master/Assignment/images/DT12.png?raw=true\">\n",
    "\n",
    "<img src=\"https://github.com/edyoda/Data-Scientist-program/blob/master/Assignment/images/DT13.png?raw=true\">\n",
    "\n",
    "<img src=\"https://github.com/edyoda/Data-Scientist-program/blob/master/Assignment/images/DT14.png?raw=true\">\n"
   ]
  },
  {
   "cell_type": "code",
   "execution_count": 4,
   "metadata": {},
   "outputs": [
    {
     "data": {
      "text/plain": [
       "1.0"
      ]
     },
     "execution_count": 4,
     "metadata": {},
     "output_type": "execute_result"
    }
   ],
   "source": [
    "import numpy as np\n",
    "#5/10 red balls, 5/10 is green balls\n",
    "- ( (5/10)* np.log2(5/10) + (5/10)* np.log2(5/10) )"
   ]
  },
  {
   "cell_type": "code",
   "execution_count": 7,
   "metadata": {},
   "outputs": [
    {
     "data": {
      "text/plain": [
       "0.863120568566631"
      ]
     },
     "execution_count": 7,
     "metadata": {},
     "output_type": "execute_result"
    }
   ],
   "source": [
    "- ((2/7)* np.log2(2/7) + (5/7)*np.log2(5/7))"
   ]
  },
  {
   "cell_type": "code",
   "execution_count": 8,
   "metadata": {},
   "outputs": [],
   "source": [
    "Entropy_Split = .7 * .86 + .3 * 0"
   ]
  },
  {
   "cell_type": "code",
   "execution_count": 9,
   "metadata": {},
   "outputs": [
    {
     "data": {
      "text/plain": [
       "0.602"
      ]
     },
     "execution_count": 9,
     "metadata": {},
     "output_type": "execute_result"
    }
   ],
   "source": [
    "Entropy_Split"
   ]
  },
  {
   "cell_type": "code",
   "execution_count": 10,
   "metadata": {},
   "outputs": [],
   "source": [
    "Information_Gain = 1 - .602"
   ]
  },
  {
   "cell_type": "code",
   "execution_count": 11,
   "metadata": {},
   "outputs": [
    {
     "data": {
      "text/plain": [
       "0.398"
      ]
     },
     "execution_count": 11,
     "metadata": {},
     "output_type": "execute_result"
    }
   ],
   "source": [
    "Information_Gain"
   ]
  },
  {
   "cell_type": "code",
   "execution_count": 12,
   "metadata": {},
   "outputs": [],
   "source": [
    "import pandas as pd"
   ]
  },
  {
   "cell_type": "code",
   "execution_count": 13,
   "metadata": {},
   "outputs": [],
   "source": [
    "tennis_data = pd.read_csv('https://raw.githubusercontent.com/edyoda/data-science-complete-tutorial/master/Data/tennis.csv.txt')"
   ]
  },
  {
   "cell_type": "code",
   "execution_count": 26,
   "metadata": {},
   "outputs": [
    {
     "data": {
      "text/html": [
       "<div>\n",
       "<style scoped>\n",
       "    .dataframe tbody tr th:only-of-type {\n",
       "        vertical-align: middle;\n",
       "    }\n",
       "\n",
       "    .dataframe tbody tr th {\n",
       "        vertical-align: top;\n",
       "    }\n",
       "\n",
       "    .dataframe thead th {\n",
       "        text-align: right;\n",
       "    }\n",
       "</style>\n",
       "<table border=\"1\" class=\"dataframe\">\n",
       "  <thead>\n",
       "    <tr style=\"text-align: right;\">\n",
       "      <th></th>\n",
       "      <th>outlook</th>\n",
       "      <th>temp</th>\n",
       "      <th>humidity</th>\n",
       "      <th>windy</th>\n",
       "      <th>play</th>\n",
       "    </tr>\n",
       "  </thead>\n",
       "  <tbody>\n",
       "    <tr>\n",
       "      <th>0</th>\n",
       "      <td>sunny</td>\n",
       "      <td>hot</td>\n",
       "      <td>high</td>\n",
       "      <td>False</td>\n",
       "      <td>no</td>\n",
       "    </tr>\n",
       "    <tr>\n",
       "      <th>1</th>\n",
       "      <td>sunny</td>\n",
       "      <td>hot</td>\n",
       "      <td>high</td>\n",
       "      <td>True</td>\n",
       "      <td>no</td>\n",
       "    </tr>\n",
       "    <tr>\n",
       "      <th>2</th>\n",
       "      <td>overcast</td>\n",
       "      <td>hot</td>\n",
       "      <td>high</td>\n",
       "      <td>False</td>\n",
       "      <td>yes</td>\n",
       "    </tr>\n",
       "    <tr>\n",
       "      <th>3</th>\n",
       "      <td>rainy</td>\n",
       "      <td>mild</td>\n",
       "      <td>high</td>\n",
       "      <td>False</td>\n",
       "      <td>yes</td>\n",
       "    </tr>\n",
       "    <tr>\n",
       "      <th>4</th>\n",
       "      <td>rainy</td>\n",
       "      <td>cool</td>\n",
       "      <td>normal</td>\n",
       "      <td>False</td>\n",
       "      <td>yes</td>\n",
       "    </tr>\n",
       "  </tbody>\n",
       "</table>\n",
       "</div>"
      ],
      "text/plain": [
       "    outlook  temp humidity  windy play\n",
       "0     sunny   hot     high  False   no\n",
       "1     sunny   hot     high   True   no\n",
       "2  overcast   hot     high  False  yes\n",
       "3     rainy  mild     high  False  yes\n",
       "4     rainy  cool   normal  False  yes"
      ]
     },
     "execution_count": 26,
     "metadata": {},
     "output_type": "execute_result"
    }
   ],
   "source": [
    "tennis_data.head()"
   ]
  },
  {
   "cell_type": "code",
   "execution_count": 21,
   "metadata": {},
   "outputs": [],
   "source": [
    "from sklearn.preprocessing import OrdinalEncoder\n",
    "oe = OrdinalEncoder()\n",
    "feature_target = oe.fit_transform(tennis_data)"
   ]
  },
  {
   "cell_type": "code",
   "execution_count": 22,
   "metadata": {},
   "outputs": [
    {
     "data": {
      "text/plain": [
       "array([[2., 1., 0., 0., 0.],\n",
       "       [2., 1., 0., 1., 0.],\n",
       "       [0., 1., 0., 0., 1.],\n",
       "       [1., 2., 0., 0., 1.],\n",
       "       [1., 0., 1., 0., 1.],\n",
       "       [1., 0., 1., 1., 0.],\n",
       "       [0., 0., 1., 1., 1.],\n",
       "       [2., 2., 0., 0., 0.],\n",
       "       [2., 0., 1., 0., 1.],\n",
       "       [1., 2., 1., 0., 1.],\n",
       "       [2., 2., 1., 1., 1.],\n",
       "       [0., 2., 0., 1., 1.],\n",
       "       [0., 1., 1., 0., 1.],\n",
       "       [1., 2., 0., 1., 0.]])"
      ]
     },
     "execution_count": 22,
     "metadata": {},
     "output_type": "execute_result"
    }
   ],
   "source": [
    "feature_target"
   ]
  },
  {
   "cell_type": "code",
   "execution_count": 20,
   "metadata": {},
   "outputs": [
    {
     "data": {
      "text/plain": [
       "[array(['overcast', 'rainy', 'sunny'], dtype=object),\n",
       " array(['cool', 'hot', 'mild'], dtype=object),\n",
       " array(['high', 'normal'], dtype=object),\n",
       " array([False,  True]),\n",
       " array(['no', 'yes'], dtype=object)]"
      ]
     },
     "execution_count": 20,
     "metadata": {},
     "output_type": "execute_result"
    }
   ],
   "source": [
    "oe.categories_"
   ]
  },
  {
   "cell_type": "markdown",
   "metadata": {},
   "source": [
    "#### What is the Entropy of the data ?\n",
    "* A. Measure of randomness is always with respect to target"
   ]
  },
  {
   "cell_type": "code",
   "execution_count": 23,
   "metadata": {},
   "outputs": [
    {
     "data": {
      "text/plain": [
       "yes    9\n",
       "no     5\n",
       "Name: play, dtype: int64"
      ]
     },
     "execution_count": 23,
     "metadata": {},
     "output_type": "execute_result"
    }
   ],
   "source": [
    "tennis_data.play.value_counts()"
   ]
  },
  {
   "cell_type": "code",
   "execution_count": 25,
   "metadata": {},
   "outputs": [
    {
     "data": {
      "text/plain": [
       "0.9402859586706309"
      ]
     },
     "execution_count": 25,
     "metadata": {},
     "output_type": "execute_result"
    }
   ],
   "source": [
    "- ((5/14)*np.log2(5/14) + (9/14)*np.log2(9/14))"
   ]
  },
  {
   "cell_type": "markdown",
   "metadata": {},
   "source": [
    "#### What are the attributes from which we have to select the best one ?\n",
    "* A. Outlook, Temp, Humidity, Windy"
   ]
  },
  {
   "cell_type": "markdown",
   "metadata": {},
   "source": [
    "#### Which attribute to select from these ?\n",
    "* A. The attribute using which if we split, we get maximum information gain"
   ]
  },
  {
   "cell_type": "markdown",
   "metadata": {},
   "source": [
    "## Gini Impurity\n",
    "\n",
    "<img src=\"https://github.com/edyoda/Data-Scientist-program/blob/master/Assignment/images/DT6.png?raw=true\">\n",
    "\n",
    "\n",
    "<img src=\"https://github.com/edyoda/Data-Scientist-program/blob/master/Assignment/images/DT7.png?raw=true\">\n",
    "\n",
    "\n",
    "<img src=\"https://github.com/edyoda/Data-Scientist-program/blob/master/Assignment/images/DT8.png?raw=true\">\n",
    "\n",
    "<img src=\"https://github.com/edyoda/Data-Scientist-program/blob/master/Assignment/images/DT9.png?raw=true\">\n",
    "\n",
    "<img src=\"https://github.com/edyoda/Data-Scientist-program/blob/master/Assignment/images/DT10.png?raw=true\">\n",
    "\n",
    "<img src=\"https://github.com/edyoda/Data-Scientist-program/blob/master/Assignment/images/DT11.png?raw=true\">\n",
    "\n",
    "<img src=\"https://github.com/edyoda/Data-Scientist-program/blob/master/Assignment/images/DT2.png?raw=true\">\n",
    "\n",
    "<img src=\"https://github.com/edyoda/Data-Scientist-program/blob/master/Assignment/images/pic.png?raw=true\">\n",
    "\n",
    "<h3>PS : A Gini Impurity of 0 is the lowest and best possible impurity. It can only be achieved when everything is the same class (e.g. only blues or only greens).</h3>\n",
    "\n",
    "<img src=\"https://github.com/edyoda/Data-Scientist-program/blob/master/Assignment/images/DT3.png?raw=true\">\n",
    "\n",
    "<img src=\"https://github.com/edyoda/Data-Scientist-program/blob/master/Assignment/images/DT4.png?raw=true\">\n",
    "\n",
    "<img src=\"https://github.com/edyoda/Data-Scientist-program/blob/master/Assignment/images/DT5.png?raw=true\">\n"
   ]
  }
 ],
 "metadata": {
  "kernelspec": {
   "display_name": "Python 3",
   "language": "python",
   "name": "python3"
  },
  "language_info": {
   "codemirror_mode": {
    "name": "ipython",
    "version": 3
   },
   "file_extension": ".py",
   "mimetype": "text/x-python",
   "name": "python",
   "nbconvert_exporter": "python",
   "pygments_lexer": "ipython3",
   "version": "3.7.3"
  }
 },
 "nbformat": 4,
 "nbformat_minor": 2
}
