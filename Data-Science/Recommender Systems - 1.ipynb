{
 "cells": [
  {
   "cell_type": "markdown",
   "metadata": {},
   "source": [
    "### Objective\n",
    "1. What is recommender Systems\n",
    "2. Types of recommender Systems\n",
    "3. Using basic recommender Systems from mlxtend for online retail data \n",
    "\n",
    "<hr>"
   ]
  },
  {
   "cell_type": "markdown",
   "metadata": {},
   "source": [
    "### 1. Recommender System\n",
    "* This system suggest user to buy, connect, sell, watch.\n",
    "* Lot of distribution channel makes money using it."
   ]
  },
  {
   "cell_type": "markdown",
   "metadata": {},
   "source": [
    "### 2. Types of recommender Systems\n",
    "* Content Based Filtering - Recommendations are based on metadata collected from a user's history & interaction. Based on your previous watched movies, system will recommend you new movies. Used earlier days. Not much in production.\n",
    "\n",
    "* Collaborative Filtering - Collecting information from interactions from many other uses to derive suggestions for you.This is what is used in production\n",
    "\n",
    "* Hybrid Filtering - Combining both content based filtering & collaborative filtering"
   ]
  },
  {
   "cell_type": "code",
   "execution_count": 1,
   "metadata": {},
   "outputs": [],
   "source": [
    "import pandas as pd"
   ]
  },
  {
   "cell_type": "code",
   "execution_count": 3,
   "metadata": {},
   "outputs": [],
   "source": [
    "articles_df = pd.read_csv('Data/2234_3774_bundle_archive/shared_articles.csv')"
   ]
  },
  {
   "cell_type": "code",
   "execution_count": 6,
   "metadata": {},
   "outputs": [],
   "source": [
    "articles_df = articles_df[articles_df.eventType == 'CONTENT SHARED']"
   ]
  },
  {
   "cell_type": "code",
   "execution_count": 7,
   "metadata": {},
   "outputs": [
    {
     "name": "stdout",
     "output_type": "stream",
     "text": [
      "<class 'pandas.core.frame.DataFrame'>\n",
      "Int64Index: 3047 entries, 1 to 3121\n",
      "Data columns (total 13 columns):\n",
      "timestamp          3047 non-null int64\n",
      "eventType          3047 non-null object\n",
      "contentId          3047 non-null int64\n",
      "authorPersonId     3047 non-null int64\n",
      "authorSessionId    3047 non-null int64\n",
      "authorUserAgent    669 non-null object\n",
      "authorRegion       669 non-null object\n",
      "authorCountry      669 non-null object\n",
      "contentType        3047 non-null object\n",
      "url                3047 non-null object\n",
      "title              3047 non-null object\n",
      "text               3047 non-null object\n",
      "lang               3047 non-null object\n",
      "dtypes: int64(4), object(9)\n",
      "memory usage: 333.3+ KB\n"
     ]
    }
   ],
   "source": [
    "articles_df.info()"
   ]
  },
  {
   "cell_type": "code",
   "execution_count": 13,
   "metadata": {},
   "outputs": [
    {
     "data": {
      "text/html": [
       "<div>\n",
       "<style scoped>\n",
       "    .dataframe tbody tr th:only-of-type {\n",
       "        vertical-align: middle;\n",
       "    }\n",
       "\n",
       "    .dataframe tbody tr th {\n",
       "        vertical-align: top;\n",
       "    }\n",
       "\n",
       "    .dataframe thead th {\n",
       "        text-align: right;\n",
       "    }\n",
       "</style>\n",
       "<table border=\"1\" class=\"dataframe\">\n",
       "  <thead>\n",
       "    <tr style=\"text-align: right;\">\n",
       "      <th></th>\n",
       "      <th>timestamp</th>\n",
       "      <th>eventType</th>\n",
       "      <th>contentId</th>\n",
       "      <th>authorPersonId</th>\n",
       "      <th>authorSessionId</th>\n",
       "      <th>authorUserAgent</th>\n",
       "      <th>authorRegion</th>\n",
       "      <th>authorCountry</th>\n",
       "      <th>contentType</th>\n",
       "      <th>url</th>\n",
       "      <th>title</th>\n",
       "      <th>text</th>\n",
       "      <th>lang</th>\n",
       "    </tr>\n",
       "  </thead>\n",
       "  <tbody>\n",
       "    <tr>\n",
       "      <th>854</th>\n",
       "      <td>1462799402</td>\n",
       "      <td>CONTENT SHARED</td>\n",
       "      <td>-6369211973034956889</td>\n",
       "      <td>3302556033962996625</td>\n",
       "      <td>-1309754598637396315</td>\n",
       "      <td>NaN</td>\n",
       "      <td>NaN</td>\n",
       "      <td>NaN</td>\n",
       "      <td>HTML</td>\n",
       "      <td>http://www.androiddesignpatterns.com/2014/12/a...</td>\n",
       "      <td>Getting Started with Activity &amp; Fragment Trans...</td>\n",
       "      <td>This post gives a brief overview of Transition...</td>\n",
       "      <td>en</td>\n",
       "    </tr>\n",
       "    <tr>\n",
       "      <th>141</th>\n",
       "      <td>1459518806</td>\n",
       "      <td>CONTENT SHARED</td>\n",
       "      <td>6090517797383271316</td>\n",
       "      <td>-1387464358334758758</td>\n",
       "      <td>4032304591654000532</td>\n",
       "      <td>NaN</td>\n",
       "      <td>NaN</td>\n",
       "      <td>NaN</td>\n",
       "      <td>HTML</td>\n",
       "      <td>http://googlediscovery.com/2016/04/01/google-a...</td>\n",
       "      <td>April Fools - Google apresenta o realBooks, a ...</td>\n",
       "      <td>Livros digitais são ótimos, mas todos sabemos ...</td>\n",
       "      <td>pt</td>\n",
       "    </tr>\n",
       "    <tr>\n",
       "      <th>1207</th>\n",
       "      <td>1464871461</td>\n",
       "      <td>CONTENT SHARED</td>\n",
       "      <td>-7255737497176527784</td>\n",
       "      <td>3609194402293569455</td>\n",
       "      <td>6147896666617046192</td>\n",
       "      <td>NaN</td>\n",
       "      <td>NaN</td>\n",
       "      <td>NaN</td>\n",
       "      <td>HTML</td>\n",
       "      <td>http://epocanegocios.globo.com/Empresa/noticia...</td>\n",
       "      <td>Siga o líder</td>\n",
       "      <td>Aldemir Bendine (Petrobras) (Foto: Agência O G...</td>\n",
       "      <td>pt</td>\n",
       "    </tr>\n",
       "    <tr>\n",
       "      <th>2665</th>\n",
       "      <td>1477572325</td>\n",
       "      <td>CONTENT SHARED</td>\n",
       "      <td>-5011709367955107239</td>\n",
       "      <td>-1251984896177895077</td>\n",
       "      <td>-3411758262273298934</td>\n",
       "      <td>Mozilla/5.0 (X11; Linux x86_64) AppleWebKit/53...</td>\n",
       "      <td>MG</td>\n",
       "      <td>BR</td>\n",
       "      <td>HTML</td>\n",
       "      <td>http://jcrs.uol.com.br/_conteudo/2016/10/econo...</td>\n",
       "      <td>Vale reverte prejuízo e tem lucro de R$ 1,8 bi...</td>\n",
       "      <td>Investimentos da mineradora no período caíram ...</td>\n",
       "      <td>pt</td>\n",
       "    </tr>\n",
       "    <tr>\n",
       "      <th>2613</th>\n",
       "      <td>1476984097</td>\n",
       "      <td>CONTENT SHARED</td>\n",
       "      <td>8289311442635691404</td>\n",
       "      <td>3396828831632510915</td>\n",
       "      <td>1233659230241778611</td>\n",
       "      <td>Mozilla/5.0 (Macintosh; Intel Mac OS X 10_11_6...</td>\n",
       "      <td>GA</td>\n",
       "      <td>US</td>\n",
       "      <td>HTML</td>\n",
       "      <td>http://news.microsoft.com/features/have-a-coke...</td>\n",
       "      <td>Have a Coke, take a photo and celebrate the Co...</td>\n",
       "      <td>A few months ago, the Microsoft team behind Ho...</td>\n",
       "      <td>en</td>\n",
       "    </tr>\n",
       "    <tr>\n",
       "      <th>1617</th>\n",
       "      <td>1467391602</td>\n",
       "      <td>CONTENT SHARED</td>\n",
       "      <td>7434270606888620096</td>\n",
       "      <td>3891637997717104548</td>\n",
       "      <td>-2108423950476348958</td>\n",
       "      <td>NaN</td>\n",
       "      <td>NaN</td>\n",
       "      <td>NaN</td>\n",
       "      <td>HTML</td>\n",
       "      <td>https://cloudplatform.googleblog.com/2016/06/S...</td>\n",
       "      <td>Stackdriver Debugger now works with source cod...</td>\n",
       "      <td>Stackdriver Debugger has always worked with so...</td>\n",
       "      <td>en</td>\n",
       "    </tr>\n",
       "    <tr>\n",
       "      <th>2073</th>\n",
       "      <td>1471316974</td>\n",
       "      <td>CONTENT SHARED</td>\n",
       "      <td>6638782839540370044</td>\n",
       "      <td>-1032019229384696495</td>\n",
       "      <td>880025729283447629</td>\n",
       "      <td>NaN</td>\n",
       "      <td>NaN</td>\n",
       "      <td>NaN</td>\n",
       "      <td>HTML</td>\n",
       "      <td>https://www.datanami.com/2016/08/15/python-eat...</td>\n",
       "      <td>Python Eats Into R as SAS Dominance Fades</td>\n",
       "      <td>A new survey of data science tools shows that ...</td>\n",
       "      <td>en</td>\n",
       "    </tr>\n",
       "    <tr>\n",
       "      <th>290</th>\n",
       "      <td>1460122006</td>\n",
       "      <td>CONTENT SHARED</td>\n",
       "      <td>-5578229678262992168</td>\n",
       "      <td>-6316613156648676087</td>\n",
       "      <td>5673696108944885080</td>\n",
       "      <td>NaN</td>\n",
       "      <td>NaN</td>\n",
       "      <td>NaN</td>\n",
       "      <td>HTML</td>\n",
       "      <td>https://www.yahoo.com/tech/shut-up-don-t-take-...</td>\n",
       "      <td>Don't take my money: Why mobile payments haven...</td>\n",
       "      <td>A buck says you won't buy your next tank of ga...</td>\n",
       "      <td>en</td>\n",
       "    </tr>\n",
       "    <tr>\n",
       "      <th>133</th>\n",
       "      <td>1459467851</td>\n",
       "      <td>CONTENT SHARED</td>\n",
       "      <td>-8349788035147634450</td>\n",
       "      <td>-1032019229384696495</td>\n",
       "      <td>-4690277498179936282</td>\n",
       "      <td>NaN</td>\n",
       "      <td>NaN</td>\n",
       "      <td>NaN</td>\n",
       "      <td>HTML</td>\n",
       "      <td>http://uxmag.com/articles/how-mature-is-your-o...</td>\n",
       "      <td>How Mature is Your Organization when it Comes ...</td>\n",
       "      <td>Every organization has its own goals, processe...</td>\n",
       "      <td>en</td>\n",
       "    </tr>\n",
       "    <tr>\n",
       "      <th>1299</th>\n",
       "      <td>1465335780</td>\n",
       "      <td>CONTENT SHARED</td>\n",
       "      <td>3547081132182529111</td>\n",
       "      <td>-1032019229384696495</td>\n",
       "      <td>-7696592431575292648</td>\n",
       "      <td>NaN</td>\n",
       "      <td>NaN</td>\n",
       "      <td>NaN</td>\n",
       "      <td>HTML</td>\n",
       "      <td>http://www.grubstreet.com/bestofnewyork/best-c...</td>\n",
       "      <td>The Absolute Best Coffee in New York</td>\n",
       "      <td>Photo: Melissa Hom For six weeks, the editors ...</td>\n",
       "      <td>en</td>\n",
       "    </tr>\n",
       "  </tbody>\n",
       "</table>\n",
       "</div>"
      ],
      "text/plain": [
       "       timestamp       eventType            contentId       authorPersonId  \\\n",
       "854   1462799402  CONTENT SHARED -6369211973034956889  3302556033962996625   \n",
       "141   1459518806  CONTENT SHARED  6090517797383271316 -1387464358334758758   \n",
       "1207  1464871461  CONTENT SHARED -7255737497176527784  3609194402293569455   \n",
       "2665  1477572325  CONTENT SHARED -5011709367955107239 -1251984896177895077   \n",
       "2613  1476984097  CONTENT SHARED  8289311442635691404  3396828831632510915   \n",
       "1617  1467391602  CONTENT SHARED  7434270606888620096  3891637997717104548   \n",
       "2073  1471316974  CONTENT SHARED  6638782839540370044 -1032019229384696495   \n",
       "290   1460122006  CONTENT SHARED -5578229678262992168 -6316613156648676087   \n",
       "133   1459467851  CONTENT SHARED -8349788035147634450 -1032019229384696495   \n",
       "1299  1465335780  CONTENT SHARED  3547081132182529111 -1032019229384696495   \n",
       "\n",
       "          authorSessionId                                    authorUserAgent  \\\n",
       "854  -1309754598637396315                                                NaN   \n",
       "141   4032304591654000532                                                NaN   \n",
       "1207  6147896666617046192                                                NaN   \n",
       "2665 -3411758262273298934  Mozilla/5.0 (X11; Linux x86_64) AppleWebKit/53...   \n",
       "2613  1233659230241778611  Mozilla/5.0 (Macintosh; Intel Mac OS X 10_11_6...   \n",
       "1617 -2108423950476348958                                                NaN   \n",
       "2073   880025729283447629                                                NaN   \n",
       "290   5673696108944885080                                                NaN   \n",
       "133  -4690277498179936282                                                NaN   \n",
       "1299 -7696592431575292648                                                NaN   \n",
       "\n",
       "     authorRegion authorCountry contentType  \\\n",
       "854           NaN           NaN        HTML   \n",
       "141           NaN           NaN        HTML   \n",
       "1207          NaN           NaN        HTML   \n",
       "2665           MG            BR        HTML   \n",
       "2613           GA            US        HTML   \n",
       "1617          NaN           NaN        HTML   \n",
       "2073          NaN           NaN        HTML   \n",
       "290           NaN           NaN        HTML   \n",
       "133           NaN           NaN        HTML   \n",
       "1299          NaN           NaN        HTML   \n",
       "\n",
       "                                                    url  \\\n",
       "854   http://www.androiddesignpatterns.com/2014/12/a...   \n",
       "141   http://googlediscovery.com/2016/04/01/google-a...   \n",
       "1207  http://epocanegocios.globo.com/Empresa/noticia...   \n",
       "2665  http://jcrs.uol.com.br/_conteudo/2016/10/econo...   \n",
       "2613  http://news.microsoft.com/features/have-a-coke...   \n",
       "1617  https://cloudplatform.googleblog.com/2016/06/S...   \n",
       "2073  https://www.datanami.com/2016/08/15/python-eat...   \n",
       "290   https://www.yahoo.com/tech/shut-up-don-t-take-...   \n",
       "133   http://uxmag.com/articles/how-mature-is-your-o...   \n",
       "1299  http://www.grubstreet.com/bestofnewyork/best-c...   \n",
       "\n",
       "                                                  title  \\\n",
       "854   Getting Started with Activity & Fragment Trans...   \n",
       "141   April Fools - Google apresenta o realBooks, a ...   \n",
       "1207                                       Siga o líder   \n",
       "2665  Vale reverte prejuízo e tem lucro de R$ 1,8 bi...   \n",
       "2613  Have a Coke, take a photo and celebrate the Co...   \n",
       "1617  Stackdriver Debugger now works with source cod...   \n",
       "2073          Python Eats Into R as SAS Dominance Fades   \n",
       "290   Don't take my money: Why mobile payments haven...   \n",
       "133   How Mature is Your Organization when it Comes ...   \n",
       "1299               The Absolute Best Coffee in New York   \n",
       "\n",
       "                                                   text lang  \n",
       "854   This post gives a brief overview of Transition...   en  \n",
       "141   Livros digitais são ótimos, mas todos sabemos ...   pt  \n",
       "1207  Aldemir Bendine (Petrobras) (Foto: Agência O G...   pt  \n",
       "2665  Investimentos da mineradora no período caíram ...   pt  \n",
       "2613  A few months ago, the Microsoft team behind Ho...   en  \n",
       "1617  Stackdriver Debugger has always worked with so...   en  \n",
       "2073  A new survey of data science tools shows that ...   en  \n",
       "290   A buck says you won't buy your next tank of ga...   en  \n",
       "133   Every organization has its own goals, processe...   en  \n",
       "1299  Photo: Melissa Hom For six weeks, the editors ...   en  "
      ]
     },
     "execution_count": 13,
     "metadata": {},
     "output_type": "execute_result"
    }
   ],
   "source": [
    "articles_df.sample(10)"
   ]
  },
  {
   "cell_type": "code",
   "execution_count": 8,
   "metadata": {},
   "outputs": [],
   "source": [
    "interaction_df = pd.read_csv('Data/2234_3774_bundle_archive/users_interactions.csv')"
   ]
  },
  {
   "cell_type": "code",
   "execution_count": 10,
   "metadata": {},
   "outputs": [
    {
     "name": "stdout",
     "output_type": "stream",
     "text": [
      "<class 'pandas.core.frame.DataFrame'>\n",
      "RangeIndex: 72312 entries, 0 to 72311\n",
      "Data columns (total 8 columns):\n",
      "timestamp      72312 non-null int64\n",
      "eventType      72312 non-null object\n",
      "contentId      72312 non-null int64\n",
      "personId       72312 non-null int64\n",
      "sessionId      72312 non-null int64\n",
      "userAgent      56918 non-null object\n",
      "userRegion     56907 non-null object\n",
      "userCountry    56918 non-null object\n",
      "dtypes: int64(4), object(4)\n",
      "memory usage: 4.4+ MB\n"
     ]
    }
   ],
   "source": [
    "interaction_df.info()"
   ]
  },
  {
   "cell_type": "code",
   "execution_count": 11,
   "metadata": {},
   "outputs": [
    {
     "data": {
      "text/html": [
       "<div>\n",
       "<style scoped>\n",
       "    .dataframe tbody tr th:only-of-type {\n",
       "        vertical-align: middle;\n",
       "    }\n",
       "\n",
       "    .dataframe tbody tr th {\n",
       "        vertical-align: top;\n",
       "    }\n",
       "\n",
       "    .dataframe thead th {\n",
       "        text-align: right;\n",
       "    }\n",
       "</style>\n",
       "<table border=\"1\" class=\"dataframe\">\n",
       "  <thead>\n",
       "    <tr style=\"text-align: right;\">\n",
       "      <th></th>\n",
       "      <th>timestamp</th>\n",
       "      <th>eventType</th>\n",
       "      <th>contentId</th>\n",
       "      <th>personId</th>\n",
       "      <th>sessionId</th>\n",
       "      <th>userAgent</th>\n",
       "      <th>userRegion</th>\n",
       "      <th>userCountry</th>\n",
       "    </tr>\n",
       "  </thead>\n",
       "  <tbody>\n",
       "    <tr>\n",
       "      <th>57572</th>\n",
       "      <td>1475855626</td>\n",
       "      <td>VIEW</td>\n",
       "      <td>5854206600849997966</td>\n",
       "      <td>4209517478660372522</td>\n",
       "      <td>2815235160052144552</td>\n",
       "      <td>Android - Native Mobile App</td>\n",
       "      <td>SP</td>\n",
       "      <td>BR</td>\n",
       "    </tr>\n",
       "    <tr>\n",
       "      <th>12076</th>\n",
       "      <td>1464656389</td>\n",
       "      <td>VIEW</td>\n",
       "      <td>3998743085432844199</td>\n",
       "      <td>-1032019229384696495</td>\n",
       "      <td>-484145324341325773</td>\n",
       "      <td>Mozilla/5.0 (Macintosh; Intel Mac OS X 10_11_2...</td>\n",
       "      <td>NY</td>\n",
       "      <td>US</td>\n",
       "    </tr>\n",
       "    <tr>\n",
       "      <th>31345</th>\n",
       "      <td>1467136594</td>\n",
       "      <td>VIEW</td>\n",
       "      <td>7270966256391553686</td>\n",
       "      <td>-89388927330481219</td>\n",
       "      <td>-8601760165379048963</td>\n",
       "      <td>NaN</td>\n",
       "      <td>NaN</td>\n",
       "      <td>NaN</td>\n",
       "    </tr>\n",
       "    <tr>\n",
       "      <th>24545</th>\n",
       "      <td>1466004015</td>\n",
       "      <td>VIEW</td>\n",
       "      <td>-3581194288660477595</td>\n",
       "      <td>-5409830449698398534</td>\n",
       "      <td>-3487889034139626978</td>\n",
       "      <td>NaN</td>\n",
       "      <td>NaN</td>\n",
       "      <td>NaN</td>\n",
       "    </tr>\n",
       "    <tr>\n",
       "      <th>46127</th>\n",
       "      <td>1472158850</td>\n",
       "      <td>LIKE</td>\n",
       "      <td>-2271000159302779222</td>\n",
       "      <td>-709287718034731589</td>\n",
       "      <td>-1147236519157684050</td>\n",
       "      <td>NaN</td>\n",
       "      <td>NaN</td>\n",
       "      <td>NaN</td>\n",
       "    </tr>\n",
       "    <tr>\n",
       "      <th>67211</th>\n",
       "      <td>1484654121</td>\n",
       "      <td>VIEW</td>\n",
       "      <td>-6348943063155744346</td>\n",
       "      <td>-3596626804281480007</td>\n",
       "      <td>-2426518688510377485</td>\n",
       "      <td>Mozilla/5.0 (Macintosh; Intel Mac OS X 10_12_1...</td>\n",
       "      <td>SP</td>\n",
       "      <td>BR</td>\n",
       "    </tr>\n",
       "    <tr>\n",
       "      <th>5997</th>\n",
       "      <td>1465419297</td>\n",
       "      <td>LIKE</td>\n",
       "      <td>943818026930898372</td>\n",
       "      <td>-2337468721613240548</td>\n",
       "      <td>-4003972290196927412</td>\n",
       "      <td>NaN</td>\n",
       "      <td>NaN</td>\n",
       "      <td>NaN</td>\n",
       "    </tr>\n",
       "    <tr>\n",
       "      <th>6543</th>\n",
       "      <td>1460659529</td>\n",
       "      <td>VIEW</td>\n",
       "      <td>9207286802575546269</td>\n",
       "      <td>-1032019229384696495</td>\n",
       "      <td>1822267539745436764</td>\n",
       "      <td>Mozilla/5.0 (Macintosh; Intel Mac OS X 10_11_4...</td>\n",
       "      <td>NY</td>\n",
       "      <td>US</td>\n",
       "    </tr>\n",
       "    <tr>\n",
       "      <th>34441</th>\n",
       "      <td>1469099805</td>\n",
       "      <td>VIEW</td>\n",
       "      <td>4259370161044254504</td>\n",
       "      <td>3302556033962996625</td>\n",
       "      <td>8855044036409885533</td>\n",
       "      <td>Mozilla/5.0 (X11; Linux x86_64) AppleWebKit/53...</td>\n",
       "      <td>SP</td>\n",
       "      <td>BR</td>\n",
       "    </tr>\n",
       "    <tr>\n",
       "      <th>21197</th>\n",
       "      <td>1466706515</td>\n",
       "      <td>VIEW</td>\n",
       "      <td>6997620589258672675</td>\n",
       "      <td>8368708280460693260</td>\n",
       "      <td>-2291023684625068468</td>\n",
       "      <td>Mozilla/5.0 (Macintosh; Intel Mac OS X 10_11_5...</td>\n",
       "      <td>SP</td>\n",
       "      <td>BR</td>\n",
       "    </tr>\n",
       "  </tbody>\n",
       "</table>\n",
       "</div>"
      ],
      "text/plain": [
       "        timestamp eventType            contentId             personId  \\\n",
       "57572  1475855626      VIEW  5854206600849997966  4209517478660372522   \n",
       "12076  1464656389      VIEW  3998743085432844199 -1032019229384696495   \n",
       "31345  1467136594      VIEW  7270966256391553686   -89388927330481219   \n",
       "24545  1466004015      VIEW -3581194288660477595 -5409830449698398534   \n",
       "46127  1472158850      LIKE -2271000159302779222  -709287718034731589   \n",
       "67211  1484654121      VIEW -6348943063155744346 -3596626804281480007   \n",
       "5997   1465419297      LIKE   943818026930898372 -2337468721613240548   \n",
       "6543   1460659529      VIEW  9207286802575546269 -1032019229384696495   \n",
       "34441  1469099805      VIEW  4259370161044254504  3302556033962996625   \n",
       "21197  1466706515      VIEW  6997620589258672675  8368708280460693260   \n",
       "\n",
       "                 sessionId                                          userAgent  \\\n",
       "57572  2815235160052144552                        Android - Native Mobile App   \n",
       "12076  -484145324341325773  Mozilla/5.0 (Macintosh; Intel Mac OS X 10_11_2...   \n",
       "31345 -8601760165379048963                                                NaN   \n",
       "24545 -3487889034139626978                                                NaN   \n",
       "46127 -1147236519157684050                                                NaN   \n",
       "67211 -2426518688510377485  Mozilla/5.0 (Macintosh; Intel Mac OS X 10_12_1...   \n",
       "5997  -4003972290196927412                                                NaN   \n",
       "6543   1822267539745436764  Mozilla/5.0 (Macintosh; Intel Mac OS X 10_11_4...   \n",
       "34441  8855044036409885533  Mozilla/5.0 (X11; Linux x86_64) AppleWebKit/53...   \n",
       "21197 -2291023684625068468  Mozilla/5.0 (Macintosh; Intel Mac OS X 10_11_5...   \n",
       "\n",
       "      userRegion userCountry  \n",
       "57572         SP          BR  \n",
       "12076         NY          US  \n",
       "31345        NaN         NaN  \n",
       "24545        NaN         NaN  \n",
       "46127        NaN         NaN  \n",
       "67211         SP          BR  \n",
       "5997         NaN         NaN  \n",
       "6543          NY          US  \n",
       "34441         SP          BR  \n",
       "21197         SP          BR  "
      ]
     },
     "execution_count": 11,
     "metadata": {},
     "output_type": "execute_result"
    }
   ],
   "source": [
    "interaction_df.sample(10)"
   ]
  },
  {
   "cell_type": "code",
   "execution_count": 12,
   "metadata": {},
   "outputs": [
    {
     "data": {
      "text/plain": [
       "array(['VIEW', 'FOLLOW', 'BOOKMARK', 'LIKE', 'COMMENT CREATED'],\n",
       "      dtype=object)"
      ]
     },
     "execution_count": 12,
     "metadata": {},
     "output_type": "execute_result"
    }
   ],
   "source": [
    "interaction_df.eventType.unique()"
   ]
  },
  {
   "cell_type": "code",
   "execution_count": 14,
   "metadata": {},
   "outputs": [],
   "source": [
    "event_type_strength = {\n",
    "    'VIEW': 1,\n",
    "    'LIKE': 2,\n",
    "    'BOOKMARK':3,\n",
    "    'FOLLOW':4,\n",
    "    'COMMENT CREATED':5\n",
    "}"
   ]
  },
  {
   "cell_type": "code",
   "execution_count": 16,
   "metadata": {},
   "outputs": [],
   "source": [
    "interaction_df['event_type_strength'] = interaction_df.eventType.map(event_type_strength)"
   ]
  },
  {
   "cell_type": "markdown",
   "metadata": {},
   "source": [
    "* Recommender System classic problem is cold-start issue. If you join a new platform, the platform don't really know what to recommand\n",
    "* Thus, we only want recommendation system to kick in after user has done some activity. So, we will consider users with more than 5 activity"
   ]
  },
  {
   "cell_type": "code",
   "execution_count": 19,
   "metadata": {},
   "outputs": [],
   "source": [
    "user_interaction_count = interaction_df.groupby(['personId','contentId']).size().groupby('personId').size()"
   ]
  },
  {
   "cell_type": "code",
   "execution_count": 20,
   "metadata": {},
   "outputs": [
    {
     "data": {
      "text/plain": [
       "personId\n",
       "-9223121837663643404    43\n",
       "-9212075797126931087     5\n",
       "-9207251133131336884     7\n",
       "-9199575329909162940    11\n",
       "-9196668942822132778     7\n",
       "                        ..\n",
       " 9165571805999894845     5\n",
       " 9187866633451383747    17\n",
       " 9191849144618614467    12\n",
       " 9199170757466086545    14\n",
       " 9210530975708218054    63\n",
       "Length: 1895, dtype: int64"
      ]
     },
     "execution_count": 20,
     "metadata": {},
     "output_type": "execute_result"
    }
   ],
   "source": [
    "user_interaction_count"
   ]
  },
  {
   "cell_type": "code",
   "execution_count": 28,
   "metadata": {},
   "outputs": [],
   "source": [
    "user_with_enough_interaction = user_interaction_count[user_interaction_count >= 5]"
   ]
  },
  {
   "cell_type": "markdown",
   "metadata": {},
   "source": [
    "### Understanding from the above commands\n",
    "* user_interaction_count tells how much interactions each user is doing\n",
    "* user_with_enough_interaction is users with more than 5 interactions\n",
    "* We are doing this to avoid cold start problems"
   ]
  },
  {
   "cell_type": "code",
   "execution_count": 35,
   "metadata": {},
   "outputs": [],
   "source": [
    "user_with_enough_interaction_df = pd.DataFrame(user_with_enough_interaction).reset_index()[['personId']]"
   ]
  },
  {
   "cell_type": "code",
   "execution_count": 29,
   "metadata": {},
   "outputs": [
    {
     "name": "stdout",
     "output_type": "stream",
     "text": [
      "<class 'pandas.core.frame.DataFrame'>\n",
      "RangeIndex: 72312 entries, 0 to 72311\n",
      "Data columns (total 9 columns):\n",
      "timestamp              72312 non-null int64\n",
      "eventType              72312 non-null object\n",
      "contentId              72312 non-null int64\n",
      "personId               72312 non-null int64\n",
      "sessionId              72312 non-null int64\n",
      "userAgent              56918 non-null object\n",
      "userRegion             56907 non-null object\n",
      "userCountry            56918 non-null object\n",
      "event_type_strength    72312 non-null int64\n",
      "dtypes: int64(5), object(4)\n",
      "memory usage: 5.0+ MB\n"
     ]
    }
   ],
   "source": [
    "interaction_df.info()"
   ]
  },
  {
   "cell_type": "code",
   "execution_count": 38,
   "metadata": {},
   "outputs": [],
   "source": [
    "interactions_from_chosen_users = interaction_df.merge(user_with_enough_interaction_df, how='right', left_on='personId', right_on='personId')"
   ]
  },
  {
   "cell_type": "code",
   "execution_count": 39,
   "metadata": {},
   "outputs": [
    {
     "name": "stdout",
     "output_type": "stream",
     "text": [
      "<class 'pandas.core.frame.DataFrame'>\n",
      "Int64Index: 69868 entries, 0 to 69867\n",
      "Data columns (total 9 columns):\n",
      "timestamp              69868 non-null int64\n",
      "eventType              69868 non-null object\n",
      "contentId              69868 non-null int64\n",
      "personId               69868 non-null int64\n",
      "sessionId              69868 non-null int64\n",
      "userAgent              54877 non-null object\n",
      "userRegion             54867 non-null object\n",
      "userCountry            54877 non-null object\n",
      "event_type_strength    69868 non-null int64\n",
      "dtypes: int64(5), object(4)\n",
      "memory usage: 5.3+ MB\n"
     ]
    }
   ],
   "source": [
    "interactions_from_chosen_users.info()"
   ]
  },
  {
   "cell_type": "code",
   "execution_count": 43,
   "metadata": {},
   "outputs": [],
   "source": [
    "interaction_full_df = pd.DataFrame(interactions_from_chosen_users.groupby(['personId','contentId'])['event_type_strength'].sum().reset_index())"
   ]
  },
  {
   "cell_type": "code",
   "execution_count": 48,
   "metadata": {},
   "outputs": [],
   "source": [
    "df = interaction_full_df[interaction_full_df.personId == -9223121837663643404]"
   ]
  },
  {
   "cell_type": "code",
   "execution_count": 54,
   "metadata": {},
   "outputs": [
    {
     "data": {
      "text/html": [
       "<div>\n",
       "<style scoped>\n",
       "    .dataframe tbody tr th:only-of-type {\n",
       "        vertical-align: middle;\n",
       "    }\n",
       "\n",
       "    .dataframe tbody tr th {\n",
       "        vertical-align: top;\n",
       "    }\n",
       "\n",
       "    .dataframe thead th {\n",
       "        text-align: right;\n",
       "    }\n",
       "</style>\n",
       "<table border=\"1\" class=\"dataframe\">\n",
       "  <thead>\n",
       "    <tr style=\"text-align: right;\">\n",
       "      <th></th>\n",
       "      <th>personId</th>\n",
       "      <th>contentId</th>\n",
       "      <th>event_type_strength</th>\n",
       "    </tr>\n",
       "  </thead>\n",
       "  <tbody>\n",
       "    <tr>\n",
       "      <th>4</th>\n",
       "      <td>-9223121837663643404</td>\n",
       "      <td>-7423191370472335463</td>\n",
       "      <td>8</td>\n",
       "    </tr>\n",
       "    <tr>\n",
       "      <th>40</th>\n",
       "      <td>-9223121837663643404</td>\n",
       "      <td>8302949268716967655</td>\n",
       "      <td>4</td>\n",
       "    </tr>\n",
       "    <tr>\n",
       "      <th>22</th>\n",
       "      <td>-9223121837663643404</td>\n",
       "      <td>-447851796385928420</td>\n",
       "      <td>3</td>\n",
       "    </tr>\n",
       "    <tr>\n",
       "      <th>21</th>\n",
       "      <td>-9223121837663643404</td>\n",
       "      <td>-559964548932224920</td>\n",
       "      <td>2</td>\n",
       "    </tr>\n",
       "    <tr>\n",
       "      <th>10</th>\n",
       "      <td>-9223121837663643404</td>\n",
       "      <td>-6545872007932025533</td>\n",
       "      <td>2</td>\n",
       "    </tr>\n",
       "  </tbody>\n",
       "</table>\n",
       "</div>"
      ],
      "text/plain": [
       "               personId            contentId  event_type_strength\n",
       "4  -9223121837663643404 -7423191370472335463                    8\n",
       "40 -9223121837663643404  8302949268716967655                    4\n",
       "22 -9223121837663643404  -447851796385928420                    3\n",
       "21 -9223121837663643404  -559964548932224920                    2\n",
       "10 -9223121837663643404 -6545872007932025533                    2"
      ]
     },
     "execution_count": 54,
     "metadata": {},
     "output_type": "execute_result"
    }
   ],
   "source": [
    "df.sort_values(by='event_type_strength', ascending=False)[:5]"
   ]
  },
  {
   "cell_type": "code",
   "execution_count": 55,
   "metadata": {},
   "outputs": [],
   "source": [
    "### Based on this data we will do content based filtering"
   ]
  },
  {
   "cell_type": "code",
   "execution_count": 56,
   "metadata": {},
   "outputs": [],
   "source": [
    "# We will use cosine similarity here\n",
    "class ContentBasedRecommenderSystem:\n",
    "    pass"
   ]
  },
  {
   "cell_type": "code",
   "execution_count": 57,
   "metadata": {},
   "outputs": [],
   "source": [
    "class CollaborativeRecommenderSystem:\n",
    "    pass"
   ]
  },
  {
   "cell_type": "code",
   "execution_count": null,
   "metadata": {},
   "outputs": [],
   "source": []
  }
 ],
 "metadata": {
  "kernelspec": {
   "display_name": "Python 3",
   "language": "python",
   "name": "python3"
  },
  "language_info": {
   "codemirror_mode": {
    "name": "ipython",
    "version": 3
   },
   "file_extension": ".py",
   "mimetype": "text/x-python",
   "name": "python",
   "nbconvert_exporter": "python",
   "pygments_lexer": "ipython3",
   "version": "3.7.3"
  }
 },
 "nbformat": 4,
 "nbformat_minor": 2
}
