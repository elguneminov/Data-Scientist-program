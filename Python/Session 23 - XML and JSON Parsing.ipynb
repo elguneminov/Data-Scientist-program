{
 "cells": [
  {
   "cell_type": "code",
   "execution_count": 1,
   "metadata": {},
   "outputs": [],
   "source": [
    "import requests\n",
    "from bs4 import BeautifulSoup"
   ]
  },
  {
   "cell_type": "code",
   "execution_count": 13,
   "metadata": {},
   "outputs": [
    {
     "name": "stdout",
     "output_type": "stream",
     "text": [
      "<Response [403]>\n"
     ]
    }
   ],
   "source": [
    "# data = {\"X-Requested-With\":\"XMLHttpRequest\",\"User-Agent\":\"Mozilla/5.0 (Windows NT 10.0; Win64; x64) AppleWebKit/537.36 (KHTML, like Gecko) Chrome/79.0.3945.117 Safari/537.36\"}\n",
    "response = requests.get(\"https://www.pexels.com/collections/season-autumn-ac5x7ny/\")\n",
    "print(response)"
   ]
  },
  {
   "cell_type": "code",
   "execution_count": 12,
   "metadata": {},
   "outputs": [
    {
     "name": "stdout",
     "output_type": "stream",
     "text": [
      "<Response [200]>\n"
     ]
    }
   ],
   "source": [
    "url = \"https://images.pexels.com/photos/1938123/pexels-photo-1938123.jpeg?auto=compress&cs=tinysrgb&dpr=1&w=500\"\n",
    "response = requests.get(url)\n",
    "print(response)\n",
    "\n",
    "fp = open(\"pex_img.jpeg\",\"wb\")\n",
    "fp.write(response.content)\n",
    "fp.close()"
   ]
  },
  {
   "cell_type": "code",
   "execution_count": null,
   "metadata": {},
   "outputs": [],
   "source": [
    "splash engine : \n",
    "Scrapy : "
   ]
  },
  {
   "cell_type": "code",
   "execution_count": null,
   "metadata": {},
   "outputs": [],
   "source": [
    "XML and JSON"
   ]
  },
  {
   "cell_type": "code",
   "execution_count": null,
   "metadata": {},
   "outputs": [],
   "source": [
    "{\n",
    "    \"glossary\": {\n",
    "        \"title\": \"example glossary\",\n",
    "\t\t\"GlossDiv\": {\n",
    "            \"title\": \"S\",\n",
    "\t\t\t\"GlossList\": {\n",
    "                \"GlossEntry\": {\n",
    "                    \"ID\": \"SGML\",\n",
    "\t\t\t\t\t\"SortAs\": \"SGML\",\n",
    "\t\t\t\t\t\"GlossTerm\": \"Standard Generalized Markup Language\",\n",
    "\t\t\t\t\t\"Acronym\": \"SGML\",\n",
    "\t\t\t\t\t\"Abbrev\": \"ISO 8879:1986\",\n",
    "\t\t\t\t\t\"GlossDef\": {\n",
    "                        \"para\": \"A meta-markup language, used to create markup languages such as DocBook.\",\n",
    "\t\t\t\t\t\t\"GlossSeeAlso\": [\"GML\", \"XML\"]\n",
    "                    },\n",
    "\t\t\t\t\t\"GlossSee\": \"markup\"\n",
    "                }\n",
    "            }\n",
    "        }\n",
    "    }\n",
    "}"
   ]
  },
  {
   "cell_type": "code",
   "execution_count": null,
   "metadata": {},
   "outputs": [],
   "source": [
    "JSON                                                   Python\n",
    "string \"JSON\"                                          '' \" \"  \"\"\" \"\"\" \n",
    "numbers 10 15.255                                      int float \n",
    "array ['c',10,100]                                     list \n",
    "objects {\"name\":\"ABC\"}                                 dict \n",
    "true/false                                             True False\n",
    "NA                                                       Tuple \n",
    "NA                                                       Set"
   ]
  },
  {
   "cell_type": "code",
   "execution_count": 16,
   "metadata": {},
   "outputs": [
    {
     "name": "stdout",
     "output_type": "stream",
     "text": [
      "{\n",
      "    \"glossary\": {\n",
      "        \"title\": \"example glossary\",\n",
      "\t\t\"GlossDiv\": {\n",
      "            \"title\": \"S\",\n",
      "\t\t\t\"GlossList\": {\n",
      "                \"GlossEntry\": {\n",
      "                    \"ID\": \"SGML\",\n",
      "\t\t\t\t\t\"SortAs\": \"SGML\",\n",
      "\t\t\t\t\t\"GlossTerm\": \"Standard Generalized Markup Language\",\n",
      "\t\t\t\t\t\"Acronym\": \"SGML\",\n",
      "\t\t\t\t\t\"Abbrev\": \"ISO 8879:1986\",\n",
      "\t\t\t\t\t\"GlossDef\": {\n",
      "                        \"para\": \"A meta-markup language, used to create markup languages such as DocBook.\",\n",
      "\t\t\t\t\t\t\"GlossSeeAlso\": [\"GML\", \"XML\"]\n",
      "                    },\n",
      "\t\t\t\t\t\"GlossSee\": \"markup\"\n",
      "                }\n",
      "            }\n",
      "        }\n",
      "    }\n",
      "} <class 'str'>\n"
     ]
    }
   ],
   "source": [
    "fp = open(\"test.json\",\"r\")\n",
    "content = fp.read()\n",
    "print(content,type(content))\n",
    "fp.close()"
   ]
  },
  {
   "cell_type": "code",
   "execution_count": 15,
   "metadata": {},
   "outputs": [],
   "source": [
    "import json "
   ]
  },
  {
   "cell_type": "code",
   "execution_count": null,
   "metadata": {},
   "outputs": [],
   "source": [
    "loads : json str : python dict \n",
    "dumps : python dict => json str"
   ]
  },
  {
   "cell_type": "code",
   "execution_count": 27,
   "metadata": {},
   "outputs": [
    {
     "name": "stdout",
     "output_type": "stream",
     "text": [
      "{'glossary': {'title': 'example glossary', 'GlossDiv': {'title': 'S', 'GlossList': {'GlossEntry': {'ID': 'HTML', 'SortAs': 'SGML', 'GlossTerm': 'Standard Generalized Markup Language', 'Acronym': 'SGML', 'Abbrev': 'ISO 8879:1986', 'GlossDef': {'para': 'A meta-markup language, used to create markup languages such as DocBook.', 'GlossSeeAlso': ('GML', 'XML')}, 'GlossSee': 'markup'}}}}}\n"
     ]
    }
   ],
   "source": [
    "d = json.loads(content)\n",
    "# print(d)\n",
    "# print(d['glossary']['GlossDiv']['GlossList']['GlossEntry']['ID'])\n",
    "d['glossary']['GlossDiv']['GlossList']['GlossEntry']['ID'] = \"HTML\"\n",
    "# print(d)\n",
    "\n",
    "# print(d['glossary']['GlossDiv']['GlossList']['GlossEntry']['GlossDef']['GlossSeeAlso'])\n",
    "d['glossary']['GlossDiv']['GlossList']['GlossEntry']['GlossDef']['GlossSeeAlso'] = ('GML','XML')\n",
    "print(d)"
   ]
  },
  {
   "cell_type": "code",
   "execution_count": 29,
   "metadata": {},
   "outputs": [
    {
     "name": "stdout",
     "output_type": "stream",
     "text": [
      "{\n",
      "    \"glossary\": {\n",
      "        \"title\": \"example glossary\",\n",
      "        \"GlossDiv\": {\n",
      "            \"title\": \"S\",\n",
      "            \"GlossList\": {\n",
      "                \"GlossEntry\": {\n",
      "                    \"ID\": \"HTML\",\n",
      "                    \"SortAs\": \"SGML\",\n",
      "                    \"GlossTerm\": \"Standard Generalized Markup Language\",\n",
      "                    \"Acronym\": \"SGML\",\n",
      "                    \"Abbrev\": \"ISO 8879:1986\",\n",
      "                    \"GlossDef\": {\n",
      "                        \"para\": \"A meta-markup language, used to create markup languages such as DocBook.\",\n",
      "                        \"GlossSeeAlso\": [\n",
      "                            \"GML\",\n",
      "                            \"XML\"\n",
      "                        ]\n",
      "                    },\n",
      "                    \"GlossSee\": \"markup\"\n",
      "                }\n",
      "            }\n",
      "        }\n",
      "    }\n",
      "}\n"
     ]
    }
   ],
   "source": [
    "j = json.dumps(d,indent=4)\n",
    "print(j)"
   ]
  },
  {
   "cell_type": "code",
   "execution_count": 30,
   "metadata": {},
   "outputs": [],
   "source": [
    "fp = open(\"test2.json\",\"w\")\n",
    "fp.write(j)\n",
    "fp.close()"
   ]
  },
  {
   "cell_type": "code",
   "execution_count": 22,
   "metadata": {},
   "outputs": [
    {
     "name": "stdout",
     "output_type": "stream",
     "text": [
      "2000\n"
     ]
    }
   ],
   "source": [
    "l = [10,20,30,[100,200,300,[1000,2000,3000]]]\n",
    "print(l[-1][-1][1])"
   ]
  },
  {
   "cell_type": "code",
   "execution_count": null,
   "metadata": {},
   "outputs": [],
   "source": [
    "<note>\n",
    "    <to email =\"abc@xyz.com\">ABC</to>\n",
    "    <from>PQR</from>\n",
    "    <msg>Session at 4 PM</msg>\n",
    "</note>"
   ]
  },
  {
   "cell_type": "code",
   "execution_count": null,
   "metadata": {},
   "outputs": [],
   "source": [
    " <glossary><title>example glossary</title>\n",
    "  <GlossDiv><title>S</title>\n",
    "   <GlossList>\n",
    "    <GlossEntry ID=\"SGML\" SortAs=\"SGML\">\n",
    "     <GlossTerm>Standard Generalized Markup Language</GlossTerm>\n",
    "     <Acronym>SGML</Acronym>\n",
    "     <Abbrev>ISO 8879:1986</Abbrev>\n",
    "     <GlossDef>\n",
    "      <para>A meta-markup language, used to create markup\n",
    "languages such as DocBook.</para>\n",
    "      <GlossSeeAlso OtherTerm=\"GML\"/>\n",
    "      <GlossSeeAlso OtherTerm=\"XML\"/>\n",
    "     </GlossDef>\n",
    "     <GlossSee OtherTerm=\"markup\"/>\n",
    "    </GlossEntry>\n",
    "   </GlossList>\n",
    "  </GlossDiv>\n",
    " </glossary>"
   ]
  },
  {
   "cell_type": "code",
   "execution_count": null,
   "metadata": {},
   "outputs": [],
   "source": [
    "pip install xmltodict"
   ]
  },
  {
   "cell_type": "code",
   "execution_count": null,
   "metadata": {},
   "outputs": [],
   "source": [
    "loads \n",
    "dumps \n",
    "\n",
    "parse => xml => python dict\n",
    "unparse =>dict => xml "
   ]
  },
  {
   "cell_type": "code",
   "execution_count": 31,
   "metadata": {},
   "outputs": [
    {
     "name": "stdout",
     "output_type": "stream",
     "text": [
      " <glossary><title>example glossary</title>\n",
      "  <GlossDiv><title>S</title>\n",
      "   <GlossList>\n",
      "    <GlossEntry ID=\"SGML\" SortAs=\"SGML\">\n",
      "     <GlossTerm>Standard Generalized Markup Language</GlossTerm>\n",
      "     <Acronym>SGML</Acronym>\n",
      "     <Abbrev>ISO 8879:1986</Abbrev>\n",
      "     <GlossDef>\n",
      "      <para>A meta-markup language, used to create markup\n",
      "languages such as DocBook.</para>\n",
      "      <GlossSeeAlso OtherTerm=\"GML\"/>\n",
      "      <GlossSeeAlso OtherTerm=\"XML\"/>\n",
      "     </GlossDef>\n",
      "     <GlossSee OtherTerm=\"markup\"/>\n",
      "    </GlossEntry>\n",
      "   </GlossList>\n",
      "  </GlossDiv>\n",
      " </glossary>\n"
     ]
    }
   ],
   "source": [
    "fp = open(\"test.xml\",\"r\")\n",
    "content = fp.read()\n",
    "print(content)\n",
    "fp.close()"
   ]
  },
  {
   "cell_type": "code",
   "execution_count": 32,
   "metadata": {},
   "outputs": [],
   "source": [
    "import xmltodict"
   ]
  },
  {
   "cell_type": "code",
   "execution_count": 37,
   "metadata": {},
   "outputs": [
    {
     "name": "stdout",
     "output_type": "stream",
     "text": [
      "example glossary\n",
      "OrderedDict([('glossary', OrderedDict([('title', 'New value for my XML'), ('GlossDiv', OrderedDict([('title', 'S'), ('GlossList', OrderedDict([('GlossEntry', OrderedDict([('@ID', 'SGML'), ('@SortAs', 'SGML'), ('GlossTerm', 'Standard Generalized Markup Language'), ('Acronym', 'SGML'), ('Abbrev', 'ISO 8879:1986'), ('GlossDef', OrderedDict([('para', 'A meta-markup language, used to create markup\\nlanguages such as DocBook.'), ('GlossSeeAlso', [OrderedDict([('@OtherTerm', 'GML')]), OrderedDict([('@OtherTerm', 'XML')])])])), ('GlossSee', OrderedDict([('@OtherTerm', 'markup')]))]))]))]))]))])\n",
      "<?xml version=\"1.0\" encoding=\"utf-8\"?>\n",
      "<glossary><title>New value for my XML</title><GlossDiv><title>S</title><GlossList><GlossEntry ID=\"SGML\" SortAs=\"SGML\"><GlossTerm>Standard Generalized Markup Language</GlossTerm><Acronym>SGML</Acronym><Abbrev>ISO 8879:1986</Abbrev><GlossDef><para>A meta-markup language, used to create markup\n",
      "languages such as DocBook.</para><GlossSeeAlso OtherTerm=\"GML\"></GlossSeeAlso><GlossSeeAlso OtherTerm=\"XML\"></GlossSeeAlso></GlossDef><GlossSee OtherTerm=\"markup\"></GlossSee></GlossEntry></GlossList></GlossDiv></glossary>\n"
     ]
    }
   ],
   "source": [
    "d = xmltodict.parse(content)\n",
    "print(d['glossary']['title'])\n",
    "d['glossary']['title'] = \"New value for my XML\"\n",
    "print(d)\n",
    "x = xmltodict.unparse(d)\n",
    "print(x)\n",
    "\n",
    "fp = open(\"test2.xml\",\"w\")\n",
    "fp.write(x)\n",
    "fp.close()"
   ]
  },
  {
   "cell_type": "code",
   "execution_count": null,
   "metadata": {},
   "outputs": [],
   "source": []
  }
 ],
 "metadata": {
  "kernelspec": {
   "display_name": "Python 3",
   "language": "python",
   "name": "python3"
  },
  "language_info": {
   "codemirror_mode": {
    "name": "ipython",
    "version": 3
   },
   "file_extension": ".py",
   "mimetype": "text/x-python",
   "name": "python",
   "nbconvert_exporter": "python",
   "pygments_lexer": "ipython3",
   "version": "3.6.5"
  }
 },
 "nbformat": 4,
 "nbformat_minor": 2
}
