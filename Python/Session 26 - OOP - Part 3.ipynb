{
 "cells": [
  {
   "cell_type": "code",
   "execution_count": 2,
   "metadata": {},
   "outputs": [
    {
     "name": "stdout",
     "output_type": "stream",
     "text": [
      "[10, 20, 30, 40, 50, 60]\n",
      "<class 'list'>\n"
     ]
    }
   ],
   "source": [
    "l = [10,20,30,40,50]\n",
    "l.append(60)\n",
    "print(l)\n",
    "print(type(l))"
   ]
  },
  {
   "cell_type": "code",
   "execution_count": null,
   "metadata": {},
   "outputs": [],
   "source": [
    "class list:\n",
    "    \n",
    "    def append(self):\n",
    "        \n",
    "    def extend(self):\n",
    "        \n",
    "        \n",
    "        "
   ]
  },
  {
   "cell_type": "code",
   "execution_count": 3,
   "metadata": {},
   "outputs": [
    {
     "name": "stdout",
     "output_type": "stream",
     "text": [
      "<class 'list'>\n"
     ]
    }
   ],
   "source": [
    "l = list()\n",
    "print(type(l))"
   ]
  },
  {
   "cell_type": "code",
   "execution_count": null,
   "metadata": {},
   "outputs": [],
   "source": [
    "__init__"
   ]
  },
  {
   "cell_type": "code",
   "execution_count": 4,
   "metadata": {},
   "outputs": [
    {
     "name": "stdout",
     "output_type": "stream",
     "text": [
      "['__add__', '__class__', '__contains__', '__delattr__', '__delitem__', '__dir__', '__doc__', '__eq__', '__format__', '__ge__', '__getattribute__', '__getitem__', '__gt__', '__hash__', '__iadd__', '__imul__', '__init__', '__init_subclass__', '__iter__', '__le__', '__len__', '__lt__', '__mul__', '__ne__', '__new__', '__reduce__', '__reduce_ex__', '__repr__', '__reversed__', '__rmul__', '__setattr__', '__setitem__', '__sizeof__', '__str__', '__subclasshook__', 'append', 'clear', 'copy', 'count', 'extend', 'index', 'insert', 'pop', 'remove', 'reverse', 'sort']\n"
     ]
    }
   ],
   "source": [
    "print(dir(list))"
   ]
  },
  {
   "cell_type": "code",
   "execution_count": 9,
   "metadata": {},
   "outputs": [
    {
     "name": "stdout",
     "output_type": "stream",
     "text": [
      "abc\n",
      "abc\n",
      "abcpqr\n"
     ]
    }
   ],
   "source": [
    "class User:\n",
    "    def __init__(self,username,password):\n",
    "        self.username = username\n",
    "        self.password = password\n",
    "        \n",
    "    def __str__(self):\n",
    "        return self.username\n",
    "    \n",
    "    def __add__(self,obj):\n",
    "        return self.username+obj.username\n",
    "\n",
    "user1 = User(\"abc\",\"abc@123\")\n",
    "print(user1)\n",
    "\n",
    "user2 = User(\"pqr\",\"pqr@123\")\n",
    "print(user1)\n",
    "\n",
    "print(user1 + user2)"
   ]
  },
  {
   "cell_type": "code",
   "execution_count": null,
   "metadata": {},
   "outputs": [],
   "source": [
    "User:\n",
    "    username\n",
    "    password SHA512\n",
    "    first_name\n",
    "    last_name\n",
    "    email\n",
    "    \n",
    "    login()\n",
    "    logout()\n",
    "    forget_password()\n",
    "    \n",
    "code_signal\n",
    "github\n",
    "contact\n",
    "linkedin"
   ]
  },
  {
   "cell_type": "code",
   "execution_count": 20,
   "metadata": {},
   "outputs": [
    {
     "name": "stdout",
     "output_type": "stream",
     "text": [
      "<__main__.Profile object at 0x000001EA3078F0B8>\n",
      "<__main__.Profile object at 0x000001EA3074ECF8>\n",
      "('abc', 'abc@xyz.com', 'www.github.com/abc', 'www.linkedin.com/abc')\n"
     ]
    }
   ],
   "source": [
    "class User:\n",
    "    def __init__(self,username,password,email):\n",
    "        self.user_name = username\n",
    "        self.user_password = password\n",
    "        self.email = email\n",
    "\n",
    "    def view_profile(self):\n",
    "        return self.user_name,self.email\n",
    "    \n",
    "    def login(self,username,password):\n",
    "        if self.user_name == username and self.user_password == password:\n",
    "            return True\n",
    "        else:\n",
    "            return False\n",
    "        \n",
    "    def forget_password(self,new_password):\n",
    "        self.user_password = new_password\n",
    "        \n",
    "class Admin:\n",
    "    def view_profile(self):\n",
    "        return \"Admin\",\"Admin\"\n",
    "        \n",
    "class Profile(User,Admin):\n",
    "    def __init__(self,username,password,email,github,linkedin):\n",
    "        super().__init__(username,password,email)\n",
    "        self.github = github\n",
    "        self.linkedin = linkedin\n",
    "        \n",
    "    def view_profile(self):\n",
    "        u_name,u_email = super().view_profile()\n",
    "        return u_name,u_email,self.github,self.linkedin\n",
    "        \n",
    "        \n",
    "        \n",
    "\n",
    "user1 = Profile(\"abc\",\"abc@123\",\"abc@xyz.com\",\"www.github.com/abc\",\"www.linkedin.com/abc\")\n",
    "print(user1)\n",
    "\n",
    "user2 = Profile(\"pqr\",\"pqr@123\",\"pqr@xyz.com\",\"www.github.com/pqr\",\"www.linkedin.com/pqr\")\n",
    "print(user2)\n",
    "\n",
    "# print(user1.__dict__)\n",
    "\n",
    "print(user1.view_profile())\n"
   ]
  },
  {
   "cell_type": "code",
   "execution_count": null,
   "metadata": {},
   "outputs": [],
   "source": [
    "depth first left to right algo "
   ]
  },
  {
   "cell_type": "code",
   "execution_count": 21,
   "metadata": {},
   "outputs": [
    {
     "name": "stdout",
     "output_type": "stream",
     "text": [
      "Help on Profile in module __main__ object:\n",
      "\n",
      "class Profile(User, Admin)\n",
      " |  Method resolution order:\n",
      " |      Profile\n",
      " |      User\n",
      " |      Admin\n",
      " |      builtins.object\n",
      " |  \n",
      " |  Methods defined here:\n",
      " |  \n",
      " |  __init__(self, username, password, email, github, linkedin)\n",
      " |      Initialize self.  See help(type(self)) for accurate signature.\n",
      " |  \n",
      " |  view_profile(self)\n",
      " |  \n",
      " |  ----------------------------------------------------------------------\n",
      " |  Methods inherited from User:\n",
      " |  \n",
      " |  forget_password(self, new_password)\n",
      " |  \n",
      " |  login(self, username, password)\n",
      " |  \n",
      " |  ----------------------------------------------------------------------\n",
      " |  Data descriptors inherited from User:\n",
      " |  \n",
      " |  __dict__\n",
      " |      dictionary for instance variables (if defined)\n",
      " |  \n",
      " |  __weakref__\n",
      " |      list of weak references to the object (if defined)\n",
      "\n"
     ]
    }
   ],
   "source": [
    "help(user1)"
   ]
  },
  {
   "cell_type": "code",
   "execution_count": null,
   "metadata": {},
   "outputs": [],
   "source": [
    "1 Single Inheritance :\n",
    "                User \n",
    "        \n",
    "                Profile \n",
    "2.Multiple Inheritance :\n",
    "                User          Admin\n",
    "                      Profile(User,Admin)\n",
    "            \n",
    "3.Multilevel \n",
    "                User \n",
    "    \n",
    "                Profile \n",
    "        \n",
    "                portfolio \n",
    "            \n",
    "4 Hybrid :\n",
    "               User       Admin \n",
    "        \n",
    "                   Profile \n",
    "            \n",
    "            \n",
    "                   Portfolio "
   ]
  },
  {
   "cell_type": "code",
   "execution_count": null,
   "metadata": {},
   "outputs": [],
   "source": [
    "class User:\n",
    "    pass\n",
    "\n",
    "class Admin:\n",
    "    pass\n",
    "\n",
    "class Profile(User,Admin):\n",
    "    pass\n",
    "\n",
    "class Portfolio(Profile):\n",
    "    pass"
   ]
  },
  {
   "cell_type": "code",
   "execution_count": null,
   "metadata": {},
   "outputs": [],
   "source": [
    "MRO : Method Resolution Order => Depth first left to right "
   ]
  },
  {
   "cell_type": "code",
   "execution_count": null,
   "metadata": {},
   "outputs": [],
   "source": [
    "private \n",
    "protected\n",
    "public"
   ]
  },
  {
   "cell_type": "code",
   "execution_count": 32,
   "metadata": {},
   "outputs": [
    {
     "name": "stdout",
     "output_type": "stream",
     "text": [
      "<__main__.Profile object at 0x000001EA307A1828>\n",
      "<__main__.Profile object at 0x000001EA30892C88>\n",
      "('abc', 'abc@123', 'www.github.com/abc', 'www.linkedin.com/abc')\n"
     ]
    }
   ],
   "source": [
    "class User:\n",
    "    def __init__(self,username,password,email):\n",
    "        self._user_name = username\n",
    "        self._user_password = password\n",
    "        self._email = email\n",
    "        \n",
    "    def get_user_name(self):\n",
    "        return self._user_name\n",
    "    \n",
    "    def get_email(self):\n",
    "        return self._email\n",
    "    \n",
    "    def set_email(self,new_email):\n",
    "        self._email = new_email\n",
    "\n",
    "    def view_profile(self):\n",
    "        return self._user_name,self._email\n",
    "    \n",
    "    def login(self,username,password):\n",
    "        if self._user_name == username and self._user_password == password:\n",
    "            return True\n",
    "        else:\n",
    "            return False\n",
    "        \n",
    "    def set_password(self,new_password):\n",
    "        self._user_password = new_password\n",
    "        \n",
    "class Admin:\n",
    "    def view_profile(self):\n",
    "        return \"Admin\",\"Admin\"\n",
    "        \n",
    "class Profile(User,Admin):\n",
    "    def __init__(self,username,password,email,github,linkedin):\n",
    "        super().__init__(username,password,email)\n",
    "        self.github = github\n",
    "        self.linkedin = linkedin\n",
    "        \n",
    "    def view_profile(self):\n",
    "\n",
    "        return self._user_name,self._user_password,self.github,self.linkedin\n",
    "        \n",
    "        \n",
    "        \n",
    "\n",
    "user1 = Profile(\"abc\",\"abc@123\",\"abc@xyz.com\",\"www.github.com/abc\",\"www.linkedin.com/abc\")\n",
    "print(user1)\n",
    "\n",
    "user2 = Profile(\"pqr\",\"pqr@123\",\"pqr@xyz.com\",\"www.github.com/pqr\",\"www.linkedin.com/pqr\")\n",
    "print(user2)\n",
    "\n",
    "# print(user1.__dict__)\n",
    "\n",
    "print(user1.view_profile())\n",
    "\n",
    "# print(user1.get_user_name())\n",
    "\n",
    "# print(user1.get_email())\n",
    "# user1.set_email(\"rst@xyz.com\")\n",
    "# print(user1.get_email())"
   ]
  },
  {
   "cell_type": "code",
   "execution_count": 43,
   "metadata": {},
   "outputs": [
    {
     "name": "stdout",
     "output_type": "stream",
     "text": [
      "{'_user_name': 'abc', 'user_password': 'abc@123', 'email': 'abc@xyz.com'}\n",
      "abc\n"
     ]
    }
   ],
   "source": [
    "class User:\n",
    "    def __init__(self,username,password,email):\n",
    "        self._user_name = username\n",
    "        self.user_password = password\n",
    "        self.email = email\n",
    "     \n",
    "class Profile(User):\n",
    "    def __init__(self,username,password,email,github,linkedin):\n",
    "        super().__init__(username,password,email)\n",
    "        self.github = github\n",
    "        self.linkedin = linkedin\n",
    "        \n",
    "    def view_profile(self):\n",
    "\n",
    "        return self.user_name,self._user_password,self.github,self.linkedin\n",
    "\n",
    "    \n",
    "user1 = User(\"abc\",\"abc@123\",\"abc@xyz.com\")\n",
    "print(user1.__dict__)\n",
    "# print(user1._User__user_name)\n",
    "\n",
    "# user1._User__user_name = \"RST\"\n",
    "print(user1._user_name)"
   ]
  },
  {
   "cell_type": "code",
   "execution_count": null,
   "metadata": {},
   "outputs": [],
   "source": [
    "In python there is no concept of protected,its just a convention"
   ]
  }
 ],
 "metadata": {
  "kernelspec": {
   "display_name": "Python 3",
   "language": "python",
   "name": "python3"
  },
  "language_info": {
   "codemirror_mode": {
    "name": "ipython",
    "version": 3
   },
   "file_extension": ".py",
   "mimetype": "text/x-python",
   "name": "python",
   "nbconvert_exporter": "python",
   "pygments_lexer": "ipython3",
   "version": "3.6.5"
  }
 },
 "nbformat": 4,
 "nbformat_minor": 2
}
