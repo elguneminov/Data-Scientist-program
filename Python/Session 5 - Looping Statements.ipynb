{
 "cells": [
  {
   "cell_type": "code",
   "execution_count": null,
   "metadata": {},
   "outputs": [],
   "source": [
    "if condition:\n",
    "    statements\n",
    "elif condition:\n",
    "    \n",
    "else:\n",
    "    "
   ]
  },
  {
   "cell_type": "code",
   "execution_count": null,
   "metadata": {},
   "outputs": [],
   "source": [
    "if \"Python\":\n",
    "    print(\"Hello\")\n",
    "else:\n",
    "    print(\"hi\")"
   ]
  },
  {
   "cell_type": "code",
   "execution_count": null,
   "metadata": {},
   "outputs": [],
   "source": [
    "char = \"abcde\""
   ]
  },
  {
   "cell_type": "code",
   "execution_count": null,
   "metadata": {},
   "outputs": [],
   "source": [
    "marks = [400,450,350,400]"
   ]
  },
  {
   "cell_type": "code",
   "execution_count": null,
   "metadata": {},
   "outputs": [],
   "source": [
    "for \n",
    "while"
   ]
  },
  {
   "cell_type": "code",
   "execution_count": 5,
   "metadata": {},
   "outputs": [
    {
     "name": "stdout",
     "output_type": "stream",
     "text": [
      "a\n",
      "b\n",
      "c\n",
      "d\n",
      "e\n",
      "Vowel\n"
     ]
    }
   ],
   "source": [
    "chars = \"abcde\"\n",
    "for char in chars:\n",
    "    print(char)\n",
    "if char in ['a','e','i','o','u']:\n",
    "    print(\"Vowel\")\n",
    "else:\n",
    "    print(\"Consonent\")"
   ]
  },
  {
   "cell_type": "code",
   "execution_count": 8,
   "metadata": {},
   "outputs": [
    {
     "name": "stdout",
     "output_type": "stream",
     "text": [
      "10 Even 100\n",
      "15 Odd 3375\n",
      "20 Even 400\n",
      "25 Odd 15625\n",
      "30 Even 900\n",
      "45 Odd 91125\n"
     ]
    }
   ],
   "source": [
    "l = [10,15,20,25,30,45]\n",
    "# even => sqr\n",
    "# odd => cube\n",
    "for value in l:\n",
    "    if value % 2 == 0:        \n",
    "        print(value,\"Even\",value ** 2)\n",
    "    else:\n",
    "        print(value,\"Odd\",value ** 3)\n",
    "        \n",
    "        "
   ]
  },
  {
   "cell_type": "code",
   "execution_count": 10,
   "metadata": {},
   "outputs": [
    {
     "name": "stdout",
     "output_type": "stream",
     "text": [
      "150\n"
     ]
    }
   ],
   "source": [
    "l = [10,20,30,40,50]\n",
    "sum = 0\n",
    "for value in l:\n",
    " \n",
    "    sum = sum + value\n",
    "print(sum)\n",
    "    "
   ]
  },
  {
   "cell_type": "code",
   "execution_count": null,
   "metadata": {},
   "outputs": [],
   "source": [
    " 6 => 1 2 3 => 6=> Perfect number \n",
    "    1 => d\n",
    "    2 => d\n",
    "    3 => d\n",
    "    4\n",
    "    5"
   ]
  },
  {
   "cell_type": "code",
   "execution_count": 17,
   "metadata": {},
   "outputs": [
    {
     "name": "stdout",
     "output_type": "stream",
     "text": [
      "6\n",
      "perfect number\n"
     ]
    }
   ],
   "source": [
    "num = 6\n",
    "sum = 0\n",
    "possible_divisors = [1,2,3,4,5]\n",
    "for value in possible_divisors:\n",
    "    if num % value == 0:\n",
    "        sum = sum + value\n",
    "print(sum)\n",
    "\n",
    "if num == sum:\n",
    "    print(\"perfect number\")\n",
    "else:\n",
    "    print(\"Not a perfect number\")\n"
   ]
  },
  {
   "cell_type": "code",
   "execution_count": 21,
   "metadata": {},
   "outputs": [
    {
     "name": "stdout",
     "output_type": "stream",
     "text": [
      "6\n",
      "Not a perfect number\n"
     ]
    }
   ],
   "source": [
    "num = 25\n",
    "sum = 0\n",
    "\n",
    "for value in range(1,num):\n",
    "    if num % value == 0:\n",
    "        sum = sum + value\n",
    "print(sum)\n",
    "\n",
    "if num == sum:\n",
    "    print(\"perfect number\")\n",
    "else:\n",
    "    print(\"Not a perfect number\")"
   ]
  },
  {
   "cell_type": "code",
   "execution_count": null,
   "metadata": {},
   "outputs": [],
   "source": [
    "4 => 1 2 3\n",
    "1 2 => 3\n",
    "\n",
    "9 => 1 2 3 4 5 6 7 8 \n",
    "     1  3 => 4"
   ]
  },
  {
   "cell_type": "code",
   "execution_count": 22,
   "metadata": {},
   "outputs": [
    {
     "name": "stdout",
     "output_type": "stream",
     "text": [
      "117\n",
      "no a perfect number\n"
     ]
    }
   ],
   "source": [
    "num = 100\n",
    "sum = 0\n",
    "for value in range(1,num):\n",
    "\n",
    "    if num% value == 0:\n",
    "        sum = sum + value\n",
    "print(sum)\n",
    "if num == sum:\n",
    "    print(\"perfect number\")\n",
    "else:\n",
    "    print(\"no a perfect number\")\n",
    "    \n",
    "    \n"
   ]
  },
  {
   "cell_type": "code",
   "execution_count": 8,
   "metadata": {},
   "outputs": [
    {
     "name": "stdout",
     "output_type": "stream",
     "text": [
      "Element is present\n"
     ]
    }
   ],
   "source": [
    "l = [10,20,30,40,50,60,70]\n",
    "key = 500\n",
    "flag = False\n",
    "for value in l:\n",
    "#     print(value)\n",
    "    if key == value:\n",
    "        flag = True\n",
    "        break\n",
    "    else:\n",
    "        continue\n",
    "        \n",
    "if flag:\n",
    "    print(\"Element is present\")\n",
    "else:\n",
    "    print(\"Element is not present\")"
   ]
  },
  {
   "cell_type": "code",
   "execution_count": 16,
   "metadata": {},
   "outputs": [
    {
     "name": "stdout",
     "output_type": "stream",
     "text": [
      "Element is present 4\n"
     ]
    }
   ],
   "source": [
    "l = [10,20,30,40,50,60,70]\n",
    "key = 50\n",
    "\n",
    "for index,value in enumerate(l):\n",
    "    if key == value:\n",
    "        print(\"Element is present\",index)\n",
    "        break\n",
    "else:\n",
    "    print(\"Element is not present\")\n",
    "    \n",
    "\n",
    "        \n"
   ]
  },
  {
   "cell_type": "code",
   "execution_count": 15,
   "metadata": {},
   "outputs": [
    {
     "name": "stdout",
     "output_type": "stream",
     "text": [
      "0 10\n",
      "1 20\n",
      "2 30\n",
      "3 40\n",
      "4 50\n"
     ]
    }
   ],
   "source": [
    "l = [10,20,30,40,50]\n",
    "for index,value in enumerate(l):\n",
    "    print(index,value)"
   ]
  },
  {
   "cell_type": "code",
   "execution_count": null,
   "metadata": {},
   "outputs": [],
   "source": [
    "break \n",
    "continue"
   ]
  },
  {
   "cell_type": "code",
   "execution_count": null,
   "metadata": {},
   "outputs": [],
   "source": [
    "range(10) 0 1 2 3 ..... 9\n",
    "range(10,50) 10 11 12 ..... 49\n",
    "range(10,50,5)  10 15 20 25 30 35 40 45"
   ]
  },
  {
   "cell_type": "code",
   "execution_count": 3,
   "metadata": {},
   "outputs": [
    {
     "name": "stdout",
     "output_type": "stream",
     "text": [
      "vowel\n"
     ]
    }
   ],
   "source": [
    "char = 'a'\n",
    "if char in ['a','e','i','o','u']:\n",
    "    print(\"vowel\")\n",
    "else:\n",
    "    print(\"consonent\")"
   ]
  },
  {
   "cell_type": "code",
   "execution_count": null,
   "metadata": {},
   "outputs": [],
   "source": [
    "for [var_name] in [iterable datatype]:\n",
    "    print(var_name)"
   ]
  },
  {
   "cell_type": "code",
   "execution_count": 1,
   "metadata": {},
   "outputs": [
    {
     "name": "stdout",
     "output_type": "stream",
     "text": [
      "10\n",
      "20\n",
      "30\n",
      "40\n",
      "50\n"
     ]
    }
   ],
   "source": [
    "l = [10,20,30,40,50]\n",
    "for value in l:\n",
    "    print(value)"
   ]
  }
 ],
 "metadata": {
  "kernelspec": {
   "display_name": "Python 3",
   "language": "python",
   "name": "python3"
  },
  "language_info": {
   "codemirror_mode": {
    "name": "ipython",
    "version": 3
   },
   "file_extension": ".py",
   "mimetype": "text/x-python",
   "name": "python",
   "nbconvert_exporter": "python",
   "pygments_lexer": "ipython3",
   "version": "3.6.5"
  }
 },
 "nbformat": 4,
 "nbformat_minor": 2
}
