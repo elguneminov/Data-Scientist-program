{
 "cells": [
  {
   "cell_type": "code",
   "execution_count": null,
   "metadata": {},
   "outputs": [],
   "source": [
    "Mutable :\n",
    "    list \n",
    "    dict\n",
    "    set \n",
    "    \n",
    "Immutable :\n",
    "    int\n",
    "    float\n",
    "    tuple\n",
    "    str\n",
    "    bool\n",
    "    "
   ]
  },
  {
   "cell_type": "code",
   "execution_count": null,
   "metadata": {},
   "outputs": [],
   "source": [
    "== and = \n",
    "== and is"
   ]
  },
  {
   "cell_type": "code",
   "execution_count": null,
   "metadata": {},
   "outputs": [],
   "source": [
    "id \n",
    "type"
   ]
  },
  {
   "cell_type": "code",
   "execution_count": null,
   "metadata": {},
   "outputs": [],
   "source": [
    "in "
   ]
  },
  {
   "cell_type": "code",
   "execution_count": null,
   "metadata": {},
   "outputs": [],
   "source": [
    "for user_defined_var in [iterable datatype]:\n",
    "    statement1\n",
    "    if\n",
    "         break\n",
    "else:\n",
    "statement2"
   ]
  },
  {
   "cell_type": "code",
   "execution_count": null,
   "metadata": {},
   "outputs": [],
   "source": [
    "range(50) 0 1 2 .... 49\n",
    "range(10,50) 10.... 49 \n",
    "range(10,50,2) ...... 10 12 14 ..... 48"
   ]
  },
  {
   "cell_type": "code",
   "execution_count": null,
   "metadata": {},
   "outputs": [],
   "source": [
    "enumerate\n",
    "\n",
    "for index,value in enumerate(iterable_datatype):\n",
    "    \n"
   ]
  },
  {
   "cell_type": "code",
   "execution_count": 2,
   "metadata": {},
   "outputs": [
    {
     "name": "stdout",
     "output_type": "stream",
     "text": [
      "10\n",
      "20\n",
      "30\n",
      "40\n"
     ]
    }
   ],
   "source": [
    "l = [10,20,30,40,50]\n",
    "for value in l:\n",
    "    print(value)\n",
    "    if value == 40:\n",
    "        break\n",
    "else:\n",
    "    print(\"Getting here\")"
   ]
  },
  {
   "cell_type": "code",
   "execution_count": 4,
   "metadata": {},
   "outputs": [
    {
     "name": "stdout",
     "output_type": "stream",
     "text": [
      "max num is 100\n"
     ]
    }
   ],
   "source": [
    "l = [10,20,45,100,2,70,14]\n",
    "# max number from this list => 100\n",
    "\n",
    "# max = 0\n",
    "\n",
    "# 1. if 10 > max:\n",
    "#       max = 10 \n",
    "#    else:\n",
    "#       continue \n",
    "        \n",
    "# 2. if 20 > 10:\n",
    "#       max = 20 \n",
    "        \n",
    "# 3  if 45 > 20\n",
    "#       max = 45\n",
    "    \n",
    "# 4. if 100 > 45:\n",
    "#       max = 100\n",
    "        \n",
    "# 5 if 2 > 100 \n",
    "\n",
    "#   else:\n",
    "#         continue\n",
    "\n",
    "max = 0 \n",
    "for value in l:\n",
    "    if value > max:\n",
    "        max = value\n",
    "print(\"max num is\",max)\n",
    "\n",
    "1 : value : 10   max : 0    10 > 0   max = 10 \n",
    "2. value  : 20   max : 10   20 > 10  max = 20 \n",
    "\n",
    "max = 100\n",
    "value :2  max = 100  2 > 100 \n",
    "        "
   ]
  },
  {
   "cell_type": "code",
   "execution_count": null,
   "metadata": {},
   "outputs": [],
   "source": [
    "l = [10,20,45,100,2,70,14]\n",
    "sum = 0\n",
    "\n",
    "sum = sum + 10\n",
    "sum = sum + 20\n",
    "sum = sum + 45\n",
    "\n",
    "print(sum)"
   ]
  },
  {
   "cell_type": "code",
   "execution_count": 6,
   "metadata": {},
   "outputs": [
    {
     "name": "stdout",
     "output_type": "stream",
     "text": [
      "100\n"
     ]
    }
   ],
   "source": [
    "l = [10,20,100,40,50,60,70]\n",
    "\n",
    "max = 0\n",
    "for value in l:\n",
    "    if value > max:\n",
    "        max = value\n",
    "\n",
    "print(max)\n",
    "#         break\n"
   ]
  },
  {
   "cell_type": "code",
   "execution_count": null,
   "metadata": {},
   "outputs": [],
   "source": [
    "l = [10,20,45,100,2,70,14]\n",
    "\n",
    "max1 => max \n",
    "max2=> sec max \n",
    "\n",
    "COndition 1 :\n",
    "    max1 = 45\n",
    "    max2 = 20\n",
    "    \n",
    "    Current no = 100 \n",
    "    max1 = 100\n",
    "    max2 = 45\n",
    "    \n",
    "Condition 2:\n",
    "    max1 => 100\n",
    "    max2 => 45\n",
    "    \n",
    "    Current No : 70 \n",
    "    max1 => 100\n",
    "    max2 => 70\n",
    "    \n",
    "Condition 3 : \n",
    "    max1 =100\n",
    "    max2 = 70\n",
    "    \n",
    "    currentno : 14 \n",
    "    \n",
    "        \n",
    "    \n",
    "\n",
    "current no 10 : current_ no is greater than max1 and max2:\n",
    "                    max1 = current_no \n",
    "                    max2 = max1\n",
    "                current_no is less than max1 but greater than max 2 \n",
    "                    max2 = current_no\n",
    "                current_ no less than max1 and less than max2 \n",
    "                    continue\n"
   ]
  },
  {
   "cell_type": "code",
   "execution_count": 7,
   "metadata": {},
   "outputs": [
    {
     "name": "stdout",
     "output_type": "stream",
     "text": [
      "100 70\n"
     ]
    }
   ],
   "source": [
    "l = [10,20,45,100,2,70,14]\n",
    "max1 = 0\n",
    "max2 = 0\n",
    "\n",
    "for value in l:\n",
    "    if value > max1 and value > max2:\n",
    "        max2 = max1\n",
    "        max1 = value\n",
    "    elif value < max1 and value > max2:\n",
    "        max2 = value\n",
    "        \n",
    "print(max1,max2)"
   ]
  },
  {
   "cell_type": "code",
   "execution_count": null,
   "metadata": {},
   "outputs": [],
   "source": [
    "     1        2     3     4     5\n",
    "1    1        2     3           5\n",
    "2    2        4     6\n",
    "3    3        6     9 \n",
    "4    4        8\n",
    "5    5\n",
    "6    6\n",
    "     7\n",
    "     8\n",
    "     9\n",
    "10    10      20     30          10"
   ]
  },
  {
   "cell_type": "code",
   "execution_count": 17,
   "metadata": {},
   "outputs": [
    {
     "name": "stdout",
     "output_type": "stream",
     "text": [
      "1\t2\t3\t4\t5\t\n",
      "\n",
      "2\t4\t6\t8\t10\t\n",
      "\n",
      "3\t6\t9\t12\t15\t\n",
      "\n",
      "4\t8\t12\t16\t20\t\n",
      "\n",
      "5\t10\t15\t20\t25\t\n",
      "\n",
      "6\t12\t18\t24\t30\t\n",
      "\n",
      "7\t14\t21\t28\t35\t\n",
      "\n",
      "8\t16\t24\t32\t40\t\n",
      "\n",
      "9\t18\t27\t36\t45\t\n",
      "\n",
      "10\t20\t30\t40\t50\t\n",
      "\n"
     ]
    }
   ],
   "source": [
    "for value1 in range(1,11):\n",
    "    for value2 in range(1,6):\n",
    "        print(value1 * value2,end = \"\\t\")\n",
    "    print(\"\\n\")"
   ]
  },
  {
   "cell_type": "code",
   "execution_count": 15,
   "metadata": {},
   "outputs": [
    {
     "name": "stdout",
     "output_type": "stream",
     "text": [
      "10;Hi\tPython\n",
      "12345\n"
     ]
    }
   ],
   "source": [
    "print(10,\"Hi\",end = \"\\t\",sep=\";\")\n",
    "print(\"Python\")\n",
    "print(\"12345\")"
   ]
  },
  {
   "cell_type": "code",
   "execution_count": 8,
   "metadata": {},
   "outputs": [
    {
     "name": "stdout",
     "output_type": "stream",
     "text": [
      "1 100\n",
      "1 101\n",
      "1 102\n",
      "2 100\n",
      "2 101\n",
      "2 102\n",
      "3 100\n",
      "3 101\n",
      "3 102\n",
      "4 100\n",
      "4 101\n",
      "4 102\n"
     ]
    }
   ],
   "source": [
    "for value1 in range(1,5):\n",
    "    for value2 in range(100,103):\n",
    "        print(value1,value2)"
   ]
  },
  {
   "cell_type": "code",
   "execution_count": 19,
   "metadata": {},
   "outputs": [
    {
     "name": "stdout",
     "output_type": "stream",
     "text": [
      "P\n",
      "y\n",
      "t\n",
      "h\n",
      "o\n",
      "n\n",
      " \n",
      "s\n",
      "a\n",
      "m\n",
      "p\n",
      "l\n",
      "e\n",
      " \n",
      "s\n",
      "t\n",
      "r\n",
      "i\n",
      "n\n",
      "g\n"
     ]
    }
   ],
   "source": [
    "s = \"Python sample string\"\n",
    "for value in s:\n",
    "    print(value)"
   ]
  },
  {
   "cell_type": "code",
   "execution_count": 22,
   "metadata": {},
   "outputs": [
    {
     "name": "stdout",
     "output_type": "stream",
     "text": [
      "10\n",
      "20\n",
      "Python\n",
      "40\n"
     ]
    }
   ],
   "source": [
    "l = (10,20,\"Python\",40)\n",
    "for value in l:\n",
    "    print(value)"
   ]
  },
  {
   "cell_type": "code",
   "execution_count": 23,
   "metadata": {},
   "outputs": [
    {
     "name": "stdout",
     "output_type": "stream",
     "text": [
      "1\n",
      "2\n",
      "3\n",
      "4\n"
     ]
    }
   ],
   "source": [
    "d = {1:1,2:4,3:9,4:16}\n",
    "for x in d:\n",
    "    print(x)"
   ]
  },
  {
   "cell_type": "code",
   "execution_count": 24,
   "metadata": {},
   "outputs": [
    {
     "ename": "TypeError",
     "evalue": "'int' object is not iterable",
     "output_type": "error",
     "traceback": [
      "\u001b[1;31m---------------------------------------------------------------------------\u001b[0m",
      "\u001b[1;31mTypeError\u001b[0m                                 Traceback (most recent call last)",
      "\u001b[1;32m<ipython-input-24-db007f7d897d>\u001b[0m in \u001b[0;36m<module>\u001b[1;34m()\u001b[0m\n\u001b[1;32m----> 1\u001b[1;33m \u001b[1;32mfor\u001b[0m \u001b[0mvalue\u001b[0m \u001b[1;32min\u001b[0m \u001b[1;36m100\u001b[0m\u001b[1;33m:\u001b[0m\u001b[1;33m\u001b[0m\u001b[0m\n\u001b[0m\u001b[0;32m      2\u001b[0m     \u001b[0mprint\u001b[0m\u001b[1;33m(\u001b[0m\u001b[0mvalue\u001b[0m\u001b[1;33m)\u001b[0m\u001b[1;33m\u001b[0m\u001b[0m\n",
      "\u001b[1;31mTypeError\u001b[0m: 'int' object is not iterable"
     ]
    }
   ],
   "source": [
    "for value in 100:\n",
    "    print(value)"
   ]
  },
  {
   "cell_type": "code",
   "execution_count": null,
   "metadata": {},
   "outputs": [],
   "source": [
    "str => char\n",
    "list/tuple/set => element \n",
    "dict => keys\n",
    "int/float => error"
   ]
  },
  {
   "cell_type": "code",
   "execution_count": null,
   "metadata": {},
   "outputs": [],
   "source": [
    "while [condition]:\n",
    "    statemnts1\n",
    "    \n",
    "    \n",
    "statement2"
   ]
  },
  {
   "cell_type": "code",
   "execution_count": null,
   "metadata": {},
   "outputs": [],
   "source": [
    "while 100:"
   ]
  },
  {
   "cell_type": "code",
   "execution_count": null,
   "metadata": {},
   "outputs": [],
   "source": [
    "non zero => True \n",
    "zero : 0 False [] \"\" () {} => False "
   ]
  },
  {
   "cell_type": "code",
   "execution_count": 25,
   "metadata": {},
   "outputs": [
    {
     "name": "stdout",
     "output_type": "stream",
     "text": [
      "210\n"
     ]
    }
   ],
   "source": [
    "sum = 0\n",
    "count = 1 \n",
    "\n",
    "while count <= 20:\n",
    "    sum = sum + count \n",
    "    count+=1\n",
    "    \n",
    "print(sum)"
   ]
  },
  {
   "cell_type": "code",
   "execution_count": 26,
   "metadata": {},
   "outputs": [
    {
     "name": "stdout",
     "output_type": "stream",
     "text": [
      "120\n"
     ]
    }
   ],
   "source": [
    "num = 5 \n",
    "# fact = 5 * 4 * 3 * 2 * 1 => 120 \n",
    "fact = 1 \n",
    "\n",
    "while num > 0:\n",
    "    fact *= num\n",
    "    num -=1\n",
    "    \n",
    "print(fact)\n",
    "\n"
   ]
  },
  {
   "cell_type": "code",
   "execution_count": null,
   "metadata": {},
   "outputs": [],
   "source": [
    "5 fact = 1 * 5 => 5   num 4 \n",
    "  fact = 5 * 4 => 20  num 3 \n",
    "    "
   ]
  }
 ],
 "metadata": {
  "kernelspec": {
   "display_name": "Python 3",
   "language": "python",
   "name": "python3"
  },
  "language_info": {
   "codemirror_mode": {
    "name": "ipython",
    "version": 3
   },
   "file_extension": ".py",
   "mimetype": "text/x-python",
   "name": "python",
   "nbconvert_exporter": "python",
   "pygments_lexer": "ipython3",
   "version": "3.6.5"
  }
 },
 "nbformat": 4,
 "nbformat_minor": 2
}
