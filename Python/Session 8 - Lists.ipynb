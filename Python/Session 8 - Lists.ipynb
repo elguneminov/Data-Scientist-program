{
 "cells": [
  {
   "cell_type": "code",
   "execution_count": null,
   "metadata": {},
   "outputs": [],
   "source": [
    "index\n",
    "\n",
    "isalpha\n",
    "isdigit\n",
    "issapce\n",
    "isalnum\n",
    "\n",
    "upper     isupper\n",
    "lower     islower\n",
    "title     istitke\n",
    "capitalize\n",
    "\n",
    "split \n",
    "join\n",
    "\n",
    "format \n",
    "\n",
    "strip "
   ]
  },
  {
   "cell_type": "code",
   "execution_count": null,
   "metadata": {},
   "outputs": [],
   "source": [
    "num1 = 100\n",
    "num2 = 200 \n",
    "s =\"\""
   ]
  },
  {
   "cell_type": "code",
   "execution_count": null,
   "metadata": {},
   "outputs": [],
   "source": [
    "help(str)"
   ]
  },
  {
   "cell_type": "code",
   "execution_count": null,
   "metadata": {},
   "outputs": [],
   "source": [
    "print(dir(str))"
   ]
  },
  {
   "cell_type": "code",
   "execution_count": null,
   "metadata": {},
   "outputs": [],
   "source": [
    "s = \"aaabbcccccccccddaaaddcaaccc\"\n",
    "# expected output => a\n",
    "1.max_char = ''\n",
    "  max_count = 0 \n",
    "2.Fecth the first char => 'a'\n",
    "  count of 'a' in 's' => 8(count)\n",
    "3. check if max_count < current char count  0 < 8 :\n",
    "         max_char ='a'\n",
    "         max_count = 8\n",
    "repeat for remaining chars\n",
    "            "
   ]
  },
  {
   "cell_type": "code",
   "execution_count": 6,
   "metadata": {},
   "outputs": [
    {
     "name": "stdout",
     "output_type": "stream",
     "text": [
      "c is present max no times and the count is 13\n"
     ]
    }
   ],
   "source": [
    "s = \"aaabbcccccccccddaaaddcaaccc\"\n",
    "max_char = ''\n",
    "max_count = 0\n",
    "\n",
    "for value in s:\n",
    "    curr_char_count = s.count(value)\n",
    "#     print(value,curr_char_count)\n",
    "    if max_count < curr_char_count:\n",
    "        max_char = value\n",
    "        max_count = curr_char_count\n",
    "print(\"{} is present max no times and the count is {}\".format(max_char,max_count))"
   ]
  },
  {
   "cell_type": "code",
   "execution_count": 7,
   "metadata": {},
   "outputs": [
    {
     "name": "stdout",
     "output_type": "stream",
     "text": [
      "2\n"
     ]
    }
   ],
   "source": [
    "s = \"Python,java,python,java\"\n",
    "print(s.count(\"java\"))"
   ]
  },
  {
   "cell_type": "code",
   "execution_count": null,
   "metadata": {},
   "outputs": [],
   "source": [
    "num = 6\n",
    "1. All possible divisors 1,2,3,4,5\n",
    "2. Find actual divisors 1,2,3\n",
    "3. Sum of all actual divisors \n",
    "4. Compare summ of actual div is equal to the num or not "
   ]
  },
  {
   "cell_type": "code",
   "execution_count": null,
   "metadata": {},
   "outputs": [],
   "source": [
    "List :\n",
    "    - mutable => add/update/delete \n",
    "    - ordered => indexing and slicing \n",
    "    - heretogenious [10,20,30,\"Python\",[100,200,300],{1:1,2:4,3:9}]"
   ]
  },
  {
   "cell_type": "code",
   "execution_count": 15,
   "metadata": {},
   "outputs": [
    {
     "name": "stdout",
     "output_type": "stream",
     "text": [
      "[]\n"
     ]
    }
   ],
   "source": [
    "l = [\"Python\",\"Java\",[100,200,300,400,500,[1000,2000,3000,4000]],\"C\",\"C++\"]\n",
    "print(l[2][-1][::-1])"
   ]
  },
  {
   "cell_type": "code",
   "execution_count": null,
   "metadata": {},
   "outputs": [],
   "source": [
    "Add:\n",
    "    - append \n",
    "    - extend\n",
    "    - insert "
   ]
  },
  {
   "cell_type": "code",
   "execution_count": 17,
   "metadata": {},
   "outputs": [
    {
     "name": "stdout",
     "output_type": "stream",
     "text": [
      "2759589898504\n",
      "2759589898504\n",
      "[100, 200, 300, 400, 500]\n"
     ]
    }
   ],
   "source": [
    "l = [100,200,300,400]\n",
    "print(id(l))\n",
    "l.append(500)\n",
    "print(id(l))\n",
    "print(l)"
   ]
  },
  {
   "cell_type": "code",
   "execution_count": 20,
   "metadata": {},
   "outputs": [
    {
     "name": "stdout",
     "output_type": "stream",
     "text": [
      "None\n",
      "[100, 200, 300, 400, [500, 600]]\n"
     ]
    }
   ],
   "source": [
    "l = [100,200,300,400]\n",
    "\n",
    "r = l.append([500,600])\n",
    "print(r)\n",
    "print(l)"
   ]
  },
  {
   "cell_type": "code",
   "execution_count": 22,
   "metadata": {},
   "outputs": [
    {
     "name": "stdout",
     "output_type": "stream",
     "text": [
      "[10, 20, 30, 40, 100, 200, 300, 400]\n"
     ]
    }
   ],
   "source": [
    "l1 = [10,20,30,40]\n",
    "l2 = [100,200,300,400]\n",
    "l1.extend(l2)\n",
    "print(l1)"
   ]
  },
  {
   "cell_type": "code",
   "execution_count": 24,
   "metadata": {},
   "outputs": [
    {
     "name": "stdout",
     "output_type": "stream",
     "text": [
      "[10, 20, 30, 40, 'Python']\n"
     ]
    }
   ],
   "source": [
    "l1 = [10,20,30,40]\n",
    "l1.append(\"Python\")\n",
    "print(l1)"
   ]
  },
  {
   "cell_type": "code",
   "execution_count": 30,
   "metadata": {},
   "outputs": [
    {
     "name": "stdout",
     "output_type": "stream",
     "text": [
      "[10, 20, 30, 40, 100]\n"
     ]
    }
   ],
   "source": [
    "l1 = [10,20,30,40]\n",
    "l1.extend((100,))\n",
    "print(l1)"
   ]
  },
  {
   "cell_type": "code",
   "execution_count": 29,
   "metadata": {},
   "outputs": [
    {
     "name": "stdout",
     "output_type": "stream",
     "text": [
      "<class 'tuple'>\n"
     ]
    }
   ],
   "source": [
    "t = (100,)\n",
    "print(type(t))"
   ]
  },
  {
   "cell_type": "code",
   "execution_count": 31,
   "metadata": {},
   "outputs": [
    {
     "name": "stdout",
     "output_type": "stream",
     "text": [
      "[10, 20, 400, 30, 40]\n"
     ]
    }
   ],
   "source": [
    "l1 = [10,20,30,40]\n",
    "l1.insert(2,400)\n",
    "print(l1)"
   ]
  },
  {
   "cell_type": "code",
   "execution_count": null,
   "metadata": {},
   "outputs": [],
   "source": [
    "0 10 20 30 40 50 60 100\n",
    "0 1  2  3  4  5  6 7 "
   ]
  },
  {
   "cell_type": "code",
   "execution_count": null,
   "metadata": {},
   "outputs": [],
   "source": [
    "ord\n",
    "chr "
   ]
  },
  {
   "cell_type": "code",
   "execution_count": null,
   "metadata": {},
   "outputs": [],
   "source": [
    "'a' => ASCII"
   ]
  },
  {
   "cell_type": "code",
   "execution_count": 36,
   "metadata": {},
   "outputs": [
    {
     "name": "stdout",
     "output_type": "stream",
     "text": [
      "97 122\n",
      "a z\n"
     ]
    }
   ],
   "source": [
    "print(ord('a'),ord('z'))\n",
    "print(chr(97),chr(122))"
   ]
  },
  {
   "cell_type": "code",
   "execution_count": null,
   "metadata": {},
   "outputs": [],
   "source": [
    "range(10) 0 ..... 9\n",
    "range('a','z') "
   ]
  },
  {
   "cell_type": "code",
   "execution_count": 37,
   "metadata": {},
   "outputs": [
    {
     "ename": "TypeError",
     "evalue": "'str' object cannot be interpreted as an integer",
     "output_type": "error",
     "traceback": [
      "\u001b[1;31m---------------------------------------------------------------------------\u001b[0m",
      "\u001b[1;31mTypeError\u001b[0m                                 Traceback (most recent call last)",
      "\u001b[1;32m<ipython-input-37-fcb8f41b58e1>\u001b[0m in \u001b[0;36m<module>\u001b[1;34m()\u001b[0m\n\u001b[1;32m----> 1\u001b[1;33m \u001b[0mprint\u001b[0m\u001b[1;33m(\u001b[0m\u001b[0mrange\u001b[0m\u001b[1;33m(\u001b[0m\u001b[1;34m'a'\u001b[0m\u001b[1;33m,\u001b[0m\u001b[1;34m'z'\u001b[0m\u001b[1;33m)\u001b[0m\u001b[1;33m)\u001b[0m\u001b[1;33m\u001b[0m\u001b[0m\n\u001b[0m",
      "\u001b[1;31mTypeError\u001b[0m: 'str' object cannot be interpreted as an integer"
     ]
    }
   ],
   "source": [
    "print(range('a','z'))"
   ]
  },
  {
   "cell_type": "code",
   "execution_count": null,
   "metadata": {},
   "outputs": [],
   "source": [
    "l =['a','b'.......'z']\n",
    "1. Define a list to store the chars\n",
    "2. start => 'a' , end =>'z'\n",
    "3. find ascii for 'a' and for 'z'\n",
    "4. Generate all the int between the range of ascii of a to acii of z\n",
    "5. Convert ascci int to char \n",
    "6. append the char into the list "
   ]
  },
  {
   "cell_type": "code",
   "execution_count": 42,
   "metadata": {},
   "outputs": [
    {
     "name": "stdout",
     "output_type": "stream",
     "text": [
      "['a', 'b', 'c', 'd', 'e', 'f', 'g', 'h', 'i', 'j', 'k', 'l', 'm', 'n', 'o', 'p', 'q', 'r', 's', 't', 'u', 'v', 'w', 'x', 'y', 'z']\n"
     ]
    }
   ],
   "source": [
    "chars = []\n",
    "for value in range(ord('a'),ord('z')+1):\n",
    "    chars.append(chr(value))\n",
    "print(chars)"
   ]
  },
  {
   "cell_type": "code",
   "execution_count": null,
   "metadata": {},
   "outputs": [],
   "source": [
    "Add: \n",
    "    append(\"python\")\n",
    "    extend(\"Python\")\n",
    "    insert \n",
    "\n",
    "Update:\n",
    "    "
   ]
  },
  {
   "cell_type": "code",
   "execution_count": 46,
   "metadata": {},
   "outputs": [
    {
     "name": "stdout",
     "output_type": "stream",
     "text": [
      "[10, 20, 300, 40, 50]\n"
     ]
    }
   ],
   "source": [
    "l = [10,20,30,40,50]\n",
    "l[2] = 300\n",
    "print(l)"
   ]
  },
  {
   "cell_type": "code",
   "execution_count": 44,
   "metadata": {},
   "outputs": [
    {
     "name": "stdout",
     "output_type": "stream",
     "text": [
      "['__add__', '__class__', '__contains__', '__delattr__', '__delitem__', '__dir__', '__doc__', '__eq__', '__format__', '__ge__', '__getattribute__', '__getitem__', '__gt__', '__hash__', '__iadd__', '__imul__', '__init__', '__init_subclass__', '__iter__', '__le__', '__len__', '__lt__', '__mul__', '__ne__', '__new__', '__reduce__', '__reduce_ex__', '__repr__', '__reversed__', '__rmul__', '__setattr__', '__setitem__', '__sizeof__', '__str__', '__subclasshook__', 'append', 'clear', 'copy', 'count', 'extend', 'index', 'insert', 'pop', 'remove', 'reverse', 'sort']\n"
     ]
    }
   ],
   "source": [
    "print(dir(list))"
   ]
  },
  {
   "cell_type": "code",
   "execution_count": null,
   "metadata": {},
   "outputs": [],
   "source": [
    "Delete:\n",
    "    pop => index\n",
    "    remove => value\n",
    "    clear \n",
    "    del"
   ]
  },
  {
   "cell_type": "code",
   "execution_count": 49,
   "metadata": {},
   "outputs": [
    {
     "name": "stdout",
     "output_type": "stream",
     "text": [
      "[10, 20, 40, 50] 30\n"
     ]
    }
   ],
   "source": [
    "l = [10,20,30,40,50]\n",
    "r = l.pop(2)\n",
    "print(l,r)"
   ]
  },
  {
   "cell_type": "code",
   "execution_count": 51,
   "metadata": {},
   "outputs": [
    {
     "name": "stdout",
     "output_type": "stream",
     "text": [
      "[10, 30, 40, 20, 50]\n"
     ]
    }
   ],
   "source": [
    "l = [10,20,30,40,20,50]\n",
    "l.remove(20)\n",
    "print(l)"
   ]
  },
  {
   "cell_type": "code",
   "execution_count": 53,
   "metadata": {},
   "outputs": [
    {
     "name": "stdout",
     "output_type": "stream",
     "text": [
      "[]\n"
     ]
    },
    {
     "ename": "NameError",
     "evalue": "name 'l' is not defined",
     "output_type": "error",
     "traceback": [
      "\u001b[1;31m---------------------------------------------------------------------------\u001b[0m",
      "\u001b[1;31mNameError\u001b[0m                                 Traceback (most recent call last)",
      "\u001b[1;32m<ipython-input-53-4c823eeaf1cd>\u001b[0m in \u001b[0;36m<module>\u001b[1;34m()\u001b[0m\n\u001b[0;32m      4\u001b[0m \u001b[1;33m\u001b[0m\u001b[0m\n\u001b[0;32m      5\u001b[0m \u001b[1;32mdel\u001b[0m \u001b[0ml\u001b[0m\u001b[1;33m\u001b[0m\u001b[0m\n\u001b[1;32m----> 6\u001b[1;33m \u001b[0mprint\u001b[0m\u001b[1;33m(\u001b[0m\u001b[0ml\u001b[0m\u001b[1;33m)\u001b[0m\u001b[1;33m\u001b[0m\u001b[0m\n\u001b[0m",
      "\u001b[1;31mNameError\u001b[0m: name 'l' is not defined"
     ]
    }
   ],
   "source": [
    "l = [10,20,30,40,50]\n",
    "l.clear()\n",
    "print(l)\n",
    "\n",
    "del l\n",
    "print(l)"
   ]
  },
  {
   "cell_type": "code",
   "execution_count": 60,
   "metadata": {},
   "outputs": [
    {
     "name": "stdout",
     "output_type": "stream",
     "text": [
      "[10, 20, 30, 10, 20, 30]\n"
     ]
    }
   ],
   "source": [
    "l1 = [10,20,30]\n",
    "l2 = [100,200,300]\n",
    "print(l1 * 2)\n",
    "# l1.extend(l2)\n",
    "# print(l1)"
   ]
  },
  {
   "cell_type": "code",
   "execution_count": 59,
   "metadata": {},
   "outputs": [
    {
     "name": "stdout",
     "output_type": "stream",
     "text": [
      "['__add__', '__class__', '__contains__', '__delattr__', '__delitem__', '__dir__', '__doc__', '__eq__', '__format__', '__ge__', '__getattribute__', '__getitem__', '__gt__', '__hash__', '__iadd__', '__imul__', '__init__', '__init_subclass__', '__iter__', '__le__', '__len__', '__lt__', '__mul__', '__ne__', '__new__', '__reduce__', '__reduce_ex__', '__repr__', '__reversed__', '__rmul__', '__setattr__', '__setitem__', '__sizeof__', '__str__', '__subclasshook__', 'append', 'clear', 'copy', 'count', 'extend', 'index', 'insert', 'pop', 'remove', 'reverse', 'sort']\n"
     ]
    }
   ],
   "source": [
    "print(dir(list))"
   ]
  },
  {
   "cell_type": "code",
   "execution_count": 62,
   "metadata": {},
   "outputs": [
    {
     "name": "stdout",
     "output_type": "stream",
     "text": [
      "2\n",
      "2\n"
     ]
    }
   ],
   "source": [
    "l = [10,10,20,30,40,10,20]\n",
    "print(l.count(20))\n",
    "print(l.index(20))\n"
   ]
  },
  {
   "cell_type": "code",
   "execution_count": 64,
   "metadata": {},
   "outputs": [
    {
     "name": "stdout",
     "output_type": "stream",
     "text": [
      "[40, 30, 20, 20, 10, 10, 10]\n"
     ]
    }
   ],
   "source": [
    "l = [10,10,20,30,40,10,20]\n",
    "l.sort(reverse=True)\n",
    "print(l)"
   ]
  },
  {
   "cell_type": "code",
   "execution_count": null,
   "metadata": {},
   "outputs": [],
   "source": [
    "l1 = [10,20,30,10,10,200,300,45,1,2,3]\n",
    "l2 = [100,200,10,10,30,45,85,100,200]\n",
    "\n",
    "# combine, sort , unique elements\n",
    "1. Concatenate two lists\n",
    "2. Sort the concatented list \n",
    "3. Define new list to store unique values \n",
    "4. Iterate over the concatenated list \n",
    "5. CHeck if element is present in result list or not ,\n",
    "         if not present add to the result list \n",
    "    \n",
    "\n",
    "    \n",
    "1. Concatenate two lists\n",
    "2. Sort the concatented list \n",
    "3. Define new list to store unique values \n",
    "4. Iterate over the concatenated list \n",
    "5. CHeck if current elemnt and next elemnts is same or not \n",
    "        if same remove one of the element "
   ]
  },
  {
   "cell_type": "code",
   "execution_count": 67,
   "metadata": {},
   "outputs": [
    {
     "name": "stdout",
     "output_type": "stream",
     "text": [
      "[1, 2, 3, 10, 10, 10, 10, 10, 20, 30, 30, 45, 45, 85, 100, 100, 200, 200, 200, 300]\n"
     ]
    },
    {
     "ename": "IndexError",
     "evalue": "list index out of range",
     "output_type": "error",
     "traceback": [
      "\u001b[1;31m---------------------------------------------------------------------------\u001b[0m",
      "\u001b[1;31mIndexError\u001b[0m                                Traceback (most recent call last)",
      "\u001b[1;32m<ipython-input-67-23fc6773b5e2>\u001b[0m in \u001b[0;36m<module>\u001b[1;34m()\u001b[0m\n\u001b[0;32m      7\u001b[0m \u001b[1;31m# print(l3[:-1])\u001b[0m\u001b[1;33m\u001b[0m\u001b[1;33m\u001b[0m\u001b[0m\n\u001b[0;32m      8\u001b[0m \u001b[1;32mfor\u001b[0m \u001b[0mindex\u001b[0m\u001b[1;33m,\u001b[0m\u001b[0mvalue\u001b[0m \u001b[1;32min\u001b[0m \u001b[0menumerate\u001b[0m\u001b[1;33m(\u001b[0m\u001b[0ml3\u001b[0m\u001b[1;33m[\u001b[0m\u001b[1;33m:\u001b[0m\u001b[1;33m-\u001b[0m\u001b[1;36m1\u001b[0m\u001b[1;33m]\u001b[0m\u001b[1;33m)\u001b[0m\u001b[1;33m:\u001b[0m\u001b[1;33m\u001b[0m\u001b[0m\n\u001b[1;32m----> 9\u001b[1;33m     \u001b[1;32mif\u001b[0m \u001b[0ml3\u001b[0m\u001b[1;33m[\u001b[0m\u001b[0mindex\u001b[0m\u001b[1;33m]\u001b[0m \u001b[1;33m==\u001b[0m \u001b[0ml3\u001b[0m\u001b[1;33m[\u001b[0m\u001b[0mindex\u001b[0m\u001b[1;33m+\u001b[0m\u001b[1;36m1\u001b[0m\u001b[1;33m]\u001b[0m\u001b[1;33m:\u001b[0m\u001b[1;33m\u001b[0m\u001b[0m\n\u001b[0m\u001b[0;32m     10\u001b[0m         \u001b[0ml3\u001b[0m\u001b[1;33m.\u001b[0m\u001b[0mpop\u001b[0m\u001b[1;33m(\u001b[0m\u001b[0mindex\u001b[0m\u001b[1;33m)\u001b[0m\u001b[1;33m\u001b[0m\u001b[0m\n\u001b[0;32m     11\u001b[0m \u001b[1;33m\u001b[0m\u001b[0m\n",
      "\u001b[1;31mIndexError\u001b[0m: list index out of range"
     ]
    }
   ],
   "source": [
    "l1 = [10,20,30,10,10,200,300,45,1,2,3]\n",
    "l2 = [100,200,10,10,30,45,85,100,200]\n",
    "\n",
    "l3 = l1 + l2\n",
    "l3.sort()\n",
    "print(l3)\n",
    "# print(l3[:-1])\n",
    "for index,value in enumerate(l3[:-1]):\n",
    "    if l3[index] == l3[index+1]:\n",
    "        l3.pop(index)\n",
    "        \n",
    "print(l3)"
   ]
  },
  {
   "cell_type": "code",
   "execution_count": 68,
   "metadata": {},
   "outputs": [
    {
     "name": "stdout",
     "output_type": "stream",
     "text": [
      "[1, 2, 3, 10, 20, 30, 45, 85, 100, 200, 300]\n"
     ]
    }
   ],
   "source": [
    "l1 = [10,20,30,10,10,200,300,45,1,2,3]\n",
    "l2 = [100,200,10,10,30,45,85,100,200]\n",
    "result = []\n",
    "l3 = l1 + l2\n",
    "l3.sort()\n",
    "\n",
    "for value in l3:\n",
    "    if value not in result:\n",
    "        result.append(value)\n",
    "print(result)\n",
    "        "
   ]
  },
  {
   "cell_type": "code",
   "execution_count": null,
   "metadata": {},
   "outputs": [],
   "source": [
    "at the start : 10"
   ]
  }
 ],
 "metadata": {
  "kernelspec": {
   "display_name": "Python 3",
   "language": "python",
   "name": "python3"
  },
  "language_info": {
   "codemirror_mode": {
    "name": "ipython",
    "version": 3
   },
   "file_extension": ".py",
   "mimetype": "text/x-python",
   "name": "python",
   "nbconvert_exporter": "python",
   "pygments_lexer": "ipython3",
   "version": "3.6.5"
  }
 },
 "nbformat": 4,
 "nbformat_minor": 2
}
