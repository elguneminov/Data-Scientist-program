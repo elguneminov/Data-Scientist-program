{
 "cells": [
  {
   "cell_type": "code",
   "execution_count": null,
   "metadata": {},
   "outputs": [],
   "source": [
    "Dict :\n",
    "    add : \n",
    "        setdefault \n",
    "        d[key] = value \n",
    "        \n",
    "    Update :\n",
    "         d[key] = new_value\n",
    "            \n",
    "    Delete:\n",
    "        pop(key) \n",
    "        popitem \n",
    "        clear \n",
    "        del \n",
    "        \n",
    "        \n",
    "List :\n",
    "    add :\n",
    "        append(\"Python\") => \"Python\"\n",
    "        insert \n",
    "        extend(\"python\") => \"p\"\"y\".....\n",
    "        \n",
    "    Update:\n",
    "         l[index] = new_value\n",
    "            \n",
    "    Delete :\n",
    "        pop => index\n",
    "        del\n",
    "        clear \n",
    "        remove => value"
   ]
  },
  {
   "cell_type": "code",
   "execution_count": 2,
   "metadata": {},
   "outputs": [
    {
     "name": "stdout",
     "output_type": "stream",
     "text": [
      "[10, 20, 30, 40, 50, 60]\n"
     ]
    }
   ],
   "source": [
    "l = [10,20,30,40,50]\n",
    "l.append(60)\n",
    "print(l)"
   ]
  },
  {
   "cell_type": "code",
   "execution_count": null,
   "metadata": {},
   "outputs": [],
   "source": [
    "Modularity \n",
    "Code reuse "
   ]
  },
  {
   "cell_type": "code",
   "execution_count": 3,
   "metadata": {},
   "outputs": [
    {
     "name": "stdout",
     "output_type": "stream",
     "text": [
      "300\n"
     ]
    }
   ],
   "source": [
    "num1 = 100\n",
    "num2 = 200 \n",
    "num3 =  num1 + num2\n",
    "print(num3)\n"
   ]
  },
  {
   "cell_type": "code",
   "execution_count": null,
   "metadata": {},
   "outputs": [],
   "source": [
    "#fun def \n",
    "def [user_defined_function_name](arg1,arg2):\n",
    "    statements \n",
    "    \n",
    "#call the func\n",
    "user_defined_function_name(10,20)\n",
    "print()"
   ]
  },
  {
   "cell_type": "code",
   "execution_count": 9,
   "metadata": {},
   "outputs": [
    {
     "name": "stdout",
     "output_type": "stream",
     "text": [
      "30\n"
     ]
    }
   ],
   "source": [
    "def add(num1,num2):\n",
    "    num3 = num1 + num2\n",
    "    return num3\n",
    "    \n",
    "l = add(10,20)\n",
    "print(l)"
   ]
  },
  {
   "cell_type": "code",
   "execution_count": 7,
   "metadata": {},
   "outputs": [
    {
     "name": "stdout",
     "output_type": "stream",
     "text": [
      "4\n"
     ]
    }
   ],
   "source": [
    "l = [10,20,30,40,50,60]\n",
    "r = l.index(50)\n",
    "print(r)"
   ]
  },
  {
   "cell_type": "code",
   "execution_count": 13,
   "metadata": {},
   "outputs": [
    {
     "name": "stdout",
     "output_type": "stream",
     "text": [
      "30\n"
     ]
    }
   ],
   "source": [
    "def add(num1,num2):\n",
    "    num3 = num1 + num2\n",
    "    print(num3)\n",
    "    \n",
    "add(10,20)\n",
    "# print(l)"
   ]
  },
  {
   "cell_type": "code",
   "execution_count": 14,
   "metadata": {},
   "outputs": [
    {
     "name": "stdout",
     "output_type": "stream",
     "text": [
      "30\n"
     ]
    }
   ],
   "source": [
    "def add(num1,num2):\n",
    "    num3 = num1 + num2\n",
    "    return num3\n",
    "    \n",
    "result = add(10,20)\n",
    "print(result)"
   ]
  },
  {
   "cell_type": "code",
   "execution_count": null,
   "metadata": {},
   "outputs": [],
   "source": [
    "3 function which return value                \n",
    "     pop \n",
    "     sum \n",
    "     popitem\n",
    "     join \n",
    "3 function which does not return a value\n",
    "     sort()\n",
    "     append\n",
    "     remove \n",
    "     "
   ]
  },
  {
   "cell_type": "code",
   "execution_count": 15,
   "metadata": {},
   "outputs": [
    {
     "name": "stdout",
     "output_type": "stream",
     "text": [
      "True\n",
      "False\n"
     ]
    }
   ],
   "source": [
    "# iscapitalize \n",
    "def iscapitalize(s):\n",
    "    if s == s.capitalize():\n",
    "        return True\n",
    "    else:\n",
    "        return False\n",
    "\n",
    "s1 = \"Python is easy to learn\"\n",
    "result = iscapitalize(s1)\n",
    "print(result)\n",
    "\n",
    "s2 = \"Python Is eaSy to leArn\"\n",
    "result = iscapitalize(s2)\n",
    "print(result)"
   ]
  },
  {
   "cell_type": "code",
   "execution_count": 29,
   "metadata": {},
   "outputs": [
    {
     "name": "stdout",
     "output_type": "stream",
     "text": [
      "[1, 4, 10, 20, 45, 85, 95, 100]\n",
      "100\n"
     ]
    }
   ],
   "source": [
    "def get_max(l,index=1):\n",
    "    s = set(l)\n",
    "    l1 = sorted(s)\n",
    "    print(l1)\n",
    "    return l1[-index]\n",
    "    \n",
    "l = [45,10,45,85,4,1,10,10,20,100,100,95,95]\n",
    "\n",
    "element = get_max(l)\n",
    "print(element)"
   ]
  },
  {
   "cell_type": "code",
   "execution_count": null,
   "metadata": {},
   "outputs": [],
   "source": [
    "1. get unique elements using set \n",
    "2. sort the list in ascending order \n",
    "3. fetch the required element"
   ]
  },
  {
   "cell_type": "code",
   "execution_count": 23,
   "metadata": {},
   "outputs": [
    {
     "name": "stdout",
     "output_type": "stream",
     "text": [
      "10 20\n",
      "30\n",
      "Python Java\n",
      "PythonJava\n",
      "[10, 20, 30] [100, 200, 300]\n",
      "[10, 20, 30, 100, 200, 300]\n",
      "10 Python\n",
      "10Python\n"
     ]
    }
   ],
   "source": [
    "def add(a,b):\n",
    "    print(a,b)\n",
    "    if type(a) == type(b):\n",
    "        print(a+b)\n",
    "    else:\n",
    "        print(str(a)+str(b))\n",
    "    \n",
    "add(10,20)\n",
    "add(\"Python\",\"Java\")\n",
    "add([10,20,30],[100,200,300])\n",
    "add(10,\"Python\")"
   ]
  },
  {
   "cell_type": "code",
   "execution_count": null,
   "metadata": {},
   "outputs": [],
   "source": [
    "Parameter passing techniques \n",
    "    1. Positional args => tot no of arg in fun def and in func call should be same, sequential mapping of args \n",
    "    2. Default args => set the default value in func def for specific arg\n",
    "    3. Variable length positional arg => packing \n",
    "    4. Keyword args"
   ]
  },
  {
   "cell_type": "code",
   "execution_count": 24,
   "metadata": {},
   "outputs": [
    {
     "ename": "TypeError",
     "evalue": "add() takes 2 positional arguments but 3 were given",
     "output_type": "error",
     "traceback": [
      "\u001b[1;31m---------------------------------------------------------------------------\u001b[0m",
      "\u001b[1;31mTypeError\u001b[0m                                 Traceback (most recent call last)",
      "\u001b[1;32m<ipython-input-24-c0a835a6268d>\u001b[0m in \u001b[0;36m<module>\u001b[1;34m()\u001b[0m\n\u001b[0;32m      3\u001b[0m     \u001b[1;32mreturn\u001b[0m \u001b[0mnum3\u001b[0m\u001b[1;33m\u001b[0m\u001b[0m\n\u001b[0;32m      4\u001b[0m \u001b[1;33m\u001b[0m\u001b[0m\n\u001b[1;32m----> 5\u001b[1;33m \u001b[0mresult\u001b[0m \u001b[1;33m=\u001b[0m \u001b[0madd\u001b[0m\u001b[1;33m(\u001b[0m\u001b[1;36m10\u001b[0m\u001b[1;33m,\u001b[0m\u001b[1;36m20\u001b[0m\u001b[1;33m,\u001b[0m\u001b[1;36m30\u001b[0m\u001b[1;33m)\u001b[0m\u001b[1;33m\u001b[0m\u001b[0m\n\u001b[0m\u001b[0;32m      6\u001b[0m \u001b[0mprint\u001b[0m\u001b[1;33m(\u001b[0m\u001b[0mresult\u001b[0m\u001b[1;33m)\u001b[0m\u001b[1;33m\u001b[0m\u001b[0m\n",
      "\u001b[1;31mTypeError\u001b[0m: add() takes 2 positional arguments but 3 were given"
     ]
    }
   ],
   "source": [
    "def add(num1,num2):\n",
    "    num3 = num1 + num2\n",
    "    return num3\n",
    "    \n",
    "result = add(10,20)\n",
    "print(result)"
   ]
  },
  {
   "cell_type": "code",
   "execution_count": 36,
   "metadata": {},
   "outputs": [
    {
     "ename": "TypeError",
     "evalue": "add() takes from 0 to 3 positional arguments but 5 were given",
     "output_type": "error",
     "traceback": [
      "\u001b[1;31m---------------------------------------------------------------------------\u001b[0m",
      "\u001b[1;31mTypeError\u001b[0m                                 Traceback (most recent call last)",
      "\u001b[1;32m<ipython-input-36-ed4d2bc005cd>\u001b[0m in \u001b[0;36m<module>\u001b[1;34m()\u001b[0m\n\u001b[0;32m      4\u001b[0m     \u001b[1;32mreturn\u001b[0m \u001b[0mnum3\u001b[0m\u001b[1;33m\u001b[0m\u001b[0m\n\u001b[0;32m      5\u001b[0m \u001b[1;33m\u001b[0m\u001b[0m\n\u001b[1;32m----> 6\u001b[1;33m \u001b[0mresult\u001b[0m \u001b[1;33m=\u001b[0m \u001b[0madd\u001b[0m\u001b[1;33m(\u001b[0m\u001b[1;36m10\u001b[0m\u001b[1;33m,\u001b[0m\u001b[1;36m20\u001b[0m\u001b[1;33m,\u001b[0m\u001b[1;36m30\u001b[0m\u001b[1;33m,\u001b[0m\u001b[1;36m40\u001b[0m\u001b[1;33m,\u001b[0m\u001b[1;36m50\u001b[0m\u001b[1;33m)\u001b[0m\u001b[1;33m\u001b[0m\u001b[0m\n\u001b[0m\u001b[0;32m      7\u001b[0m \u001b[0mprint\u001b[0m\u001b[1;33m(\u001b[0m\u001b[0mresult\u001b[0m\u001b[1;33m)\u001b[0m\u001b[1;33m\u001b[0m\u001b[0m\n\u001b[0;32m      8\u001b[0m \u001b[1;33m\u001b[0m\u001b[0m\n",
      "\u001b[1;31mTypeError\u001b[0m: add() takes from 0 to 3 positional arguments but 5 were given"
     ]
    }
   ],
   "source": [
    "def add(num1=0,num2=0,num3=0):\n",
    "    print(num1,num2,num3)\n",
    "    num3 = num1 + num2 + num3\n",
    "    return num3\n",
    "    \n",
    "result = add(10,20,30,40,50)\n",
    "print(result)\n",
    "\n",
    "result = add()\n",
    "print(result)\n"
   ]
  },
  {
   "cell_type": "code",
   "execution_count": 35,
   "metadata": {},
   "outputs": [
    {
     "name": "stdout",
     "output_type": "stream",
     "text": [
      "10 20 30 40 50 60 70 80 90 100 200 300 400\n",
      "100\n"
     ]
    }
   ],
   "source": [
    "print(10,20,30,40,50,60,70,80,90,100,200,300,400)\n",
    "print(100)"
   ]
  },
  {
   "cell_type": "code",
   "execution_count": 32,
   "metadata": {},
   "outputs": [
    {
     "name": "stdout",
     "output_type": "stream",
     "text": [
      "Help on built-in function print in module builtins:\n",
      "\n",
      "print(...)\n",
      "    print(value, ..., sep=' ', end='\\n', file=sys.stdout, flush=False)\n",
      "    \n",
      "    Prints the values to a stream, or to sys.stdout by default.\n",
      "    Optional keyword arguments:\n",
      "    file:  a file-like object (stream); defaults to the current sys.stdout.\n",
      "    sep:   string inserted between values, default a space.\n",
      "    end:   string appended after the last value, default a newline.\n",
      "    flush: whether to forcibly flush the stream.\n",
      "\n"
     ]
    }
   ],
   "source": [
    "help(print)"
   ]
  },
  {
   "cell_type": "code",
   "execution_count": 41,
   "metadata": {},
   "outputs": [
    {
     "name": "stdout",
     "output_type": "stream",
     "text": [
      "(10, 20, 30, 40, 50)\n",
      "150\n",
      "(10, 20, 30, 40, 50, 80, 80, 90)\n",
      "400\n",
      "(10, 20, 30)\n",
      "60\n",
      "()\n",
      "0\n"
     ]
    }
   ],
   "source": [
    "def add(*args):\n",
    "    print(args)\n",
    "    return sum(args)\n",
    "    \n",
    "result = add(10,20,30,40,50)\n",
    "print(result)\n",
    "\n",
    "result = add(10,20,30,40,50,80,80,90)\n",
    "print(result)\n",
    "\n",
    "result = add(10,20,30)\n",
    "print(result)\n",
    "\n",
    "result = add()\n",
    "print(result)"
   ]
  },
  {
   "cell_type": "code",
   "execution_count": 46,
   "metadata": {},
   "outputs": [
    {
     "name": "stdout",
     "output_type": "stream",
     "text": [
      "True\n",
      "True\n"
     ]
    }
   ],
   "source": [
    "def login(username,password):\n",
    "    if username == \"abc\" and password == \"abc@123\":\n",
    "        return True\n",
    "    else:\n",
    "        return False \n",
    "    \n",
    "print(login(\"abc\",\"abc@123\"))\n",
    "print(login(password=\"abc@123\",username=\"abc\"))"
   ]
  },
  {
   "cell_type": "code",
   "execution_count": 48,
   "metadata": {},
   "outputs": [
    {
     "name": "stdout",
     "output_type": "stream",
     "text": [
      "100;200\n"
     ]
    }
   ],
   "source": [
    "print(100,200,sep =\";\")"
   ]
  },
  {
   "cell_type": "code",
   "execution_count": 47,
   "metadata": {},
   "outputs": [
    {
     "name": "stdout",
     "output_type": "stream",
     "text": [
      "Help on built-in function print in module builtins:\n",
      "\n",
      "print(...)\n",
      "    print(value, ..., sep=' ', end='\\n', file=sys.stdout, flush=False)\n",
      "    \n",
      "    Prints the values to a stream, or to sys.stdout by default.\n",
      "    Optional keyword arguments:\n",
      "    file:  a file-like object (stream); defaults to the current sys.stdout.\n",
      "    sep:   string inserted between values, default a space.\n",
      "    end:   string appended after the last value, default a newline.\n",
      "    flush: whether to forcibly flush the stream.\n",
      "\n"
     ]
    }
   ],
   "source": [
    "help(print)"
   ]
  },
  {
   "cell_type": "code",
   "execution_count": null,
   "metadata": {},
   "outputs": [],
   "source": [
    "1. positional => no arg in func def and in func call same,\n",
    "2. default in func def you can spcify default value , will be used only when value for arg is not passed \n",
    "3. variable length positional-  packing - *args => tuple  \n",
    "4. keyword args => call , keywords should be same as fun def "
   ]
  }
 ],
 "metadata": {
  "kernelspec": {
   "display_name": "Python 3",
   "language": "python",
   "name": "python3"
  },
  "language_info": {
   "codemirror_mode": {
    "name": "ipython",
    "version": 3
   },
   "file_extension": ".py",
   "mimetype": "text/x-python",
   "name": "python",
   "nbconvert_exporter": "python",
   "pygments_lexer": "ipython3",
   "version": "3.6.5"
  }
 },
 "nbformat": 4,
 "nbformat_minor": 2
}
