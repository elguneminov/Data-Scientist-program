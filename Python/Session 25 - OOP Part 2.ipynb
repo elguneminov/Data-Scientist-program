{
 "cells": [
  {
   "cell_type": "code",
   "execution_count": null,
   "metadata": {},
   "outputs": [],
   "source": [
    "class ClassName:\n",
    "    def __init__(self)\n",
    "    self.variable_name\n",
    "obj_name = ClassName()"
   ]
  },
  {
   "cell_type": "code",
   "execution_count": null,
   "metadata": {},
   "outputs": [],
   "source": [
    "Problem 1 :\n",
    "Student :\n",
    "    - all students of class 10th \n",
    "    - for every student: roll_no, name, marks of 5 subjects (every subject 100)\n",
    "    - calculate the result \n",
    "            Need to strore if student pass/failed    score >= 40 pass else : failed \n",
    "        \n",
    "    - Topper of the class \n",
    "    - Details of all the failed students "
   ]
  },
  {
   "cell_type": "code",
   "execution_count": null,
   "metadata": {},
   "outputs": [],
   "source": [
    "Problem 2 :\n",
    "    \n",
    "Course : in every course there are multiple tutorials \n",
    "    \n",
    "For Course there is course_name, description, category\n",
    "\n",
    "For Tutorial : Tutorial name, content, course \n",
    "    \n",
    "    \n",
    "    Find all the Tutorials of Course \"Python\"\n",
    "    Find all the tutorials of category \"Programming\""
   ]
  },
  {
   "cell_type": "code",
   "execution_count": null,
   "metadata": {},
   "outputs": [],
   "source": [
    "Course :\n",
    "    course_name\n",
    "    desc\n",
    "    category\n",
    "    \n",
    "    create_course\n",
    "    update_course\n",
    "    delete_course\n",
    "    \n",
    "Tutorial:\n",
    "    name\n",
    "    content\n",
    "    course_mapping\n",
    "    \n",
    "    create_course\n",
    "    update_course\n",
    "    delete_course"
   ]
  },
  {
   "cell_type": "code",
   "execution_count": null,
   "metadata": {},
   "outputs": [],
   "source": [
    "instance variable : \n",
    "class variable "
   ]
  },
  {
   "cell_type": "code",
   "execution_count": 30,
   "metadata": {},
   "outputs": [
    {
     "name": "stdout",
     "output_type": "stream",
     "text": [
      "3\n",
      "(101, 'Basics', 'Operators|Datatypes|Typecasting')\n",
      "(102, 'Loops', 'For|While')\n",
      "(103, 'Numpy', 'Numpy array')\n"
     ]
    }
   ],
   "source": [
    "class Course:\n",
    "    courses = []\n",
    "    c_count = 0\n",
    "    def __init__(self,c_id,c_name,c_desc,c_category):\n",
    "        self.c_id = c_id\n",
    "        self.c_name = c_name\n",
    "        self.c_desc = c_desc\n",
    "        self.c_category = c_category\n",
    "        Course.courses.append(self)\n",
    "        Course.c_count+=1\n",
    "\n",
    "class Tutorial:\n",
    "    \n",
    "    tutorials = []\n",
    "    t_count = 0\n",
    "    \n",
    "    @classmethod\n",
    "    def add_tutorial(cls,obj):\n",
    "        cls.tutorials.append(obj)\n",
    "        \n",
    "    @classmethod\n",
    "    def incr_count(cls):\n",
    "        cls.t_count+=1\n",
    "        \n",
    "    @classmethod\n",
    "    def delete_all_tut(cls):\n",
    "        for tut in cls.tutorials:\n",
    "            del tut\n",
    "            \n",
    "        cls.tutorials.clear()\n",
    "        \n",
    "    \n",
    "    def __init__(self,t_id,t_title,t_content,course):\n",
    "        self.t_id = t_id\n",
    "        self.t_title = t_title\n",
    "        self.t_content = t_content\n",
    "        self.course = course\n",
    "        \n",
    "        Tutorial.add_tutorial(self)\n",
    "        Tutorial.incr_count()\n",
    "        \n",
    "    def get_details(self):\n",
    "        return self.t_id,self.t_title,self.t_content\n",
    "\n",
    "\n",
    "course1 = Course(1,\"Python Programming\",\"Python\",\"Programming\")\n",
    "course2 = Course(2,\"Java Programming\",\"Python\",\"Programming\")\n",
    "course3 = Course(3,\"C Programming\",\"Python\",\"Programming\")\n",
    "course4 = Course(4,\"JavaScript Programming\",\"Python\",\"Programming\")\n",
    "course5 = Course(5,\"Data Science\",\"Python\",\"Machine Learning\")\n",
    "\n",
    "\n",
    "tut1 = Tutorial(101,\"Basics\",\"Operators|Datatypes|Typecasting\",course1)\n",
    "tut2 = Tutorial(102,\"Loops\",\"For|While\",course1)\n",
    "tut3 = Tutorial(103,\"Numpy\",\"Numpy array\",course5)\n",
    "\n",
    "print(Tutorial.t_count)\n",
    "for tut in Tutorial.tutorials:\n",
    "    if tut.course.c_name == \"Python Programming\":\n",
    "        print(tut.get_details())\n",
    "        \n",
    "        \n",
    "for tut in Tutorial.tutorials:\n",
    "    if tut.course.c_category == \"Machine Learning\":\n",
    "        print(tut.get_details())"
   ]
  },
  {
   "cell_type": "code",
   "execution_count": 20,
   "metadata": {},
   "outputs": [
    {
     "name": "stdout",
     "output_type": "stream",
     "text": [
      "3\n"
     ]
    }
   ],
   "source": [
    "print(tut1.t_count)"
   ]
  },
  {
   "cell_type": "code",
   "execution_count": 16,
   "metadata": {},
   "outputs": [
    {
     "name": "stdout",
     "output_type": "stream",
     "text": [
      "100\n",
      "3\n",
      "{'t_id': 101, 't_title': 'Basics', 't_content': 'Operators|Datatypes|Typecasting', 'course': <__main__.Course object at 0x0000028430314240>, 't_count': 100}\n"
     ]
    }
   ],
   "source": [
    "# tut1.t_count = 100\n",
    "# print(tut1.t_count)\n",
    "# print(Tutorial.t_count)\n",
    "# print(tut1.__dict__)"
   ]
  },
  {
   "cell_type": "code",
   "execution_count": 18,
   "metadata": {},
   "outputs": [
    {
     "name": "stdout",
     "output_type": "stream",
     "text": [
      "100\n",
      "100\n"
     ]
    }
   ],
   "source": [
    "Tutorial.t_count = 100\n",
    "print(tut1.t_count)\n",
    "print(Tutorial.t_count)"
   ]
  },
  {
   "cell_type": "code",
   "execution_count": 31,
   "metadata": {},
   "outputs": [
    {
     "name": "stdout",
     "output_type": "stream",
     "text": [
      "[<__main__.Tutorial object at 0x0000028430310EB8>, <__main__.Tutorial object at 0x0000028430310F28>, <__main__.Tutorial object at 0x0000028430310F60>]\n"
     ]
    }
   ],
   "source": [
    "print(Tutorial.tutorials)"
   ]
  },
  {
   "cell_type": "code",
   "execution_count": 32,
   "metadata": {},
   "outputs": [],
   "source": [
    "del Tutorial.tutorials[0]"
   ]
  },
  {
   "cell_type": "code",
   "execution_count": 33,
   "metadata": {},
   "outputs": [
    {
     "name": "stdout",
     "output_type": "stream",
     "text": [
      "[<__main__.Tutorial object at 0x0000028430310F28>, <__main__.Tutorial object at 0x0000028430310F60>]\n"
     ]
    }
   ],
   "source": [
    "print(Tutorial.tutorials)"
   ]
  },
  {
   "cell_type": "code",
   "execution_count": 26,
   "metadata": {},
   "outputs": [
    {
     "name": "stdout",
     "output_type": "stream",
     "text": [
      "{'t_id': 101, 't_title': 'Basics', 't_content': 'Operators|Datatypes|Typecasting', 'course': <__main__.Course object at 0x000002843032CD30>}\n"
     ]
    }
   ],
   "source": [
    "print(tut1.__dict__)"
   ]
  },
  {
   "cell_type": "code",
   "execution_count": 25,
   "metadata": {},
   "outputs": [
    {
     "name": "stdout",
     "output_type": "stream",
     "text": [
      "[]\n"
     ]
    }
   ],
   "source": [
    "print(Tutorial.tutorials)"
   ]
  },
  {
   "cell_type": "code",
   "execution_count": 27,
   "metadata": {},
   "outputs": [
    {
     "name": "stdout",
     "output_type": "stream",
     "text": [
      "<__main__.Tutorial object at 0x00000284303141D0>\n"
     ]
    }
   ],
   "source": [
    "print(tut1)"
   ]
  },
  {
   "cell_type": "code",
   "execution_count": 28,
   "metadata": {},
   "outputs": [],
   "source": [
    "del tut1"
   ]
  },
  {
   "cell_type": "code",
   "execution_count": 29,
   "metadata": {},
   "outputs": [
    {
     "ename": "NameError",
     "evalue": "name 'tut1' is not defined",
     "output_type": "error",
     "traceback": [
      "\u001b[1;31m---------------------------------------------------------------------------\u001b[0m",
      "\u001b[1;31mNameError\u001b[0m                                 Traceback (most recent call last)",
      "\u001b[1;32m<ipython-input-29-078f165fd33c>\u001b[0m in \u001b[0;36m<module>\u001b[1;34m()\u001b[0m\n\u001b[1;32m----> 1\u001b[1;33m \u001b[0mprint\u001b[0m\u001b[1;33m(\u001b[0m\u001b[0mtut1\u001b[0m\u001b[1;33m)\u001b[0m\u001b[1;33m\u001b[0m\u001b[0m\n\u001b[0m",
      "\u001b[1;31mNameError\u001b[0m: name 'tut1' is not defined"
     ]
    }
   ],
   "source": [
    "print(tut1)"
   ]
  },
  {
   "cell_type": "code",
   "execution_count": 34,
   "metadata": {},
   "outputs": [],
   "source": [
    "Tutorial.delete_all_tut()"
   ]
  },
  {
   "cell_type": "code",
   "execution_count": 35,
   "metadata": {},
   "outputs": [
    {
     "name": "stdout",
     "output_type": "stream",
     "text": [
      "<__main__.Tutorial object at 0x0000028430310F28>\n"
     ]
    }
   ],
   "source": [
    "print(tut2)"
   ]
  }
 ],
 "metadata": {
  "kernelspec": {
   "display_name": "Python 3",
   "language": "python",
   "name": "python3"
  },
  "language_info": {
   "codemirror_mode": {
    "name": "ipython",
    "version": 3
   },
   "file_extension": ".py",
   "mimetype": "text/x-python",
   "name": "python",
   "nbconvert_exporter": "python",
   "pygments_lexer": "ipython3",
   "version": "3.6.5"
  }
 },
 "nbformat": 4,
 "nbformat_minor": 2
}
