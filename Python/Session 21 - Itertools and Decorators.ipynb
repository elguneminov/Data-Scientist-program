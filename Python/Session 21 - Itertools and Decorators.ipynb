{
 "cells": [
  {
   "cell_type": "code",
   "execution_count": null,
   "metadata": {},
   "outputs": [],
   "source": [
    "__iter__\n",
    "__next__"
   ]
  },
  {
   "cell_type": "code",
   "execution_count": 1,
   "metadata": {},
   "outputs": [
    {
     "name": "stdout",
     "output_type": "stream",
     "text": [
      "<list_iterator object at 0x000002B51EEB79E8>\n"
     ]
    }
   ],
   "source": [
    "l =[10,20,30,40]\n",
    "i = iter(l)\n",
    "print(i)\n",
    "\n"
   ]
  },
  {
   "cell_type": "code",
   "execution_count": null,
   "metadata": {},
   "outputs": [],
   "source": [
    "print(list(i))"
   ]
  },
  {
   "cell_type": "code",
   "execution_count": null,
   "metadata": {},
   "outputs": [],
   "source": [
    "next(i)"
   ]
  },
  {
   "cell_type": "code",
   "execution_count": null,
   "metadata": {},
   "outputs": [],
   "source": [
    "for value in i:\n",
    "    print(value)"
   ]
  },
  {
   "cell_type": "code",
   "execution_count": 2,
   "metadata": {},
   "outputs": [],
   "source": [
    "import itertools"
   ]
  },
  {
   "cell_type": "code",
   "execution_count": 5,
   "metadata": {},
   "outputs": [
    {
     "name": "stdout",
     "output_type": "stream",
     "text": [
      "10\n",
      "20\n",
      "30\n",
      "40\n",
      "50\n",
      "P\n",
      "y\n",
      "t\n",
      "h\n",
      "o\n",
      "n\n",
      "1000\n",
      "1001\n",
      "1002\n",
      "1003\n",
      "1004\n"
     ]
    }
   ],
   "source": [
    "l1 = [10,20,30,40,50]\n",
    "l2 = \"Python\"\n",
    "l3 = range(1000,1005)\n",
    "\n",
    "i = itertools.chain(l1,l2,l3)\n",
    "for value in i:\n",
    "    print(value)"
   ]
  },
  {
   "cell_type": "code",
   "execution_count": 7,
   "metadata": {},
   "outputs": [
    {
     "name": "stdout",
     "output_type": "stream",
     "text": [
      "(10, 'P', 1000)\n"
     ]
    }
   ],
   "source": [
    "l1 = [10,20,30,40,50]\n",
    "l2 = \"Python\"\n",
    "l3 = range(1000,1005)\n",
    "\n",
    "i = zip(l1,l2,l3)\n",
    "print(next(i))\n",
    "# for value in i:\n",
    "#     print(value)"
   ]
  },
  {
   "cell_type": "code",
   "execution_count": 12,
   "metadata": {},
   "outputs": [
    {
     "name": "stdout",
     "output_type": "stream",
     "text": [
      "10\n",
      "20\n",
      "30\n",
      "40\n",
      "10\n",
      "20\n",
      "30\n",
      "40\n"
     ]
    }
   ],
   "source": [
    "l = [10,20,30,40]\n",
    "i = iter(l)\n",
    "\n",
    "for value in i:\n",
    "    print(value)\n",
    "    \n",
    "j = iter(l)\n",
    "for value in j:\n",
    "    print(value)"
   ]
  },
  {
   "cell_type": "code",
   "execution_count": 18,
   "metadata": {},
   "outputs": [
    {
     "name": "stdout",
     "output_type": "stream",
     "text": [
      "(<itertools._tee object at 0x000002B51EF64A88>, <itertools._tee object at 0x000002B51EF64A48>, <itertools._tee object at 0x000002B51EF64C48>, <itertools._tee object at 0x000002B51EF64C88>, <itertools._tee object at 0x000002B51EF64CC8>)\n",
      "10\n",
      "20\n",
      "30\n",
      "40\n",
      "50\n",
      "P\n",
      "y\n",
      "t\n",
      "h\n",
      "o\n",
      "n\n",
      "1000\n",
      "1001\n",
      "1002\n",
      "1003\n",
      "1004\n",
      "10\n",
      "20\n",
      "30\n",
      "40\n",
      "50\n",
      "P\n",
      "y\n",
      "t\n",
      "h\n",
      "o\n",
      "n\n",
      "1000\n",
      "1001\n",
      "1002\n",
      "1003\n",
      "1004\n"
     ]
    }
   ],
   "source": [
    "l1 = [10,20,30,40,50]\n",
    "l2 = \"Python\"\n",
    "l3 = range(1000,1005)\n",
    "\n",
    "i = itertools.chain(l1,l2,l3)\n",
    "t = itertools.tee(i,5)\n",
    "print(t)\n",
    "\n",
    "for value in t[0]:\n",
    "    print(value)\n",
    "    \n",
    "\n",
    "for value in t[1]:\n",
    "    print(value)"
   ]
  },
  {
   "cell_type": "code",
   "execution_count": 24,
   "metadata": {},
   "outputs": [
    {
     "name": "stdout",
     "output_type": "stream",
     "text": [
      "[(1, 2, 3), (1, 2, 4), (1, 3, 4), (2, 3, 4)]\n",
      "[(10, 20), (10, 30), (20, 10), (20, 30), (30, 10), (30, 20)]\n"
     ]
    }
   ],
   "source": [
    "l = [10,20,30]\n",
    "print(list(itertools.combinations(range(1,5),3)))\n",
    "print(list(itertools.permutations(l,2)))"
   ]
  },
  {
   "cell_type": "code",
   "execution_count": 25,
   "metadata": {},
   "outputs": [
    {
     "name": "stdout",
     "output_type": "stream",
     "text": [
      "10\n",
      "20\n",
      "30\n",
      "40\n",
      "10\n",
      "20\n",
      "30\n",
      "40\n",
      "10\n",
      "20\n",
      "30\n",
      "40\n",
      "10\n",
      "20\n",
      "30\n",
      "40\n",
      "10\n",
      "20\n",
      "30\n",
      "40\n",
      "10\n"
     ]
    }
   ],
   "source": [
    "l = [10,20,30,40]\n",
    "i = itertools.cycle(l)\n",
    "count = 0\n",
    "\n",
    "for value in i:\n",
    "    print(value)\n",
    "    if count >= 20:\n",
    "        break\n",
    "    count+=1"
   ]
  },
  {
   "cell_type": "code",
   "execution_count": 26,
   "metadata": {},
   "outputs": [
    {
     "name": "stdout",
     "output_type": "stream",
     "text": [
      "[10, 20, 30, 40]\n",
      "[10, 20, 30, 40]\n",
      "[10, 20, 30, 40]\n",
      "[10, 20, 30, 40]\n",
      "[10, 20, 30, 40]\n",
      "[10, 20, 30, 40]\n",
      "[10, 20, 30, 40]\n",
      "[10, 20, 30, 40]\n",
      "[10, 20, 30, 40]\n",
      "[10, 20, 30, 40]\n",
      "[10, 20, 30, 40]\n",
      "[10, 20, 30, 40]\n",
      "[10, 20, 30, 40]\n",
      "[10, 20, 30, 40]\n",
      "[10, 20, 30, 40]\n",
      "[10, 20, 30, 40]\n",
      "[10, 20, 30, 40]\n",
      "[10, 20, 30, 40]\n",
      "[10, 20, 30, 40]\n",
      "[10, 20, 30, 40]\n",
      "[10, 20, 30, 40]\n"
     ]
    }
   ],
   "source": [
    "l = [10,20,30,40]\n",
    "i = itertools.repeat(l)\n",
    "count = 0\n",
    "\n",
    "for value in i:\n",
    "    print(value)\n",
    "    if count >= 20:\n",
    "        break\n",
    "    count+=1"
   ]
  },
  {
   "cell_type": "code",
   "execution_count": null,
   "metadata": {},
   "outputs": [],
   "source": [
    "islice \n",
    "count \n",
    "group"
   ]
  },
  {
   "cell_type": "code",
   "execution_count": null,
   "metadata": {},
   "outputs": [],
   "source": [
    "Deco : is a func, which takes a func as an arg and return a new function"
   ]
  },
  {
   "cell_type": "code",
   "execution_count": 28,
   "metadata": {},
   "outputs": [
    {
     "name": "stdout",
     "output_type": "stream",
     "text": [
      "30\n",
      "PythonJava\n",
      "Python10\n"
     ]
    }
   ],
   "source": [
    "def add_deco(func):\n",
    "    \n",
    "    def new_func(val1,val2):\n",
    "        if type(val1) == type(val2):\n",
    "            return func(val1,val2)\n",
    "        else:\n",
    "            return func(str(val1),str(val2))\n",
    "            \n",
    "    \n",
    "    return new_func\n",
    "\n",
    "\n",
    "@add_deco\n",
    "def add(val1,val2):\n",
    "    return val1 + val2\n",
    "\n",
    "print(add(10,20))\n",
    "print(add(\"Python\",\"Java\"))\n",
    "print(add(\"Python\",10))"
   ]
  },
  {
   "cell_type": "code",
   "execution_count": null,
   "metadata": {},
   "outputs": [],
   "source": [
    "add_same_type\n",
    "\n",
    "Decorator\n",
    "\n",
    "new_func_diff_type\n",
    "\n",
    "\n"
   ]
  },
  {
   "cell_type": "code",
   "execution_count": 35,
   "metadata": {},
   "outputs": [
    {
     "name": "stdout",
     "output_type": "stream",
     "text": [
      "Getting here\n",
      "pqr\n",
      "9123456789\n"
     ]
    }
   ],
   "source": [
    "def login(func):\n",
    "    \n",
    "    def new_func(username,password,val):\n",
    "        if username == \"abc\" and password == \"abc@123\":\n",
    "            return func(username,password,val)\n",
    "        else:\n",
    "            return \"Invalid credentials\"\n",
    "    return new_func\n",
    "\n",
    "@login\n",
    "def edit_name(username,password,new_name):\n",
    "    print(\"Getting here\")\n",
    "    return new_name\n",
    "\n",
    "@login\n",
    "def edit_email(username,password,new_email):\n",
    "    return new_email\n",
    "\n",
    "@login\n",
    "def edit_contact(username,password,new_contact):\n",
    "    return new_contact\n",
    "    \n",
    "    \n",
    "print(edit_name(\"abc\",\"abc@123\",\"pqr\"))\n",
    "\n",
    "print(edit_contact(\"abc\",\"abc@123\",9123456789))"
   ]
  },
  {
   "cell_type": "code",
   "execution_count": null,
   "metadata": {},
   "outputs": [],
   "source": [
    "print(edit_name(\"abc\",\"abc@123\",\"pqr\")) = > @login =>pqr => pqr=> return pqr"
   ]
  },
  {
   "cell_type": "code",
   "execution_count": 39,
   "metadata": {},
   "outputs": [
    {
     "name": "stdout",
     "output_type": "stream",
     "text": [
      "<generator object <genexpr> at 0x000002B51EFD4990>\n"
     ]
    }
   ],
   "source": [
    "l = [10,20,30,40,50,60]\n",
    "t = (value * value for value in l)\n",
    "print(next(t))"
   ]
  }
 ],
 "metadata": {
  "kernelspec": {
   "display_name": "Python 3",
   "language": "python",
   "name": "python3"
  },
  "language_info": {
   "codemirror_mode": {
    "name": "ipython",
    "version": 3
   },
   "file_extension": ".py",
   "mimetype": "text/x-python",
   "name": "python",
   "nbconvert_exporter": "python",
   "pygments_lexer": "ipython3",
   "version": "3.6.5"
  }
 },
 "nbformat": 4,
 "nbformat_minor": 2
}
