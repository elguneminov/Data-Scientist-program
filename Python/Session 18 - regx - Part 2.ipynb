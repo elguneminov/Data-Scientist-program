{
 "cells": [
  {
   "cell_type": "code",
   "execution_count": null,
   "metadata": {},
   "outputs": [],
   "source": [
    "metachars:\n",
    "    [0-9] \n",
    "    [a-z]\n",
    "    [A-Z]\n",
    "    +\n",
    "    *\n",
    "    . www\\.abc.com\n",
    "    ^\n",
    "    $\n",
    "    ?\n",
    "    {2,5}"
   ]
  },
  {
   "cell_type": "code",
   "execution_count": null,
   "metadata": {},
   "outputs": [],
   "source": [
    "import re"
   ]
  },
  {
   "cell_type": "code",
   "execution_count": null,
   "metadata": {},
   "outputs": [],
   "source": [
    "search => match object  => group\n",
    "findall => list \n",
    "compile "
   ]
  },
  {
   "cell_type": "code",
   "execution_count": null,
   "metadata": {},
   "outputs": [],
   "source": [
    "[^a-z]"
   ]
  },
  {
   "cell_type": "code",
   "execution_count": 2,
   "metadata": {},
   "outputs": [],
   "source": [
    "import re"
   ]
  },
  {
   "cell_type": "code",
   "execution_count": 4,
   "metadata": {},
   "outputs": [
    {
     "name": "stdout",
     "output_type": "stream",
     "text": [
      "['a', 'b', 'c', 'd']\n"
     ]
    }
   ],
   "source": [
    "s = \"abcd1234\"\n",
    "r = re.compile(\"[^0-9]\")\n",
    "l = re.findall(r,s)\n",
    "print(l)"
   ]
  },
  {
   "cell_type": "code",
   "execution_count": null,
   "metadata": {},
   "outputs": [],
   "source": [
    "[a-zA-Z0-9] => \\w\n",
    "[^a-zA-Z0-9] => \\W\n",
    "\n",
    "[0-9] => \\d\n",
    "[^0-9]=> \\D\n",
    "\n",
    "space => \\s\n",
    "^space => \\S"
   ]
  },
  {
   "cell_type": "code",
   "execution_count": 6,
   "metadata": {},
   "outputs": [
    {
     "name": "stdout",
     "output_type": "stream",
     "text": [
      "12-12-2020\n"
     ]
    }
   ],
   "source": [
    "d = \"12-12-2020\"\n",
    "r = re.compile(\"(?P<day>\\d{2})-(?P<month>\\d{2})-(?P<year>\\d{4})\")\n",
    "m = re.search(r,d)\n",
    "if m :\n",
    "    print(m.group())\n",
    "else:\n",
    "    print(\"Invalid date\")"
   ]
  },
  {
   "cell_type": "code",
   "execution_count": null,
   "metadata": {},
   "outputs": [],
   "source": [
    "s = \"(+91)9123456789\"\n",
    "s1 = \"9123456789\"\n",
    "r = re.compile(\"^(\\(\\+91\\))?[6-9][0-9]{9}$\")\n",
    "m = re.search(r,s)\n",
    "if m:\n",
    "    print(m.group())\n",
    "else:\n",
    "    print(\"Invalid phone number\")"
   ]
  },
  {
   "cell_type": "code",
   "execution_count": null,
   "metadata": {},
   "outputs": [],
   "source": [
    "s = \"abc123@gmail.com\"\n",
    "\"abc123@xyz.ac.in\""
   ]
  },
  {
   "cell_type": "code",
   "execution_count": null,
   "metadata": {},
   "outputs": [],
   "source": [
    "- only 1 @\n",
    "- all lower case\n",
    "- . and _\n",
    "- . followed by atleast one char or digit and same with _\n",
    " "
   ]
  },
  {
   "cell_type": "code",
   "execution_count": null,
   "metadata": {},
   "outputs": [],
   "source": [
    "Valid:\n",
    "    abc@xyz.com => pass\n",
    "    abc@xyz.co.in => fail\n",
    "    123@xyz.com => pass\n",
    "    a1.b_3@xyz.com => fail\n",
    "    a1_3.b@xyz.com => fail\n",
    "    a.1.2.3_b_c_d@xyz.com => fail\n",
    "    a@gmail.com => pass\n",
    "    \n",
    "Invalid:\n",
    "    abc._@xyz.com\n",
    "    ab@123@xyz.com\n",
    "    ab12#34@xyz.com\n",
    "    @xyz.com"
   ]
  },
  {
   "cell_type": "code",
   "execution_count": 11,
   "metadata": {},
   "outputs": [
    {
     "name": "stdout",
     "output_type": "stream",
     "text": [
      "abc._h@vc.co\n"
     ]
    }
   ],
   "source": [
    "s = \"abc._h@vc.co.in\"\n",
    "r = re.compile(\"\\w+(\\.\\w+)?(\\_\\w+)?@\\w+\\.\\w{2,3}\")\n",
    "m = re.search(r,s)\n",
    "if m:\n",
    "    print(m.group())\n",
    "else:\n",
    "    print(\"Invalid pattern\")\n"
   ]
  },
  {
   "cell_type": "code",
   "execution_count": 24,
   "metadata": {},
   "outputs": [
    {
     "name": "stdout",
     "output_type": "stream",
     "text": [
      "a1_3@xyz.com\n"
     ]
    }
   ],
   "source": [
    "s = \"a1_3.b@xyz.com\"\n",
    "r = re.compile(\"^[a-z0-9]+(\\.[a-z0-9]+)*?(\\_[a-z0-9]+)*?@[a-z0-9]+\\.[a-z0-9]{2,3}$\")\n",
    "m = re.search(r,s)\n",
    "if m:\n",
    "    print(m.group())\n",
    "else:\n",
    "    print(\"Invalid pattern\")"
   ]
  },
  {
   "cell_type": "code",
   "execution_count": 35,
   "metadata": {},
   "outputs": [
    {
     "name": "stdout",
     "output_type": "stream",
     "text": [
      "Invalid pattern\n"
     ]
    }
   ],
   "source": [
    "s = \"abc@xyz.99\"\n",
    "r = re.compile(\"^[a-z0-9]+((\\.[a-z0-9]+)*(\\_[a-z0-9]+)*)*@[a-z0-9]+(\\.[a-z]{2,3})+$\")\n",
    "m = re.search(r,s)\n",
    "if m:\n",
    "    print(m.group())\n",
    "else:\n",
    "    print(\"Invalid pattern\")"
   ]
  },
  {
   "cell_type": "code",
   "execution_count": null,
   "metadata": {},
   "outputs": [],
   "source": [
    "s = \"the code is available here https://www.github.com/edyoda/ds/a.ipynb or http://www.edyoda.com/code/ds/a.ipynb\"\n",
    "\n",
    "<a href=\"www.google.com\">click here</a>\n",
    "\n",
    "https://www.github.com/edyoda/ds/a.ipynb\n",
    "<a href = \"https://www.github.com/edyoda/ds/a.ipynb\">https://www.github.com/edyoda/ds/a.ipynb</a>    \n",
    "    "
   ]
  },
  {
   "cell_type": "code",
   "execution_count": null,
   "metadata": {},
   "outputs": [],
   "source": [
    "https://www.github.com/edyoda/ds/a"
   ]
  },
  {
   "cell_type": "code",
   "execution_count": 58,
   "metadata": {},
   "outputs": [
    {
     "name": "stdout",
     "output_type": "stream",
     "text": [
      "https://www.github.com/edyoda/ds/a.ipynb\n",
      "the code is available here <a href = 'https://www.github.com/edyoda/ds/a.ipynb'>https://www.github.com/edyoda/ds/a.ipynb</a> or http://www.edyoda.com/code/ds/a.ipynb\n"
     ]
    }
   ],
   "source": [
    "s = \"the code is available here https://www.github.com/edyoda/ds/a.ipynb or http://www.edyoda.com/code/ds/a.ipynb\"\n",
    "r = re.compile(\"https?://www\\.[a-z0-9-]+(\\.[a-z]{2,3})+(/[a-z0-9]+(\\.?[a-z0-9]+)*)*\")\n",
    "m = re.search(r,s)\n",
    "if m:\n",
    "    print(m.group())\n",
    "    s2 = s.replace(m.group(),\"<a href = '{}'>{}</a>\".format(m.group(),m.group()))\n",
    "    print(s2)\n",
    "else:\n",
    "    print(\"Invalid url\")\n",
    "\n"
   ]
  },
  {
   "cell_type": "code",
   "execution_count": 57,
   "metadata": {},
   "outputs": [
    {
     "name": "stdout",
     "output_type": "stream",
     "text": [
      "<_sre.SRE_Match object; span=(27, 67), match='https://www.github.com/edyoda/ds/a.ipynb'>\n",
      "https://www.github.com/edyoda/ds/a.ipynb\n"
     ]
    }
   ],
   "source": [
    "s = \"the code is available here https://www.github.com/edyoda/ds/a.ipynb or http://www.edyoda.com/code/ds/a.ipynb\"\n",
    "r = re.compile(\"(https?://www\\.[a-z0-9-]+)(\\.[a-z]{2,3})+(/[a-z0-9]+\\.?[a-z0-9]*)*\")\n",
    "m = re.search(r,s)\n",
    "print(m)\n",
    "if m:\n",
    "    print(m.group())\n",
    "else:\n",
    "    print(\"Invalid url\")\n",
    "\n"
   ]
  },
  {
   "cell_type": "code",
   "execution_count": 54,
   "metadata": {},
   "outputs": [
    {
     "name": "stdout",
     "output_type": "stream",
     "text": [
      "Help on function findall in module re:\n",
      "\n",
      "findall(pattern, string, flags=0)\n",
      "    Return a list of all non-overlapping matches in the string.\n",
      "    \n",
      "    If one or more capturing groups are present in the pattern, return\n",
      "    a list of groups; this will be a list of tuples if the pattern\n",
      "    has more than one group.\n",
      "    \n",
      "    Empty matches are included in the result.\n",
      "\n"
     ]
    }
   ],
   "source": [
    "help(re.findall)"
   ]
  },
  {
   "cell_type": "code",
   "execution_count": 49,
   "metadata": {},
   "outputs": [
    {
     "name": "stdout",
     "output_type": "stream",
     "text": [
      "[('(+91)', '9123456789')]\n"
     ]
    }
   ],
   "source": [
    "s = \"(+91)9123456789\"\n",
    "s1 = \"9123456789\"\n",
    "r = re.compile(\"^(\\(\\+91\\))?([6-9][0-9]{9})$\")\n",
    "l = re.findall(r,s)\n",
    "print(l)"
   ]
  },
  {
   "cell_type": "code",
   "execution_count": 56,
   "metadata": {},
   "outputs": [
    {
     "name": "stdout",
     "output_type": "stream",
     "text": [
      "[('https://www.github', '.com', '/a'), ('http://www.edyoda', '.com', '/a')]\n"
     ]
    }
   ],
   "source": [
    "s = \"the code is available here https://www.github.com/edyoda/ds/a.ipynb or http://www.edyoda.com/code/ds/a.ipynb\"\n",
    "re.compile(\"(https?://www\\.[a-z0-9-]+(\\.[a-z]{2,3})+(/[a-z0-9]+(\\.?[a-z0-9]+)*)*)\")\n",
    "\n",
    "m = re.findall(r,s)\n",
    "print(m)"
   ]
  },
  {
   "cell_type": "markdown",
   "metadata": {},
   "source": [
    "Problem Statement:\n",
    "\n",
    "Keyword density is a foundational aspect of on-page SEO. When used correctly, it can help attract search engines and boost a page’s visibility on search engine results pages (SERPs).\n",
    "Formula to calculate the keyword density :\n",
    "\n",
    "keyword density = Number of times the target keyword appears / Number of words on a webpage = Keyword density\n",
    "\n",
    "eg : 20 (Number of times “project management” appears on the page) / 1,000 (Number of words on the webpage) = 2% (Keyword density)\n",
    "\n",
    "- Write a program to find out 10 words with highest keyword density from a given text file.\n",
    "- Given a set of keywords calulate the keyword density for the same."
   ]
  }
 ],
 "metadata": {
  "kernelspec": {
   "display_name": "Python 3",
   "language": "python",
   "name": "python3"
  },
  "language_info": {
   "codemirror_mode": {
    "name": "ipython",
    "version": 3
   },
   "file_extension": ".py",
   "mimetype": "text/x-python",
   "name": "python",
   "nbconvert_exporter": "python",
   "pygments_lexer": "ipython3",
   "version": "3.6.5"
  }
 },
 "nbformat": 4,
 "nbformat_minor": 2
}
