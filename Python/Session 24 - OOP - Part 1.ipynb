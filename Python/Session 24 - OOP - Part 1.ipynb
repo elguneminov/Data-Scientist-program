{
 "cells": [
  {
   "cell_type": "code",
   "execution_count": null,
   "metadata": {},
   "outputs": [],
   "source": [
    "Sclabale \n",
    "Maintainable\n",
    "Reusable "
   ]
  },
  {
   "cell_type": "code",
   "execution_count": null,
   "metadata": {},
   "outputs": [],
   "source": [
    "class \n",
    "objects "
   ]
  },
  {
   "cell_type": "code",
   "execution_count": null,
   "metadata": {},
   "outputs": [],
   "source": []
  },
  {
   "cell_type": "code",
   "execution_count": null,
   "metadata": {},
   "outputs": [],
   "source": [
    "PayTm:\n",
    "    contact number \n",
    "    email address \n",
    "    aadhar card no \n",
    "    \n",
    "    \n",
    "    mobile recharge \n",
    "    money transfer \n",
    "    book tickets \n",
    "    bill payment\n",
    "    \n",
    "user1\n",
    "user2"
   ]
  },
  {
   "cell_type": "code",
   "execution_count": null,
   "metadata": {},
   "outputs": [],
   "source": [
    "Class :\n",
    "    data\n",
    "    \n",
    "    functions"
   ]
  },
  {
   "cell_type": "code",
   "execution_count": null,
   "metadata": {},
   "outputs": [],
   "source": [
    "username\n",
    "password \n",
    "email\n",
    "mobile_no\n",
    "\n",
    "login\n",
    "logout\n",
    "register\n",
    "view_profile\n",
    "update_profile\n",
    "forgot_password\n",
    "add_mobile_number"
   ]
  },
  {
   "cell_type": "code",
   "execution_count": null,
   "metadata": {},
   "outputs": [],
   "source": [
    "Instance Variable : Every object will have its own copy of that varibale \n",
    "Class Variable : "
   ]
  },
  {
   "cell_type": "code",
   "execution_count": 20,
   "metadata": {},
   "outputs": [
    {
     "name": "stdout",
     "output_type": "stream",
     "text": [
      "<__main__.User object at 0x0000015B016A5C18>\n",
      "<__main__.User object at 0x0000015B0169B2E8>\n",
      "True\n",
      "abc@124\n",
      "False\n"
     ]
    }
   ],
   "source": [
    "class User:\n",
    "    def __init__(self,username,password,email):\n",
    "        self.user_name = username\n",
    "        self.user_password = password\n",
    "        self.email = email\n",
    "    \n",
    "    def add_contact_no(self,contact):\n",
    "        self.contact = contact\n",
    "        \n",
    "    def view_profile(self):\n",
    "        return self.user_name,self.email,self.contact\n",
    "    \n",
    "    def login(self,username,password):\n",
    "        if self.user_name == username and self.user_password == password:\n",
    "            return True\n",
    "        else:\n",
    "            return False\n",
    "        \n",
    "    def forget_password(self,new_password):\n",
    "        self.user_password = new_password\n",
    "        \n",
    "\n",
    "user1 = User(\"abc\",\"abc@123\",\"abc@xyz.com\")\n",
    "# User(user1,\"abc\",\"abc@123\",\"abc@xyz.com\")\n",
    "print(user1)\n",
    "\n",
    "user2 = User(\"pqr\",\"pqr@123\",\"pqr@xyz.com\")\n",
    "print(user2)\n",
    "\n",
    "user3 = User(\"xyz\",\"xyz@123\",\"xyz@xyz.com\")\n",
    "user4 = User(\"rst\",\"rst@123\",\"rst@xyz.com\")\n",
    "\n",
    "# user1.add_contact_no(\"9123456789\")\n",
    "# user2.add_contact_no(\"9123456788\")\n",
    "# user3.add_contact_no(\"9123456788\")\n",
    "# user4.add_contact_no(\"9123456788\")\n",
    "\n",
    "\n",
    "# print(user1.contact)\n",
    "# print(user2.contact)\n",
    "\n",
    "# User.add_contact_no(user1,\"9123456789\")\n",
    "\n",
    "# print(user1.view_profile())\n",
    "# print(user2.view_profile())\n",
    "\n",
    "# users = [user1,user2,user3,user4]\n",
    "# for user in users:\n",
    "#     print(user.view_profile())\n",
    "\n",
    "print(user1.login(\"abc\",\"abc@123\"))\n",
    "user1.forget_password(\"abc@124\")\n",
    "print(user1.user_password)\n",
    "print(user1.login(\"abc\",\"abc@123\"))"
   ]
  },
  {
   "cell_type": "code",
   "execution_count": 3,
   "metadata": {},
   "outputs": [
    {
     "name": "stdout",
     "output_type": "stream",
     "text": [
      "abc abc@xyz.com\n",
      "pqr pqr@xyz.com\n"
     ]
    }
   ],
   "source": [
    "print(user1.user_name,user1.email)\n",
    "print(user2.user_name,user2.email)"
   ]
  },
  {
   "cell_type": "code",
   "execution_count": null,
   "metadata": {},
   "outputs": [],
   "source": [
    "def add(val1,val2,val3):\n",
    "    \n",
    "a = 10\n",
    "b = 20\n",
    "c = 30\n",
    "\n",
    "add(a,b,c)"
   ]
  },
  {
   "cell_type": "code",
   "execution_count": 8,
   "metadata": {},
   "outputs": [
    {
     "name": "stdout",
     "output_type": "stream",
     "text": [
      "<__main__.User object at 0x0000015B0164B908>\n",
      "abc\n"
     ]
    }
   ],
   "source": [
    "class User:\n",
    "    def create_user(self,username,password,email):\n",
    "        self.user_name = username\n",
    "        self.user_password = password\n",
    "        self.email = email\n",
    "\n",
    "        \n",
    "user1 = User()\n",
    "print(user1)\n",
    "user1.create_user(\"abc\",\"abc@123\",\"abc@xyz.com\")\n",
    "print(user1.user_name)"
   ]
  },
  {
   "cell_type": "code",
   "execution_count": null,
   "metadata": {},
   "outputs": [],
   "source": [
    "class ClassName\n",
    "\n",
    "obj_name = ClassName()\n",
    "\n",
    "__init__\n",
    "\n",
    "Instance varaible : \n",
    "    \n",
    "    self.variable_name"
   ]
  },
  {
   "cell_type": "code",
   "execution_count": null,
   "metadata": {},
   "outputs": [],
   "source": [
    "Problem 1 :\n",
    "Student :\n",
    "    - all students of class 10th \n",
    "    - for every student: roll_no, name, marks of 5 subjects (every subject 100)\n",
    "    - calculate the result \n",
    "            Need to strore if student pass/failed    score >= 40 pass else : failed \n",
    "        \n",
    "    - Topper of the class \n",
    "    - Details of all the failed students "
   ]
  },
  {
   "cell_type": "code",
   "execution_count": null,
   "metadata": {},
   "outputs": [],
   "source": [
    "Problem 2 :\n",
    "    \n",
    "Course : in every course there are multiple tutorials \n",
    "    \n",
    "For Course there is course_name, description, category\n",
    "\n",
    "For Tutorial : Tutorial name, content, course \n",
    "    \n",
    "    \n",
    "    Find all the Tutorials of Course \"Python\"\n",
    "    Find all the tutorials of category \"Programming\""
   ]
  }
 ],
 "metadata": {
  "kernelspec": {
   "display_name": "Python 3",
   "language": "python",
   "name": "python3"
  },
  "language_info": {
   "codemirror_mode": {
    "name": "ipython",
    "version": 3
   },
   "file_extension": ".py",
   "mimetype": "text/x-python",
   "name": "python",
   "nbconvert_exporter": "python",
   "pygments_lexer": "ipython3",
   "version": "3.6.5"
  }
 },
 "nbformat": 4,
 "nbformat_minor": 2
}
