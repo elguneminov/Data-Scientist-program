{
 "cells": [
  {
   "cell_type": "code",
   "execution_count": null,
   "metadata": {},
   "outputs": [],
   "source": [
    "def func_name(args):\n",
    "    statements\n",
    "func_name(args)"
   ]
  },
  {
   "cell_type": "code",
   "execution_count": null,
   "metadata": {},
   "outputs": [],
   "source": [
    "1. Positional => \n",
    "2. Default \n",
    "3. Varaibale length => packing \n",
    "4. Keyword \n",
    "5. variable length keyword args\n",
    "6. Unpacking"
   ]
  },
  {
   "cell_type": "code",
   "execution_count": 3,
   "metadata": {},
   "outputs": [
    {
     "ename": "TypeError",
     "evalue": "printval() missing 2 required keyword-only arguments: 'num1' and 'num2'",
     "output_type": "error",
     "traceback": [
      "\u001b[1;31m---------------------------------------------------------------------------\u001b[0m",
      "\u001b[1;31mTypeError\u001b[0m                                 Traceback (most recent call last)",
      "\u001b[1;32m<ipython-input-3-7d59bad1a780>\u001b[0m in \u001b[0;36m<module>\u001b[1;34m()\u001b[0m\n\u001b[0;32m      1\u001b[0m \u001b[1;32mdef\u001b[0m \u001b[0mprintval\u001b[0m\u001b[1;33m(\u001b[0m\u001b[1;33m*\u001b[0m\u001b[0margs\u001b[0m\u001b[1;33m,\u001b[0m\u001b[0mnum1\u001b[0m\u001b[1;33m,\u001b[0m\u001b[0mnum2\u001b[0m\u001b[1;33m,\u001b[0m\u001b[0mnum3\u001b[0m\u001b[1;33m=\u001b[0m\u001b[1;36m10\u001b[0m\u001b[1;33m)\u001b[0m\u001b[1;33m:\u001b[0m\u001b[1;33m\u001b[0m\u001b[0m\n\u001b[0;32m      2\u001b[0m     \u001b[0mprint\u001b[0m\u001b[1;33m(\u001b[0m\u001b[0mnum1\u001b[0m\u001b[1;33m,\u001b[0m\u001b[0mnum2\u001b[0m\u001b[1;33m,\u001b[0m\u001b[0mnum3\u001b[0m\u001b[1;33m,\u001b[0m\u001b[0margs\u001b[0m\u001b[1;33m)\u001b[0m\u001b[1;33m\u001b[0m\u001b[0m\n\u001b[1;32m----> 3\u001b[1;33m \u001b[0mprintval\u001b[0m\u001b[1;33m(\u001b[0m\u001b[1;36m10\u001b[0m\u001b[1;33m,\u001b[0m\u001b[1;36m20\u001b[0m\u001b[1;33m,\u001b[0m\u001b[1;36m40\u001b[0m\u001b[1;33m,\u001b[0m\u001b[1;36m50\u001b[0m\u001b[1;33m,\u001b[0m\u001b[1;36m60\u001b[0m\u001b[1;33m,\u001b[0m\u001b[1;36m70\u001b[0m\u001b[1;33m,\u001b[0m\u001b[1;36m80\u001b[0m\u001b[1;33m)\u001b[0m\u001b[1;33m\u001b[0m\u001b[0m\n\u001b[0m",
      "\u001b[1;31mTypeError\u001b[0m: printval() missing 2 required keyword-only arguments: 'num1' and 'num2'"
     ]
    }
   ],
   "source": [
    "def printval(num1,num2,num3=10,*args,):\n",
    "    print(num1,num2,num3,args)\n",
    "printval(10,20,40,50,60,70,80)"
   ]
  },
  {
   "cell_type": "code",
   "execution_count": null,
   "metadata": {},
   "outputs": [],
   "source": [
    "username\n",
    "email\n",
    "contact\n",
    "dob\n",
    "\n"
   ]
  },
  {
   "cell_type": "code",
   "execution_count": 19,
   "metadata": {},
   "outputs": [
    {
     "ename": "SyntaxError",
     "evalue": "invalid syntax (<ipython-input-19-66ea8555ccf8>, line 1)",
     "output_type": "error",
     "traceback": [
      "\u001b[1;36m  File \u001b[1;32m\"<ipython-input-19-66ea8555ccf8>\"\u001b[1;36m, line \u001b[1;32m1\u001b[0m\n\u001b[1;33m    def user_info(**kwargs,*args):\u001b[0m\n\u001b[1;37m                           ^\u001b[0m\n\u001b[1;31mSyntaxError\u001b[0m\u001b[1;31m:\u001b[0m invalid syntax\n"
     ]
    }
   ],
   "source": [
    "def user_info(**kwargs,*args):\n",
    "    print(args,kwargs)\n",
    "    subject = \"username:{} email:{} contact:{} dob: {}\".format(kwargs.get('username'),kwargs.get('email'),kwargs.get('contact'),kwargs.get('dob'))\n",
    "    print(subject)\n",
    "    \n",
    "user_info(username=\"abc\",email=\"abc@gmail.com\",contact=\"9123456789\",dob=\"1-1-2020\",10,20)\n",
    "# user_info(username=\"abc\",email=\"abc@gmail.com\",dob=\"1-1-2020\")\n",
    "# user_info(username=\"abc\",contact=\"9123456789\",dob=\"1-1-2020\")"
   ]
  },
  {
   "cell_type": "code",
   "execution_count": null,
   "metadata": {},
   "outputs": [],
   "source": [
    "positional \n",
    "default \n",
    "variable length positional\n",
    "variable length keyword"
   ]
  },
  {
   "cell_type": "code",
   "execution_count": 24,
   "metadata": {},
   "outputs": [
    {
     "name": "stdout",
     "output_type": "stream",
     "text": [
      "20 30 40\n",
      "90\n"
     ]
    }
   ],
   "source": [
    "def add(num1,num2,num3):\n",
    "    print(num1,num2,num3)\n",
    "    return num1+num2+num3\n",
    "\n",
    "l = [10,20,30,40]\n",
    "print(add(*l[1:]))"
   ]
  },
  {
   "cell_type": "code",
   "execution_count": 26,
   "metadata": {},
   "outputs": [
    {
     "name": "stdout",
     "output_type": "stream",
     "text": [
      "10 20 30\n",
      "60\n"
     ]
    }
   ],
   "source": [
    "def add(num1,num2,num3):\n",
    "    print(num1,num2,num3)\n",
    "    return num1+num2+num3\n",
    "\n",
    "d = {\"num1\":10,\"num3\":30,\"num2\":20}\n",
    "print(add(**d))"
   ]
  },
  {
   "cell_type": "code",
   "execution_count": 1,
   "metadata": {},
   "outputs": [
    {
     "name": "stdout",
     "output_type": "stream",
     "text": [
      "inside func call 100\n"
     ]
    },
    {
     "ename": "NameError",
     "evalue": "name 'num1' is not defined",
     "output_type": "error",
     "traceback": [
      "\u001b[1;31m---------------------------------------------------------------------------\u001b[0m",
      "\u001b[1;31mNameError\u001b[0m                                 Traceback (most recent call last)",
      "\u001b[1;32m<ipython-input-1-d424d055b374>\u001b[0m in \u001b[0;36m<module>\u001b[1;34m()\u001b[0m\n\u001b[0;32m      4\u001b[0m \u001b[1;33m\u001b[0m\u001b[0m\n\u001b[0;32m      5\u001b[0m \u001b[0mprint_val\u001b[0m\u001b[1;33m(\u001b[0m\u001b[1;33m)\u001b[0m\u001b[1;33m\u001b[0m\u001b[0m\n\u001b[1;32m----> 6\u001b[1;33m \u001b[0mprint\u001b[0m\u001b[1;33m(\u001b[0m\u001b[1;34m\"outside func call\"\u001b[0m\u001b[1;33m,\u001b[0m\u001b[0mnum1\u001b[0m\u001b[1;33m)\u001b[0m\u001b[1;33m\u001b[0m\u001b[0m\n\u001b[0m",
      "\u001b[1;31mNameError\u001b[0m: name 'num1' is not defined"
     ]
    }
   ],
   "source": [
    "def print_val():\n",
    "    num1 = 100\n",
    "    print(\"inside func call\",num1)\n",
    "\n",
    "print_val()\n",
    "print(\"outside func call\",num1)"
   ]
  },
  {
   "cell_type": "code",
   "execution_count": 3,
   "metadata": {},
   "outputs": [
    {
     "name": "stdout",
     "output_type": "stream",
     "text": [
      "inside func call 500\n",
      "outside func call 100\n"
     ]
    }
   ],
   "source": [
    "def print_val():\n",
    "    \n",
    "#     print(\"inside func call\",num1)\n",
    "    num1 = 500\n",
    "    print(\"inside func call\",num1)\n",
    "\n",
    "num1 = 100\n",
    "print_val()\n",
    "print(\"outside func call\",num1)"
   ]
  },
  {
   "cell_type": "code",
   "execution_count": 10,
   "metadata": {},
   "outputs": [
    {
     "name": "stdout",
     "output_type": "stream",
     "text": [
      "inside func call 500\n",
      "outside func call 500\n"
     ]
    }
   ],
   "source": [
    "def print_val():\n",
    "    global num1\n",
    "#     print(\"inside func call\",num1)\n",
    "    num1 = 500\n",
    "    print(\"inside func call\",num1)\n",
    "\n",
    "num1 = 100\n",
    "print_val()\n",
    "print(\"outside func call\",num1)"
   ]
  },
  {
   "cell_type": "code",
   "execution_count": null,
   "metadata": {},
   "outputs": [],
   "source": [
    "# fact 5 = 5 * 4 * 3 * 2 * 1"
   ]
  },
  {
   "cell_type": "code",
   "execution_count": 11,
   "metadata": {},
   "outputs": [
    {
     "name": "stdout",
     "output_type": "stream",
     "text": [
      "120\n"
     ]
    }
   ],
   "source": [
    "n = 5\n",
    "ans = 1 \n",
    "\n",
    "while(n>=1):\n",
    "    ans = ans * n\n",
    "    n-=1\n",
    "print(ans)"
   ]
  },
  {
   "cell_type": "code",
   "execution_count": null,
   "metadata": {},
   "outputs": [],
   "source": [
    "fact 5 = 5 * fact(4) = 5 * 24 => 120 \n",
    "                4 * fact(3) => 4 * 6 = 24 \n",
    "                       3 * fact(2) = 3 * 2 = 6 \n",
    "                              2 * fact(1) = 2 * 1 = 2 \n",
    "                                      1"
   ]
  },
  {
   "cell_type": "code",
   "execution_count": 13,
   "metadata": {},
   "outputs": [
    {
     "name": "stdout",
     "output_type": "stream",
     "text": [
      "120\n"
     ]
    }
   ],
   "source": [
    "def fact(n):\n",
    "    if n == 1:\n",
    "        return 1\n",
    "    else:\n",
    "        return n * fact(n-1)\n",
    "\n",
    "n = 5\n",
    "print(fact(n))"
   ]
  },
  {
   "cell_type": "code",
   "execution_count": null,
   "metadata": {},
   "outputs": [],
   "source": [
    "fact(5) = return 5 * 24 = 120\n",
    "            return 4 * 6 => 24\n",
    "             return 3 * 2 = > 6 \n",
    "              return 2 * 1 => 2\n",
    "               return 1"
   ]
  },
  {
   "cell_type": "code",
   "execution_count": null,
   "metadata": {},
   "outputs": [],
   "source": [
    "l = [20,45,65,78,52,41,2,5,45,56]\n",
    "n = 52"
   ]
  },
  {
   "cell_type": "code",
   "execution_count": null,
   "metadata": {},
   "outputs": [],
   "source": [
    "l = [10,20,30,40,50,60,70,80,90]\n",
    "key = 70 \n",
    "\n",
    "1. find mid len(l)/2  9 /2 => 4 \n",
    "   70 == mid no 50\n",
    "   if key < mid \n",
    "\n",
    "   if key > mid \n",
    "       l = [60,70,80,90] key = 70\n",
    "       mid = 4 /2 =2  => 80\n",
    "    \n",
    "       70 == 80 \n",
    "        \n",
    "       if key > mid [60,70] key = 70\n",
    "                 mid = 2//2 = 1 \n",
    "                 70 == 70 : true \n",
    "    \n",
    "       if key < mid \n",
    "         "
   ]
  },
  {
   "cell_type": "code",
   "execution_count": 24,
   "metadata": {},
   "outputs": [
    {
     "name": "stdout",
     "output_type": "stream",
     "text": [
      "False\n"
     ]
    }
   ],
   "source": [
    "def binary_search(l,key):\n",
    "    if not l:\n",
    "        return False\n",
    "    else:\n",
    "        mid_index = len(l) // 2\n",
    "        if key == l[mid_index]:\n",
    "            return True\n",
    "        elif key < l[mid_index]:\n",
    "            return binary_search(l[:mid_index],key)    \n",
    "        else:\n",
    "            return binary_search(l[mid_index+1:],key)\n",
    "    \n",
    "l = [10,20,30,40,50,60,70,80,90]\n",
    "key = 200\n",
    "print(binary_search(l,key))"
   ]
  },
  {
   "cell_type": "code",
   "execution_count": null,
   "metadata": {},
   "outputs": [],
   "source": [
    "binary_search(l,key): \n",
    "    mid = 50 binary_search([60,70,80,90],key)\n",
    "       mid = 80 True\n",
    "        mid = 70 return True"
   ]
  },
  {
   "cell_type": "code",
   "execution_count": 23,
   "metadata": {},
   "outputs": [
    {
     "name": "stdout",
     "output_type": "stream",
     "text": [
      "Python\n"
     ]
    }
   ],
   "source": [
    "l = [10,20,30,40]\n",
    "if not l:\n",
    "    print(\"Hi\")\n",
    "else:\n",
    "    print(\"Python\")"
   ]
  },
  {
   "cell_type": "code",
   "execution_count": null,
   "metadata": {},
   "outputs": [],
   "source": [
    "l = [1,2,3,4,5,6]"
   ]
  }
 ],
 "metadata": {
  "kernelspec": {
   "display_name": "Python 3",
   "language": "python",
   "name": "python3"
  },
  "language_info": {
   "codemirror_mode": {
    "name": "ipython",
    "version": 3
   },
   "file_extension": ".py",
   "mimetype": "text/x-python",
   "name": "python",
   "nbconvert_exporter": "python",
   "pygments_lexer": "ipython3",
   "version": "3.6.5"
  }
 },
 "nbformat": 4,
 "nbformat_minor": 2
}
