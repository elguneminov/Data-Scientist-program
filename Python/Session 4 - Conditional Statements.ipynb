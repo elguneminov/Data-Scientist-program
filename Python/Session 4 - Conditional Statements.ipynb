{
 "cells": [
  {
   "cell_type": "code",
   "execution_count": null,
   "metadata": {},
   "outputs": [],
   "source": [
    "if [condition]:\n",
    "   statement1\n",
    "   statement2\n",
    "   statement3\n",
    "elif [condition2]:\n",
    "    statement4\n",
    "    statement5\n",
    "    statement6\n",
    "else:\n",
    "    statement7"
   ]
  },
  {
   "cell_type": "code",
   "execution_count": 10,
   "metadata": {},
   "outputs": [
    {
     "name": "stdout",
     "output_type": "stream",
     "text": [
      "num1 is greater\n",
      "Another statement\n"
     ]
    }
   ],
   "source": [
    "num1 = 600\n",
    "num2 = 500\n",
    "if num1 > num2:\n",
    "    print(\"num1 is greater\")\n",
    "    print(\"Another statement\")\n",
    "elif num2 > num1:\n",
    "    print(\"num2 is greater\")\n",
    "else:\n",
    "    print(\"Both are equal\")"
   ]
  },
  {
   "cell_type": "code",
   "execution_count": 12,
   "metadata": {},
   "outputs": [
    {
     "name": "stdout",
     "output_type": "stream",
     "text": [
      "odd number\n"
     ]
    }
   ],
   "source": [
    "num1 = 101\n",
    "if num1 % 2 == 0:\n",
    "    print(\"even number\")\n",
    "else:\n",
    "    print(\"odd number\")"
   ]
  },
  {
   "cell_type": "code",
   "execution_count": 15,
   "metadata": {},
   "outputs": [
    {
     "name": "stdout",
     "output_type": "stream",
     "text": [
      "<class 'str'>\n",
      "<class 'int'>\n"
     ]
    }
   ],
   "source": [
    "s = \"100\"\n",
    "print(type(s))\n",
    "num = int(s)\n",
    "print(type(num))"
   ]
  },
  {
   "cell_type": "code",
   "execution_count": 16,
   "metadata": {},
   "outputs": [
    {
     "name": "stdout",
     "output_type": "stream",
     "text": [
      "Enter a number10\n",
      "10 <class 'int'>\n",
      "even number\n"
     ]
    }
   ],
   "source": [
    "num1 = int(input(\"Enter a number\"))\n",
    "print(num1,type(num1))\n",
    "if num1 % 2 == 0:\n",
    "    print(\"even number\")\n",
    "else:\n",
    "    print(\"odd number\")"
   ]
  },
  {
   "cell_type": "code",
   "execution_count": null,
   "metadata": {},
   "outputs": [],
   "source": [
    "Vowel a,e,i,o,u\n",
    "Consonent"
   ]
  },
  {
   "cell_type": "code",
   "execution_count": 19,
   "metadata": {},
   "outputs": [
    {
     "name": "stdout",
     "output_type": "stream",
     "text": [
      "Enter the charz\n",
      "consonent\n"
     ]
    }
   ],
   "source": [
    "char = input(\"Enter the char\")\n",
    "\n",
    "if char == 'a' or char == 'e' or char == 'i' or char == 'o' or char == 'u':\n",
    "    print(\"vowel\")\n",
    "else:\n",
    "    print(\"consonent\")"
   ]
  },
  {
   "cell_type": "code",
   "execution_count": 21,
   "metadata": {},
   "outputs": [
    {
     "name": "stdout",
     "output_type": "stream",
     "text": [
      "Enter the charz\n",
      "consonent\n"
     ]
    }
   ],
   "source": [
    "char = input(\"Enter the char\")\n",
    "vowels = ['a','e','i','o','u']\n",
    "if char in vowels:\n",
    "    print(\"vowel\")\n",
    "else:\n",
    "    print(\"consonent\")"
   ]
  },
  {
   "cell_type": "code",
   "execution_count": null,
   "metadata": {},
   "outputs": [],
   "source": [
    "Income tax slab :\n",
    "income => \n",
    "    0 - 2,50,000 0%\n",
    "    2,50,001 - 5,00,000 => 5%\n",
    "    5,00,001 - 10,000,00 => 20% \n",
    "    10,00,000 >          => 30%"
   ]
  },
  {
   "cell_type": "code",
   "execution_count": 25,
   "metadata": {},
   "outputs": [
    {
     "name": "stdout",
     "output_type": "stream",
     "text": [
      "0\n"
     ]
    }
   ],
   "source": [
    "income = 2000\n",
    "\n",
    "if income <= 250000:\n",
    "    tax = 0\n",
    "elif income <= 500000:\n",
    "    tax = 5\n",
    "elif income <= 1000000:\n",
    "    tax = 20\n",
    "else:\n",
    "    tax = 30\n",
    "    \n",
    "if tax != 0:\n",
    "    tax_ammount = income * (tax/100)\n",
    "else:\n",
    "    tax_ammount = 0\n",
    "print(tax_ammount)"
   ]
  },
  {
   "cell_type": "code",
   "execution_count": 28,
   "metadata": {},
   "outputs": [
    {
     "name": "stdout",
     "output_type": "stream",
     "text": [
      "Hi\n"
     ]
    }
   ],
   "source": [
    "if [10,20]:\n",
    "    print(\"Hi\")\n",
    "else:\n",
    "    print(\"Java\")"
   ]
  },
  {
   "cell_type": "code",
   "execution_count": null,
   "metadata": {},
   "outputs": [],
   "source": [
    "zero  => False,0,[],\"\",{} \n",
    "Non zero => True"
   ]
  }
 ],
 "metadata": {
  "kernelspec": {
   "display_name": "Python 3",
   "language": "python",
   "name": "python3"
  },
  "language_info": {
   "codemirror_mode": {
    "name": "ipython",
    "version": 3
   },
   "file_extension": ".py",
   "mimetype": "text/x-python",
   "name": "python",
   "nbconvert_exporter": "python",
   "pygments_lexer": "ipython3",
   "version": "3.6.5"
  }
 },
 "nbformat": 4,
 "nbformat_minor": 2
}
