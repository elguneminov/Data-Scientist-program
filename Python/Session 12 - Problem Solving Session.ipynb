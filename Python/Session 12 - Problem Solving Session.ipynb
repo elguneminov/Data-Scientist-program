{
 "cells": [
  {
   "cell_type": "markdown",
   "metadata": {},
   "source": [
    "Find an element in array such that sum of left array is equal to sum of right array.\n",
    "l = [1,4,2,5]\n",
    "\n",
    "Output : index : 2 [1,4] [5] 5 == 5 \n",
    "\n",
    "Positive Tests \n",
    "    1. [1,1,1,4,3] expected output index => 3\n",
    "\n",
    "Negative Scenarios :\n",
    "    1. [2,1,3,2,7] expected output -1\n",
    "    2. [] expected output -1\n",
    "    3. [1,1,1,4,3,\"a\"]  expected output -1"
   ]
  },
  {
   "cell_type": "code",
   "execution_count": null,
   "metadata": {},
   "outputs": [],
   "source": [
    "1. \n",
    "l = [1,4,2,5]\n",
    "i. start with index => 1 , elemnet is  4\n",
    "ii find out left array and right sub array left = [1] right subarry = [2,5]\n",
    "ii sum left and right sub array :\n",
    "       if sum is equal print the index\n",
    "       else repeat for next element \n",
    "    \n",
    "  1 == 7 => No\n",
    "  [1,4]= [5] return index 2 \n",
    "\n",
    "\n",
    "l = [1,1,1,4,3]\n",
    "2. start with index 1\n",
    "      sum of right sub array 8 \n",
    "      sum of left sub array => 1 \n",
    "        \n",
    "    right sub array => 8 - 1 => 7\n",
    "    left sub arr y: 1 + 1 => 2 \n",
    "        \n",
    "        \n",
    "    right sub arry : 7 - 4 => 3\n",
    "    left sub arry :  2 + 1 => 3    \n",
    "    \n",
    "    "
   ]
  },
  {
   "cell_type": "code",
   "execution_count": null,
   "metadata": {},
   "outputs": [],
   "source": [
    "[1,1,1,4,3]\n",
    "\n",
    "left_sum = 0 \n",
    "right_sum = 9 \n",
    "\n",
    "start from index 1 element => 1 \n",
    "   right_sum = right sum - current value  => 9 - 1 = 8  \n",
    "   left_sum  = leftsum + [current elemnt -1] 0 +1 = 1 \n",
    "\n",
    "   check left and right sum \n",
    "        if not equal repeat for the next element \n",
    "        \n",
    "        \n",
    "   current element => 1 \n",
    "   right sum => 8 - 1 => 7 \n",
    "   left_sum => 1 + 1 => 2 \n",
    "\n",
    "\n",
    "\n",
    "   current elemnt => 4 \n",
    "   right_sum = 7 - 4 => 3\n",
    "   left_sum =  2 + 1 => 3 \n",
    "        \n",
    "        \n",
    "    \n"
   ]
  },
  {
   "cell_type": "code",
   "execution_count": 13,
   "metadata": {},
   "outputs": [
    {
     "name": "stdout",
     "output_type": "stream",
     "text": [
      "0 9\n",
      "3 4\n"
     ]
    }
   ],
   "source": [
    "l = [1,1,1,4,3]\n",
    "left_sum = 0\n",
    "right_sum = sum(l[1:])\n",
    "\n",
    "print(left_sum,right_sum)\n",
    "\n",
    "for index in range(1,len(l)-1):\n",
    "    right_sum = right_sum - l[index]\n",
    "    left_sum = left_sum + l[index -1]\n",
    "    \n",
    "    if right_sum == left_sum:\n",
    "        print(index,l[index])\n"
   ]
  },
  {
   "cell_type": "code",
   "execution_count": 6,
   "metadata": {},
   "outputs": [
    {
     "name": "stdout",
     "output_type": "stream",
     "text": [
      "[] [4, 2, 5]\n",
      "[1] [2, 5]\n",
      "[1, 4] [5]\n",
      "[1, 4, 2] []\n"
     ]
    }
   ],
   "source": [
    "l = [1,4,2,5]\n",
    "for index,value in enumerate(l[1:]):\n",
    "    \n",
    "    print(l[:index+1],l[index+1:])\n"
   ]
  },
  {
   "cell_type": "code",
   "execution_count": 8,
   "metadata": {},
   "outputs": [
    {
     "name": "stdout",
     "output_type": "stream",
     "text": [
      "2\n"
     ]
    }
   ],
   "source": [
    "l = [1,4,2,5]\n",
    "for index in range(1,len(l)):\n",
    "    if sum(l[:index]) == sum(l[index+1:]):\n",
    "        print(index)"
   ]
  },
  {
   "cell_type": "code",
   "execution_count": 9,
   "metadata": {},
   "outputs": [
    {
     "name": "stdout",
     "output_type": "stream",
     "text": [
      "6\n"
     ]
    }
   ],
   "source": [
    "l = [10,20,30,40,50,60]\n",
    "print(len(l))"
   ]
  },
  {
   "cell_type": "code",
   "execution_count": null,
   "metadata": {},
   "outputs": [],
   "source": [
    "TDD => Test Driven Development "
   ]
  },
  {
   "cell_type": "code",
   "execution_count": null,
   "metadata": {},
   "outputs": [],
   "source": [
    "1 Failing Test cases\n",
    "2.Write just enough code to pass the test cases\n",
    "3.Refactoring "
   ]
  },
  {
   "cell_type": "code",
   "execution_count": null,
   "metadata": {},
   "outputs": [],
   "source": [
    "Positive scenario \n",
    "Negative Scenario "
   ]
  },
  {
   "cell_type": "code",
   "execution_count": null,
   "metadata": {},
   "outputs": [],
   "source": [
    "l = [10,20,30,40,50,60,70]\n",
    "key = 500 \n",
    "\n"
   ]
  },
  {
   "cell_type": "markdown",
   "metadata": {},
   "source": [
    "A Program to check if strings are rotations of each other or not Given a string s1 and a string s2, write a snippet to say whether s2 is a rotation of s1 (eg given s1 = ABCD and s2 = CDAB, return true, given s1 = ABCD, and s2 = ACBD , return false)\n"
   ]
  },
  {
   "cell_type": "code",
   "execution_count": null,
   "metadata": {},
   "outputs": [],
   "source": [
    "s1 = ABCD\n",
    "\n",
    "1.Find all possible rotations \n",
    "    ABCD, BCDA,CDAB,DABC \n",
    "    check if s2 in rotations \n",
    "    \n",
    "\n",
    "S1 = ABCD\n",
    "s2 = CDAB\n",
    "\n",
    "2. ABCD  \n",
    "   BCDA == CDAB\n",
    "   CDAB == CDAB\n",
    "\n",
    "3.s1 = ABCD\n",
    "  s2 = CDAB\n",
    "    \n",
    "  s1_pointer = 0 => A \n",
    "  s2_pointer =>find(A) in s2 => 2 \n",
    "    \n",
    "  s1_pointer == s2_pointer \n",
    "  increment s1_pointer and increment s2_pointer \n",
    "  B == B \n",
    "  increment s1_pointer and increment s2_pointer \n",
    "  s1_pinter => 2 \n",
    "  s2_pointer => 4 >=len(s2) 4 - len(s2) => 4 - 4 = 0\n",
    "  C == C\n",
    "\n",
    "\n",
    "\n",
    "s1 = \"daadad\"\n",
    "s2 = \"addaad\"\n",
    "\n",
    "    \n",
    "\n"
   ]
  },
  {
   "cell_type": "markdown",
   "metadata": {},
   "source": [
    "\n",
    "\n",
    "Caesar's cipher shifts each letter by a number of letters. If the shift takes you past the end of the alphabet, just rotate back to the front of the alphabet. In the case of a rotation by 3, w, x, y and z would map to z, a, b and c.\n",
    "For example if string is : \"welcome\" and shift is 4 the output will be \"aipgtqi\"\n",
    "\n"
   ]
  },
  {
   "cell_type": "markdown",
   "metadata": {},
   "source": [
    "find the missing number in given integer array of 1 to 10. l = [1,2,3,4,5,6,7,9,10]\n",
    "assuming that there are no repetating numbers\n",
    "\n"
   ]
  },
  {
   "cell_type": "markdown",
   "metadata": {},
   "source": [
    "Write aprogram to check if two given strings are anagram of each other or not.\n",
    "Anagram Strings : if two given strings are anagrams of Each other. Two strings are anagrams if they are written using the same exact letters, ignoring space, punctuation, and capitalization. Eg : Input : \"Army\" and \"Mary\" Output \"Strings are anagrams of each other\""
   ]
  }
 ],
 "metadata": {
  "kernelspec": {
   "display_name": "Python 3",
   "language": "python",
   "name": "python3"
  },
  "language_info": {
   "codemirror_mode": {
    "name": "ipython",
    "version": 3
   },
   "file_extension": ".py",
   "mimetype": "text/x-python",
   "name": "python",
   "nbconvert_exporter": "python",
   "pygments_lexer": "ipython3",
   "version": "3.6.5"
  }
 },
 "nbformat": 4,
 "nbformat_minor": 2
}
