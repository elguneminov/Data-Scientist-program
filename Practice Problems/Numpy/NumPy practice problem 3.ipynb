{
 "cells": [
  {
   "cell_type": "markdown",
   "metadata": {},
   "source": [
    "# NumPy: Practice Problem 3: Solution\n",
    "Easy Questions :\n",
    "\n",
    "Moderate Questions :\n",
    "\n",
    "Hard Questions :\n",
    "<hr>"
   ]
  },
  {
   "cell_type": "markdown",
   "metadata": {},
   "source": [
    "### 1. Find dot product of two arrays.\n",
    "\n",
    "a = [2j, 3j],\n",
    "\n",
    "b = [2j, 3j]\n",
    "\n",
    "Level: Easy"
   ]
  },
  {
   "cell_type": "markdown",
   "metadata": {},
   "source": [
    "### 2. Create two arrays of 2-D and find dot product of it.\n",
    "\n",
    "Level: Easy"
   ]
  },
  {
   "cell_type": "markdown",
   "metadata": {},
   "source": [
    "### 3. Find vector product of given array.\n",
    "\n",
    "a = np.array([1+2j,3+4j])\n",
    "\n",
    "b = np.array([5+6j,7+8j])\n",
    "\n",
    "Level: Easy"
   ]
  },
  {
   "cell_type": "markdown",
   "metadata": {},
   "source": [
    "### 4. FIrst create given array withound using direct value insted use numpy utlities and then find inner product for given array.\n",
    "\n",
    "a = [[ 0  1  2  3]\n",
    "     [ 4  5  6  7]\n",
    "     [ 8  9 10 11]]\n",
    "\n",
    "b = [[12 13 14 15]\n",
    "     [16 17 18 19]\n",
    "     [20 21 22 23]]\n",
    "\n",
    "Level: Easy"
   ]
  },
  {
   "cell_type": "markdown",
   "metadata": {},
   "source": [
    "### 5. Using given two array try to print out 3rd given array.\n",
    "\n",
    "a = np.array(['a', 'b', 'c'], dtype=object)\n",
    "b = np.array([1,2,3])\n",
    "\n",
    "output = [['a', 'aa', 'aaa'],\n",
    "       ['b', 'bb', 'bbb'],\n",
    "       ['c', 'cc', 'ccc']]\n",
    "       \n",
    "Level: Medium"
   ]
  },
  {
   "cell_type": "markdown",
   "metadata": {},
   "source": [
    "### 6. Solve the system of equations 3 * x0 + x1 = 9 and x0 + 2 * x1 = 8\n",
    "\n",
    "Level: Medium"
   ]
  },
  {
   "cell_type": "markdown",
   "metadata": {},
   "source": [
    "### 7. Check the following solution is right or wrong uisng numpy utilities.\n",
    "\n",
    "2x+3y=8\n",
    "3x+y=5\n",
    "\n",
    "solution: x=1 , y=2\n",
    "\n",
    "Level : Medium"
   ]
  },
  {
   "cell_type": "markdown",
   "metadata": {},
   "source": [
    "### 9. Write a program to add two arrays of different shape.\n",
    "Hint: Broadcasting \n",
    "\n",
    "Level: Medium \n",
    "\n",
    "sample input:\n",
    "\n",
    "a=[0.0,10.0,20.0,30.0]\n",
    "\n",
    "b=[1.0,2.0,3.0]\n",
    "\n",
    "output:\n",
    "\n",
    "[[ 1., 2., 3.],\n",
    "\n",
    "[ 11., 12., 13.],\n",
    "\n",
    "[ 21., 22., 23.],\n",
    "\n",
    "[ 31., 32., 33.]]"
   ]
  },
  {
   "cell_type": "markdown",
   "metadata": {},
   "source": [
    "### 10. Create a 3 * 3 array find it's diagonal using numpy utilities.\n",
    "\n",
    "Level: Hard"
   ]
  },
  {
   "cell_type": "markdown",
   "metadata": {},
   "source": [
    "### 11. Now find anti - diagonal in previous question using horizontal and vector flip.\n",
    "\n",
    "Level: Hard"
   ]
  },
  {
   "cell_type": "markdown",
   "metadata": {},
   "source": [
    "### 12. Create given array without using indexing.\n",
    "\n",
    "a =   [[4, 0, 0],\n",
    "       [0, 4, 0],\n",
    "       [0, 0, 4],\n",
    "       [0, 0, 0],\n",
    "       [4, 0, 0],\n",
    "       [0, 4, 0],\n",
    "       [0, 0, 4]]\n",
    "\n",
    "Level : Hard"
   ]
  }
 ],
 "metadata": {
  "kernelspec": {
   "display_name": "Python 3",
   "language": "python",
   "name": "python3"
  },
  "language_info": {
   "codemirror_mode": {
    "name": "ipython",
    "version": 3
   },
   "file_extension": ".py",
   "mimetype": "text/x-python",
   "name": "python",
   "nbconvert_exporter": "python",
   "pygments_lexer": "ipython3",
   "version": "3.7.6"
  }
 },
 "nbformat": 4,
 "nbformat_minor": 4
}
