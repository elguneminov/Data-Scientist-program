{
 "cells": [
  {
   "cell_type": "markdown",
   "metadata": {},
   "source": [
    "## NumPy : Practice Problems 2: Solution\n",
    "Easy Questions :\n",
    "\n",
    "Moderate Questions :\n",
    "\n",
    "Hard Questions :\n",
    "<hr>\n"
   ]
  },
  {
   "cell_type": "code",
   "execution_count": 1,
   "metadata": {},
   "outputs": [],
   "source": [
    "import numpy as np"
   ]
  },
  {
   "cell_type": "markdown",
   "metadata": {},
   "source": [
    "### 1. Create an array and find sum of it.\n",
    "Level: Easy"
   ]
  },
  {
   "cell_type": "code",
   "execution_count": 14,
   "metadata": {},
   "outputs": [
    {
     "data": {
      "text/plain": [
       "332"
      ]
     },
     "execution_count": 14,
     "metadata": {},
     "output_type": "execute_result"
    }
   ],
   "source": [
    "a = np.random.randint(50,size=(5,3))\n",
    "np.sum(a)"
   ]
  },
  {
   "cell_type": "markdown",
   "metadata": {},
   "source": [
    "### 2. Find sin of given array.\n",
    "Level: Easy\n"
   ]
  },
  {
   "cell_type": "code",
   "execution_count": 18,
   "metadata": {},
   "outputs": [
    {
     "data": {
      "text/plain": [
       "array([[ 0.90929743,  0.14112001, -0.95892427],\n",
       "       [-0.95892427,  0.98935825,  0.83665564]])"
      ]
     },
     "execution_count": 18,
     "metadata": {},
     "output_type": "execute_result"
    }
   ],
   "source": [
    "a = np.array([[2,3,5],[5,8,21]])\n",
    "np.sin(a)"
   ]
  },
  {
   "cell_type": "markdown",
   "metadata": {},
   "source": [
    "### 3. Find mean of matrix along row and column.\n",
    "Level: Easy"
   ]
  },
  {
   "cell_type": "code",
   "execution_count": 82,
   "metadata": {},
   "outputs": [
    {
     "name": "stdout",
     "output_type": "stream",
     "text": [
      "[2.66666667 3.33333333 3.33333333]\n",
      "[1.66666667 6.33333333 1.33333333]\n"
     ]
    }
   ],
   "source": [
    "a = np.random.randint(10,size=(3,3))\n",
    "print(a.mean(axis=0))\n",
    "print(a.mean(axis=1))"
   ]
  },
  {
   "cell_type": "markdown",
   "metadata": {},
   "source": [
    "### 4. Find standard deviation of given array.\n",
    "Level: Easy"
   ]
  },
  {
   "cell_type": "code",
   "execution_count": 130,
   "metadata": {},
   "outputs": [
    {
     "name": "stdout",
     "output_type": "stream",
     "text": [
      "[1. 1.]\n",
      "[1.5 0.5]\n"
     ]
    }
   ],
   "source": [
    "print(a.std(axis=0))\n",
    "print(a.std(axis=1))"
   ]
  },
  {
   "cell_type": "markdown",
   "metadata": {},
   "source": [
    "### 5. Create a 3*3 matrix and print it's transpose matrix\n",
    "Level: Easy"
   ]
  },
  {
   "cell_type": "code",
   "execution_count": 85,
   "metadata": {},
   "outputs": [
    {
     "data": {
      "text/plain": [
       "array([[5, 3, 0],\n",
       "       [0, 7, 3],\n",
       "       [0, 9, 1]])"
      ]
     },
     "execution_count": 85,
     "metadata": {},
     "output_type": "execute_result"
    }
   ],
   "source": [
    "a.T"
   ]
  },
  {
   "cell_type": "markdown",
   "metadata": {},
   "source": [
    "### 6. Create an array of 3*3 and find index of max along both axis.\n",
    "\n",
    "Level: Medium"
   ]
  },
  {
   "cell_type": "code",
   "execution_count": 142,
   "metadata": {},
   "outputs": [
    {
     "name": "stdout",
     "output_type": "stream",
     "text": [
      "[[2 5]\n",
      " [4 3]]\n",
      "[1 0]\n",
      "[1 0]\n"
     ]
    }
   ],
   "source": [
    "print(a)\n",
    "print(a.argmax(axis=0))\n",
    "print(a.argmax(axis=1))"
   ]
  },
  {
   "cell_type": "markdown",
   "metadata": {},
   "source": [
    "### 7.  find sum of two matrix.\n",
    "Level: Medium"
   ]
  },
  {
   "cell_type": "code",
   "execution_count": 94,
   "metadata": {},
   "outputs": [
    {
     "name": "stdout",
     "output_type": "stream",
     "text": [
      "[[ 2  3  5]\n",
      " [ 5  8 21]]\n"
     ]
    },
    {
     "data": {
      "text/plain": [
       "array([[ 3,  5,  8],\n",
       "       [ 6, 10, 24]])"
      ]
     },
     "execution_count": 94,
     "metadata": {},
     "output_type": "execute_result"
    }
   ],
   "source": [
    "a = np.array([[2,3,5],[5,8,21]])\n",
    "print(a)\n",
    "v = [1,2,3]\n",
    "a+v"
   ]
  },
  {
   "cell_type": "markdown",
   "metadata": {},
   "source": [
    "### 8. Find indexes of max element along axis=0 and axis=1 .\n",
    "Level: Medium"
   ]
  },
  {
   "cell_type": "code",
   "execution_count": 143,
   "metadata": {},
   "outputs": [
    {
     "name": "stdout",
     "output_type": "stream",
     "text": [
      "[ 5 12 21]\n",
      "[12 21]\n"
     ]
    }
   ],
   "source": [
    "a = np.array([[2,12,5],[5,8,21]])\n",
    "print(a.max(axis=0))\n",
    "print(a.max(axis=1))"
   ]
  },
  {
   "cell_type": "markdown",
   "metadata": {},
   "source": [
    "### 9. Write a program to add two arrays of different shape.\n",
    "Hint: Broadcasting\n",
    "Level: Medium\n",
    "sample input:\n",
    "\n",
    "a=[0.0,10.0,20.0,30.0]\n",
    "\n",
    "b=[1.0,2.0,3.0]\n",
    "\n",
    "output:\n",
    "\n",
    "[[  1.,   2.,   3.],\n",
    "\n",
    " [ 11.,  12.,  13.],\n",
    " \n",
    " [ 21.,  22.,  23.],\n",
    " \n",
    " [ 31.,  32.,  33.]]"
   ]
  },
  {
   "cell_type": "code",
   "execution_count": 103,
   "metadata": {},
   "outputs": [
    {
     "data": {
      "text/plain": [
       "array([[ 1.,  2.,  3.],\n",
       "       [11., 12., 13.],\n",
       "       [21., 22., 23.],\n",
       "       [31., 32., 33.]])"
      ]
     },
     "execution_count": 103,
     "metadata": {},
     "output_type": "execute_result"
    }
   ],
   "source": [
    "a = np.array([0.0, 10.0, 20.0, 30.0])\n",
    "b = np.array([1.0, 2.0, 3.0])\n",
    "a[:, np.newaxis]+b"
   ]
  },
  {
   "cell_type": "markdown",
   "metadata": {},
   "source": [
    "### 10. Try to solve a array and print a array with indices which would sort the given array.\n",
    "\n",
    "sample input:\n",
    "\n",
    "a = [3,1,8,2]\n",
    "\n",
    "output:\n",
    "\n",
    "[1,3,0,2]"
   ]
  },
  {
   "cell_type": "code",
   "execution_count": 105,
   "metadata": {},
   "outputs": [
    {
     "data": {
      "text/plain": [
       "array([1, 3, 0, 2], dtype=int64)"
      ]
     },
     "execution_count": 105,
     "metadata": {},
     "output_type": "execute_result"
    }
   ],
   "source": [
    "x = np.array([3,1,8,2])\n",
    "np.argsort(x)"
   ]
  },
  {
   "cell_type": "markdown",
   "metadata": {},
   "source": [
    "### 11. Try to do perform same operation mentioned in previous questions for multidimentional array along both axis.\n",
    "\n",
    "Level: Medium"
   ]
  },
  {
   "cell_type": "code",
   "execution_count": 110,
   "metadata": {},
   "outputs": [
    {
     "name": "stdout",
     "output_type": "stream",
     "text": [
      "along axis 1:\n",
      " [[1 2 0]\n",
      " [2 0 1]\n",
      " [1 2 0]]\n",
      "along axis 0:\n",
      " [[1 2 1]\n",
      " [2 0 2]\n",
      " [0 1 0]]\n"
     ]
    }
   ],
   "source": [
    "x = np.random.randint(10,50,(3,3))\n",
    "print(\"along axis 1:\\n\",np.argsort(x, axis=1))\n",
    "print(\"along axis 0:\\n\",np.argsort(x, axis=0))"
   ]
  },
  {
   "cell_type": "markdown",
   "metadata": {},
   "source": [
    "### 12. calculate multiplication of transpose and matrix itself of a 3*3 matrix.\n",
    "Level: Medium"
   ]
  },
  {
   "cell_type": "code",
   "execution_count": null,
   "metadata": {},
   "outputs": [],
   "source": []
  },
  {
   "cell_type": "markdown",
   "metadata": {},
   "source": [
    "a = np.random.randint(10,size=(3,3))\n",
    "print(\"original matrix:\\n\",a)\n",
    "print(\"Transpose of a:\\n\",a.T)\n",
    "print(\"Multiplication:\\n\",a*a.T)"
   ]
  },
  {
   "cell_type": "markdown",
   "metadata": {},
   "source": [
    "### 13. Find solution for given linear equstion:\n",
    "\n",
    "2x + 5*y = 28\n",
    "4*x + 3*y = 81\n",
    "\n",
    "Level: Hard"
   ]
  },
  {
   "cell_type": "code",
   "execution_count": 116,
   "metadata": {},
   "outputs": [
    {
     "name": "stdout",
     "output_type": "stream",
     "text": [
      "Solution of linear equations: [22.92857143 -3.57142857]\n"
     ]
    }
   ],
   "source": [
    "a = np.array([[2, 5], [4, 3]])  \n",
    "b = np.array([28, 81]) \n",
    "print(\"Solution of linear equations:\", np.linalg.solve(a, b))"
   ]
  },
  {
   "cell_type": "markdown",
   "metadata": {},
   "source": [
    "### 14. Find Rank, Trace, Inverse, Determinant of a given matrix.\n",
    "\n",
    "A=[[1, 1, 1], \n",
    "              [2, 2, 2], \n",
    "              [3, 3, 3]]) \n",
    "              \n",
    "Level: Hard"
   ]
  },
  {
   "cell_type": "code",
   "execution_count": 121,
   "metadata": {},
   "outputs": [
    {
     "name": "stdout",
     "output_type": "stream",
     "text": [
      "Rank:\n",
      " 3\n",
      "Trace:\n",
      " 8\n",
      "Determinant:\n",
      " 108.00000000000003\n",
      "Inverse:\n",
      " [[-0.12962963 -0.01851852  0.18518519]\n",
      " [ 0.10185185 -0.34259259  0.42592593]\n",
      " [ 0.12037037  0.23148148 -0.31481481]]\n"
     ]
    }
   ],
   "source": [
    "A = [[1, 4, 6], [9, 2, 8], [7, 3, 5]]\n",
    "print(\"Rank:\\n\", np.linalg.matrix_rank(A)) \n",
    "  \n",
    "print(\"Trace:\\n\", np.trace(A)) \n",
    "  \n",
    "print(\"Determinant:\\n\", np.linalg.det(A)) \n",
    "  \n",
    "print(\"Inverse:\\n\", np.linalg.inv(A)) \n",
    "  "
   ]
  },
  {
   "cell_type": "markdown",
   "metadata": {},
   "source": [
    "### 15. Find cube of a mtrix.\n",
    "\n",
    "Level: Hard"
   ]
  },
  {
   "cell_type": "code",
   "execution_count": 122,
   "metadata": {},
   "outputs": [
    {
     "data": {
      "text/plain": [
       "array([[ 825,  580, 1054],\n",
       "       [1429,  790, 1560],\n",
       "       [1147,  647, 1261]])"
      ]
     },
     "execution_count": 122,
     "metadata": {},
     "output_type": "execute_result"
    }
   ],
   "source": [
    "A = [[1, 4, 6], [9, 2, 8], [7, 3, 5]]\n",
    "\n",
    "np.linalg.matrix_power(A, 3)"
   ]
  }
 ],
 "metadata": {
  "kernelspec": {
   "display_name": "Python 3",
   "language": "python",
   "name": "python3"
  },
  "language_info": {
   "codemirror_mode": {
    "name": "ipython",
    "version": 3
   },
   "file_extension": ".py",
   "mimetype": "text/x-python",
   "name": "python",
   "nbconvert_exporter": "python",
   "pygments_lexer": "ipython3",
   "version": "3.7.6"
  }
 },
 "nbformat": 4,
 "nbformat_minor": 4
}
