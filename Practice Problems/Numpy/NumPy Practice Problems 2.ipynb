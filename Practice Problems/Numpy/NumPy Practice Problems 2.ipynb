{
 "cells": [
  {
   "cell_type": "markdown",
   "metadata": {},
   "source": [
    "## NumPy : Practice Problems 2: Solution\n",
    "Easy Questions : 5\n",
    "\n",
    "Moderate Questions : 7\n",
    "\n",
    "Hard Questions : 3\n",
    "<hr>\n"
   ]
  },
  {
   "cell_type": "markdown",
   "metadata": {},
   "source": [
    "### 1. Create an array and find sum of it.\n",
    "Level: Easy"
   ]
  },
  {
   "cell_type": "markdown",
   "metadata": {},
   "source": [
    "### 2. Find sin of given array.\n",
    "Level: Easy\n"
   ]
  },
  {
   "cell_type": "markdown",
   "metadata": {},
   "source": [
    "### 3. Find mean of matrix along row and column.\n",
    "Level: Easy"
   ]
  },
  {
   "cell_type": "markdown",
   "metadata": {},
   "source": [
    "### 4. Find standard deviation of given array.\n",
    "Level: Easy"
   ]
  },
  {
   "cell_type": "markdown",
   "metadata": {},
   "source": [
    "### 5. Create a 3*3 matrix and print it's transpose matrix\n",
    "Level: Easy"
   ]
  },
  {
   "cell_type": "markdown",
   "metadata": {},
   "source": [
    "### 6. Create an array of 3*3 and find index of max along both axis.\n",
    "\n",
    "Level: Medium"
   ]
  },
  {
   "cell_type": "markdown",
   "metadata": {},
   "source": [
    "### 7.  find sum of two matrix.\n",
    "Level: Medium"
   ]
  },
  {
   "cell_type": "markdown",
   "metadata": {},
   "source": [
    "### 8. Find max element along axis=0 and axis=1 .\n",
    "Level: Medium"
   ]
  },
  {
   "cell_type": "markdown",
   "metadata": {},
   "source": [
    "### 9. Write a program to add two arrays of different shape.\n",
    "Hint: Broadcasting\n",
    "Level: Medium\n",
    "sample input:\n",
    "\n",
    "a=[0.0,10.0,20.0,30.0]\n",
    "\n",
    "b=[1.0,2.0,3.0]\n",
    "\n",
    "output:\n",
    "\n",
    "[[  1.,   2.,   3.],\n",
    "\n",
    " [ 11.,  12.,  13.],\n",
    " \n",
    " [ 21.,  22.,  23.],\n",
    " \n",
    " [ 31.,  32.,  33.]]"
   ]
  },
  {
   "cell_type": "markdown",
   "metadata": {},
   "source": [
    "### 10. Try to solve a array and print a array with indices which would sort the given array.\n",
    "\n",
    "sample input:\n",
    "\n",
    "a = [3,1,8,2]\n",
    "\n",
    "output:\n",
    "\n",
    "[1,3,0,2]"
   ]
  },
  {
   "cell_type": "markdown",
   "metadata": {},
   "source": [
    "### 11. Try to do perform same operation mentioned in previous questions for multidimentional array along both axis.\n",
    "\n",
    "Level: Medium"
   ]
  },
  {
   "cell_type": "markdown",
   "metadata": {},
   "source": [
    "### 12. calculate multiplication of transpose and matrix itself of a 3*3 matrix.\n",
    "Level: Medium"
   ]
  },
  {
   "cell_type": "markdown",
   "metadata": {},
   "source": [
    "### 13. Find solution for given linear equstion:\n",
    "\n",
    "2x + 5*y = 28\n",
    "4*x + 3*y = 81\n",
    "\n",
    "Level: Hard"
   ]
  },
  {
   "cell_type": "markdown",
   "metadata": {},
   "source": [
    "### 14. Find Rank, Trace, Inverse, Determinant of a given matrix.\n",
    "\n",
    "A=[[1, 1, 1], \n",
    "              [2, 2, 2], \n",
    "              [3, 3, 3]]) \n",
    "              \n",
    "Level: Hard"
   ]
  },
  {
   "cell_type": "markdown",
   "metadata": {},
   "source": [
    "### 15. Find cube of a mtrix.\n",
    "\n",
    "Level: Hard"
   ]
  }
 ],
 "metadata": {
  "kernelspec": {
   "display_name": "Python 3",
   "language": "python",
   "name": "python3"
  },
  "language_info": {
   "codemirror_mode": {
    "name": "ipython",
    "version": 3
   },
   "file_extension": ".py",
   "mimetype": "text/x-python",
   "name": "python",
   "nbconvert_exporter": "python",
   "pygments_lexer": "ipython3",
   "version": "3.7.6"
  }
 },
 "nbformat": 4,
 "nbformat_minor": 4
}
