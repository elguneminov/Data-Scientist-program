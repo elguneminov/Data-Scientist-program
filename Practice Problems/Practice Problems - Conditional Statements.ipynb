{
 "cells": [
  {
   "cell_type": "markdown",
   "metadata": {},
   "source": [
    "1. Given two numbers, print their sum. However, if the two numbers are the same, return double their sum.\n",
    "\n",
    "2. Given 2 numbers, a for the purchase amount in rupees, and b for the quality of service(1-5) received,calculate the tip in rupees? Calculate the tip according to the following table\n",
    "\n",
    "Quality\tTip Percent\t\n",
    "1\t5%\t\n",
    "2\t10%\t\n",
    "3\t15%\t\n",
    "4\t20%\t\n",
    "5\t25%\n",
    "\n",
    "3.Given a number a,program to check whether a number is positive, negative or zero\n",
    "\n",
    "4.Given a Cost price and Selling price of a product,write program to calculate profit or loss\t\n",
    "\n",
    "5.Write a program to input electricity unit charge and calculate the total electricity bill according to the given condition:\n",
    "For first 50 units Rs. 0.50/unit\n",
    "For next 100 units Rs. 0.75/unit\n",
    "For next 100 units Rs. 1.20/unit\n",
    "For unit above 250 Rs. 1.50/unit\n",
    "\n",
    "Also,an additional surcharge of 20% is added to the bill. \n",
    "\n",
    "6.Write a program to input basic salary of an employee and calculate gross salary according to given conditions.\n",
    "Basic Salary <= 10000 : HRA = 20%, DA = 80%\n",
    "Basic Salary is between 10001 to 20000 : HRA = 25%, DA = 90%\n",
    "Basic Salary >= 20001 : HRA = 30%, DA = 95% \n",
    "\n",
    "7. Write a program to count total number of notes in given amount\n",
    "\n",
    "Valid notes :\n",
    "10,20,50,100,500,2000\n",
    "\n",
    "For eg : ammount 2510, expected output is 2000=1,500=1,10=1\n",
    "\n",
    "8. Write a program to check whether triangle is valid or not if angles are given. \n",
    "\tValid Triangle : Sum of all the angles should be 180\n",
    "\t\t\t All the angles should be greater than zero\n",
    "\n",
    "9. Write a program to check if given year is leap year or not.\n",
    "\n",
    "10. Write a program to check whether triangle is equilateral, scalene or isosceles\n",
    "\tA triangle is said Equilateral Triangle, if all its sides are equal. If a, b, c are three sides of triangle. Then, \tthe triangle is equilateral only if a == b == c.\n",
    "\n",
    "\tA triangle is said Isosceles Triangle, if its two sides are equal. If a, b, c are three sides of triangle. Then, the \ttriangle is isosceles if either a == b or a == c or b == c.\n",
    "\n",
    "\tA triangle is said Scalene Triangle, if none of its sides are equal. \n",
    "\n",
    "\n"
   ]
  }
 ],
 "metadata": {
  "kernelspec": {
   "display_name": "Python 3",
   "language": "python",
   "name": "python3"
  },
  "language_info": {
   "codemirror_mode": {
    "name": "ipython",
    "version": 3
   },
   "file_extension": ".py",
   "mimetype": "text/x-python",
   "name": "python",
   "nbconvert_exporter": "python",
   "pygments_lexer": "ipython3",
   "version": "3.6.5"
  }
 },
 "nbformat": 4,
 "nbformat_minor": 2
}
