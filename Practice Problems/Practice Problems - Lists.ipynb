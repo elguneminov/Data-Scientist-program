{
 "cells": [
  {
   "cell_type": "markdown",
   "metadata": {},
   "source": [
    "1.Write a program, which will find all such numbers between 1000 and 3000 (both included) such that each digit of the number is an even number. Add all such elements into the list and print the list."
   ]
  },
  {
   "cell_type": "markdown",
   "metadata": {},
   "source": [
    "2.Write a program to find all pairs in a list of Integers Whose sum is equal to a given Number.\n",
    "\n",
    "For example nums = [1,2,3,4,5] sum = 7\n",
    "\n",
    "expected output is ans = [(3,4),(2,5),(4,3),(5,2)]"
   ]
  },
  {
   "cell_type": "markdown",
   "metadata": {},
   "source": [
    "3.Program to compute the sum of two matrices and then print it\n",
    "Input :\n",
    "    \n",
    "X= [[1,2,3],\n",
    "    [4 ,5,6],\n",
    "    [7 ,8,9]]\n",
    " \n",
    "Y = [[9,8,7],\n",
    "    [6,5,4],\n",
    "    [3,2,1]]\n",
    " \n",
    "Output :\n",
    "result= [[10,10,10],\n",
    "         [10,10,10],\n",
    "         [10,10,10]]"
   ]
  },
  {
   "cell_type": "markdown",
   "metadata": {},
   "source": [
    "4.Check if a given matrix is sparse or not\n",
    "\n",
    "A matrix is a two dimensional data objects having m rows and n columns, therefore a total of m*n values. If most of the values of a matrix is 0 then we say that the matrix is sparse.\n",
    "Consider a definition of Sparse where a matrix is considered sparse if number of 0s is more than half of the elements in matrix,\n",
    "\n",
    "Input : [[1 0 3],\n",
    "        [0 0 4],\n",
    "        [6 0 0]]\n",
    "        \n",
    "Output : Yes\n",
    "\n",
    "There are 5 zeros. This count\n",
    "is more than half of matrix\n",
    "size.\n",
    "\n",
    "Input : [[1 2 3],\n",
    "        [0 7 8],\n",
    "        [5 0 7]]\n",
    "        \n",
    "Output: No"
   ]
  },
  {
   "cell_type": "markdown",
   "metadata": {},
   "source": [
    "5.Program to Find Integer which appears more than N/2 times in a Sorted Array of N Integers\n",
    "\n",
    "Input : [1,1,1,2,3]\n",
    "    \n",
    "Output : 1 as the N is 5, N / 2 => 2 and the element present more that 2 times is 1 \n",
    "\n"
   ]
  }
 ],
 "metadata": {
  "kernelspec": {
   "display_name": "Python 3",
   "language": "python",
   "name": "python3"
  },
  "language_info": {
   "codemirror_mode": {
    "name": "ipython",
    "version": 3
   },
   "file_extension": ".py",
   "mimetype": "text/x-python",
   "name": "python",
   "nbconvert_exporter": "python",
   "pygments_lexer": "ipython3",
   "version": "3.6.5"
  }
 },
 "nbformat": 4,
 "nbformat_minor": 2
}
