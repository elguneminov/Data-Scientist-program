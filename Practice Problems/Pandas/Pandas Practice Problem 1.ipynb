{
 "cells": [
  {
   "cell_type": "markdown",
   "metadata": {},
   "source": [
    "# Pandas Practice Problem 1\n",
    "Easy Questions : 5\n",
    "\n",
    "Moderate Questions : 5\n",
    "\n",
    "Hard Questions : 3\n",
    "<hr>"
   ]
  },
  {
   "cell_type": "markdown",
   "metadata": {},
   "source": [
    "### NOTE: winamag.csv file is available in practice-problems/data directory please download and then solve question for loading file and amnipulating file data."
   ]
  },
  {
   "cell_type": "markdown",
   "metadata": {},
   "source": [
    "### 1. Create a dataframe `fruit_sales` that matches the diagram below:\n",
    "                Apple\tBananas\n",
    "    2017 Sales\t 30\t21\n",
    "    2018 Sales\t 41\t34\n",
    "    \n",
    "Level : Easy"
   ]
  },
  {
   "cell_type": "markdown",
   "metadata": {},
   "source": [
    "### 2. Create a variable `ingredients` with a Series that looks like:\n",
    "\n",
    "```\n",
    "Flour     4 cups\n",
    "Milk       1 cup\n",
    "Eggs     2 large\n",
    "Spam       1 can\n",
    "Name: Dinner, dtype: object\n",
    "```\n",
    "\n",
    "Level : Easy"
   ]
  },
  {
   "cell_type": "markdown",
   "metadata": {},
   "source": [
    "### 3. Create a dataframe from series that looks like:\n",
    "        A\tB\n",
    "    a\t1\t11\n",
    "\n",
    "    b\t2\t22\n",
    "\n",
    "    c\t3\t33\n",
    "\n",
    "    d\t4\t44\n",
    "\n",
    "    e\t5\t55\n",
    "\n",
    "Level: Easy\n"
   ]
  },
  {
   "cell_type": "markdown",
   "metadata": {},
   "source": [
    "### 4. Create a dataframe using random numpy array that look like:\n",
    "\n",
    "        a   b\tc\td\te\n",
    "    A   [\n",
    "    B\t      Some\n",
    "    C\t      random \n",
    "    D\t      values\n",
    "    E                      ]\n",
    "    \t\n",
    "\n",
    "Level: Easy"
   ]
  },
  {
   "cell_type": "markdown",
   "metadata": {},
   "source": [
    "### 5. Read a csv file and display data of file and assign it to variable csv.\n",
    "\n",
    "Level : Easy"
   ]
  },
  {
   "cell_type": "markdown",
   "metadata": {},
   "source": [
    "### 6. Select the `description` column from `csv` and assign the result to the variable `desc`.\n",
    "\n",
    "Level: Medium"
   ]
  },
  {
   "cell_type": "markdown",
   "metadata": {},
   "source": [
    "### 7. Select the first value from the description column of `csv`, assigning it to variable first_description.\n",
    "Level: Medium"
   ]
  },
  {
   "cell_type": "markdown",
   "metadata": {},
   "source": [
    "### 8. Select the first 10 values from the `description` column in `reviews`, assigning the result to variable first_descriptions.\n",
    "\n",
    "Level : Medium\n"
   ]
  },
  {
   "cell_type": "markdown",
   "metadata": {},
   "source": [
    "### 9. Select the records with index labels `1`, `2`, `3`, `5`, and `8`, assigning the result to the variable sample_reviews.\n",
    "\n",
    "Level : Medium"
   ]
  },
  {
   "cell_type": "markdown",
   "metadata": {},
   "source": [
    "### 10. Create a variable `df` containing the `country`, `province`, `region_1`, and `region_2` columns of the records with the index labels 0, 1, 10, and 100. \n",
    "\n",
    "Level : Medium"
   ]
  },
  {
   "cell_type": "markdown",
   "metadata": {},
   "source": [
    "### 11. Create a DataFrame `top_oceania_wines` containing all reviews with at least 95 points (out of 100) for wines from Australia or New Zealand.\n",
    "\n",
    "Level: Hard\n"
   ]
  },
  {
   "cell_type": "markdown",
   "metadata": {},
   "source": [
    "### 12. Sort result by descending order of points obtained in last question.\n",
    "\n",
    "Level: Hard"
   ]
  },
  {
   "cell_type": "markdown",
   "metadata": {},
   "source": [
    "### 13. Select all record of Itly and point less than 80 using where clause.\n",
    "Level: Hard"
   ]
  }
 ],
 "metadata": {
  "kernelspec": {
   "display_name": "Python 3",
   "language": "python",
   "name": "python3"
  },
  "language_info": {
   "codemirror_mode": {
    "name": "ipython",
    "version": 3
   },
   "file_extension": ".py",
   "mimetype": "text/x-python",
   "name": "python",
   "nbconvert_exporter": "python",
   "pygments_lexer": "ipython3",
   "version": "3.7.6"
  }
 },
 "nbformat": 4,
 "nbformat_minor": 4
}
