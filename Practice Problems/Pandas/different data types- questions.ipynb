{
 "cells": [
  {
   "cell_type": "markdown",
   "metadata": {},
   "source": [
    "### XML"
   ]
  },
  {
   "cell_type": "markdown",
   "metadata": {},
   "source": [
    "### Do these operation of data provided:\n",
    "1. Read\n",
    "2. Describe\n",
    "3. Info"
   ]
  },
  {
   "cell_type": "markdown",
   "metadata": {},
   "source": [
    "### 1. XML data --> https://raw.githubusercontent.com/edyoda/data-science-complete-tutorial/master/Data/student.xml\n",
    "\n",
    "Save data from this link into your local machine then try to read it"
   ]
  },
  {
   "cell_type": "markdown",
   "metadata": {},
   "source": [
    "### 2. JSON datatype --> https://raw.githubusercontent.com/corysimmons/colors.json/master/colors.json"
   ]
  },
  {
   "cell_type": "markdown",
   "metadata": {},
   "source": [
    "### 3. XLSX (Excel) --> https://github.com/edyoda/data-science-complete-tutorial/blob/master/Data/sales-funnel.xlsx\n",
    "You can use your own data also. when you click on b=view raw it will download file automatically."
   ]
  },
  {
   "cell_type": "markdown",
   "metadata": {},
   "source": [
    "### 4. Above data loaded from xlsx file create a pickle data from it and try to load that."
   ]
  },
  {
   "cell_type": "markdown",
   "metadata": {},
   "source": [
    "### 5. Simple text data it can be read as csv . link--> https://raw.githubusercontent.com/edyoda/data-science-complete-tutorial/master/Data/adult.data.txt"
   ]
  }
 ],
 "metadata": {
  "kernelspec": {
   "display_name": "Python 3",
   "language": "python",
   "name": "python3"
  },
  "language_info": {
   "codemirror_mode": {
    "name": "ipython",
    "version": 3
   },
   "file_extension": ".py",
   "mimetype": "text/x-python",
   "name": "python",
   "nbconvert_exporter": "python",
   "pygments_lexer": "ipython3",
   "version": "3.7.6"
  }
 },
 "nbformat": 4,
 "nbformat_minor": 4
}
