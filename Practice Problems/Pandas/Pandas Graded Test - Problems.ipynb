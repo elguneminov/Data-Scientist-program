{
 "cells": [
  {
   "cell_type": "code",
   "execution_count": 2,
   "metadata": {},
   "outputs": [],
   "source": [
    "import pandas as pd\n",
    "import numpy as np"
   ]
  },
  {
   "cell_type": "markdown",
   "metadata": {},
   "source": [
    "# Data : 1 'House Rental Data'"
   ]
  },
  {
   "cell_type": "markdown",
   "metadata": {},
   "source": [
    "### 1. Load rental data with first column as index column (Solved)"
   ]
  },
  {
   "cell_type": "code",
   "execution_count": 3,
   "metadata": {},
   "outputs": [
    {
     "data": {
      "text/html": [
       "<div>\n",
       "<style scoped>\n",
       "    .dataframe tbody tr th:only-of-type {\n",
       "        vertical-align: middle;\n",
       "    }\n",
       "\n",
       "    .dataframe tbody tr th {\n",
       "        vertical-align: top;\n",
       "    }\n",
       "\n",
       "    .dataframe thead th {\n",
       "        text-align: right;\n",
       "    }\n",
       "</style>\n",
       "<table border=\"1\" class=\"dataframe\">\n",
       "  <thead>\n",
       "    <tr style=\"text-align: right;\">\n",
       "      <th></th>\n",
       "      <th>Sqft</th>\n",
       "      <th>Floor</th>\n",
       "      <th>TotalFloor</th>\n",
       "      <th>Bedroom</th>\n",
       "      <th>Living.Room</th>\n",
       "      <th>Bathroom</th>\n",
       "      <th>Price</th>\n",
       "    </tr>\n",
       "  </thead>\n",
       "  <tbody>\n",
       "    <tr>\n",
       "      <th>1</th>\n",
       "      <td>1177.698</td>\n",
       "      <td>2</td>\n",
       "      <td>7</td>\n",
       "      <td>2</td>\n",
       "      <td>2</td>\n",
       "      <td>2</td>\n",
       "      <td>62000</td>\n",
       "    </tr>\n",
       "    <tr>\n",
       "      <th>2</th>\n",
       "      <td>2134.800</td>\n",
       "      <td>5</td>\n",
       "      <td>7</td>\n",
       "      <td>4</td>\n",
       "      <td>2</td>\n",
       "      <td>2</td>\n",
       "      <td>78000</td>\n",
       "    </tr>\n",
       "    <tr>\n",
       "      <th>3</th>\n",
       "      <td>1138.560</td>\n",
       "      <td>5</td>\n",
       "      <td>7</td>\n",
       "      <td>2</td>\n",
       "      <td>2</td>\n",
       "      <td>1</td>\n",
       "      <td>58000</td>\n",
       "    </tr>\n",
       "    <tr>\n",
       "      <th>4</th>\n",
       "      <td>1458.780</td>\n",
       "      <td>2</td>\n",
       "      <td>7</td>\n",
       "      <td>3</td>\n",
       "      <td>2</td>\n",
       "      <td>2</td>\n",
       "      <td>45000</td>\n",
       "    </tr>\n",
       "    <tr>\n",
       "      <th>5</th>\n",
       "      <td>967.776</td>\n",
       "      <td>11</td>\n",
       "      <td>14</td>\n",
       "      <td>3</td>\n",
       "      <td>2</td>\n",
       "      <td>2</td>\n",
       "      <td>45000</td>\n",
       "    </tr>\n",
       "  </tbody>\n",
       "</table>\n",
       "</div>"
      ],
      "text/plain": [
       "       Sqft  Floor  TotalFloor  Bedroom  Living.Room  Bathroom  Price\n",
       "1  1177.698      2           7        2            2         2  62000\n",
       "2  2134.800      5           7        4            2         2  78000\n",
       "3  1138.560      5           7        2            2         1  58000\n",
       "4  1458.780      2           7        3            2         2  45000\n",
       "5   967.776     11          14        3            2         2  45000"
      ]
     },
     "execution_count": 3,
     "metadata": {},
     "output_type": "execute_result"
    }
   ],
   "source": [
    "house_rental = pd.read_csv('https://raw.githubusercontent.com/edyoda/data-science-complete-tutorial/master/Data/house_rental_data.csv.txt',index_col='Unnamed: 0')\n",
    "house_rental.head()"
   ]
  },
  {
   "cell_type": "markdown",
   "metadata": {},
   "source": [
    "### 2. Find all houses which has more than 2 bedroom and price less than 50k"
   ]
  },
  {
   "cell_type": "markdown",
   "metadata": {},
   "source": [
    "### 3. Find all houses which has more than 3 bedroom and price less than 50k. Update their price with 60k"
   ]
  },
  {
   "cell_type": "markdown",
   "metadata": {},
   "source": [
    "### 4. Find no of house who's price is updated in previous question."
   ]
  },
  {
   "cell_type": "markdown",
   "metadata": {},
   "source": [
    "### 5. Find average price of house."
   ]
  },
  {
   "cell_type": "markdown",
   "metadata": {},
   "source": [
    "###  6. Find average price of house respective to bedroom.\n",
    "example : avg price of house of 1 bedroom then 2 ...so on"
   ]
  },
  {
   "cell_type": "markdown",
   "metadata": {},
   "source": [
    "### 7. Find details of house whose price is highest."
   ]
  },
  {
   "cell_type": "markdown",
   "metadata": {},
   "source": [
    "### 8. Sort the given data by price in ascending order"
   ]
  },
  {
   "cell_type": "markdown",
   "metadata": {},
   "source": [
    "### 9. Display all details of house with 1 bedroom first then 2 bedroom.. and so on.\n",
    "Note use Groupby then describe"
   ]
  },
  {
   "cell_type": "markdown",
   "metadata": {},
   "source": [
    "### 10. Display all details of each house with 1 bedroom first then 2 bedroom.. and so on."
   ]
  },
  {
   "cell_type": "markdown",
   "metadata": {},
   "source": [
    "# Data : 2 'Health Care Data'"
   ]
  },
  {
   "cell_type": "markdown",
   "metadata": {},
   "source": [
    "## Load rental data with first column as index column (Solved)"
   ]
  },
  {
   "cell_type": "code",
   "execution_count": 159,
   "metadata": {},
   "outputs": [
    {
     "data": {
      "text/html": [
       "<div>\n",
       "<style scoped>\n",
       "    .dataframe tbody tr th:only-of-type {\n",
       "        vertical-align: middle;\n",
       "    }\n",
       "\n",
       "    .dataframe tbody tr th {\n",
       "        vertical-align: top;\n",
       "    }\n",
       "\n",
       "    .dataframe thead th {\n",
       "        text-align: right;\n",
       "    }\n",
       "</style>\n",
       "<table border=\"1\" class=\"dataframe\">\n",
       "  <thead>\n",
       "    <tr style=\"text-align: right;\">\n",
       "      <th></th>\n",
       "      <th>S.NO</th>\n",
       "      <th>Age</th>\n",
       "      <th>Gender</th>\n",
       "      <th>Place(location where the patient lives)</th>\n",
       "      <th>Duration of alcohol consumption(years)</th>\n",
       "      <th>Quantity of alcohol consumption (quarters/day)</th>\n",
       "      <th>Type of alcohol consumed</th>\n",
       "      <th>Hepatitis B infection</th>\n",
       "      <th>Hepatitis C infection</th>\n",
       "      <th>Diabetes Result</th>\n",
       "      <th>...</th>\n",
       "      <th>Indirect     (mg/dl)</th>\n",
       "      <th>Total Protein     (g/dl)</th>\n",
       "      <th>Albumin   (g/dl)</th>\n",
       "      <th>Globulin  (g/dl)</th>\n",
       "      <th>A/G Ratio</th>\n",
       "      <th>AL.Phosphatase      (U/L)</th>\n",
       "      <th>SGOT/AST      (U/L)</th>\n",
       "      <th>SGPT/ALT (U/L)</th>\n",
       "      <th>USG Abdomen (diffuse liver or  not)</th>\n",
       "      <th>Predicted Value(Out Come-Patient suffering from liver  cirrosis or not)</th>\n",
       "    </tr>\n",
       "  </thead>\n",
       "  <tbody>\n",
       "    <tr>\n",
       "      <th>0</th>\n",
       "      <td>1</td>\n",
       "      <td>55</td>\n",
       "      <td>male</td>\n",
       "      <td>rural</td>\n",
       "      <td>12</td>\n",
       "      <td>2</td>\n",
       "      <td>branded liquor</td>\n",
       "      <td>negative</td>\n",
       "      <td>negative</td>\n",
       "      <td>YES</td>\n",
       "      <td>...</td>\n",
       "      <td>3.0</td>\n",
       "      <td>6.0</td>\n",
       "      <td>3.0</td>\n",
       "      <td>4.0</td>\n",
       "      <td>0.75</td>\n",
       "      <td>150.0</td>\n",
       "      <td>56</td>\n",
       "      <td>34</td>\n",
       "      <td>YES</td>\n",
       "      <td>YES</td>\n",
       "    </tr>\n",
       "    <tr>\n",
       "      <th>1</th>\n",
       "      <td>2</td>\n",
       "      <td>55</td>\n",
       "      <td>male</td>\n",
       "      <td>rural</td>\n",
       "      <td>12</td>\n",
       "      <td>2</td>\n",
       "      <td>branded liquor</td>\n",
       "      <td>negative</td>\n",
       "      <td>negative</td>\n",
       "      <td>YES</td>\n",
       "      <td>...</td>\n",
       "      <td>3.0</td>\n",
       "      <td>6.0</td>\n",
       "      <td>3.0</td>\n",
       "      <td>4.0</td>\n",
       "      <td>0.75</td>\n",
       "      <td>150.0</td>\n",
       "      <td>56</td>\n",
       "      <td>34</td>\n",
       "      <td>YES</td>\n",
       "      <td>YES</td>\n",
       "    </tr>\n",
       "    <tr>\n",
       "      <th>2</th>\n",
       "      <td>3</td>\n",
       "      <td>55</td>\n",
       "      <td>male</td>\n",
       "      <td>rural</td>\n",
       "      <td>12</td>\n",
       "      <td>2</td>\n",
       "      <td>branded liquor</td>\n",
       "      <td>negative</td>\n",
       "      <td>negative</td>\n",
       "      <td>YES</td>\n",
       "      <td>...</td>\n",
       "      <td>3.0</td>\n",
       "      <td>6.0</td>\n",
       "      <td>3.0</td>\n",
       "      <td>4.0</td>\n",
       "      <td>0.75</td>\n",
       "      <td>150.0</td>\n",
       "      <td>56</td>\n",
       "      <td>34</td>\n",
       "      <td>YES</td>\n",
       "      <td>YES</td>\n",
       "    </tr>\n",
       "    <tr>\n",
       "      <th>3</th>\n",
       "      <td>4</td>\n",
       "      <td>55</td>\n",
       "      <td>male</td>\n",
       "      <td>rural</td>\n",
       "      <td>12</td>\n",
       "      <td>2</td>\n",
       "      <td>branded liquor</td>\n",
       "      <td>negative</td>\n",
       "      <td>negative</td>\n",
       "      <td>NO</td>\n",
       "      <td>...</td>\n",
       "      <td>3.0</td>\n",
       "      <td>6.0</td>\n",
       "      <td>3.0</td>\n",
       "      <td>4.0</td>\n",
       "      <td>0.75</td>\n",
       "      <td>150.0</td>\n",
       "      <td>56</td>\n",
       "      <td>34</td>\n",
       "      <td>YES</td>\n",
       "      <td>YES</td>\n",
       "    </tr>\n",
       "    <tr>\n",
       "      <th>4</th>\n",
       "      <td>5</td>\n",
       "      <td>55</td>\n",
       "      <td>female</td>\n",
       "      <td>rural</td>\n",
       "      <td>12</td>\n",
       "      <td>2</td>\n",
       "      <td>branded liquor</td>\n",
       "      <td>negative</td>\n",
       "      <td>negative</td>\n",
       "      <td>YES</td>\n",
       "      <td>...</td>\n",
       "      <td>3.0</td>\n",
       "      <td>6.0</td>\n",
       "      <td>3.0</td>\n",
       "      <td>4.0</td>\n",
       "      <td>0.75</td>\n",
       "      <td>150.0</td>\n",
       "      <td>56</td>\n",
       "      <td>34</td>\n",
       "      <td>YES</td>\n",
       "      <td>YES</td>\n",
       "    </tr>\n",
       "  </tbody>\n",
       "</table>\n",
       "<p>5 rows × 42 columns</p>\n",
       "</div>"
      ],
      "text/plain": [
       "   S.NO  Age  Gender Place(location where the patient lives)  \\\n",
       "0     1   55    male                                   rural   \n",
       "1     2   55    male                                   rural   \n",
       "2     3   55    male                                   rural   \n",
       "3     4   55    male                                   rural   \n",
       "4     5   55  female                                   rural   \n",
       "\n",
       "   Duration of alcohol consumption(years)  \\\n",
       "0                                      12   \n",
       "1                                      12   \n",
       "2                                      12   \n",
       "3                                      12   \n",
       "4                                      12   \n",
       "\n",
       "   Quantity of alcohol consumption (quarters/day) Type of alcohol consumed  \\\n",
       "0                                               2           branded liquor   \n",
       "1                                               2           branded liquor   \n",
       "2                                               2           branded liquor   \n",
       "3                                               2           branded liquor   \n",
       "4                                               2           branded liquor   \n",
       "\n",
       "  Hepatitis B infection Hepatitis C infection Diabetes Result  ...  \\\n",
       "0              negative              negative             YES  ...   \n",
       "1              negative              negative             YES  ...   \n",
       "2              negative              negative             YES  ...   \n",
       "3              negative              negative              NO  ...   \n",
       "4              negative              negative             YES  ...   \n",
       "\n",
       "  Indirect     (mg/dl) Total Protein     (g/dl) Albumin   (g/dl)  \\\n",
       "0                  3.0                      6.0              3.0   \n",
       "1                  3.0                      6.0              3.0   \n",
       "2                  3.0                      6.0              3.0   \n",
       "3                  3.0                      6.0              3.0   \n",
       "4                  3.0                      6.0              3.0   \n",
       "\n",
       "   Globulin  (g/dl) A/G Ratio AL.Phosphatase      (U/L)  SGOT/AST      (U/L)  \\\n",
       "0               4.0      0.75                     150.0                   56   \n",
       "1               4.0      0.75                     150.0                   56   \n",
       "2               4.0      0.75                     150.0                   56   \n",
       "3               4.0      0.75                     150.0                   56   \n",
       "4               4.0      0.75                     150.0                   56   \n",
       "\n",
       "   SGPT/ALT (U/L)  USG Abdomen (diffuse liver or  not)  \\\n",
       "0              34                                  YES   \n",
       "1              34                                  YES   \n",
       "2              34                                  YES   \n",
       "3              34                                  YES   \n",
       "4              34                                  YES   \n",
       "\n",
       "   Predicted Value(Out Come-Patient suffering from liver  cirrosis or not)  \n",
       "0                                                YES                        \n",
       "1                                                YES                        \n",
       "2                                                YES                        \n",
       "3                                                YES                        \n",
       "4                                                YES                        \n",
       "\n",
       "[5 rows x 42 columns]"
      ]
     },
     "execution_count": 159,
     "metadata": {},
     "output_type": "execute_result"
    }
   ],
   "source": [
    "# link -- > https://github.com/edyoda/data-science-complete-tutorial/blob/master/Data/HealthCareData-1.xlsx\n",
    "# click on view raw it will download file automatically in your system then you this file as syntax below\n",
    "hc_df = pd.read_excel('HealthCareData.xlsx')\n",
    "hc_df.head()"
   ]
  },
  {
   "cell_type": "markdown",
   "metadata": {},
   "source": [
    "### 1. Display all the information respective to gender."
   ]
  },
  {
   "cell_type": "markdown",
   "metadata": {},
   "source": [
    "### 2. Find all the male who is consuming alcohal more than 5 years and has diabetes result positive."
   ]
  },
  {
   "cell_type": "markdown",
   "metadata": {},
   "source": [
    "### 3. Find where more people consume alcohol in rural or urban?"
   ]
  },
  {
   "cell_type": "markdown",
   "metadata": {},
   "source": [
    "### 4. Find average age of male and female who consume alcohol."
   ]
  },
  {
   "cell_type": "markdown",
   "metadata": {},
   "source": [
    "### 5. Display distribution for different type of alcohol."
   ]
  },
  {
   "cell_type": "markdown",
   "metadata": {},
   "source": [
    "### 6. Display average age of perople who has diabetes positive."
   ]
  },
  {
   "cell_type": "markdown",
   "metadata": {},
   "source": [
    "### 7. Find is there any missing value of age in given data."
   ]
  },
  {
   "cell_type": "markdown",
   "metadata": {},
   "source": [
    "### 8. If gender is male and age is less than 35 then change diabetes result to NO ."
   ]
  },
  {
   "cell_type": "markdown",
   "metadata": {},
   "source": [
    "### 9. Find all record where Place is missing."
   ]
  },
  {
   "cell_type": "markdown",
   "metadata": {},
   "source": [
    "### 10. Change place to urban if gender is female else rural."
   ]
  }
 ],
 "metadata": {
  "kernelspec": {
   "display_name": "Python 3",
   "language": "python",
   "name": "python3"
  },
  "language_info": {
   "codemirror_mode": {
    "name": "ipython",
    "version": 3
   },
   "file_extension": ".py",
   "mimetype": "text/x-python",
   "name": "python",
   "nbconvert_exporter": "python",
   "pygments_lexer": "ipython3",
   "version": "3.7.6"
  }
 },
 "nbformat": 4,
 "nbformat_minor": 4
}
